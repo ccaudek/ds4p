{
 "cells": [
  {
   "attachments": {},
   "cell_type": "markdown",
   "metadata": {},
   "source": [
    "(causal-inference-notebook)=\n",
    "# Inferenza causale\n",
    "\n",
    "Lo scopo di questo capitolo è di introdurre il modello di regressione multipla e di discutere come esso si collega all'analisi causale. "
   ]
  },
  {
   "cell_type": "markdown",
   "metadata": {},
   "source": [
    "## Preparazione del Notebook"
   ]
  },
  {
   "cell_type": "code",
   "execution_count": 1,
   "metadata": {
    "ExecuteTime": {
     "end_time": "2023-07-31T11:39:45.136075Z",
     "start_time": "2023-07-31T11:39:44.400810Z"
    }
   },
   "outputs": [],
   "source": [
    "import warnings\n",
    "\n",
    "import arviz as az\n",
    "import bambi as bmb\n",
    "import graphviz\n",
    "import matplotlib.pyplot as plt\n",
    "import networkx as nx\n",
    "import numpy as np\n",
    "import pandas as pd\n",
    "import seaborn as sns\n",
    "import statsmodels.api as sm\n",
    "\n",
    "warnings.filterwarnings(\"ignore\")"
   ]
  },
  {
   "cell_type": "code",
   "execution_count": 2,
   "metadata": {},
   "outputs": [],
   "source": [
    "# set seed to make the results fully reproducible\n",
    "seed: int = sum(map(ord, \"regr_causal_inference\"))\n",
    "rng: np.random.Generator = np.random.default_rng(seed=seed)\n",
    "\n",
    "az.style.use(\"arviz-darkgrid\")\n",
    "plt.rcParams[\"figure.dpi\"] = 100\n",
    "plt.rcParams[\"figure.facecolor\"] = \"white\"\n",
    "\n",
    "%config InlineBackend.figure_format = \"retina\""
   ]
  },
  {
   "cell_type": "markdown",
   "metadata": {},
   "source": [
    "Il modello di regressione multipla è un concetto fondamentale nell'ambito della statistica e dell'analisi dei dati. Si tratta di un'estensione del modello di regressione bivariato che permette di includere più predittori nel modello. Questo significa che, invece di considerare solo una variabile indipendente per predire una variabile dipendente, ora abbiamo più predittori.\n",
    "\n",
    "Nel modello di regressione multipla, la variabile dipendente, che chiameremo $Y$, viene predetta prendendo in considerazione la presenza di molteplici variabili indipendenti, che chiameremo $X_1, X_2, \\ldots, X_p$. Il modello assume che il valore atteso di $Y$ condizionato alle variabili indipendenti può essere descritto da un'equazione lineare:\n",
    "\n",
    "$$E(Y) = \\beta_0 + \\beta_1X_1 + \\beta_2X_2 + \\ldots + \\beta_pX_p.$$\n",
    "\n",
    "In questa equazione, i coefficienti $\\beta_0, \\beta_1, \\beta_2, \\ldots, \\beta_p$ rappresentano i coefficienti parziali di regressione. Ogni $\\beta_i$ riflette la relazione tra la variabile dipendente $Y$ e la variabile indipendente corrispondente $X_i$, considerando anche l'effetto delle altre variabili presenti nel modello.\n",
    "\n",
    "Una differenza chiave rispetto al modello di regressione bivariato è nell'interpretazione dei coefficienti. Nel caso bivariato, il coefficiente $\\beta_1$ viene interpretato come il cambiamento atteso in $Y$ al variare di una unità in $X_1$. Tuttavia, nel modello di regressione multipla, l'interpretazione di $\\beta_1$ cambia. In questo caso, $\\beta_1$ rappresenta il cambiamento atteso in $Y$ al variare di una unità in $X_1$, mantenendo costanti gli effetti di tutte le altre variabili $X_2, X_3, \\ldots, X_p$. In altre parole, $\\beta_1$ ci dice come varia in media $Y$ quando $X_1$ cambia, ma considera che altre variabili possono variare insieme a $X_1$, e $\\beta_1$ tiene conto di queste variazioni.\n",
    "\n",
    "Cosa significa mantenere costante l'effetto di altre variabili? Consideriamo l'esempio della correlazione tra il numero di scarpe e le abilità matematiche. Esiste una marcata correlazione positiva tra queste due variabili. Tuttavia, è evidente che i bambini, avendo in genere numeri di scarpe più piccoli rispetto agli adulti, mostrano anche, presumibilmente, minori capacità matematiche. Questo esempio illustra che, se controlliamo per l'età, ossia se consideriamo solo soggetti della stessa età, la correlazione tra il numero di scarpe e le abilità matematiche scompare. Pertanto, nell'analisi della relazione tra abilità matematiche (Y) e numero di scarpe (X), l'età (Z) agisce come variabile confondente. Controllare per Z significa esaminare la relazione tra Y e X limitandosi a individui della stessa età.\n",
    "\n",
    "Ma ovviamente questo controllo empirico non è sempre possibile. Nel modello di regressione, esso viene \"approssimato\" con una procedura statistica. \n",
    "\n",
    "**Esempio.** In questo esempio illustreremo la procedura statistica utilizzata per isolare l'effetto di una variabile controllando per un'altra. "
   ]
  },
  {
   "cell_type": "code",
   "execution_count": 3,
   "metadata": {},
   "outputs": [
    {
     "name": "stdout",
     "output_type": "stream",
     "text": [
      "Coefficient from full model for X1: 1.9782\n",
      "Coefficient from regression of residuals: 1.9782\n"
     ]
    }
   ],
   "source": [
    "# Creiamo dei dati di esempio\n",
    "np.random.seed(0)\n",
    "N = 100\n",
    "X1 = np.random.normal(0, 1, N)\n",
    "X2 = X1 + np.random.normal(0, 0.5, N)\n",
    "Y = 1 + 2 * X1 + 3 * X2 + np.random.normal(0, 1, N)\n",
    "\n",
    "# Modello completo Y ~ X1 + X2\n",
    "model_full = sm.OLS(Y, sm.add_constant(np.column_stack((X1, X2))))\n",
    "results_full = model_full.fit()\n",
    "\n",
    "# Regressione di Y su X2\n",
    "model_Y_on_X2 = sm.OLS(Y, sm.add_constant(X2))\n",
    "residuals_Y = model_Y_on_X2.fit().resid\n",
    "\n",
    "# Regressione di X1 su X2\n",
    "model_X1_on_X2 = sm.OLS(X1, sm.add_constant(X2))\n",
    "residuals_X1 = model_X1_on_X2.fit().resid\n",
    "\n",
    "# Regressione dei residui di Y sui residui di X1\n",
    "model_residuals = sm.OLS(residuals_Y, sm.add_constant(residuals_X1))\n",
    "results_residuals = model_residuals.fit()\n",
    "\n",
    "# Stampiamo i risultati\n",
    "print(\"Coefficient from full model for X1: {:.4f}\".format(results_full.params[1]))\n",
    "print(\n",
    "    \"Coefficient from regression of residuals: {:.4f}\".format(\n",
    "        results_residuals.params[1]\n",
    "    )\n",
    ")"
   ]
  },
  {
   "cell_type": "markdown",
   "metadata": {},
   "source": [
    "Il concetto di *coefficiente parziale di regressione* viene illustrato in questo esempio. Questo coefficiente quantifica l'effetto della variabile esplicativa $X_j$ sulla variabile dipendente $Y$, depurando l'effetto di $X_j$ dall'influenza degli altri predittori nel modello. In sostanza, il coefficiente parziale di regressione valuta l'impiego di $X_j$ su $Y$ quando $X_j$ è considerata *linearmente indipendente* rispetto agli altri predittori $X$. L'effetto misurato è quindi quello della sola componente di $X_j$ che non è spiegata linearmente dai restanti predittori $X$ sulla parte di $Y$ che è anch'essa indipendente dai medesimi predittori.\n",
    "\n",
    "Per chiarire ulteriormente, questo approccio statistico si focalizza sull'analizzare l'effetto di $X_j$ eliminando l'influenza lineare degli altri predittori $X$. È simile a valutare la relazione tra $Y$ e $X_j$ in un contesto ideale dove tutti gli individui presentano livelli identici per le altre variabili $X$. Tale metodo non eguaglia gli effetti non lineari che possono essere presenti tra le variabili, limitandosi a correggere solo per le associazioni lineari. In questo modo, il controllo statistico tenta di approssimare una condizione di omogeneità tra i soggetti rispetto alle altre variabili $X$, consentendo di isolare e valutare più precisamente l'effetto puro di $X_j$ su $Y$."
   ]
  },
  {
   "cell_type": "markdown",
   "metadata": {},
   "source": [
    "### Scopi della regressione\n",
    "\n",
    "L'utilizzo del modello di regressione multipla ha principalmente due scopi. In primo luogo, è utilizzato per la predizione, cioè per ottenere la migliore stima possibile di $Y$ utilizzando una combinazione lineare delle variabili $X_1, X_2, \\ldots, X_p$. In questo contesto, i coefficienti $\\beta_i$ sono considerati come pesi che permettono di effettuare questa previsione.\n",
    "\n",
    "In secondo luogo, il modello di regressione multipla viene spesso utilizzato per descrivere le relazioni causali tra le variabili. Tuttavia, è importante sottolineare che questo modello non è stato originariamente creato per stabilire relazioni causali, ed è necessario essere cauti nell'attribuire interpretazioni causali dirette ai coefficienti $\\beta_i$. Questo perché il modello stima correttamente i coefficienti parziali di regressione solo quando tutte le variabili che influenzano $Y$ sono incluse nel modello. Nella pratica, spesso non conosciamo tutte le variabili causalmente rilevanti, il che può portare a problemi di errore di specificazione.\n",
    "\n",
    "In conclusione, il modello di regressione multipla rappresenta uno strumento potente per predire e analizzare le relazioni tra variabili. Tuttavia, è fondamentale riconoscerne le limitazioni, specialmente quando si tentano interpretazioni causali. In ambiti come la psicologia, dove è cruciale comprendere le dinamiche causali, diventa essenziale una scelta accurata delle variabili da includere nel modello per prevenire distorsioni nelle stime dei coefficienti di regressione.\n",
    "\n",
    "Tradizionalmente, si riteneva vantaggioso includere nel modello il maggior numero possibile di variabili per ottenere un livello di \"controllo\" statistico più elevato. Tuttavia, come sottolineato da {cite:t}`McElreath_rethinking`, questo metodo può trasformarsi in una \"insalata causale\". Questo termine descrive una situazione in cui la mancanza di attenzione alla struttura causale tra le variabili può portare all'inclusione di variabili di controllo inappropriate, causando distorsioni nelle stime.\n",
    "\n",
    "In alcuni casi, l'inserimento di determinate variabili di controllo nel modello è indispensabile per evitare distorsioni, mentre in altri casi, l'inclusione di variabili non pertinenti può portare a risultati fuorvianti. Questo enfatizza l'importanza di formulare ipotesi chiare e ben ponderate sulla struttura causale che intercorre tra le variabili in esame.\n",
    "\n",
    "L'efficacia e la validità dei risultati ottenuti tramite regressione dipendono strettamente dalla correttezza delle ipotesi causali formulate, sia esplicitamente che implicitamente, dal ricercatore. Pertanto, per superare i limiti dell'approccio dell'\"insalata causale\", è cruciale che la formulazione del modello di regressione rifletta attentamente tali ipotesi causali."
   ]
  },
  {
   "cell_type": "markdown",
   "metadata": {},
   "source": [
    "## Modello di Regressione e Analisi Causale\n",
    "\n",
    "Nel prosieguo di questo capitolo, approfondiremo l'analisi del modello di regressione e l'analisi causale per esaminare come l'inclusione di covariate in un modello multivariato possa influenzare la nostra interpretazione degli effetti causali. Un aspetto cruciale che esploreremo è se l'aggiustamento per una covariata, che indicheremo con $C$, possa effettivamente rivelare l'effetto causale di $X$ su $Y$.\n",
    "\n",
    "Per approfondire questo concetto, analizzeremo come la variabile dipendente $Y$ risponde a variazioni della variabile indipendente $X$, tenendo conto della struttura causale assunta nella generazione dei dati. La discussione si basa su un articolo di {cite:t}`lubke2020we`.\n",
    "\n",
    "In questo capitolo, distingueremo due tipi di strutture causali. La prima è una struttura a catena, descritta come $X \\rightarrow C \\rightarrow Y$, dove $X$ influisce su $C$ che, a sua volta, influisce su $Y$. In questo scenario, sarebbe inappropriato condizionare su $C$, poiché $C$ agisce da mediatore nell'effetto di $X$ su $Y$ e condizionare su $C$ eliminerebbe una parte dell'effetto causale che vogliamo misurare.\n",
    "\n",
    "Il secondo scenario presenta una struttura a forcella: $X \\leftarrow C \\rightarrow Y$. Qui, $C$ è la causa comune di $X$ e $Y$. In questo contesto, è fondamentale aggiustare per $C$ per eliminare l'effetto confondente e isolare l'effetto diretto di $X$ su $Y$.\n",
    "\n",
    "Il principio guida di questa analisi è di bloccare i percorsi non causali attraverso la distribuzione condizionata e di aprire i percorsi causali mediante la distribuzione marginale. Questo ci orienta nella scelta delle covariate da includere o escludere dal modello di regressione per ottenere stime più precise dell'effetto causale.\n",
    "\n",
    "Per illustrare meglio questi concetti, ricorreremo a esempi simulati che dimostrano chiaramente quando è necessario l'aggiustamento per certe covariate per scoprire l'effetto causale reale e quando questo potrebbe introdurre distorsioni nella nostra comprensione della relazione causale. Questa tematica è di particolare importanza nel campo della psicologia, dove comprendere le relazioni causali tra variabili è essenziale per lo sviluppo di teorie robuste e la realizzazione di ricerche empiriche affidabili. "
   ]
  },
  {
   "cell_type": "markdown",
   "metadata": {},
   "source": [
    "### Esempio 1: Catena\n",
    "\n",
    "Un esempio discusso da {cite:t}`lubke2020we` riguarda le seguenti variabilili: apprendimento, conoscenza e comprensione. Possiamo ipotizzare una struttura causale nella quale l'apprendimento ($X$) ha un effetto causale sull'acquisizione di conoscenza ($C$). Successivamente, la conoscenza a sua volta incide sulla comprensione ($Y$). È importante notare che la comprensione (\"understanding\") è influenzata anche da fattori esterni ($U$), che in modelli di regressione vengono rappresentati tramite il termine di errore.\n",
    "\n",
    "In situazioni reali, per misurare apprendimento, conoscenza e comprensione, è possibile utilizzare strumenti come questionari o misurazioni specifiche. Questi strumenti consentono di quantificare tali variabili per poterle poi analizzarle in contesti di ricerca."
   ]
  },
  {
   "cell_type": "code",
   "execution_count": 4,
   "metadata": {},
   "outputs": [
    {
     "data": {
      "image/svg+xml": [
       "<?xml version=\"1.0\" encoding=\"UTF-8\" standalone=\"no\"?>\n",
       "<!DOCTYPE svg PUBLIC \"-//W3C//DTD SVG 1.1//EN\"\n",
       " \"http://www.w3.org/Graphics/SVG/1.1/DTD/svg11.dtd\">\n",
       "<!-- Generated by graphviz version 11.0.0 (0)\n",
       " -->\n",
       "<!-- Pages: 1 -->\n",
       "<svg width=\"389pt\" height=\"44pt\"\n",
       " viewBox=\"0.00 0.00 389.13 44.00\" xmlns=\"http://www.w3.org/2000/svg\" xmlns:xlink=\"http://www.w3.org/1999/xlink\">\n",
       "<g id=\"graph0\" class=\"graph\" transform=\"scale(1 1) rotate(0) translate(4 40)\">\n",
       "<polygon fill=\"white\" stroke=\"none\" points=\"-4,4 -4,-40 385.13,-40 385.13,4 -4,4\"/>\n",
       "<!-- Learning -->\n",
       "<g id=\"node1\" class=\"node\">\n",
       "<title>Learning</title>\n",
       "<ellipse fill=\"none\" stroke=\"black\" cx=\"44.19\" cy=\"-18\" rx=\"44.19\" ry=\"18\"/>\n",
       "<text text-anchor=\"middle\" x=\"44.19\" y=\"-12.95\" font-family=\"Times,serif\" font-size=\"14.00\">Learning</text>\n",
       "</g>\n",
       "<!-- Knowing -->\n",
       "<g id=\"node2\" class=\"node\">\n",
       "<title>Knowing</title>\n",
       "<ellipse fill=\"none\" stroke=\"black\" cx=\"169.58\" cy=\"-18\" rx=\"45.21\" ry=\"18\"/>\n",
       "<text text-anchor=\"middle\" x=\"169.58\" y=\"-12.95\" font-family=\"Times,serif\" font-size=\"14.00\">Knowing</text>\n",
       "</g>\n",
       "<!-- Learning&#45;&gt;Knowing -->\n",
       "<g id=\"edge1\" class=\"edge\">\n",
       "<title>Learning&#45;&gt;Knowing</title>\n",
       "<path fill=\"none\" stroke=\"black\" d=\"M88.69,-18C96.52,-18 104.78,-18 112.9,-18\"/>\n",
       "<polygon fill=\"black\" stroke=\"black\" points=\"112.71,-21.5 122.71,-18 112.71,-14.5 112.71,-21.5\"/>\n",
       "</g>\n",
       "<!-- Understanding -->\n",
       "<g id=\"node3\" class=\"node\">\n",
       "<title>Understanding</title>\n",
       "<ellipse fill=\"none\" stroke=\"black\" cx=\"315.96\" cy=\"-18\" rx=\"65.17\" ry=\"18\"/>\n",
       "<text text-anchor=\"middle\" x=\"315.96\" y=\"-12.95\" font-family=\"Times,serif\" font-size=\"14.00\">Understanding</text>\n",
       "</g>\n",
       "<!-- Knowing&#45;&gt;Understanding -->\n",
       "<g id=\"edge2\" class=\"edge\">\n",
       "<title>Knowing&#45;&gt;Understanding</title>\n",
       "<path fill=\"none\" stroke=\"black\" d=\"M215.08,-18C222.77,-18 230.95,-18 239.2,-18\"/>\n",
       "<polygon fill=\"black\" stroke=\"black\" points=\"238.93,-21.5 248.93,-18 238.93,-14.5 238.93,-21.5\"/>\n",
       "</g>\n",
       "</g>\n",
       "</svg>\n"
      ],
      "text/plain": [
       "<graphviz.graphs.Digraph at 0x158e7a300>"
      ]
     },
     "execution_count": 4,
     "metadata": {},
     "output_type": "execute_result"
    }
   ],
   "source": [
    "f = graphviz.Digraph()\n",
    "\n",
    "# Definizione dei nodi e degli archi\n",
    "f.edge(\"Learning\", \"Knowing\")\n",
    "f.edge(\"Knowing\", \"Understanding\")\n",
    "\n",
    "# Impostazione dell'orientamento orizzontale\n",
    "f.attr(rankdir='LR')\n",
    "f"
   ]
  },
  {
   "cell_type": "markdown",
   "metadata": {},
   "source": [
    "Per applicare praticamente i concetti discussi, simuliamo i dati seguendo la struttura causale precedentemente descritta:\n",
    "\n",
    "$$\n",
    "X = UX, \\quad UX \\sim \\mathcal{N}(0,1)\n",
    "$$\n",
    "\n",
    "$$\n",
    "C = 5 \\cdot X + UC, \\quad UC \\sim \\mathcal{N}(0,1)\n",
    "$$\n",
    "\n",
    "$$\n",
    "Y = 3 \\cdot C + UY, \\quad UY \\sim \\mathcal{N}(0,1)\n",
    "$$\n",
    "\n",
    "Qui, $\\mathcal{N}(\\mu, \\sigma)$ rappresenta la distribuzione normale. "
   ]
  },
  {
   "cell_type": "code",
   "execution_count": 5,
   "metadata": {},
   "outputs": [
    {
     "data": {
      "text/html": [
       "<div>\n",
       "<style scoped>\n",
       "    .dataframe tbody tr th:only-of-type {\n",
       "        vertical-align: middle;\n",
       "    }\n",
       "\n",
       "    .dataframe tbody tr th {\n",
       "        vertical-align: top;\n",
       "    }\n",
       "\n",
       "    .dataframe thead th {\n",
       "        text-align: right;\n",
       "    }\n",
       "</style>\n",
       "<table border=\"1\" class=\"dataframe\">\n",
       "  <thead>\n",
       "    <tr style=\"text-align: right;\">\n",
       "      <th></th>\n",
       "      <th>X</th>\n",
       "      <th>C</th>\n",
       "      <th>Y</th>\n",
       "    </tr>\n",
       "  </thead>\n",
       "  <tbody>\n",
       "    <tr>\n",
       "      <th>0</th>\n",
       "      <td>-1.306527</td>\n",
       "      <td>-7.979055</td>\n",
       "      <td>-24.205176</td>\n",
       "    </tr>\n",
       "    <tr>\n",
       "      <th>1</th>\n",
       "      <td>1.658131</td>\n",
       "      <td>7.838303</td>\n",
       "      <td>23.018301</td>\n",
       "    </tr>\n",
       "    <tr>\n",
       "      <th>2</th>\n",
       "      <td>-0.118164</td>\n",
       "      <td>-0.271388</td>\n",
       "      <td>0.522221</td>\n",
       "    </tr>\n",
       "    <tr>\n",
       "      <th>3</th>\n",
       "      <td>-0.680178</td>\n",
       "      <td>-3.538670</td>\n",
       "      <td>-10.736052</td>\n",
       "    </tr>\n",
       "    <tr>\n",
       "      <th>4</th>\n",
       "      <td>0.666383</td>\n",
       "      <td>2.374768</td>\n",
       "      <td>7.585773</td>\n",
       "    </tr>\n",
       "  </tbody>\n",
       "</table>\n",
       "</div>"
      ],
      "text/plain": [
       "          X         C          Y\n",
       "0 -1.306527 -7.979055 -24.205176\n",
       "1  1.658131  7.838303  23.018301\n",
       "2 -0.118164 -0.271388   0.522221\n",
       "3 -0.680178 -3.538670 -10.736052\n",
       "4  0.666383  2.374768   7.585773"
      ]
     },
     "execution_count": 5,
     "metadata": {},
     "output_type": "execute_result"
    }
   ],
   "source": [
    "n = 1000  # sample size\n",
    "\n",
    "# Simulating the variables\n",
    "X = np.random.normal(0, 1, n)  # Learning\n",
    "C = 5 * X + np.random.normal(0, 1, n)  # Knowing\n",
    "Y = 3 * C + np.random.normal(0, 1, n)  # Understanding\n",
    "\n",
    "df = pd.DataFrame()\n",
    "df[\"X\"] = X\n",
    "df[\"C\"] = C\n",
    "df[\"Y\"] = Y\n",
    "\n",
    "df.head()"
   ]
  },
  {
   "cell_type": "markdown",
   "metadata": {},
   "source": [
    "Analizziamo un modello di regressione che considera solo le variabili $X$ (\"learning\") e $Y$ (\"understanding\"). Se non includiamo $C$ (\"knowing\") come covariata nel modello di regressione, otteniamo una stima dell'effetto di \"learning\" su \"understanding\" che è priva di distorsioni sistematiche. "
   ]
  },
  {
   "cell_type": "code",
   "execution_count": 6,
   "metadata": {
    "tags": [
     "hide-output"
    ]
   },
   "outputs": [
    {
     "data": {
      "application/vnd.jupyter.widget-view+json": {
       "model_id": "757d7e02888044f9b8fd444021830997",
       "version_major": 2,
       "version_minor": 0
      },
      "text/plain": [
       "  0%|          | 0/2000 [00:00<?, ?it/s]"
      ]
     },
     "metadata": {},
     "output_type": "display_data"
    },
    {
     "data": {
      "application/vnd.jupyter.widget-view+json": {
       "model_id": "59ad6b293fcd4028bb5c201d9f70de9d",
       "version_major": 2,
       "version_minor": 0
      },
      "text/plain": [
       "  0%|          | 0/2000 [00:00<?, ?it/s]"
      ]
     },
     "metadata": {},
     "output_type": "display_data"
    },
    {
     "data": {
      "application/vnd.jupyter.widget-view+json": {
       "model_id": "9cb3585425094ba2a67da8966a75177b",
       "version_major": 2,
       "version_minor": 0
      },
      "text/plain": [
       "  0%|          | 0/2000 [00:00<?, ?it/s]"
      ]
     },
     "metadata": {},
     "output_type": "display_data"
    },
    {
     "data": {
      "application/vnd.jupyter.widget-view+json": {
       "model_id": "8cc77c1162204437ae411c7e822354a6",
       "version_major": 2,
       "version_minor": 0
      },
      "text/plain": [
       "  0%|          | 0/2000 [00:00<?, ?it/s]"
      ]
     },
     "metadata": {},
     "output_type": "display_data"
    }
   ],
   "source": [
    "mod1 = bmb.Model(\"Y ~ X\", df)\n",
    "results1 = mod1.fit(nuts_sampler=\"numpyro\", idata_kwargs={\"log_likelihood\": True})"
   ]
  },
  {
   "cell_type": "code",
   "execution_count": 7,
   "metadata": {},
   "outputs": [
    {
     "data": {
      "text/html": [
       "<div>\n",
       "<style scoped>\n",
       "    .dataframe tbody tr th:only-of-type {\n",
       "        vertical-align: middle;\n",
       "    }\n",
       "\n",
       "    .dataframe tbody tr th {\n",
       "        vertical-align: top;\n",
       "    }\n",
       "\n",
       "    .dataframe thead th {\n",
       "        text-align: right;\n",
       "    }\n",
       "</style>\n",
       "<table border=\"1\" class=\"dataframe\">\n",
       "  <thead>\n",
       "    <tr style=\"text-align: right;\">\n",
       "      <th></th>\n",
       "      <th>mean</th>\n",
       "      <th>sd</th>\n",
       "      <th>hdi_3%</th>\n",
       "      <th>hdi_97%</th>\n",
       "      <th>mcse_mean</th>\n",
       "      <th>mcse_sd</th>\n",
       "      <th>ess_bulk</th>\n",
       "      <th>ess_tail</th>\n",
       "      <th>r_hat</th>\n",
       "    </tr>\n",
       "  </thead>\n",
       "  <tbody>\n",
       "    <tr>\n",
       "      <th>Intercept</th>\n",
       "      <td>-0.12</td>\n",
       "      <td>0.10</td>\n",
       "      <td>-0.30</td>\n",
       "      <td>0.07</td>\n",
       "      <td>0.0</td>\n",
       "      <td>0.0</td>\n",
       "      <td>3778.28</td>\n",
       "      <td>3016.05</td>\n",
       "      <td>1.0</td>\n",
       "    </tr>\n",
       "    <tr>\n",
       "      <th>X</th>\n",
       "      <td>14.86</td>\n",
       "      <td>0.10</td>\n",
       "      <td>14.67</td>\n",
       "      <td>15.04</td>\n",
       "      <td>0.0</td>\n",
       "      <td>0.0</td>\n",
       "      <td>3998.45</td>\n",
       "      <td>2848.86</td>\n",
       "      <td>1.0</td>\n",
       "    </tr>\n",
       "    <tr>\n",
       "      <th>Y_sigma</th>\n",
       "      <td>3.09</td>\n",
       "      <td>0.07</td>\n",
       "      <td>2.97</td>\n",
       "      <td>3.22</td>\n",
       "      <td>0.0</td>\n",
       "      <td>0.0</td>\n",
       "      <td>4125.58</td>\n",
       "      <td>3093.65</td>\n",
       "      <td>1.0</td>\n",
       "    </tr>\n",
       "  </tbody>\n",
       "</table>\n",
       "</div>"
      ],
      "text/plain": [
       "            mean    sd  hdi_3%  hdi_97%  mcse_mean  mcse_sd  ess_bulk  \\\n",
       "Intercept  -0.12  0.10   -0.30     0.07        0.0      0.0   3778.28   \n",
       "X          14.86  0.10   14.67    15.04        0.0      0.0   3998.45   \n",
       "Y_sigma     3.09  0.07    2.97     3.22        0.0      0.0   4125.58   \n",
       "\n",
       "           ess_tail  r_hat  \n",
       "Intercept   3016.05    1.0  \n",
       "X           2848.86    1.0  \n",
       "Y_sigma     3093.65    1.0  "
      ]
     },
     "execution_count": 7,
     "metadata": {},
     "output_type": "execute_result"
    }
   ],
   "source": [
    "az.summary(results1, round_to=2)"
   ]
  },
  {
   "cell_type": "markdown",
   "metadata": {},
   "source": [
    "Secondo il meccanismo di generazione dei dati che abbiamo utilizzato, la stima corretta dell'effetto causale dovrebbe essere $5 \\times 3 = 15$, che corrisponde al prodotto dei coefficienti lungo il percorso che collega $X$ a $Y$. Il valore ottenuto dal coefficiente parziale di regressione fornisce una stima statistica corretta di questo valore teorico."
   ]
  },
  {
   "cell_type": "markdown",
   "metadata": {},
   "source": [
    "Proseguiamo l'analisi eseguendo una regressione che include anche la variabile $C$ (\"knowing\"), la quale agisce da mediatore tra \"learning\" ($X$) e \"understanding\" ($Y$) nel modello generativo dei dati. La decisione di includere $C$ come covariata può derivare dalla convinzione che l'inserimento di un maggior numero di variabili nel modello di regressione possa potenziare il controllo statistico sulla stima degli effetti.\n",
    "\n",
    "Esaminiamo ora l'efficacia di questo approccio, che è stato definito \"dell'insalata causale\" da {cite:t}`McElreath_rethinking`, nel contesto attuale. Questa analisi ci permetterà di valutare se l'aggiunta di $C$ nel modello migliora o compromette la nostra capacità di discernere correttamente l'effetto di \"learning\" su \"understanding\"."
   ]
  },
  {
   "cell_type": "code",
   "execution_count": 8,
   "metadata": {},
   "outputs": [],
   "source": [
    "mod2 = bmb.Model(\"Y ~ X + C\", df)"
   ]
  },
  {
   "cell_type": "code",
   "execution_count": 9,
   "metadata": {
    "tags": [
     "hide-output"
    ]
   },
   "outputs": [
    {
     "data": {
      "application/vnd.jupyter.widget-view+json": {
       "model_id": "ae25a38380584e0d8725a0f08561e569",
       "version_major": 2,
       "version_minor": 0
      },
      "text/plain": [
       "  0%|          | 0/2000 [00:00<?, ?it/s]"
      ]
     },
     "metadata": {},
     "output_type": "display_data"
    },
    {
     "data": {
      "application/vnd.jupyter.widget-view+json": {
       "model_id": "82a6eb1f67ef42ad896f1cfccf135901",
       "version_major": 2,
       "version_minor": 0
      },
      "text/plain": [
       "  0%|          | 0/2000 [00:00<?, ?it/s]"
      ]
     },
     "metadata": {},
     "output_type": "display_data"
    },
    {
     "data": {
      "application/vnd.jupyter.widget-view+json": {
       "model_id": "3ce4fae04a1f46d19c743d27de7f7e60",
       "version_major": 2,
       "version_minor": 0
      },
      "text/plain": [
       "  0%|          | 0/2000 [00:00<?, ?it/s]"
      ]
     },
     "metadata": {},
     "output_type": "display_data"
    },
    {
     "data": {
      "application/vnd.jupyter.widget-view+json": {
       "model_id": "2b96f2fbb6dd40a4b72bb1c0533f6f58",
       "version_major": 2,
       "version_minor": 0
      },
      "text/plain": [
       "  0%|          | 0/2000 [00:00<?, ?it/s]"
      ]
     },
     "metadata": {},
     "output_type": "display_data"
    }
   ],
   "source": [
    "results2 = mod2.fit(nuts_sampler=\"numpyro\", idata_kwargs={\"log_likelihood\": True})"
   ]
  },
  {
   "cell_type": "code",
   "execution_count": 10,
   "metadata": {},
   "outputs": [
    {
     "data": {
      "text/html": [
       "<div>\n",
       "<style scoped>\n",
       "    .dataframe tbody tr th:only-of-type {\n",
       "        vertical-align: middle;\n",
       "    }\n",
       "\n",
       "    .dataframe tbody tr th {\n",
       "        vertical-align: top;\n",
       "    }\n",
       "\n",
       "    .dataframe thead th {\n",
       "        text-align: right;\n",
       "    }\n",
       "</style>\n",
       "<table border=\"1\" class=\"dataframe\">\n",
       "  <thead>\n",
       "    <tr style=\"text-align: right;\">\n",
       "      <th></th>\n",
       "      <th>mean</th>\n",
       "      <th>sd</th>\n",
       "      <th>hdi_3%</th>\n",
       "      <th>hdi_97%</th>\n",
       "      <th>mcse_mean</th>\n",
       "      <th>mcse_sd</th>\n",
       "      <th>ess_bulk</th>\n",
       "      <th>ess_tail</th>\n",
       "      <th>r_hat</th>\n",
       "    </tr>\n",
       "  </thead>\n",
       "  <tbody>\n",
       "    <tr>\n",
       "      <th>C</th>\n",
       "      <td>3.01</td>\n",
       "      <td>0.03</td>\n",
       "      <td>2.94</td>\n",
       "      <td>3.07</td>\n",
       "      <td>0.0</td>\n",
       "      <td>0.0</td>\n",
       "      <td>1839.52</td>\n",
       "      <td>1886.08</td>\n",
       "      <td>1.0</td>\n",
       "    </tr>\n",
       "    <tr>\n",
       "      <th>Intercept</th>\n",
       "      <td>-0.05</td>\n",
       "      <td>0.03</td>\n",
       "      <td>-0.11</td>\n",
       "      <td>0.00</td>\n",
       "      <td>0.0</td>\n",
       "      <td>0.0</td>\n",
       "      <td>2624.18</td>\n",
       "      <td>2153.06</td>\n",
       "      <td>1.0</td>\n",
       "    </tr>\n",
       "    <tr>\n",
       "      <th>X</th>\n",
       "      <td>-0.09</td>\n",
       "      <td>0.16</td>\n",
       "      <td>-0.42</td>\n",
       "      <td>0.20</td>\n",
       "      <td>0.0</td>\n",
       "      <td>0.0</td>\n",
       "      <td>1869.44</td>\n",
       "      <td>1764.58</td>\n",
       "      <td>1.0</td>\n",
       "    </tr>\n",
       "    <tr>\n",
       "      <th>Y_sigma</th>\n",
       "      <td>0.97</td>\n",
       "      <td>0.02</td>\n",
       "      <td>0.93</td>\n",
       "      <td>1.01</td>\n",
       "      <td>0.0</td>\n",
       "      <td>0.0</td>\n",
       "      <td>2684.22</td>\n",
       "      <td>2301.07</td>\n",
       "      <td>1.0</td>\n",
       "    </tr>\n",
       "  </tbody>\n",
       "</table>\n",
       "</div>"
      ],
      "text/plain": [
       "           mean    sd  hdi_3%  hdi_97%  mcse_mean  mcse_sd  ess_bulk  \\\n",
       "C          3.01  0.03    2.94     3.07        0.0      0.0   1839.52   \n",
       "Intercept -0.05  0.03   -0.11     0.00        0.0      0.0   2624.18   \n",
       "X         -0.09  0.16   -0.42     0.20        0.0      0.0   1869.44   \n",
       "Y_sigma    0.97  0.02    0.93     1.01        0.0      0.0   2684.22   \n",
       "\n",
       "           ess_tail  r_hat  \n",
       "C           1886.08    1.0  \n",
       "Intercept   2153.06    1.0  \n",
       "X           1764.58    1.0  \n",
       "Y_sigma     2301.07    1.0  "
      ]
     },
     "execution_count": 10,
     "metadata": {},
     "output_type": "execute_result"
    }
   ],
   "source": [
    "az.summary(results2, round_to=2)"
   ]
  },
  {
   "cell_type": "markdown",
   "metadata": {},
   "source": [
    "Se includiamo \"knowing\" come covariata nel modello di regressione, otteniamo una stima distorta dell'effetto di \"learning\" su \"understanding\". Questo accade perché, controllando per \"knowing\", che funge da mediatore, induciamo un bias che riduce artificialmente l'effetto totale di \"learning\" su \"understanding\". In conclusione, il condizionamento su un mediatore comporta una distorsione sistematica nei risultati."
   ]
  },
  {
   "cell_type": "markdown",
   "metadata": {},
   "source": [
    "### Esempio 2: Biforcazione\n",
    "\n",
    "In un secondo scenario, analizziamo il ruolo di tre variabili simulate: intelligenza, tempo di apprendimento e punteggio del test. Il modello causale che guida la generazione dei dati assume che l'intelligenza ($C$) eserciti un'influenza positiva sul tempo di apprendimento ($X$). Allo stesso tempo, sia l'intelligenza ($C$) che il tempo di apprendimento ($X$), insieme a fattori esterni non specificati ($U$), influenzano il punteggio al test ($Y$). Per semplificare l'analisi, non consideriamo altre covariate potenzialmente rilevanti come la motivazione o l'interesse degli studenti, focalizzandoci esclusivamente sul tempo dedicato allo studio ($X$).\n",
    "\n",
    "Le relazioni tra le variabili sono definite dalle seguenti equazioni, dove $\\mathcal{N}(\\mu, \\sigma)$ rappresenta la distribuzione normale:\n",
    "\n",
    "- L'intelligenza ($C$) è modellata come:\n",
    "  $$\n",
    "  C = UC, \\quad UC \\sim \\mathcal{N}(100, 15)\n",
    "  $$\n",
    "  \n",
    "- Il tempo di apprendimento ($X$), influenzato dall'intelligenza, segue l'equazione:\n",
    "  $$\n",
    "  X = 200 - C + UX, \\quad UX \\sim \\mathcal{N}(0, 1)\n",
    "  $$\n",
    "\n",
    "- Il punteggio del test ($Y$), risultante da intelligenza e tempo di apprendimento, è descritto da:\n",
    "  $$\n",
    "  Y = 0.5 \\cdot C + 0.1 \\cdot X + UY, \\quad UY \\sim \\mathcal{N}(0, 1)\n",
    "  $$\n",
    "\n",
    "Queste equazioni riflettono una struttura causale dove l'intelligenza agisce come causa comune sia per il tempo di apprendimento che per il punteggio del test, illustrando un tipico caso di struttura a forcella nel contesto di un modello causale."
   ]
  },
  {
   "cell_type": "code",
   "execution_count": 11,
   "metadata": {},
   "outputs": [
    {
     "data": {
      "image/svg+xml": [
       "<?xml version=\"1.0\" encoding=\"UTF-8\" standalone=\"no\"?>\n",
       "<!DOCTYPE svg PUBLIC \"-//W3C//DTD SVG 1.1//EN\"\n",
       " \"http://www.w3.org/Graphics/SVG/1.1/DTD/svg11.dtd\">\n",
       "<!-- Generated by graphviz version 11.0.0 (0)\n",
       " -->\n",
       "<!-- Pages: 1 -->\n",
       "<svg width=\"260pt\" height=\"116pt\"\n",
       " viewBox=\"0.00 0.00 259.52 116.00\" xmlns=\"http://www.w3.org/2000/svg\" xmlns:xlink=\"http://www.w3.org/1999/xlink\">\n",
       "<g id=\"graph0\" class=\"graph\" transform=\"scale(1 1) rotate(0) translate(4 112)\">\n",
       "<polygon fill=\"white\" stroke=\"none\" points=\"-4,4 -4,-112 255.52,-112 255.52,4 -4,4\"/>\n",
       "<!-- Learning Time -->\n",
       "<g id=\"node1\" class=\"node\">\n",
       "<title>Learning Time</title>\n",
       "<ellipse fill=\"none\" stroke=\"black\" cx=\"66.19\" cy=\"-18\" rx=\"66.19\" ry=\"18\"/>\n",
       "<text text-anchor=\"middle\" x=\"66.19\" y=\"-12.95\" font-family=\"Times,serif\" font-size=\"14.00\">Learning Time</text>\n",
       "</g>\n",
       "<!-- Test Score -->\n",
       "<g id=\"node2\" class=\"node\">\n",
       "<title>Test Score</title>\n",
       "<ellipse fill=\"none\" stroke=\"black\" cx=\"201.19\" cy=\"-18\" rx=\"50.33\" ry=\"18\"/>\n",
       "<text text-anchor=\"middle\" x=\"201.19\" y=\"-12.95\" font-family=\"Times,serif\" font-size=\"14.00\">Test Score</text>\n",
       "</g>\n",
       "<!-- Learning Time&#45;&gt;Test Score -->\n",
       "<g id=\"edge3\" class=\"edge\">\n",
       "<title>Learning Time&#45;&gt;Test Score</title>\n",
       "<path fill=\"none\" stroke=\"black\" d=\"M132.64,-18C134.79,-18 136.94,-18 139.09,-18\"/>\n",
       "<polygon fill=\"black\" stroke=\"black\" points=\"139.07,-21.5 149.07,-18 139.07,-14.5 139.07,-21.5\"/>\n",
       "</g>\n",
       "<!-- Intelligence -->\n",
       "<g id=\"node3\" class=\"node\">\n",
       "<title>Intelligence</title>\n",
       "<ellipse fill=\"none\" stroke=\"black\" cx=\"133.19\" cy=\"-90\" rx=\"54.42\" ry=\"18\"/>\n",
       "<text text-anchor=\"middle\" x=\"133.19\" y=\"-84.95\" font-family=\"Times,serif\" font-size=\"14.00\">Intelligence</text>\n",
       "</g>\n",
       "<!-- Intelligence&#45;&gt;Learning Time -->\n",
       "<g id=\"edge1\" class=\"edge\">\n",
       "<title>Intelligence&#45;&gt;Learning Time</title>\n",
       "<path fill=\"none\" stroke=\"black\" d=\"M117.32,-72.41C109.14,-63.87 99,-53.28 89.92,-43.79\"/>\n",
       "<polygon fill=\"black\" stroke=\"black\" points=\"92.45,-41.37 83,-36.56 87.39,-46.21 92.45,-41.37\"/>\n",
       "</g>\n",
       "<!-- Intelligence&#45;&gt;Test Score -->\n",
       "<g id=\"edge2\" class=\"edge\">\n",
       "<title>Intelligence&#45;&gt;Test Score</title>\n",
       "<path fill=\"none\" stroke=\"black\" d=\"M149.31,-72.41C157.69,-63.78 168.1,-53.06 177.4,-43.5\"/>\n",
       "<polygon fill=\"black\" stroke=\"black\" points=\"179.68,-46.17 184.14,-36.56 174.66,-41.29 179.68,-46.17\"/>\n",
       "</g>\n",
       "</g>\n",
       "</svg>\n"
      ],
      "text/plain": [
       "<graphviz.graphs.Digraph at 0x168cb80e0>"
      ]
     },
     "execution_count": 11,
     "metadata": {},
     "output_type": "execute_result"
    }
   ],
   "source": [
    "f = graphviz.Digraph()\n",
    "with f.subgraph() as s:\n",
    "    s.attr(rank='same')\n",
    "    s.node(\"Learning Time\")\n",
    "    s.node(\"Test Score\")\n",
    "\n",
    "f.node(\"Intelligence\")\n",
    "f.edge(\"Intelligence\", \"Learning Time\")\n",
    "f.edge(\"Intelligence\", \"Test Score\")\n",
    "f.edge(\"Learning Time\", \"Test Score\")\n",
    "\n",
    "f"
   ]
  },
  {
   "cell_type": "code",
   "execution_count": 12,
   "metadata": {},
   "outputs": [
    {
     "data": {
      "text/html": [
       "<div>\n",
       "<style scoped>\n",
       "    .dataframe tbody tr th:only-of-type {\n",
       "        vertical-align: middle;\n",
       "    }\n",
       "\n",
       "    .dataframe tbody tr th {\n",
       "        vertical-align: top;\n",
       "    }\n",
       "\n",
       "    .dataframe thead th {\n",
       "        text-align: right;\n",
       "    }\n",
       "</style>\n",
       "<table border=\"1\" class=\"dataframe\">\n",
       "  <thead>\n",
       "    <tr style=\"text-align: right;\">\n",
       "      <th></th>\n",
       "      <th>I</th>\n",
       "      <th>T</th>\n",
       "      <th>S</th>\n",
       "    </tr>\n",
       "  </thead>\n",
       "  <tbody>\n",
       "    <tr>\n",
       "      <th>0</th>\n",
       "      <td>72.214860</td>\n",
       "      <td>127.980207</td>\n",
       "      <td>49.684998</td>\n",
       "    </tr>\n",
       "    <tr>\n",
       "      <th>1</th>\n",
       "      <td>89.300095</td>\n",
       "      <td>111.060907</td>\n",
       "      <td>55.562599</td>\n",
       "    </tr>\n",
       "    <tr>\n",
       "      <th>2</th>\n",
       "      <td>73.566567</td>\n",
       "      <td>126.585409</td>\n",
       "      <td>49.989393</td>\n",
       "    </tr>\n",
       "    <tr>\n",
       "      <th>3</th>\n",
       "      <td>112.457761</td>\n",
       "      <td>87.319967</td>\n",
       "      <td>65.237689</td>\n",
       "    </tr>\n",
       "    <tr>\n",
       "      <th>4</th>\n",
       "      <td>111.717509</td>\n",
       "      <td>89.587264</td>\n",
       "      <td>63.532910</td>\n",
       "    </tr>\n",
       "  </tbody>\n",
       "</table>\n",
       "</div>"
      ],
      "text/plain": [
       "            I           T          S\n",
       "0   72.214860  127.980207  49.684998\n",
       "1   89.300095  111.060907  55.562599\n",
       "2   73.566567  126.585409  49.989393\n",
       "3  112.457761   87.319967  65.237689\n",
       "4  111.717509   89.587264  63.532910"
      ]
     },
     "execution_count": 12,
     "metadata": {},
     "output_type": "execute_result"
    }
   ],
   "source": [
    "n = 1000  # sample size\n",
    "\n",
    "# Simulating the variables\n",
    "I = np.random.normal(100, 15, n)  # Intelligence\n",
    "T = 200 - I + np.random.normal(0, 1, n)  # Learning Time\n",
    "S = 0.5 * I + 0.1 * T + np.random.normal(0, 1, n)  # Test Score\n",
    "\n",
    "df = pd.DataFrame()\n",
    "df[\"I\"] = I\n",
    "df[\"T\"] = T\n",
    "df[\"S\"] = S\n",
    "\n",
    "df.head()"
   ]
  },
  {
   "cell_type": "markdown",
   "metadata": {},
   "source": [
    "I dati analizzati sono stati generati seguendo un modello causale in cui il punteggio al test, $S$, aumenta di 0.1 punti per ogni unità di incremento nel tempo di apprendimento, $T$. Questo implica che più tempo viene dedicato all'apprendimento, più alto è il punteggio medio ottenuto nel test. Consideriamo ora le conseguenze che derivano dall'escludere l'intelligenza, che influisce sia sul tempo di apprendimento che sul punteggio del test, come predittore nel nostro modello di regressione."
   ]
  },
  {
   "cell_type": "code",
   "execution_count": 13,
   "metadata": {
    "tags": [
     "hide-output"
    ]
   },
   "outputs": [
    {
     "data": {
      "application/vnd.jupyter.widget-view+json": {
       "model_id": "5501ecb7f1474d0d88aae0814e552a6d",
       "version_major": 2,
       "version_minor": 0
      },
      "text/plain": [
       "  0%|          | 0/2000 [00:00<?, ?it/s]"
      ]
     },
     "metadata": {},
     "output_type": "display_data"
    },
    {
     "data": {
      "application/vnd.jupyter.widget-view+json": {
       "model_id": "fb30af654c92480f9022d6e98909ce80",
       "version_major": 2,
       "version_minor": 0
      },
      "text/plain": [
       "  0%|          | 0/2000 [00:00<?, ?it/s]"
      ]
     },
     "metadata": {},
     "output_type": "display_data"
    },
    {
     "data": {
      "application/vnd.jupyter.widget-view+json": {
       "model_id": "7ba3ac018b024eccaa487d26228ab393",
       "version_major": 2,
       "version_minor": 0
      },
      "text/plain": [
       "  0%|          | 0/2000 [00:00<?, ?it/s]"
      ]
     },
     "metadata": {},
     "output_type": "display_data"
    },
    {
     "data": {
      "application/vnd.jupyter.widget-view+json": {
       "model_id": "46f2620adc60403c8ce47f4f4afc3879",
       "version_major": 2,
       "version_minor": 0
      },
      "text/plain": [
       "  0%|          | 0/2000 [00:00<?, ?it/s]"
      ]
     },
     "metadata": {},
     "output_type": "display_data"
    }
   ],
   "source": [
    "mod3 = bmb.Model(\"S ~ T\", df)\n",
    "results3 = mod3.fit(nuts_sampler=\"numpyro\", idata_kwargs={\"log_likelihood\": True})"
   ]
  },
  {
   "cell_type": "code",
   "execution_count": 14,
   "metadata": {},
   "outputs": [
    {
     "data": {
      "text/html": [
       "<div>\n",
       "<style scoped>\n",
       "    .dataframe tbody tr th:only-of-type {\n",
       "        vertical-align: middle;\n",
       "    }\n",
       "\n",
       "    .dataframe tbody tr th {\n",
       "        vertical-align: top;\n",
       "    }\n",
       "\n",
       "    .dataframe thead th {\n",
       "        text-align: right;\n",
       "    }\n",
       "</style>\n",
       "<table border=\"1\" class=\"dataframe\">\n",
       "  <thead>\n",
       "    <tr style=\"text-align: right;\">\n",
       "      <th></th>\n",
       "      <th>mean</th>\n",
       "      <th>sd</th>\n",
       "      <th>hdi_3%</th>\n",
       "      <th>hdi_97%</th>\n",
       "      <th>mcse_mean</th>\n",
       "      <th>mcse_sd</th>\n",
       "      <th>ess_bulk</th>\n",
       "      <th>ess_tail</th>\n",
       "      <th>r_hat</th>\n",
       "    </tr>\n",
       "  </thead>\n",
       "  <tbody>\n",
       "    <tr>\n",
       "      <th>Intercept</th>\n",
       "      <td>99.8</td>\n",
       "      <td>0.23</td>\n",
       "      <td>99.36</td>\n",
       "      <td>100.21</td>\n",
       "      <td>0.0</td>\n",
       "      <td>0.0</td>\n",
       "      <td>4885.87</td>\n",
       "      <td>3127.08</td>\n",
       "      <td>1.0</td>\n",
       "    </tr>\n",
       "    <tr>\n",
       "      <th>S_sigma</th>\n",
       "      <td>1.1</td>\n",
       "      <td>0.02</td>\n",
       "      <td>1.05</td>\n",
       "      <td>1.14</td>\n",
       "      <td>0.0</td>\n",
       "      <td>0.0</td>\n",
       "      <td>2826.40</td>\n",
       "      <td>2649.64</td>\n",
       "      <td>1.0</td>\n",
       "    </tr>\n",
       "    <tr>\n",
       "      <th>T</th>\n",
       "      <td>-0.4</td>\n",
       "      <td>0.00</td>\n",
       "      <td>-0.40</td>\n",
       "      <td>-0.39</td>\n",
       "      <td>0.0</td>\n",
       "      <td>0.0</td>\n",
       "      <td>4961.65</td>\n",
       "      <td>3134.46</td>\n",
       "      <td>1.0</td>\n",
       "    </tr>\n",
       "  </tbody>\n",
       "</table>\n",
       "</div>"
      ],
      "text/plain": [
       "           mean    sd  hdi_3%  hdi_97%  mcse_mean  mcse_sd  ess_bulk  \\\n",
       "Intercept  99.8  0.23   99.36   100.21        0.0      0.0   4885.87   \n",
       "S_sigma     1.1  0.02    1.05     1.14        0.0      0.0   2826.40   \n",
       "T          -0.4  0.00   -0.40    -0.39        0.0      0.0   4961.65   \n",
       "\n",
       "           ess_tail  r_hat  \n",
       "Intercept   3127.08    1.0  \n",
       "S_sigma     2649.64    1.0  \n",
       "T           3134.46    1.0  "
      ]
     },
     "execution_count": 14,
     "metadata": {},
     "output_type": "execute_result"
    }
   ],
   "source": [
    "az.summary(results3, round_to=2)"
   ]
  },
  {
   "cell_type": "markdown",
   "metadata": {},
   "source": [
    "I risultati dell'analisi mostrano che, omettendo l'intelligenza dal modello utilizzato per valutare il punteggio del test, si verifica un errore di stima tale da invertire addirittura la direzione dell'effetto reale di $X$ (Tempo di Apprendimento) su $Y$ (Punteggio del Test). Questo errore è un esempio del \"paradosso di Simpson\" {cite:p}`simpson1951interpretation`, fenomeno per cui le relazioni apparenti tra variabili possono capovolgersi o alterarsi significativamente quando non si considera una variabile confondente critica, nel nostro caso l'intelligenza."
   ]
  },
  {
   "cell_type": "markdown",
   "metadata": {},
   "source": [
    "Se condizioniamo sull'intelligenza, invece, l'effetto di \"Learning Time\" su \"Test Score\" viene stimato senza errori sistematici."
   ]
  },
  {
   "cell_type": "code",
   "execution_count": 15,
   "metadata": {
    "tags": [
     "hide-output"
    ]
   },
   "outputs": [
    {
     "data": {
      "application/vnd.jupyter.widget-view+json": {
       "model_id": "01b804d307584c51ab2e0318bc431f14",
       "version_major": 2,
       "version_minor": 0
      },
      "text/plain": [
       "  0%|          | 0/2000 [00:00<?, ?it/s]"
      ]
     },
     "metadata": {},
     "output_type": "display_data"
    },
    {
     "data": {
      "application/vnd.jupyter.widget-view+json": {
       "model_id": "29e91a77061e4d568129f24472546dd6",
       "version_major": 2,
       "version_minor": 0
      },
      "text/plain": [
       "  0%|          | 0/2000 [00:00<?, ?it/s]"
      ]
     },
     "metadata": {},
     "output_type": "display_data"
    },
    {
     "data": {
      "application/vnd.jupyter.widget-view+json": {
       "model_id": "83e40a56fe154fa2885dc692ab059c64",
       "version_major": 2,
       "version_minor": 0
      },
      "text/plain": [
       "  0%|          | 0/2000 [00:00<?, ?it/s]"
      ]
     },
     "metadata": {},
     "output_type": "display_data"
    },
    {
     "data": {
      "application/vnd.jupyter.widget-view+json": {
       "model_id": "a13e225f385040ee98dbb8081b0919e7",
       "version_major": 2,
       "version_minor": 0
      },
      "text/plain": [
       "  0%|          | 0/2000 [00:00<?, ?it/s]"
      ]
     },
     "metadata": {},
     "output_type": "display_data"
    }
   ],
   "source": [
    "mod4 = bmb.Model(\"S ~ T + I\", df)\n",
    "results4 = mod4.fit(nuts_sampler=\"numpyro\", idata_kwargs={\"log_likelihood\": True})"
   ]
  },
  {
   "cell_type": "code",
   "execution_count": 16,
   "metadata": {},
   "outputs": [
    {
     "data": {
      "text/html": [
       "<div>\n",
       "<style scoped>\n",
       "    .dataframe tbody tr th:only-of-type {\n",
       "        vertical-align: middle;\n",
       "    }\n",
       "\n",
       "    .dataframe tbody tr th {\n",
       "        vertical-align: top;\n",
       "    }\n",
       "\n",
       "    .dataframe thead th {\n",
       "        text-align: right;\n",
       "    }\n",
       "</style>\n",
       "<table border=\"1\" class=\"dataframe\">\n",
       "  <thead>\n",
       "    <tr style=\"text-align: right;\">\n",
       "      <th></th>\n",
       "      <th>mean</th>\n",
       "      <th>sd</th>\n",
       "      <th>hdi_3%</th>\n",
       "      <th>hdi_97%</th>\n",
       "      <th>mcse_mean</th>\n",
       "      <th>mcse_sd</th>\n",
       "      <th>ess_bulk</th>\n",
       "      <th>ess_tail</th>\n",
       "      <th>r_hat</th>\n",
       "    </tr>\n",
       "  </thead>\n",
       "  <tbody>\n",
       "    <tr>\n",
       "      <th>I</th>\n",
       "      <td>0.47</td>\n",
       "      <td>0.03</td>\n",
       "      <td>0.41</td>\n",
       "      <td>0.53</td>\n",
       "      <td>0.00</td>\n",
       "      <td>0.00</td>\n",
       "      <td>1316.10</td>\n",
       "      <td>1550.07</td>\n",
       "      <td>1.0</td>\n",
       "    </tr>\n",
       "    <tr>\n",
       "      <th>Intercept</th>\n",
       "      <td>5.88</td>\n",
       "      <td>6.08</td>\n",
       "      <td>-5.01</td>\n",
       "      <td>18.09</td>\n",
       "      <td>0.17</td>\n",
       "      <td>0.12</td>\n",
       "      <td>1315.68</td>\n",
       "      <td>1524.18</td>\n",
       "      <td>1.0</td>\n",
       "    </tr>\n",
       "    <tr>\n",
       "      <th>S_sigma</th>\n",
       "      <td>0.99</td>\n",
       "      <td>0.02</td>\n",
       "      <td>0.95</td>\n",
       "      <td>1.03</td>\n",
       "      <td>0.00</td>\n",
       "      <td>0.00</td>\n",
       "      <td>2352.48</td>\n",
       "      <td>1915.88</td>\n",
       "      <td>1.0</td>\n",
       "    </tr>\n",
       "    <tr>\n",
       "      <th>T</th>\n",
       "      <td>0.07</td>\n",
       "      <td>0.03</td>\n",
       "      <td>0.01</td>\n",
       "      <td>0.13</td>\n",
       "      <td>0.00</td>\n",
       "      <td>0.00</td>\n",
       "      <td>1318.89</td>\n",
       "      <td>1560.52</td>\n",
       "      <td>1.0</td>\n",
       "    </tr>\n",
       "  </tbody>\n",
       "</table>\n",
       "</div>"
      ],
      "text/plain": [
       "           mean    sd  hdi_3%  hdi_97%  mcse_mean  mcse_sd  ess_bulk  \\\n",
       "I          0.47  0.03    0.41     0.53       0.00     0.00   1316.10   \n",
       "Intercept  5.88  6.08   -5.01    18.09       0.17     0.12   1315.68   \n",
       "S_sigma    0.99  0.02    0.95     1.03       0.00     0.00   2352.48   \n",
       "T          0.07  0.03    0.01     0.13       0.00     0.00   1318.89   \n",
       "\n",
       "           ess_tail  r_hat  \n",
       "I           1550.07    1.0  \n",
       "Intercept   1524.18    1.0  \n",
       "S_sigma     1915.88    1.0  \n",
       "T           1560.52    1.0  "
      ]
     },
     "execution_count": 16,
     "metadata": {},
     "output_type": "execute_result"
    }
   ],
   "source": [
    "az.summary(results4, round_to=2)"
   ]
  },
  {
   "cell_type": "markdown",
   "metadata": {},
   "source": [
    "Questo esempio sottolinea l'importanza di comprendere accuratamente la struttura causale che sta alla base della generazione dei dati. Senza questa comprensione, diventa difficile determinare se l'effetto di $X$ su $Y$ sia positivo o negativo. Per ottenere stime affidabili delle relazioni causali tra le variabili, è fondamentale integrare la struttura causale del processo di generazione dei dati all'interno del modello di regressione. Questo approccio è essenziale per evitare conclusioni errate e garantire l'accuratezza delle inferenze causali."
   ]
  },
  {
   "cell_type": "markdown",
   "metadata": {},
   "source": [
    "## Riflessioni sulle Simulazioni di {cite:t}`lubke2020we`\n",
    "\n",
    "Le simulazioni discusse nell'articolo di {cite:t}`lubke2020we` mettono in luce questioni metodologiche di rilievo e sollevano critiche fondamentali sull'uso convenzionale dei modelli di regressione. La pratica diffusa di incorporare un elevato numero di variabili nei modelli di regressione senza una selezione rigorosa si è rivelata non solo inappropriata ma anche potenzialmente fuorviante. Questo metodo, spesso adottato nella speranza di perfezionare il modello, ignora l'importanza critica di esaminare le relazioni causali tra le variabili.\n",
    "\n",
    "In particolare, le simulazioni di {cite:t}`lubke2020we` dimostrano come l'inserimento indiscriminato di covariate possa creare associazioni spurie, compromettendo la validità dei risultati ottenuti. Per sviluppare un modello di regressione che non solo si adatti efficacemente ai dati disponibili ma che anche rappresenti accuratamente la struttura causale sottostante, è essenziale una selezione attenta delle covariate. Questa selezione deve essere informata da una comprensione del processo generativo dei dati. La decisione su quali variabili includere in un modello di regressione, dunque, non deve basarsi esclusivamente su criteri statistici, ma deve essere invece guidata da solide basi teoriche."
   ]
  },
  {
   "cell_type": "markdown",
   "metadata": {},
   "source": [
    "## L'Inferenza Causale Va Oltre la Statistica\n",
    "\n",
    "Le simulazioni presentate da {cite:t}`lubke2020we` dimostrano che l'identificazione delle relazioni causali che regolano i fenomeni non può avvenire attraverso l'uso esclusivo di strumenti statistici, senza una solida conoscenza del contesto specifico. Questa tesi è ulteriormente sottolineata nell'articolo di {cite:t}`d2024causal`, intitolato \"Causal Inference Is Not Just a Statistics Problem\". Per approfondire questa idea, gli autori introducono un \"causal quartet\", ispirato al celebre quartetto di Anscombe. Il Quartetto di Anscombe è formato da quattro set di dati che, nonostante abbiano identiche proprietà statistiche quali media, varianza e correlazione, si distinguono nettamente nella rappresentazione grafica. Questo esempio è spesso utilizzato per evidenziare l'importanza dell'analisi visiva dei dati, al pari dell'analisi statistica, nell'interpretazione corretta delle informazioni. Allo stesso modo, il \"causal quartet\" illustra come l'integrazione tra comprensione causale e analisi statistica sia essenziale per effettuare inferenze valide.\n",
    "\n",
    "Iniziamo ad esaminare il dataset di Anscombe."
   ]
  },
  {
   "cell_type": "code",
   "execution_count": 17,
   "metadata": {},
   "outputs": [
    {
     "data": {
      "image/png": "[encoded data removed]",
      "text/plain": [
       "<Figure size 800x800 with 4 Axes>"
      ]
     },
     "metadata": {
      "image/png": {
       "height": 788,
       "width": 790
      }
     },
     "output_type": "display_data"
    }
   ],
   "source": [
    "df = sns.load_dataset(\"anscombe\")\n",
    "\n",
    "# Creare una figura e un array di assi\n",
    "fig, axs = plt.subplots(2, 2, figsize=(8, 8))\n",
    "\n",
    "# Disegnare ogni gruppo in un subplot diverso\n",
    "for i, dataset in enumerate(df['dataset'].unique()):\n",
    "    ax = axs[i // 2, i % 2]\n",
    "    data = df[df['dataset'] == dataset]\n",
    "    ax.scatter(data['x'], data['y'])\n",
    "    ax.set_title(f'Dataset {dataset}')\n",
    "    ax.set_xlim([3, 20])\n",
    "    ax.set_ylim([2, 14])\n",
    "\n",
    "# Aggiustare lo spazio tra i grafici\n",
    "plt.tight_layout()\n",
    "\n",
    "# Mostrare la figura\n",
    "plt.show()\n"
   ]
  },
  {
   "cell_type": "markdown",
   "metadata": {},
   "source": [
    "I quattro dataset di Anscombe sono notevoli perché sono stati progettati per avere la stessa media e varianza nelle variabili $X$ e $Y$, oltre a mostrare identica correlazione e coefficiente di regressione lineare da $X$ a $Y$. Nonostante queste uniformità statistiche, i dataset differiscono significativamente nelle loro rappresentazioni grafiche. Questa distinzione evidenzia un principio fondamentale: le analisi statistiche possono condurre a conclusioni errate se non vengono integrate con un'attenta visualizzazione e una profonda comprensione del contesto dei dati. Il quartetto di Anscombe illustra quindi la necessità di un approccio olistico nell'analisi dei dati, che abbracci sia le tecniche statistiche sia una sensibilità visiva e contestuale.\n",
    "\n",
    "Il quartetto di {cite:t}`d2024causal` segue una logica simile, ma esplora le implicazioni di differenti strutture causali che hanno originato i dati. Anche se i quattro dataset del quartetto mostrano statistiche descrittive simili e risultano visualmente analoghi, sono stati generati attraverso processi causali diversi. Questo sottolinea come, nonostante l'uguaglianza apparente in termini di statistiche descrittive e rappresentazioni grafiche, i dataset possono derivare da cause sottostanti molto diverse. In alcuni casi, le correlazioni visive tra le variabili possono rispecchiare veri rapporti causali; in altri, possono invece distorcere o nascondere le dinamiche causali reali.\n",
    "\n",
    "L'analisi statistica convenzionale e le rappresentazioni grafiche, da sole, non sono sufficienti per individuare i meccanismi causali che governano le relazioni tra le variabili. I sommari statistici e le visualizzazioni non offrono una comprensione approfondita dei processi che generano i dati. Pertanto, {cite:t}`d2024causal` enfatizzano l'importanza di integrare le conoscenze sui meccanismi di generazione dei dati nell'analisi, un passo cruciale per scoprire le autentiche relazioni causali tra le variabili. Queste informazioni non sono deducibili direttamente dai dati osservati.\n",
    "\n",
    "Il lavoro di {cite:t}`d2024causal` enfatizza che, per identificare correttamente gli effetti causali, è essenziale superare i limiti degli strumenti statistici tradizionali, adottando un'analisi informata sui processi generativi dei dati. Questo approccio richiede una comprensione e applicazione di metodologie che considerino le strutture causali sottostanti, spesso non immediatamente evidenti solo dall'osservazione dei dati. In questo modo, il quartetto di {cite:t}`d2024causal` diventa uno strumento didattico efficace per educare i ricercatori sulla complessità dell'inferenza causale e sull'importanza di un'integrazione tra analisi statistica e conoscenza approfondita del contesto e dei meccanismi alla base della generazione dei dati.\n",
    "\n",
    "Le caratteristiche dei quatto set di dati sono descritte di seguito."
   ]
  },
  {
   "cell_type": "markdown",
   "metadata": {},
   "source": [
    "| Termine Tecnico | Spiegazione |\n",
    "| --------------- | ----------- |\n",
    "| (1) Collider | La variabile $X$, causa $Z$, e l'esito, $Y$, causa $Z$. Aggiustando per $Z$ quando si stima l'effetto di $X$ su $Y$ si ottiene un risultato distorto. Meccanismo di generazione dei dati: $X \\sim \\mathcal{N}(0,1)$, $Y = X + \\varepsilon_y$, $\\varepsilon_y \\sim \\mathcal{N}(0,1)$; $Z = 0.45X + 0.77Y + \\varepsilon_z$, $\\varepsilon_z \\sim \\mathcal{N}(0,1)$ |\n",
    "| (2) Confounder | La variabile $Z$ causa sia la variabile indipendente $X$, sia l'esito, $Y$. Non aggiustando per $Z$ quando si stima l'effetto di $X$ su $Y$ si ottiene un risultato distorto. Meccanismo di generazione dei dati: $Z \\sim \\mathcal{N}(0,1)$, $X = Z + \\varepsilon_x$, $\\varepsilon_x \\sim \\mathcal{N}(0,1)$; $Y = 0.5X + Z + \\varepsilon_y$, $\\varepsilon_y \\sim \\mathcal{N}(0,1)$ |\n",
    "| (3) Mediator | La variabile $X$ causa $Z$ che a sua volta causa l'esito $Y$. Aggiustando per $Z$ quando si stima l'effetto di $X$ su $Y$ si ottiene l'effetto diretto, non aggiustando per $Z$ si ottiene l'effetto totale di $X$ su $Y$. L'effetto diretto rappresenta la relazione tra $X$ e $Y$ indipendentemente da qualsiasi mediatore, mentre l'effetto totale include sia l'effetto diretto sia qualsiasi effetto indiretto mediato dal mediatore potenziale. Meccanismo di generazione dei dati: $X \\sim \\mathcal{N}(0,1)$, $Z = X + \\varepsilon_z$, $\\varepsilon_z \\sim \\mathcal{N}(0,1)$; $Y = Z + \\varepsilon_y$, $\\varepsilon_y \\sim \\mathcal{N}(0,1)$ |\n",
    "| (4) M-Bias | Ci sono due variabili aggiuntive, $U1$ e $U2$. Entrambe causano $Z$, $U1$ causa $X$, e $U2$ causa l'esito $Y$. Aggiustando per $Z$ quando si stima l'effetto di $X$ su $Y$ si ottiene un risultato distorto. Meccanismo di generazione dei dati: $U1 \\sim \\mathcal{N}(0,1)$, $U2 \\sim \\mathcal{N}(0,1)$; $Z = 8U1 + U2 + \\varepsilon_z$, $\\varepsilon_z \\sim \\mathcal{N}(0,1)$; $X = U1 + \\varepsilon_x$, $\\varepsilon_x \\sim \\mathcal{N}(0,1)$; $Y = X + U2 + \\varepsilon_y$, $\\varepsilon_y \\sim \\mathcal{N}(0, 1)$ |\n"
   ]
  },
  {
   "cell_type": "markdown",
   "metadata": {},
   "source": [
    "## Il Criterio del Backdoor\n",
    "\n",
    "Prima di approfondire il Quartetto Causale, è essenziale comprendere un concetto chiave nell'analisi causale: il criterio del backdoor, formulato da Judea Pearl. Questo criterio stabilisce una condizione necessaria per ottenere stime non distorte dell'effetto causale di una variabile su un'altra attraverso la regressione, assicurando così una valutazione imparziale dell'effetto causale reale.\n",
    "\n",
    "Il criterio del backdoor si applica quando si desidera valutare l'effetto causale di una variabile $X$ (esposizione) su un'altra variabile $Y$ (risultato), e esistono variabili confondenti $Z$ che influenzano sia $X$ sia $Y$. \n",
    "\n",
    "```{admonition} Backdoor criterion\n",
    "Secondo Pearl, un insieme di variabili $ Z $ soddisfa il criterio backdoor rispetto a un effetto di $ X $ su $ Y $ se:\n",
    "\n",
    "1. $ Z $ blocca ogni percorso backdoor da $ X $ a $ Y $ che contiene una freccia in entrata verso $ X $. Un percorso backdoor è un percorso che inizia con una freccia diretta verso $ X $ (ad esempio, da $ X $ verso $ Z $ e da $ Z $ verso $ Y $).\n",
    "   \n",
    "2. $ Z $ non include alcun discendente di $ X $. I discendenti di $ X $ sono variabili che sono influenzate da $ X $, direttamente o indirettamente.\n",
    "\n",
    "- **Effetto diretto e indiretto**: È corretto controllare per variabili che sono cause comuni sia di $ X $ che di $ Y $ (confounders), poiché questi confounders possono aprire percorsi backdoor che confondono l'effetto di $ X $ su $ Y $.\n",
    "\n",
    "- **Introduzione di percorsi indiretti**: Non si dovrebbero controllare le variabili che sono discendenti di $ X $, poiché includere tali variabili può aprire nuovi percorsi di confondimento tra $ X $ e $ Y $ (per esempio, attraverso variabili mediatrici). Questo errore è noto come \"controllo per un collider\" o \"effetto collider\".\n",
    "```"
   ]
  },
  {
   "cell_type": "code",
   "execution_count": 18,
   "metadata": {},
   "outputs": [
    {
     "name": "stdout",
     "output_type": "stream",
     "text": [
      "Scenario 1: Z blocca il percorso backdoor da X a Y\n"
     ]
    },
    {
     "data": {
      "image/png": "[encoded data removed]",
      "text/plain": [
       "<Figure size 720x480 with 1 Axes>"
      ]
     },
     "metadata": {
      "image/png": {
       "height": 499,
       "width": 740
      }
     },
     "output_type": "display_data"
    }
   ],
   "source": [
    "def create_dag(edges):\n",
    "    G = nx.DiGraph()\n",
    "    G.add_edges_from(edges)\n",
    "    pos = nx.spring_layout(G)\n",
    "    labels = {node: node for node in G.nodes()}\n",
    "    nx.draw(\n",
    "        G,\n",
    "        pos,\n",
    "        with_labels=True,\n",
    "        node_size=2000,\n",
    "        node_color=\"skyblue\",\n",
    "        font_size=15,\n",
    "        arrows=True,\n",
    "    )\n",
    "    plt.show()\n",
    "\n",
    "\n",
    "# Scenario 1: Z soddisfa il criterio del backdoor\n",
    "edges_scenario1 = [(\"Z\", \"X\"), (\"Z\", \"Y\"), (\"X\", \"Y\")]\n",
    "print(\"Scenario 1: Z blocca il percorso backdoor da X a Y\")\n",
    "create_dag(edges_scenario1)"
   ]
  },
  {
   "cell_type": "markdown",
   "metadata": {},
   "source": [
    "Nel primo scenario è essenziale controllare la variabile $ Z $ per assicurare una stima accurata e non distorta dell'effetto causale di $ X $ su $ Y $. Questa necessità si basa su due aspetti chiave che rispecchiano il criterio del backdoor:\n",
    "\n",
    "1. **Assenza di discendenza**: $ Z $ non è un discendente di $ X $, il che implica che $ Z $ non riceve alcun effetto da $ X $. Questo è cruciale perché, se $ Z $ fosse influenzato da $ X $, potrebbe generare ulteriori correlazioni indirette che alterano l'apparente effetto di $ X $ su $ Y $.\n",
    "\n",
    "2. **Interruzione dei percorsi backdoor**: $ Z $ interrompe l'unico percorso backdoor tra $ X $ e $ Y $ che passa attraverso $ Z $ stesso. Regolando per $ Z $, si eliminano le influenze indirette di $ Z $ su $ Y $, isolando così l'effetto diretto di $ X $ su $ Y $.\n",
    "\n",
    "Quindi, nel primo scenario, il controllo di $ Z $ è fondamentale per aderire correttamente al criterio del backdoor e per ottenere una stima affidabile dell'effetto di $ X $ su $ Y $."
   ]
  },
  {
   "cell_type": "code",
   "execution_count": 19,
   "metadata": {},
   "outputs": [
    {
     "name": "stdout",
     "output_type": "stream",
     "text": [
      "Scenario 2: Z non blocca il percorso backdoor da X a Y perché Z è un discendente di X\n"
     ]
    },
    {
     "data": {
      "image/png": "[encoded data removed]",
      "text/plain": [
       "<Figure size 720x480 with 1 Axes>"
      ]
     },
     "metadata": {
      "image/png": {
       "height": 499,
       "width": 740
      }
     },
     "output_type": "display_data"
    }
   ],
   "source": [
    "# Scenario 2: Z non soddisfa il criterio del backdoor\n",
    "edges_scenario2 = [(\"X\", \"Z\"), (\"Z\", \"Y\"), (\"X\", \"Y\")]\n",
    "print(\n",
    "    \"Scenario 2: Z non blocca il percorso backdoor da X a Y perché Z è un discendente di X\"\n",
    ")\n",
    "create_dag(edges_scenario2)"
   ]
  },
  {
   "cell_type": "markdown",
   "metadata": {},
   "source": [
    "Nel secondo scenario, non è opportuno utilizzare $ Z $ per controllare l'effetto di $ X $ su $ Y $ poiché $ Z $ è un discendente di $ X $. Questa configurazione porta a problemi significativi:\n",
    "\n",
    "- **Presenza di un discendente di $ X $ nel set di controllo**: Dato che $ Z $ riceve un influsso da $ X $, includere $ Z $ come variabile di controllo potrebbe aprire nuovi percorsi di confondimento tra $ X $ e $ Y $ attraverso variabili collaterali o collider. Questo significa che regolare per $ Z $ potrebbe introdurre un errore (bias) nella stima dell'effetto di $ X $ su $ Y $ anziché eliminarlo.\n",
    "\n",
    "Pertanto, nel secondo scenario, includere $ Z $ nell'analisi causale non è appropriato e potrebbe addirittura peggiorare la precisione della stima degli effetti causali."
   ]
  },
  {
   "cell_type": "markdown",
   "metadata": {},
   "source": [
    "## Il Quartetto Causale\n",
    "\n",
    "I dati forniti da {cite:t}`d2024causal` sono disponibili nel pacchetto R \"quartets\". È possibile effettuare l'importazione di tali dati nell'ambiente Python attraverso la seguente procedura. Tuttavia, è importante notare che è necessario aver precedentemente installato il modulo \"rpy2\"."
   ]
  },
  {
   "cell_type": "code",
   "execution_count": 20,
   "metadata": {},
   "outputs": [
    {
     "ename": "ModuleNotFoundError",
     "evalue": "No module named 'rpy2'",
     "output_type": "error",
     "traceback": [
      "\u001B[0;31m---------------------------------------------------------------------------\u001B[0m",
      "\u001B[0;31mModuleNotFoundError\u001B[0m                       Traceback (most recent call last)",
      "Cell \u001B[0;32mIn[20], line 1\u001B[0m\n\u001B[0;32m----> 1\u001B[0m \u001B[38;5;28;01mimport\u001B[39;00m \u001B[38;5;21;01mrpy2\u001B[39;00m\n\u001B[1;32m      2\u001B[0m \u001B[38;5;28mprint\u001B[39m(rpy2\u001B[38;5;241m.\u001B[39m__version__)\n",
      "\u001B[0;31mModuleNotFoundError\u001B[0m: No module named 'rpy2'"
     ]
    }
   ],
   "source": [
    "import rpy2\n",
    "\n",
    "print(rpy2.__version__)"
   ]
  },
  {
   "cell_type": "code",
   "execution_count": 33,
   "metadata": {
    "tags": [
     "hide-output"
    ]
   },
   "outputs": [
    {
     "name": "stderr",
     "output_type": "stream",
     "text": [
      "R[write to console]: apertura URL 'https://cloud.r-project.org/bin/macosx/big-sur-arm64/contrib/4.4/quartets_0.1.1.tgz'\n",
      "\n",
      "R[write to console]: Content type 'application/x-gzip'\n",
      "R[write to console]:  length 2253600 bytes (2.1 MB)\n",
      "\n",
      "R[write to console]: =\n",
      "R[write to console]: =\n",
      "R[write to console]: =\n",
      "R[write to console]: =\n",
      "R[write to console]: =\n",
      "R[write to console]: =\n",
      "R[write to console]: =\n",
      "R[write to console]: =\n",
      "R[write to console]: =\n",
      "R[write to console]: =\n",
      "R[write to console]: =\n",
      "R[write to console]: =\n",
      "R[write to console]: =\n",
      "R[write to console]: =\n",
      "R[write to console]: =\n",
      "R[write to console]: =\n",
      "R[write to console]: =\n",
      "R[write to console]: =\n",
      "R[write to console]: =\n",
      "R[write to console]: =\n",
      "R[write to console]: =\n",
      "R[write to console]: =\n",
      "R[write to console]: =\n",
      "R[write to console]: =\n",
      "R[write to console]: =\n",
      "R[write to console]: =\n",
      "R[write to console]: =\n",
      "R[write to console]: =\n",
      "R[write to console]: =\n",
      "R[write to console]: =\n",
      "R[write to console]: =\n",
      "R[write to console]: =\n",
      "R[write to console]: =\n",
      "R[write to console]: =\n",
      "R[write to console]: =\n",
      "R[write to console]: =\n",
      "R[write to console]: =\n",
      "R[write to console]: =\n",
      "R[write to console]: =\n",
      "R[write to console]: =\n",
      "R[write to console]: =\n",
      "R[write to console]: =\n",
      "R[write to console]: =\n",
      "R[write to console]: =\n",
      "R[write to console]: =\n",
      "R[write to console]: =\n",
      "R[write to console]: =\n",
      "R[write to console]: =\n",
      "R[write to console]: =\n",
      "R[write to console]: =\n",
      "R[write to console]: \n",
      "\n",
      "R[write to console]: downloaded 2.1 MB\n",
      "\n",
      "\n"
     ]
    },
    {
     "name": "stdout",
     "output_type": "stream",
     "text": [
      "\n",
      "I pacchetti binari scaricati sono in\n",
      "\t/var/folders/s7/z86r4t9j6yx376cm120nln6w0000gn/T//Rtmpp9fHbk/downloaded_packages\n"
     ]
    },
    {
     "data": {
      "text/plain": [
       "<rpy2.rinterface_lib.sexp.NULLType object at 0x31822ead0> [0]"
      ]
     },
     "execution_count": 33,
     "metadata": {},
     "output_type": "execute_result"
    }
   ],
   "source": [
    "\n",
    "from rpy2.robjects.packages import importr, data\n",
    "from rpy2.robjects import pandas2ri\n",
    "\n",
    "utils = importr('utils')\n",
    "\n",
    "# Specify your CRAN mirror\n",
    "cran_mirror = 'https://cloud.r-project.org/'\n",
    "\n",
    "# Install the package without being prompted for a mirror choice\n",
    "utils.install_packages('quartets', repos=cran_mirror)"
   ]
  },
  {
   "cell_type": "markdown",
   "metadata": {},
   "source": [
    "## Collider"
   ]
  },
  {
   "cell_type": "markdown",
   "metadata": {},
   "source": [
    "Il primo set di dati è denominato \"causal_collider\" e comprende le variabili \"exposure,\" \"outcome,\" e \"covariate.\" Queste variabili sono state generatе seguendo la struttura causale di un collider, come descritto nel diagramma aciclico diretto (DAG) riportato di seguito."
   ]
  },
  {
   "cell_type": "code",
   "execution_count": 34,
   "metadata": {},
   "outputs": [
    {
     "name": "stdout",
     "output_type": "stream",
     "text": [
      "   exposure   outcome  covariate\n",
      "1  0.486219  1.705884   2.240050\n",
      "2  0.065271  0.669207   0.924204\n",
      "3 -1.402070 -1.596622  -0.999364\n",
      "4 -0.546029 -1.733149  -2.343315\n",
      "5 -0.401101  0.616867   0.207155\n"
     ]
    }
   ],
   "source": [
    "# Ensure the conversion methods are set up\n",
    "pandas2ri.activate()\n",
    "quartets = importr('quartets')\n",
    "causal_collider = data(quartets).fetch('causal_collider')['causal_collider']\n",
    "# Convert the R data frame to a Pandas DataFrame\n",
    "causal_collider_df = pandas2ri.rpy2py(causal_collider)\n",
    "print(causal_collider_df.head())"
   ]
  },
  {
   "cell_type": "code",
   "execution_count": 35,
   "metadata": {},
   "outputs": [
    {
     "data": {
      "image/svg+xml": [
       "<?xml version=\"1.0\" encoding=\"UTF-8\" standalone=\"no\"?>\n",
       "<!DOCTYPE svg PUBLIC \"-//W3C//DTD SVG 1.1//EN\"\n",
       " \"http://www.w3.org/Graphics/SVG/1.1/DTD/svg11.dtd\">\n",
       "<!-- Generated by graphviz version 9.0.0 (0)\n",
       " -->\n",
       "<!-- Pages: 1 -->\n",
       "<svg width=\"200pt\" height=\"116pt\"\n",
       " viewBox=\"0.00 0.00 200.35 116.00\" xmlns=\"http://www.w3.org/2000/svg\" xmlns:xlink=\"http://www.w3.org/1999/xlink\">\n",
       "<g id=\"graph0\" class=\"graph\" transform=\"scale(1 1) rotate(0) translate(4 112)\">\n",
       "<polygon fill=\"white\" stroke=\"none\" points=\"-4,4 -4,-112 196.35,-112 196.35,4 -4,4\"/>\n",
       "<!-- exposure -->\n",
       "<g id=\"node1\" class=\"node\">\n",
       "<title>exposure</title>\n",
       "<ellipse fill=\"none\" stroke=\"black\" cx=\"44.19\" cy=\"-90\" rx=\"44.19\" ry=\"18\"/>\n",
       "<text text-anchor=\"middle\" x=\"44.19\" y=\"-84.95\" font-family=\"Times,serif\" font-size=\"14.00\">exposure</text>\n",
       "</g>\n",
       "<!-- outcome -->\n",
       "<g id=\"node2\" class=\"node\">\n",
       "<title>outcome</title>\n",
       "<ellipse fill=\"none\" stroke=\"black\" cx=\"149.19\" cy=\"-90\" rx=\"43.16\" ry=\"18\"/>\n",
       "<text text-anchor=\"middle\" x=\"149.19\" y=\"-84.95\" font-family=\"Times,serif\" font-size=\"14.00\">outcome</text>\n",
       "</g>\n",
       "<!-- exposure&#45;&gt;outcome -->\n",
       "<g id=\"edge3\" class=\"edge\">\n",
       "<title>exposure&#45;&gt;outcome</title>\n",
       "<path fill=\"none\" stroke=\"black\" d=\"M88.48,-90C90.35,-90 92.22,-90 94.08,-90\"/>\n",
       "<polygon fill=\"black\" stroke=\"black\" points=\"94.04,-93.5 104.04,-90 94.04,-86.5 94.04,-93.5\"/>\n",
       "</g>\n",
       "<!-- covariate -->\n",
       "<g id=\"node3\" class=\"node\">\n",
       "<title>covariate</title>\n",
       "<ellipse fill=\"none\" stroke=\"black\" cx=\"96.19\" cy=\"-18\" rx=\"44.7\" ry=\"18\"/>\n",
       "<text text-anchor=\"middle\" x=\"96.19\" y=\"-12.95\" font-family=\"Times,serif\" font-size=\"14.00\">covariate</text>\n",
       "</g>\n",
       "<!-- exposure&#45;&gt;covariate -->\n",
       "<g id=\"edge1\" class=\"edge\">\n",
       "<title>exposure&#45;&gt;covariate</title>\n",
       "<path fill=\"none\" stroke=\"black\" d=\"M56.51,-72.41C62.66,-64.13 70.24,-53.92 77.12,-44.66\"/>\n",
       "<polygon fill=\"black\" stroke=\"black\" points=\"79.9,-46.8 83.05,-36.68 74.28,-42.63 79.9,-46.8\"/>\n",
       "</g>\n",
       "<!-- outcome&#45;&gt;covariate -->\n",
       "<g id=\"edge2\" class=\"edge\">\n",
       "<title>outcome&#45;&gt;covariate</title>\n",
       "<path fill=\"none\" stroke=\"black\" d=\"M136.63,-72.41C130.29,-64.04 122.47,-53.71 115.39,-44.37\"/>\n",
       "<polygon fill=\"black\" stroke=\"black\" points=\"118.4,-42.54 109.57,-36.68 112.82,-46.76 118.4,-42.54\"/>\n",
       "</g>\n",
       "</g>\n",
       "</svg>\n"
      ],
      "text/plain": [
       "<graphviz.graphs.Digraph at 0x3187a5430>"
      ]
     },
     "execution_count": 35,
     "metadata": {},
     "output_type": "execute_result"
    }
   ],
   "source": [
    "f = graphviz.Digraph()\n",
    "with f.subgraph() as s:\n",
    "    s.attr(rank='same')\n",
    "    s.node(\"exposure\")\n",
    "    s.node(\"outcome\")\n",
    "\n",
    "f.node(\"covariate\")\n",
    "f.edge(\"exposure\", \"covariate\", )\n",
    "f.edge(\"outcome\", \"covariate\")\n",
    "f.edge(\"exposure\", \"outcome\")\n",
    "\n",
    "f"
   ]
  },
  {
   "cell_type": "markdown",
   "metadata": {},
   "source": [
    "Se esaminiamo la relazione tra `exposure` e `outcome` notiamo una associazione positiva tra queste due variabili. Il coefficiente di regressione bivariato è 1 e corrisponde al vero effetto causale tra le due variabili. I dati, infatti, sono stati generati nel modo seguente: $Y = X + \\varepsilon_y$."
   ]
  },
  {
   "cell_type": "code",
   "execution_count": 36,
   "metadata": {},
   "outputs": [
    {
     "data": {
      "image/png": "[encoded data removed]",
      "text/plain": [
       "<Figure size 720x480 with 1 Axes>"
      ]
     },
     "metadata": {
      "image/png": {
       "height": 491,
       "width": 731
      }
     },
     "output_type": "display_data"
    }
   ],
   "source": [
    "_ = sns.scatterplot(causal_collider_df, x=\"exposure\", y=\"outcome\")"
   ]
  },
  {
   "cell_type": "code",
   "execution_count": 37,
   "metadata": {},
   "outputs": [
    {
     "name": "stdout",
     "output_type": "stream",
     "text": [
      "Correlation between 'exposure' and 'outcome': 0.7686468291983661\n"
     ]
    }
   ],
   "source": [
    "# Calculate the Pearson correlation between 'exposure' and 'outcome'\n",
    "correlation = causal_collider_df['exposure'].corr(causal_collider_df['outcome'])\n",
    "print(\"Correlation between 'exposure' and 'outcome':\", correlation)"
   ]
  },
  {
   "cell_type": "markdown",
   "metadata": {},
   "source": [
    "La struttura causale descritta, dove $X \\rightarrow Y$, $X \\rightarrow Z$ e $Y \\rightarrow Z$, rappresenta un tipico scenario di collider con $Z$ come variabile collider. In questo scenario, $Z$ è influenzato sia da $X$ che da $Y$. La questione centrale qui è capire come la scelta delle variabili nel modello di regressione influenzi la stima dell'effetto causale di $X$ su $Y$.\n",
    "\n",
    "### Modello di regressione `Y ~ X`\n",
    "\n",
    "Nel modello di regressione $Y \\sim X$, stiamo stimando l'effetto di $X$ su $Y$ senza includere il collider $Z$ nel modello. Secondo il criterio del backdoor di Pearl, per ottenere una stima non distorta dell'effetto causale, dobbiamo chiudere i percorsi backdoor tra le variabili di causa ($X$) e effetto ($Y$) e non dobbiamo aprire nuovi percorsi che potrebbero introdurre delle correlazioni spurie.\n",
    "\n",
    "Nella struttura data:\n",
    "\n",
    "- Non ci sono variabili confondenti non controllate tra $X$ e $Y$ che richiedano aggiustamenti per soddisfare il criterio del backdoor.\n",
    "- Includere $X$ come predittore di $Y$ in un modello di regressione chiude l'unico percorso diretto da $X$ a $Y$, senza la necessità di controllare altre variabili per ottenere una stima non distorta dell'effetto causale di $X$ su $Y$.\n",
    "\n",
    "### Modello di regressione `Y ~ X + Z`\n",
    "\n",
    "Nel modello di regressione $Y \\sim X + Z$, includiamo il collider $Z$ come variabile nel modello insieme a $X$. Questo approccio introduce un problema: quando condizioniamo su un collider (cioè, includiamo il collider come variabile nel modello di regressione), apriamo un percorso non causale tra $X$ e $Y$ che era precedentemente chiuso. Questo può introdurre una correlazione spuria tra $X$ e $Y$ attraverso $Z$, portando a una stima distorta dell'effetto causale di $X$ su $Y$.\n",
    "\n",
    "In termini del criterio del backdoor, condizionando su $Z$, si viola la condizione per una stima imparziale perché:\n",
    "\n",
    "1. Si apre un percorso attraverso $Z$ (il collider), che non era un problema prima di condizionare su di esso.\n",
    "2. Questo percorso aperto introduce una correlazione tra $X$ e $Y$ che non riflette l'effetto causale diretto di $X$ su $Y$, ma piuttosto l'effetto indiretto mediato da $Z$, che in questo caso non è desiderato per la stima dell'effetto causale diretto."
   ]
  },
  {
   "cell_type": "markdown",
   "metadata": {},
   "source": [
    "Eseguiamo l'analisi di regressione `outcome ~ exposure` per i dati nel set `causal_collider`. Poiché i dati nel set `causal_collider` sono generati in conformità con la struttura causale del collider,questa regressione produrrà una stima non distorta dell'effetto causale reale tra le due variabili."
   ]
  },
  {
   "cell_type": "code",
   "execution_count": 38,
   "metadata": {
    "tags": [
     "hide-output"
    ]
   },
   "outputs": [
    {
     "data": {
      "application/vnd.jupyter.widget-view+json": {
       "model_id": "c7c1ec23d7634773b11f3099f106c747",
       "version_major": 2,
       "version_minor": 0
      },
      "text/plain": [
       "  0%|          | 0/2000 [00:00<?, ?it/s]"
      ]
     },
     "metadata": {},
     "output_type": "display_data"
    },
    {
     "data": {
      "application/vnd.jupyter.widget-view+json": {
       "model_id": "0b96b55faa3749639d6f1faf9093ee04",
       "version_major": 2,
       "version_minor": 0
      },
      "text/plain": [
       "  0%|          | 0/2000 [00:00<?, ?it/s]"
      ]
     },
     "metadata": {},
     "output_type": "display_data"
    },
    {
     "data": {
      "application/vnd.jupyter.widget-view+json": {
       "model_id": "83cc7a00a12b4309b4a854be17ff35db",
       "version_major": 2,
       "version_minor": 0
      },
      "text/plain": [
       "  0%|          | 0/2000 [00:00<?, ?it/s]"
      ]
     },
     "metadata": {},
     "output_type": "display_data"
    },
    {
     "data": {
      "application/vnd.jupyter.widget-view+json": {
       "model_id": "6597035ba49c4d97b49a9698b41c6405",
       "version_major": 2,
       "version_minor": 0
      },
      "text/plain": [
       "  0%|          | 0/2000 [00:00<?, ?it/s]"
      ]
     },
     "metadata": {},
     "output_type": "display_data"
    }
   ],
   "source": [
    "mod8 = bmb.Model(\"outcome ~ exposure\", causal_collider_df)\n",
    "results8 = mod8.fit(nuts_sampler=\"numpyro\", idata_kwargs={\"log_likelihood\": True})"
   ]
  },
  {
   "cell_type": "code",
   "execution_count": 39,
   "metadata": {
    "tags": []
   },
   "outputs": [
    {
     "data": {
      "text/html": [
       "<div>\n",
       "<style scoped>\n",
       "    .dataframe tbody tr th:only-of-type {\n",
       "        vertical-align: middle;\n",
       "    }\n",
       "\n",
       "    .dataframe tbody tr th {\n",
       "        vertical-align: top;\n",
       "    }\n",
       "\n",
       "    .dataframe thead th {\n",
       "        text-align: right;\n",
       "    }\n",
       "</style>\n",
       "<table border=\"1\" class=\"dataframe\">\n",
       "  <thead>\n",
       "    <tr style=\"text-align: right;\">\n",
       "      <th></th>\n",
       "      <th>mean</th>\n",
       "      <th>sd</th>\n",
       "      <th>hdi_3%</th>\n",
       "      <th>hdi_97%</th>\n",
       "      <th>mcse_mean</th>\n",
       "      <th>mcse_sd</th>\n",
       "      <th>ess_bulk</th>\n",
       "      <th>ess_tail</th>\n",
       "      <th>r_hat</th>\n",
       "    </tr>\n",
       "  </thead>\n",
       "  <tbody>\n",
       "    <tr>\n",
       "      <th>Intercept</th>\n",
       "      <td>0.13</td>\n",
       "      <td>0.09</td>\n",
       "      <td>-0.04</td>\n",
       "      <td>0.31</td>\n",
       "      <td>0.0</td>\n",
       "      <td>0.0</td>\n",
       "      <td>3121.91</td>\n",
       "      <td>2335.68</td>\n",
       "      <td>1.0</td>\n",
       "    </tr>\n",
       "    <tr>\n",
       "      <th>exposure</th>\n",
       "      <td>1.00</td>\n",
       "      <td>0.09</td>\n",
       "      <td>0.84</td>\n",
       "      <td>1.17</td>\n",
       "      <td>0.0</td>\n",
       "      <td>0.0</td>\n",
       "      <td>3806.73</td>\n",
       "      <td>2550.29</td>\n",
       "      <td>1.0</td>\n",
       "    </tr>\n",
       "    <tr>\n",
       "      <th>outcome_sigma</th>\n",
       "      <td>0.89</td>\n",
       "      <td>0.06</td>\n",
       "      <td>0.76</td>\n",
       "      <td>1.01</td>\n",
       "      <td>0.0</td>\n",
       "      <td>0.0</td>\n",
       "      <td>3824.03</td>\n",
       "      <td>2931.08</td>\n",
       "      <td>1.0</td>\n",
       "    </tr>\n",
       "  </tbody>\n",
       "</table>\n",
       "</div>"
      ],
      "text/plain": [
       "               mean    sd  hdi_3%  hdi_97%  mcse_mean  mcse_sd  ess_bulk  \\\n",
       "Intercept      0.13  0.09   -0.04     0.31        0.0      0.0   3121.91   \n",
       "exposure       1.00  0.09    0.84     1.17        0.0      0.0   3806.73   \n",
       "outcome_sigma  0.89  0.06    0.76     1.01        0.0      0.0   3824.03   \n",
       "\n",
       "               ess_tail  r_hat  \n",
       "Intercept       2335.68    1.0  \n",
       "exposure        2550.29    1.0  \n",
       "outcome_sigma   2931.08    1.0  "
      ]
     },
     "execution_count": 39,
     "metadata": {},
     "output_type": "execute_result"
    }
   ],
   "source": [
    "az.summary(results8, round_to=2)"
   ]
  },
  {
   "cell_type": "markdown",
   "metadata": {},
   "source": [
    "Se invece aggiungiamo `covariate` nel modello di regressione come predittore di `outcome` otteniamo invece una stima distorta dell'effetto causale di `exposure` su `outcome`."
   ]
  },
  {
   "cell_type": "code",
   "execution_count": 40,
   "metadata": {
    "tags": [
     "hide-output"
    ]
   },
   "outputs": [
    {
     "data": {
      "application/vnd.jupyter.widget-view+json": {
       "model_id": "c3e8c84485714e2c8ac81e77c8e2548c",
       "version_major": 2,
       "version_minor": 0
      },
      "text/plain": [
       "  0%|          | 0/2000 [00:00<?, ?it/s]"
      ]
     },
     "metadata": {},
     "output_type": "display_data"
    },
    {
     "data": {
      "application/vnd.jupyter.widget-view+json": {
       "model_id": "0dd8f90fb3b240829929eac409b50839",
       "version_major": 2,
       "version_minor": 0
      },
      "text/plain": [
       "  0%|          | 0/2000 [00:00<?, ?it/s]"
      ]
     },
     "metadata": {},
     "output_type": "display_data"
    },
    {
     "data": {
      "application/vnd.jupyter.widget-view+json": {
       "model_id": "e0c938e2c9314ddd944875c4dd4ef445",
       "version_major": 2,
       "version_minor": 0
      },
      "text/plain": [
       "  0%|          | 0/2000 [00:00<?, ?it/s]"
      ]
     },
     "metadata": {},
     "output_type": "display_data"
    },
    {
     "data": {
      "application/vnd.jupyter.widget-view+json": {
       "model_id": "f9c81dd139914db8906b887e0bc349a2",
       "version_major": 2,
       "version_minor": 0
      },
      "text/plain": [
       "  0%|          | 0/2000 [00:00<?, ?it/s]"
      ]
     },
     "metadata": {},
     "output_type": "display_data"
    }
   ],
   "source": [
    "mod8_bis = bmb.Model(\"outcome ~ exposure + covariate\", causal_collider_df)\n",
    "results8_bis = mod8_bis.fit(nuts_sampler=\"numpyro\", idata_kwargs={\"log_likelihood\": True})"
   ]
  },
  {
   "cell_type": "code",
   "execution_count": 41,
   "metadata": {},
   "outputs": [
    {
     "data": {
      "text/html": [
       "<div>\n",
       "<style scoped>\n",
       "    .dataframe tbody tr th:only-of-type {\n",
       "        vertical-align: middle;\n",
       "    }\n",
       "\n",
       "    .dataframe tbody tr th {\n",
       "        vertical-align: top;\n",
       "    }\n",
       "\n",
       "    .dataframe thead th {\n",
       "        text-align: right;\n",
       "    }\n",
       "</style>\n",
       "<table border=\"1\" class=\"dataframe\">\n",
       "  <thead>\n",
       "    <tr style=\"text-align: right;\">\n",
       "      <th></th>\n",
       "      <th>mean</th>\n",
       "      <th>sd</th>\n",
       "      <th>hdi_3%</th>\n",
       "      <th>hdi_97%</th>\n",
       "      <th>mcse_mean</th>\n",
       "      <th>mcse_sd</th>\n",
       "      <th>ess_bulk</th>\n",
       "      <th>ess_tail</th>\n",
       "      <th>r_hat</th>\n",
       "    </tr>\n",
       "  </thead>\n",
       "  <tbody>\n",
       "    <tr>\n",
       "      <th>Intercept</th>\n",
       "      <td>0.12</td>\n",
       "      <td>0.08</td>\n",
       "      <td>-0.03</td>\n",
       "      <td>0.26</td>\n",
       "      <td>0.0</td>\n",
       "      <td>0.0</td>\n",
       "      <td>3851.63</td>\n",
       "      <td>2992.44</td>\n",
       "      <td>1.0</td>\n",
       "    </tr>\n",
       "    <tr>\n",
       "      <th>covariate</th>\n",
       "      <td>0.39</td>\n",
       "      <td>0.06</td>\n",
       "      <td>0.27</td>\n",
       "      <td>0.49</td>\n",
       "      <td>0.0</td>\n",
       "      <td>0.0</td>\n",
       "      <td>3185.71</td>\n",
       "      <td>2852.59</td>\n",
       "      <td>1.0</td>\n",
       "    </tr>\n",
       "    <tr>\n",
       "      <th>exposure</th>\n",
       "      <td>0.55</td>\n",
       "      <td>0.10</td>\n",
       "      <td>0.37</td>\n",
       "      <td>0.74</td>\n",
       "      <td>0.0</td>\n",
       "      <td>0.0</td>\n",
       "      <td>3310.22</td>\n",
       "      <td>2937.69</td>\n",
       "      <td>1.0</td>\n",
       "    </tr>\n",
       "    <tr>\n",
       "      <th>outcome_sigma</th>\n",
       "      <td>0.75</td>\n",
       "      <td>0.05</td>\n",
       "      <td>0.65</td>\n",
       "      <td>0.85</td>\n",
       "      <td>0.0</td>\n",
       "      <td>0.0</td>\n",
       "      <td>3957.42</td>\n",
       "      <td>3313.77</td>\n",
       "      <td>1.0</td>\n",
       "    </tr>\n",
       "  </tbody>\n",
       "</table>\n",
       "</div>"
      ],
      "text/plain": [
       "               mean    sd  hdi_3%  hdi_97%  mcse_mean  mcse_sd  ess_bulk  \\\n",
       "Intercept      0.12  0.08   -0.03     0.26        0.0      0.0   3851.63   \n",
       "covariate      0.39  0.06    0.27     0.49        0.0      0.0   3185.71   \n",
       "exposure       0.55  0.10    0.37     0.74        0.0      0.0   3310.22   \n",
       "outcome_sigma  0.75  0.05    0.65     0.85        0.0      0.0   3957.42   \n",
       "\n",
       "               ess_tail  r_hat  \n",
       "Intercept       2992.44    1.0  \n",
       "covariate       2852.59    1.0  \n",
       "exposure        2937.69    1.0  \n",
       "outcome_sigma   3313.77    1.0  "
      ]
     },
     "execution_count": 41,
     "metadata": {},
     "output_type": "execute_result"
    }
   ],
   "source": [
    "az.summary(results8_bis, round_to=2)"
   ]
  },
  {
   "cell_type": "markdown",
   "metadata": {},
   "source": [
    "In sintesi, la corretta applicazione del criterio del backdoor in questa struttura causale suggerisce che per stimare l'effetto causale di $X$ su $Y$, dovremmo utilizzare il modello di regressione $Y \\sim X$, e non $Y \\sim X + Z$. Includere $Z$ nel modello introduce un bias nella stima dell'effetto causale di $X$ su $Y$ a causa dell'apertura di un percorso attraverso il collider $Z$, che non rappresenta l'effetto causale diretto che vogliamo stimare."
   ]
  },
  {
   "cell_type": "markdown",
   "metadata": {},
   "source": [
    "## Confounder\n",
    "\n",
    "Il secondo data set è chiamato `causal_confounding`."
   ]
  },
  {
   "cell_type": "code",
   "execution_count": 42,
   "metadata": {},
   "outputs": [
    {
     "name": "stdout",
     "output_type": "stream",
     "text": [
      "   covariate  exposure   outcome\n",
      "1  -0.622268  0.033178 -0.429296\n",
      "2   1.136951  0.362695  2.674816\n",
      "3  -0.237867  0.242180 -0.647128\n",
      "4   1.529001  1.463265  2.238149\n",
      "5  -0.154499  0.779136  1.044306\n"
     ]
    }
   ],
   "source": [
    "causal_confounding = data(quartets).fetch('causal_confounding')['causal_confounding']\n",
    "# Convert the R data frame to a Pandas DataFrame\n",
    "causal_confounding_df = pandas2ri.rpy2py(causal_confounding)\n",
    "print(causal_confounding_df.head())"
   ]
  },
  {
   "cell_type": "code",
   "execution_count": 43,
   "metadata": {},
   "outputs": [
    {
     "data": {
      "image/svg+xml": [
       "<?xml version=\"1.0\" encoding=\"UTF-8\" standalone=\"no\"?>\n",
       "<!DOCTYPE svg PUBLIC \"-//W3C//DTD SVG 1.1//EN\"\n",
       " \"http://www.w3.org/Graphics/SVG/1.1/DTD/svg11.dtd\">\n",
       "<!-- Generated by graphviz version 9.0.0 (0)\n",
       " -->\n",
       "<!-- Pages: 1 -->\n",
       "<svg width=\"200pt\" height=\"116pt\"\n",
       " viewBox=\"0.00 0.00 200.35 116.00\" xmlns=\"http://www.w3.org/2000/svg\" xmlns:xlink=\"http://www.w3.org/1999/xlink\">\n",
       "<g id=\"graph0\" class=\"graph\" transform=\"scale(1 1) rotate(0) translate(4 112)\">\n",
       "<polygon fill=\"white\" stroke=\"none\" points=\"-4,4 -4,-112 196.35,-112 196.35,4 -4,4\"/>\n",
       "<!-- exposure -->\n",
       "<g id=\"node1\" class=\"node\">\n",
       "<title>exposure</title>\n",
       "<ellipse fill=\"none\" stroke=\"black\" cx=\"44.19\" cy=\"-18\" rx=\"44.19\" ry=\"18\"/>\n",
       "<text text-anchor=\"middle\" x=\"44.19\" y=\"-12.95\" font-family=\"Times,serif\" font-size=\"14.00\">exposure</text>\n",
       "</g>\n",
       "<!-- outcome -->\n",
       "<g id=\"node2\" class=\"node\">\n",
       "<title>outcome</title>\n",
       "<ellipse fill=\"none\" stroke=\"black\" cx=\"149.19\" cy=\"-18\" rx=\"43.16\" ry=\"18\"/>\n",
       "<text text-anchor=\"middle\" x=\"149.19\" y=\"-12.95\" font-family=\"Times,serif\" font-size=\"14.00\">outcome</text>\n",
       "</g>\n",
       "<!-- exposure&#45;&gt;outcome -->\n",
       "<g id=\"edge3\" class=\"edge\">\n",
       "<title>exposure&#45;&gt;outcome</title>\n",
       "<path fill=\"none\" stroke=\"black\" d=\"M88.48,-18C90.35,-18 92.22,-18 94.08,-18\"/>\n",
       "<polygon fill=\"black\" stroke=\"black\" points=\"94.04,-21.5 104.04,-18 94.04,-14.5 94.04,-21.5\"/>\n",
       "</g>\n",
       "<!-- covariate -->\n",
       "<g id=\"node3\" class=\"node\">\n",
       "<title>covariate</title>\n",
       "<ellipse fill=\"none\" stroke=\"black\" cx=\"96.19\" cy=\"-90\" rx=\"44.7\" ry=\"18\"/>\n",
       "<text text-anchor=\"middle\" x=\"96.19\" y=\"-84.95\" font-family=\"Times,serif\" font-size=\"14.00\">covariate</text>\n",
       "</g>\n",
       "<!-- covariate&#45;&gt;exposure -->\n",
       "<g id=\"edge1\" class=\"edge\">\n",
       "<title>covariate&#45;&gt;exposure</title>\n",
       "<path fill=\"none\" stroke=\"black\" d=\"M83.86,-72.41C77.71,-64.13 70.13,-53.92 63.25,-44.66\"/>\n",
       "<polygon fill=\"black\" stroke=\"black\" points=\"66.1,-42.63 57.32,-36.68 60.48,-46.8 66.1,-42.63\"/>\n",
       "</g>\n",
       "<!-- covariate&#45;&gt;outcome -->\n",
       "<g id=\"edge2\" class=\"edge\">\n",
       "<title>covariate&#45;&gt;outcome</title>\n",
       "<path fill=\"none\" stroke=\"black\" d=\"M108.75,-72.41C115.08,-64.04 122.91,-53.71 129.98,-44.37\"/>\n",
       "<polygon fill=\"black\" stroke=\"black\" points=\"132.56,-46.76 135.8,-36.68 126.98,-42.54 132.56,-46.76\"/>\n",
       "</g>\n",
       "</g>\n",
       "</svg>\n"
      ],
      "text/plain": [
       "<graphviz.graphs.Digraph at 0x178fc2f30>"
      ]
     },
     "execution_count": 43,
     "metadata": {},
     "output_type": "execute_result"
    }
   ],
   "source": [
    "f = graphviz.Digraph()\n",
    "with f.subgraph() as s:\n",
    "    s.attr(rank='same')\n",
    "    s.node(\"exposure\")\n",
    "    s.node(\"outcome\")\n",
    "\n",
    "f.node(\"covariate\")\n",
    "f.edge(\"covariate\", \"exposure\")\n",
    "f.edge(\"covariate\", \"outcome\")\n",
    "f.edge(\"exposure\", \"outcome\")\n",
    "\n",
    "f"
   ]
  },
  {
   "cell_type": "code",
   "execution_count": 44,
   "metadata": {},
   "outputs": [
    {
     "data": {
      "image/png": "[encoded data removed]",
      "text/plain": [
       "<Figure size 720x480 with 1 Axes>"
      ]
     },
     "metadata": {
      "image/png": {
       "height": 491,
       "width": 731
      }
     },
     "output_type": "display_data"
    }
   ],
   "source": [
    "_ = sns.scatterplot(causal_confounding_df, x=\"exposure\", y=\"outcome\")"
   ]
  },
  {
   "cell_type": "code",
   "execution_count": 45,
   "metadata": {},
   "outputs": [
    {
     "name": "stdout",
     "output_type": "stream",
     "text": [
      "Correlation between 'exposure' and 'outcome': 0.7354068318349994\n"
     ]
    }
   ],
   "source": [
    "# Calculate the Pearson correlation between 'exposure' and 'outcome'\n",
    "correlation = causal_confounding_df['exposure'].corr(causal_confounding_df['outcome'])\n",
    "print(\"Correlation between 'exposure' and 'outcome':\", correlation)"
   ]
  },
  {
   "cell_type": "markdown",
   "metadata": {},
   "source": [
    "Quando i dati sono generati con una struttura di confounder, in cui $Z \\rightarrow X$ e $Z \\rightarrow Y$, oltre al percorso diretto $X \\rightarrow Y$, ci troviamo in una configurazione classica in cui $Z$ funge da variabile confondente. Questo scenario è significativamente diverso dal caso del collider discusso precedentemente. Qui, $Z$ influisce sia sulla variabile indipendente ($X$) che sulla variabile dipendente ($Y$), creando un percorso backdoor che deve essere bloccato per ottenere una stima non distorta dell'effetto causale di $X$ su $Y$.\n",
    "\n",
    "### Modello di regressione `Y ~ X + Z`\n",
    "\n",
    "Secondo il criterio del backdoor di Pearl, per ottenere una stima imparziale dell'effetto causale di $X$ su $Y$, dobbiamo controllare per (o aggiustare per) tutte le variabili confondenti che aprono percorsi backdoor tra $X$ e $Y$. In questo scenario, $Z$ è una variabile confondente perché influisce sia su $X$ che su $Y$, aprendo un percorso backdoor tra queste due variabili. \n",
    "\n",
    "Aggiustare per $Z$ (cioè, includere $Z$ nel modello di regressione $Y \\sim X + Z$) blocca il percorso backdoor da $X$ a $Y$ attraverso $Z$, permettendoci di isolare l'effetto diretto di $X$ su $Y$. Facendo ciò, otteniamo una stima non distorta dell'effetto causale perché abbiamo eliminato l'influenza del confondente $Z$ sull'associazione tra $X$ e $Y$.\n",
    "\n",
    "### Modello di regressione `Y ~ X`\n",
    "\n",
    "Se utilizziamo il modello di regressione $Y \\sim X$ senza includere il confondente $Z$, non stiamo bloccando il percorso backdoor aperto da $Z$. Ciò significa che qualsiasi associazione osservata tra $X$ e $Y$ potrebbe essere influenzata (confusa) dall'effetto di $Z$ su entrambe queste variabili, portando a una stima distorta dell'effetto causale di $X$ su $Y$. In altre parole, non possiamo essere sicuri che l'associazione osservata tra $X$ e $Y$ rifletta un effetto causale diretto di $X$ su $Y$, piuttosto che un'associazione indotta dal confondente comune $Z$."
   ]
  },
  {
   "cell_type": "markdown",
   "metadata": {},
   "source": [
    "Nel modello di regressione, se ignoriamo `covariate`, otteniamo una stima distorta dell'effetto causale di `exposure` su `outcome`. I dati sono stati generati con $Y = 0.5X + Z + \\varepsilon_y$."
   ]
  },
  {
   "cell_type": "code",
   "execution_count": 46,
   "metadata": {
    "tags": [
     "hide-output"
    ]
   },
   "outputs": [
    {
     "data": {
      "application/vnd.jupyter.widget-view+json": {
       "model_id": "3eeb28fbb7f54fb29e433538b32323be",
       "version_major": 2,
       "version_minor": 0
      },
      "text/plain": [
       "  0%|          | 0/2000 [00:00<?, ?it/s]"
      ]
     },
     "metadata": {},
     "output_type": "display_data"
    },
    {
     "data": {
      "application/vnd.jupyter.widget-view+json": {
       "model_id": "2feb61625b2d43ad87d0be50809ef683",
       "version_major": 2,
       "version_minor": 0
      },
      "text/plain": [
       "  0%|          | 0/2000 [00:00<?, ?it/s]"
      ]
     },
     "metadata": {},
     "output_type": "display_data"
    },
    {
     "data": {
      "application/vnd.jupyter.widget-view+json": {
       "model_id": "b4ae23278b0749dab22a2629f647112e",
       "version_major": 2,
       "version_minor": 0
      },
      "text/plain": [
       "  0%|          | 0/2000 [00:00<?, ?it/s]"
      ]
     },
     "metadata": {},
     "output_type": "display_data"
    },
    {
     "data": {
      "application/vnd.jupyter.widget-view+json": {
       "model_id": "3079dfb0f5a445d7a004fb900de93ecf",
       "version_major": 2,
       "version_minor": 0
      },
      "text/plain": [
       "  0%|          | 0/2000 [00:00<?, ?it/s]"
      ]
     },
     "metadata": {},
     "output_type": "display_data"
    }
   ],
   "source": [
    "mod9 = bmb.Model(\"outcome ~ exposure\", causal_confounding_df)\n",
    "results9 = mod9.fit(nuts_sampler=\"numpyro\", idata_kwargs={\"log_likelihood\": True})"
   ]
  },
  {
   "cell_type": "code",
   "execution_count": 47,
   "metadata": {},
   "outputs": [
    {
     "data": {
      "text/html": [
       "<div>\n",
       "<style scoped>\n",
       "    .dataframe tbody tr th:only-of-type {\n",
       "        vertical-align: middle;\n",
       "    }\n",
       "\n",
       "    .dataframe tbody tr th {\n",
       "        vertical-align: top;\n",
       "    }\n",
       "\n",
       "    .dataframe thead th {\n",
       "        text-align: right;\n",
       "    }\n",
       "</style>\n",
       "<table border=\"1\" class=\"dataframe\">\n",
       "  <thead>\n",
       "    <tr style=\"text-align: right;\">\n",
       "      <th></th>\n",
       "      <th>mean</th>\n",
       "      <th>sd</th>\n",
       "      <th>hdi_3%</th>\n",
       "      <th>hdi_97%</th>\n",
       "      <th>mcse_mean</th>\n",
       "      <th>mcse_sd</th>\n",
       "      <th>ess_bulk</th>\n",
       "      <th>ess_tail</th>\n",
       "      <th>r_hat</th>\n",
       "    </tr>\n",
       "  </thead>\n",
       "  <tbody>\n",
       "    <tr>\n",
       "      <th>Intercept</th>\n",
       "      <td>-0.01</td>\n",
       "      <td>0.13</td>\n",
       "      <td>-0.25</td>\n",
       "      <td>0.22</td>\n",
       "      <td>0.0</td>\n",
       "      <td>0.0</td>\n",
       "      <td>3564.56</td>\n",
       "      <td>2389.82</td>\n",
       "      <td>1.0</td>\n",
       "    </tr>\n",
       "    <tr>\n",
       "      <th>exposure</th>\n",
       "      <td>1.00</td>\n",
       "      <td>0.09</td>\n",
       "      <td>0.84</td>\n",
       "      <td>1.18</td>\n",
       "      <td>0.0</td>\n",
       "      <td>0.0</td>\n",
       "      <td>3592.34</td>\n",
       "      <td>2663.58</td>\n",
       "      <td>1.0</td>\n",
       "    </tr>\n",
       "    <tr>\n",
       "      <th>outcome_sigma</th>\n",
       "      <td>1.21</td>\n",
       "      <td>0.09</td>\n",
       "      <td>1.06</td>\n",
       "      <td>1.38</td>\n",
       "      <td>0.0</td>\n",
       "      <td>0.0</td>\n",
       "      <td>3694.39</td>\n",
       "      <td>3032.86</td>\n",
       "      <td>1.0</td>\n",
       "    </tr>\n",
       "  </tbody>\n",
       "</table>\n",
       "</div>"
      ],
      "text/plain": [
       "               mean    sd  hdi_3%  hdi_97%  mcse_mean  mcse_sd  ess_bulk  \\\n",
       "Intercept     -0.01  0.13   -0.25     0.22        0.0      0.0   3564.56   \n",
       "exposure       1.00  0.09    0.84     1.18        0.0      0.0   3592.34   \n",
       "outcome_sigma  1.21  0.09    1.06     1.38        0.0      0.0   3694.39   \n",
       "\n",
       "               ess_tail  r_hat  \n",
       "Intercept       2389.82    1.0  \n",
       "exposure        2663.58    1.0  \n",
       "outcome_sigma   3032.86    1.0  "
      ]
     },
     "execution_count": 47,
     "metadata": {},
     "output_type": "execute_result"
    }
   ],
   "source": [
    "az.summary(results9, round_to=2)"
   ]
  },
  {
   "cell_type": "markdown",
   "metadata": {},
   "source": [
    "Se invece condizioniamo su `covariate`, otteniamo una stima non distorta dell'effetto causale di `exposure` su `outcome`."
   ]
  },
  {
   "cell_type": "code",
   "execution_count": 48,
   "metadata": {
    "tags": [
     "hide-output"
    ]
   },
   "outputs": [
    {
     "data": {
      "application/vnd.jupyter.widget-view+json": {
       "model_id": "c4f89def68eb400781a0717792ddbc71",
       "version_major": 2,
       "version_minor": 0
      },
      "text/plain": [
       "  0%|          | 0/2000 [00:00<?, ?it/s]"
      ]
     },
     "metadata": {},
     "output_type": "display_data"
    },
    {
     "data": {
      "application/vnd.jupyter.widget-view+json": {
       "model_id": "4339b9b0263042d782845e2d3f9d2d51",
       "version_major": 2,
       "version_minor": 0
      },
      "text/plain": [
       "  0%|          | 0/2000 [00:00<?, ?it/s]"
      ]
     },
     "metadata": {},
     "output_type": "display_data"
    },
    {
     "data": {
      "application/vnd.jupyter.widget-view+json": {
       "model_id": "7a82f8ddb23a492faaba848e57d12335",
       "version_major": 2,
       "version_minor": 0
      },
      "text/plain": [
       "  0%|          | 0/2000 [00:00<?, ?it/s]"
      ]
     },
     "metadata": {},
     "output_type": "display_data"
    },
    {
     "data": {
      "application/vnd.jupyter.widget-view+json": {
       "model_id": "9daf599255ba49ccb48e41e4de620155",
       "version_major": 2,
       "version_minor": 0
      },
      "text/plain": [
       "  0%|          | 0/2000 [00:00<?, ?it/s]"
      ]
     },
     "metadata": {},
     "output_type": "display_data"
    }
   ],
   "source": [
    "mod9_bis = bmb.Model(\"outcome ~ exposure + covariate\", causal_confounding_df)\n",
    "results9_bis = mod9_bis.fit(nuts_sampler=\"numpyro\", idata_kwargs={\"log_likelihood\": True})"
   ]
  },
  {
   "cell_type": "code",
   "execution_count": 49,
   "metadata": {},
   "outputs": [
    {
     "data": {
      "text/html": [
       "<div>\n",
       "<style scoped>\n",
       "    .dataframe tbody tr th:only-of-type {\n",
       "        vertical-align: middle;\n",
       "    }\n",
       "\n",
       "    .dataframe tbody tr th {\n",
       "        vertical-align: top;\n",
       "    }\n",
       "\n",
       "    .dataframe thead th {\n",
       "        text-align: right;\n",
       "    }\n",
       "</style>\n",
       "<table border=\"1\" class=\"dataframe\">\n",
       "  <thead>\n",
       "    <tr style=\"text-align: right;\">\n",
       "      <th></th>\n",
       "      <th>mean</th>\n",
       "      <th>sd</th>\n",
       "      <th>hdi_3%</th>\n",
       "      <th>hdi_97%</th>\n",
       "      <th>mcse_mean</th>\n",
       "      <th>mcse_sd</th>\n",
       "      <th>ess_bulk</th>\n",
       "      <th>ess_tail</th>\n",
       "      <th>r_hat</th>\n",
       "    </tr>\n",
       "  </thead>\n",
       "  <tbody>\n",
       "    <tr>\n",
       "      <th>Intercept</th>\n",
       "      <td>-0.04</td>\n",
       "      <td>0.10</td>\n",
       "      <td>-0.24</td>\n",
       "      <td>0.16</td>\n",
       "      <td>0.0</td>\n",
       "      <td>0.0</td>\n",
       "      <td>3570.53</td>\n",
       "      <td>2419.72</td>\n",
       "      <td>1.0</td>\n",
       "    </tr>\n",
       "    <tr>\n",
       "      <th>covariate</th>\n",
       "      <td>0.96</td>\n",
       "      <td>0.15</td>\n",
       "      <td>0.69</td>\n",
       "      <td>1.24</td>\n",
       "      <td>0.0</td>\n",
       "      <td>0.0</td>\n",
       "      <td>2787.20</td>\n",
       "      <td>2554.51</td>\n",
       "      <td>1.0</td>\n",
       "    </tr>\n",
       "    <tr>\n",
       "      <th>exposure</th>\n",
       "      <td>0.50</td>\n",
       "      <td>0.11</td>\n",
       "      <td>0.30</td>\n",
       "      <td>0.71</td>\n",
       "      <td>0.0</td>\n",
       "      <td>0.0</td>\n",
       "      <td>2680.87</td>\n",
       "      <td>2732.98</td>\n",
       "      <td>1.0</td>\n",
       "    </tr>\n",
       "    <tr>\n",
       "      <th>outcome_sigma</th>\n",
       "      <td>1.02</td>\n",
       "      <td>0.07</td>\n",
       "      <td>0.88</td>\n",
       "      <td>1.15</td>\n",
       "      <td>0.0</td>\n",
       "      <td>0.0</td>\n",
       "      <td>3724.17</td>\n",
       "      <td>2931.00</td>\n",
       "      <td>1.0</td>\n",
       "    </tr>\n",
       "  </tbody>\n",
       "</table>\n",
       "</div>"
      ],
      "text/plain": [
       "               mean    sd  hdi_3%  hdi_97%  mcse_mean  mcse_sd  ess_bulk  \\\n",
       "Intercept     -0.04  0.10   -0.24     0.16        0.0      0.0   3570.53   \n",
       "covariate      0.96  0.15    0.69     1.24        0.0      0.0   2787.20   \n",
       "exposure       0.50  0.11    0.30     0.71        0.0      0.0   2680.87   \n",
       "outcome_sigma  1.02  0.07    0.88     1.15        0.0      0.0   3724.17   \n",
       "\n",
       "               ess_tail  r_hat  \n",
       "Intercept       2419.72    1.0  \n",
       "covariate       2554.51    1.0  \n",
       "exposure        2732.98    1.0  \n",
       "outcome_sigma   2931.00    1.0  "
      ]
     },
     "execution_count": 49,
     "metadata": {},
     "output_type": "execute_result"
    }
   ],
   "source": [
    "az.summary(results9_bis, round_to=2)"
   ]
  },
  {
   "cell_type": "markdown",
   "metadata": {},
   "source": [
    "In sintesi, il criterio del backdoor ci dice che, nella presenza di variabili confondenti che aprono percorsi backdoor tra la variabile indipendente e la variabile dipendente, è essenziale controllare per queste variabili nel modello di regressione per ottenere una stima imparziale dell'effetto causale. Nel caso della struttura con $Z$ come confondente che influisce sia su $X$ che su $Y$, il modello $Y \\sim X + Z$ fornisce una stima corretta dell'effetto causale di $X$ su $Y$ perché blocca il percorso backdoor attraverso $Z$, mentre il modello $Y \\sim X$ non lo fa, lasciando la stima dell'effetto causale potenzialmente distorta."
   ]
  },
  {
   "cell_type": "markdown",
   "metadata": {},
   "source": [
    "## Mediazione\n",
    "\n",
    "Il terzo set di dati si chiama `causal_mediator`."
   ]
  },
  {
   "cell_type": "code",
   "execution_count": 50,
   "metadata": {},
   "outputs": [
    {
     "name": "stdout",
     "output_type": "stream",
     "text": [
      "   exposure  covariate   outcome\n",
      "1  0.067197   0.129825 -0.140413\n",
      "2  0.087756   0.002409 -0.031944\n",
      "3 -0.751281   0.383943  0.632418\n",
      "4  0.076000  -0.376841 -0.910737\n",
      "5 -1.569622  -1.661511 -2.834616\n"
     ]
    }
   ],
   "source": [
    "causal_mediator = data(quartets).fetch('causal_mediator')['causal_mediator']\n",
    "# Convert the R data frame to a Pandas DataFrame\n",
    "causal_mediator_df = pandas2ri.rpy2py(causal_mediator)\n",
    "print(causal_mediator_df.head())"
   ]
  },
  {
   "cell_type": "code",
   "execution_count": 51,
   "metadata": {},
   "outputs": [
    {
     "data": {
      "image/svg+xml": [
       "<?xml version=\"1.0\" encoding=\"UTF-8\" standalone=\"no\"?>\n",
       "<!DOCTYPE svg PUBLIC \"-//W3C//DTD SVG 1.1//EN\"\n",
       " \"http://www.w3.org/Graphics/SVG/1.1/DTD/svg11.dtd\">\n",
       "<!-- Generated by graphviz version 9.0.0 (0)\n",
       " -->\n",
       "<!-- Pages: 1 -->\n",
       "<svg width=\"344pt\" height=\"44pt\"\n",
       " viewBox=\"0.00 0.00 344.09 44.00\" xmlns=\"http://www.w3.org/2000/svg\" xmlns:xlink=\"http://www.w3.org/1999/xlink\">\n",
       "<g id=\"graph0\" class=\"graph\" transform=\"scale(1 1) rotate(0) translate(4 40)\">\n",
       "<polygon fill=\"white\" stroke=\"none\" points=\"-4,4 -4,-40 340.09,-40 340.09,4 -4,4\"/>\n",
       "<!-- exposure -->\n",
       "<g id=\"node1\" class=\"node\">\n",
       "<title>exposure</title>\n",
       "<ellipse fill=\"none\" stroke=\"black\" cx=\"44.19\" cy=\"-18\" rx=\"44.19\" ry=\"18\"/>\n",
       "<text text-anchor=\"middle\" x=\"44.19\" y=\"-12.95\" font-family=\"Times,serif\" font-size=\"14.00\">exposure</text>\n",
       "</g>\n",
       "<!-- covariate -->\n",
       "<g id=\"node2\" class=\"node\">\n",
       "<title>covariate</title>\n",
       "<ellipse fill=\"none\" stroke=\"black\" cx=\"169.07\" cy=\"-18\" rx=\"44.7\" ry=\"18\"/>\n",
       "<text text-anchor=\"middle\" x=\"169.07\" y=\"-12.95\" font-family=\"Times,serif\" font-size=\"14.00\">covariate</text>\n",
       "</g>\n",
       "<!-- exposure&#45;&gt;covariate -->\n",
       "<g id=\"edge1\" class=\"edge\">\n",
       "<title>exposure&#45;&gt;covariate</title>\n",
       "<path fill=\"none\" stroke=\"black\" d=\"M88.86,-18C96.55,-18 104.65,-18 112.62,-18\"/>\n",
       "<polygon fill=\"black\" stroke=\"black\" points=\"112.61,-21.5 122.61,-18 112.61,-14.5 112.61,-21.5\"/>\n",
       "</g>\n",
       "<!-- outcome -->\n",
       "<g id=\"node3\" class=\"node\">\n",
       "<title>outcome</title>\n",
       "<ellipse fill=\"none\" stroke=\"black\" cx=\"292.93\" cy=\"-18\" rx=\"43.16\" ry=\"18\"/>\n",
       "<text text-anchor=\"middle\" x=\"292.93\" y=\"-12.95\" font-family=\"Times,serif\" font-size=\"14.00\">outcome</text>\n",
       "</g>\n",
       "<!-- covariate&#45;&gt;outcome -->\n",
       "<g id=\"edge2\" class=\"edge\">\n",
       "<title>covariate&#45;&gt;outcome</title>\n",
       "<path fill=\"none\" stroke=\"black\" d=\"M214.06,-18C221.94,-18 230.23,-18 238.34,-18\"/>\n",
       "<polygon fill=\"black\" stroke=\"black\" points=\"238.12,-21.5 248.12,-18 238.12,-14.5 238.12,-21.5\"/>\n",
       "</g>\n",
       "</g>\n",
       "</svg>\n"
      ],
      "text/plain": [
       "<graphviz.graphs.Digraph at 0x326897ad0>"
      ]
     },
     "execution_count": 51,
     "metadata": {},
     "output_type": "execute_result"
    }
   ],
   "source": [
    "f = graphviz.Digraph()\n",
    "\n",
    "# Definizione dei nodi e degli archi\n",
    "f.edge(\"exposure\", \"covariate\")\n",
    "f.edge(\"covariate\", \"outcome\")\n",
    "\n",
    "# Impostazione dell'orientamento orizzontale\n",
    "f.attr(rankdir='LR')\n",
    "f"
   ]
  },
  {
   "cell_type": "code",
   "execution_count": 52,
   "metadata": {},
   "outputs": [
    {
     "data": {
      "image/png": "[encoded data removed]",
      "text/plain": [
       "<Figure size 720x480 with 1 Axes>"
      ]
     },
     "metadata": {
      "image/png": {
       "height": 491,
       "width": 731
      }
     },
     "output_type": "display_data"
    }
   ],
   "source": [
    "_ = sns.scatterplot(causal_mediator_df, x=\"exposure\", y=\"outcome\")"
   ]
  },
  {
   "cell_type": "code",
   "execution_count": 53,
   "metadata": {},
   "outputs": [
    {
     "name": "stdout",
     "output_type": "stream",
     "text": [
      "Correlation between 'exposure' and 'outcome': 0.5944519516171226\n"
     ]
    }
   ],
   "source": [
    "# Calculate the Pearson correlation between 'exposure' and 'outcome'\n",
    "correlation = causal_mediator_df['exposure'].corr(causal_mediator_df['outcome'])\n",
    "print(\"Correlation between 'exposure' and 'outcome':\", correlation)"
   ]
  },
  {
   "cell_type": "markdown",
   "metadata": {},
   "source": [
    "Nella struttura di mediazione, $X \\rightarrow Z \\rightarrow Y$, $Z$ agisce come variabile mediatrice nel percorso causale da $X$ a $Y$. Questo significa che l'effetto di $X$ su $Y$ passa attraverso $Z$. L'obiettivo della modellazione causale in questo scenario è spesso di stimare l'effetto totale di $X$ su $Y$, che include sia l'effetto diretto di $X$ su $Y$ (se presente) sia l'effetto indiretto mediato da $Z$.\n",
    "\n",
    "### Modello di regressione `Y ~ X`\n",
    "\n",
    "Nel modello di regressione $Y \\sim X$, stiamo cercando di stimare l'effetto totale di $X$ su $Y$, senza cercare di decomporre questo effetto in componenti diretti e indiretti. In questa configurazione, non dobbiamo aggiustare per la variabile mediatrice $Z$ quando il nostro obiettivo è stimare l'effetto totale, perché fare ciò rimuoverebbe l'effetto indiretto di $X$ su $Y$ attraverso $Z$ dalla nostra stima, lasciandoci solo con l'effetto diretto (se esiste).\n",
    "\n",
    "Secondo il criterio del backdoor di Pearl, non ci sono percorsi backdoor tra $X$ e $Y$ che richiedono di essere bloccati, poiché l'unico percorso da $X$ a $Y$ è attraverso $Z$, che è il percorso causale di interesse. Pertanto, il modello $Y \\sim X$ non apre nuovi percorsi backdoor e ci fornisce una stima corretta dell'effetto totale di $X$ su $Y$.\n",
    "\n",
    "### Modello di regressione `Y ~ X + Z`\n",
    "\n",
    "Nel modello di regressione $Y \\sim X + Z$, stiamo cercando di controllare per $Z$ oltre a includere $X$. Mentre questo modello può essere utile per esplorare l'effetto diretto di $X$ su $Y$ controllando per l'effetto mediatore di $Z$, questo approccio non è appropriato quando l'obiettivo è stimare l'effetto totale di $X$ su $Y$. Aggiustando per $Z$, rimuoviamo l'effetto della mediazione di $Z$ dall'effetto totale di $X$ su $Y$, il che potrebbe portarci a sottostimare l'effetto totale di $X$ su $Y$ poiché escludiamo l'effetto indiretto attraverso $Z$.\n",
    "\n",
    "Inoltre, secondo il criterio del backdoor, aggiustare per la variabile mediatrice in un percorso causale diretto (come $X \\rightarrow Z \\rightarrow Y$) non è necessario per ottenere una stima imparziale dell'effetto totale di $X$ su $Y$, e può effettivamente introdurre bias se il nostro obiettivo è di stimare l'effetto totale piuttosto che isolare l'effetto diretto."
   ]
  },
  {
   "cell_type": "markdown",
   "metadata": {},
   "source": [
    "Adattando ai dati un modello di regressione bivariato otteniamo una stima non distorta del vero effetto causale di `exposure` su `outcome`. Infatti, i dati sono stati generati con $Y = Z + \\varepsilon_y$."
   ]
  },
  {
   "cell_type": "code",
   "execution_count": 54,
   "metadata": {
    "tags": [
     "hide-output"
    ]
   },
   "outputs": [
    {
     "data": {
      "application/vnd.jupyter.widget-view+json": {
       "model_id": "a83a40e0835b402c90df820c9798d19a",
       "version_major": 2,
       "version_minor": 0
      },
      "text/plain": [
       "  0%|          | 0/2000 [00:00<?, ?it/s]"
      ]
     },
     "metadata": {},
     "output_type": "display_data"
    },
    {
     "data": {
      "application/vnd.jupyter.widget-view+json": {
       "model_id": "a3f46c0d41074cb7aba5dd0ce90a707b",
       "version_major": 2,
       "version_minor": 0
      },
      "text/plain": [
       "  0%|          | 0/2000 [00:00<?, ?it/s]"
      ]
     },
     "metadata": {},
     "output_type": "display_data"
    },
    {
     "data": {
      "application/vnd.jupyter.widget-view+json": {
       "model_id": "acbe38454ed3475db37277ec86378f16",
       "version_major": 2,
       "version_minor": 0
      },
      "text/plain": [
       "  0%|          | 0/2000 [00:00<?, ?it/s]"
      ]
     },
     "metadata": {},
     "output_type": "display_data"
    },
    {
     "data": {
      "application/vnd.jupyter.widget-view+json": {
       "model_id": "26c09948dafb4d34b9b17689e2283cd7",
       "version_major": 2,
       "version_minor": 0
      },
      "text/plain": [
       "  0%|          | 0/2000 [00:00<?, ?it/s]"
      ]
     },
     "metadata": {},
     "output_type": "display_data"
    }
   ],
   "source": [
    "mod10 = bmb.Model(\"outcome ~ exposure\", causal_mediator_df)\n",
    "results10 = mod10.fit(nuts_sampler=\"numpyro\", idata_kwargs={\"log_likelihood\": True})"
   ]
  },
  {
   "cell_type": "code",
   "execution_count": 55,
   "metadata": {},
   "outputs": [
    {
     "data": {
      "text/html": [
       "<div>\n",
       "<style scoped>\n",
       "    .dataframe tbody tr th:only-of-type {\n",
       "        vertical-align: middle;\n",
       "    }\n",
       "\n",
       "    .dataframe tbody tr th {\n",
       "        vertical-align: top;\n",
       "    }\n",
       "\n",
       "    .dataframe thead th {\n",
       "        text-align: right;\n",
       "    }\n",
       "</style>\n",
       "<table border=\"1\" class=\"dataframe\">\n",
       "  <thead>\n",
       "    <tr style=\"text-align: right;\">\n",
       "      <th></th>\n",
       "      <th>mean</th>\n",
       "      <th>sd</th>\n",
       "      <th>hdi_3%</th>\n",
       "      <th>hdi_97%</th>\n",
       "      <th>mcse_mean</th>\n",
       "      <th>mcse_sd</th>\n",
       "      <th>ess_bulk</th>\n",
       "      <th>ess_tail</th>\n",
       "      <th>r_hat</th>\n",
       "    </tr>\n",
       "  </thead>\n",
       "  <tbody>\n",
       "    <tr>\n",
       "      <th>Intercept</th>\n",
       "      <td>-0.00</td>\n",
       "      <td>0.14</td>\n",
       "      <td>-0.28</td>\n",
       "      <td>0.25</td>\n",
       "      <td>0.0</td>\n",
       "      <td>0.0</td>\n",
       "      <td>3665.35</td>\n",
       "      <td>2997.87</td>\n",
       "      <td>1.0</td>\n",
       "    </tr>\n",
       "    <tr>\n",
       "      <th>exposure</th>\n",
       "      <td>0.99</td>\n",
       "      <td>0.14</td>\n",
       "      <td>0.72</td>\n",
       "      <td>1.26</td>\n",
       "      <td>0.0</td>\n",
       "      <td>0.0</td>\n",
       "      <td>3726.98</td>\n",
       "      <td>2621.86</td>\n",
       "      <td>1.0</td>\n",
       "    </tr>\n",
       "    <tr>\n",
       "      <th>outcome_sigma</th>\n",
       "      <td>1.40</td>\n",
       "      <td>0.10</td>\n",
       "      <td>1.22</td>\n",
       "      <td>1.60</td>\n",
       "      <td>0.0</td>\n",
       "      <td>0.0</td>\n",
       "      <td>3703.01</td>\n",
       "      <td>2950.67</td>\n",
       "      <td>1.0</td>\n",
       "    </tr>\n",
       "  </tbody>\n",
       "</table>\n",
       "</div>"
      ],
      "text/plain": [
       "               mean    sd  hdi_3%  hdi_97%  mcse_mean  mcse_sd  ess_bulk  \\\n",
       "Intercept     -0.00  0.14   -0.28     0.25        0.0      0.0   3665.35   \n",
       "exposure       0.99  0.14    0.72     1.26        0.0      0.0   3726.98   \n",
       "outcome_sigma  1.40  0.10    1.22     1.60        0.0      0.0   3703.01   \n",
       "\n",
       "               ess_tail  r_hat  \n",
       "Intercept       2997.87    1.0  \n",
       "exposure        2621.86    1.0  \n",
       "outcome_sigma   2950.67    1.0  "
      ]
     },
     "execution_count": 55,
     "metadata": {},
     "output_type": "execute_result"
    }
   ],
   "source": [
    "az.summary(results10, round_to=2)"
   ]
  },
  {
   "cell_type": "markdown",
   "metadata": {},
   "source": [
    "Se invece condizioniamo sul mediatore (`covariate`) otteniamo una stima distorta dell'effetto causale di `exposure` su `outcome`."
   ]
  },
  {
   "cell_type": "code",
   "execution_count": 56,
   "metadata": {
    "tags": [
     "hide-output"
    ]
   },
   "outputs": [
    {
     "data": {
      "application/vnd.jupyter.widget-view+json": {
       "model_id": "3b15ad7f0a3a40d78082973fc387bf7f",
       "version_major": 2,
       "version_minor": 0
      },
      "text/plain": [
       "  0%|          | 0/2000 [00:00<?, ?it/s]"
      ]
     },
     "metadata": {},
     "output_type": "display_data"
    },
    {
     "data": {
      "application/vnd.jupyter.widget-view+json": {
       "model_id": "6498f88f56404e1ea6ddc6710150e860",
       "version_major": 2,
       "version_minor": 0
      },
      "text/plain": [
       "  0%|          | 0/2000 [00:00<?, ?it/s]"
      ]
     },
     "metadata": {},
     "output_type": "display_data"
    },
    {
     "data": {
      "application/vnd.jupyter.widget-view+json": {
       "model_id": "fee24ed55c7847e7a49592152ff393f1",
       "version_major": 2,
       "version_minor": 0
      },
      "text/plain": [
       "  0%|          | 0/2000 [00:00<?, ?it/s]"
      ]
     },
     "metadata": {},
     "output_type": "display_data"
    },
    {
     "data": {
      "application/vnd.jupyter.widget-view+json": {
       "model_id": "351945e5aabe4d8da233ad63ffb5afd2",
       "version_major": 2,
       "version_minor": 0
      },
      "text/plain": [
       "  0%|          | 0/2000 [00:00<?, ?it/s]"
      ]
     },
     "metadata": {},
     "output_type": "display_data"
    }
   ],
   "source": [
    "mod10_bis = bmb.Model(\"outcome ~ exposure + covariate\", causal_mediator_df)\n",
    "results10_bis = mod10_bis.fit(nuts_sampler=\"numpyro\", idata_kwargs={\"log_likelihood\": True})"
   ]
  },
  {
   "cell_type": "code",
   "execution_count": 57,
   "metadata": {},
   "outputs": [
    {
     "data": {
      "text/html": [
       "<div>\n",
       "<style scoped>\n",
       "    .dataframe tbody tr th:only-of-type {\n",
       "        vertical-align: middle;\n",
       "    }\n",
       "\n",
       "    .dataframe tbody tr th {\n",
       "        vertical-align: top;\n",
       "    }\n",
       "\n",
       "    .dataframe thead th {\n",
       "        text-align: right;\n",
       "    }\n",
       "</style>\n",
       "<table border=\"1\" class=\"dataframe\">\n",
       "  <thead>\n",
       "    <tr style=\"text-align: right;\">\n",
       "      <th></th>\n",
       "      <th>mean</th>\n",
       "      <th>sd</th>\n",
       "      <th>hdi_3%</th>\n",
       "      <th>hdi_97%</th>\n",
       "      <th>mcse_mean</th>\n",
       "      <th>mcse_sd</th>\n",
       "      <th>ess_bulk</th>\n",
       "      <th>ess_tail</th>\n",
       "      <th>r_hat</th>\n",
       "    </tr>\n",
       "  </thead>\n",
       "  <tbody>\n",
       "    <tr>\n",
       "      <th>Intercept</th>\n",
       "      <td>0.01</td>\n",
       "      <td>0.09</td>\n",
       "      <td>-0.15</td>\n",
       "      <td>0.19</td>\n",
       "      <td>0.0</td>\n",
       "      <td>0.0</td>\n",
       "      <td>3719.62</td>\n",
       "      <td>2670.24</td>\n",
       "      <td>1.0</td>\n",
       "    </tr>\n",
       "    <tr>\n",
       "      <th>covariate</th>\n",
       "      <td>1.07</td>\n",
       "      <td>0.09</td>\n",
       "      <td>0.89</td>\n",
       "      <td>1.24</td>\n",
       "      <td>0.0</td>\n",
       "      <td>0.0</td>\n",
       "      <td>2479.69</td>\n",
       "      <td>2612.85</td>\n",
       "      <td>1.0</td>\n",
       "    </tr>\n",
       "    <tr>\n",
       "      <th>exposure</th>\n",
       "      <td>0.00</td>\n",
       "      <td>0.13</td>\n",
       "      <td>-0.24</td>\n",
       "      <td>0.24</td>\n",
       "      <td>0.0</td>\n",
       "      <td>0.0</td>\n",
       "      <td>2651.49</td>\n",
       "      <td>2556.06</td>\n",
       "      <td>1.0</td>\n",
       "    </tr>\n",
       "    <tr>\n",
       "      <th>outcome_sigma</th>\n",
       "      <td>0.92</td>\n",
       "      <td>0.07</td>\n",
       "      <td>0.80</td>\n",
       "      <td>1.05</td>\n",
       "      <td>0.0</td>\n",
       "      <td>0.0</td>\n",
       "      <td>3570.91</td>\n",
       "      <td>2453.08</td>\n",
       "      <td>1.0</td>\n",
       "    </tr>\n",
       "  </tbody>\n",
       "</table>\n",
       "</div>"
      ],
      "text/plain": [
       "               mean    sd  hdi_3%  hdi_97%  mcse_mean  mcse_sd  ess_bulk  \\\n",
       "Intercept      0.01  0.09   -0.15     0.19        0.0      0.0   3719.62   \n",
       "covariate      1.07  0.09    0.89     1.24        0.0      0.0   2479.69   \n",
       "exposure       0.00  0.13   -0.24     0.24        0.0      0.0   2651.49   \n",
       "outcome_sigma  0.92  0.07    0.80     1.05        0.0      0.0   3570.91   \n",
       "\n",
       "               ess_tail  r_hat  \n",
       "Intercept       2670.24    1.0  \n",
       "covariate       2612.85    1.0  \n",
       "exposure        2556.06    1.0  \n",
       "outcome_sigma   2453.08    1.0  "
      ]
     },
     "execution_count": 57,
     "metadata": {},
     "output_type": "execute_result"
    }
   ],
   "source": [
    "az.summary(results10_bis, round_to=2)"
   ]
  },
  {
   "cell_type": "markdown",
   "metadata": {},
   "source": [
    "In sintesi, per stimare correttamente l'effetto totale di $X$ su $Y$ in una struttura di mediazione, è necessario utilizzare il modello di regressione $Y \\sim X$, che ci fornisce una stima dell'effetto totale includendo sia gli effetti diretti che quelli indiretti mediati da $Z$. Il modello $Y \\sim X + Z$ è appropriato solo se siamo interessati a isolare l'effetto diretto di $X$ su $Y$, controllando per l'effetto di $Z$, ma non per stimare l'effetto totale di $X$ su $Y$.\n",
    "\n",
    "\n",
    "Nel modello di mediazione $ X \\rightarrow Z \\rightarrow Y $, dove $ X $ è la variabile indipendente, $ Z $ è la variabile mediatrice, e $ Y $ è la variabile dipendente, l'applicazione del criterio backdoor di Judea Pearl può essere illustrata considerando come stimare l'effetto totale di $ X $ su $ Y $ e come separare questo effetto in componenti diretto e indiretto.\n",
    "\n",
    "### Obiettivo dell'analisi\n",
    "Nel modello di mediazione, l'obiettivo può essere duplice:\n",
    "1. **Stimare l'effetto totale di $ X $ su $ Y $**: Questo include sia l'effetto diretto di $ X $ su $ Y $ che non passa attraverso $ Z $, sia l'effetto indiretto che passa attraverso $ Z $.\n",
    "2. **Separare l'effetto totale in effetti diretti e indiretti**: Questo ci aiuta a comprendere quanto dell'effetto di $ X $ su $ Y $ è mediato da $ Z $.\n",
    "\n",
    "### Applicazione del Criterio Backdoor\n",
    "Nel caso specifico del modello di mediazione:\n",
    "- **Per stimare l'effetto totale di $ X $ su $ Y $**: Non dovresti controllare per $ Z $ quando stai stimando l'effetto totale di $ X $ su $ Y $. In questo caso, il criterio backdoor non richiede di bloccare alcun percorso perché non ci sono variabili confounding non osservate tra $ X $ e $ Y $ che siano correlate sia con $ X $ sia con $ Y $ attraverso percorsi non causali.\n",
    "- **Per stimare l'effetto diretto di $ X $ su $ Y $**: Dovresti controllare per $ Z $ per eliminare l'effetto del mediatore e isolare l'effetto diretto di $ X $ su $ Y $.\n",
    "\n",
    "### Considerazioni Pratiche\n",
    "1. **Analisi di mediazione**: Tipicamente si esegue un'analisi di regressione multipla dove si include $ Z $ come predittore insieme a $ X $ per valutare gli effetti diretti e indiretti.\n",
    "   - **Modello 1**: Regressione di $ Z $ su $ X $ per stimare l'effetto di $ X $ su $ Z $ (path a).\n",
    "   - **Modello 2**: Regressione di $ Y $ su $ X $ e $ Z $ per stimare l'effetto diretto di $ X $ su $ Y $ controllando per $ Z $ e per valutare l'effetto di $ Z $ su $ Y $ (path b).\n",
    "\n",
    "2. **Interpretazione**: \n",
    "   - **Effetto diretto**: L'effetto di $ X $ su $ Y $ che non passa per $ Z $ (coefficiente di $ X $ in Modello 2).\n",
    "   - **Effetto indiretto**: Calcolato come il prodotto dei coefficienti dei percorsi da $ X $ a $ Z $ e da $ Z $ a $ Y $ (cioè, il prodotto dei coefficienti di path a e path b).\n",
    "\n",
    "In sintesi, nel modello di mediazione $ X \\rightarrow Z \\rightarrow Y $, il criterio backdoor ci aiuta a decidere quando includere o escludere il mediatore $ Z $ nelle regressioni per isolare gli effetti diretti e indiretti di $ X $ su $ Y $. Questa è una componente fondamentale per l'interpretazione corretta dei meccanismi sottostanti alle relazioni causali osservate."
   ]
  },
  {
   "cell_type": "markdown",
   "metadata": {},
   "source": [
    "## Causal M-bias\n",
    "\n",
    "Nell'ultimo set di dati ci sono due fattori aggiuntivi, U1 e U2. Entrambi causano Z, U1 causa `exposure`, X, e U2 causa `outcome`, Y. Effettuare un aggiustamento per Z durante la stima dell'effetto di X su Y produce un risultato distorto."
   ]
  },
  {
   "cell_type": "code",
   "execution_count": 58,
   "metadata": {},
   "outputs": [
    {
     "name": "stdout",
     "output_type": "stream",
     "text": [
      "         u1        u2  covariate  exposure   outcome\n",
      "1  0.544050 -1.354656   5.236805  2.451155 -0.142505\n",
      "2  0.085600  0.131291  -0.047646  0.976479  0.711355\n",
      "3  0.674619 -0.461275   6.377459  0.282988 -0.198427\n",
      "4  1.896146  0.580910  15.866842  1.961346  4.188398\n",
      "5  0.350692 -1.709183   0.796247  0.854928 -1.845741\n"
     ]
    }
   ],
   "source": [
    "causal_m_bias = data(quartets).fetch('causal_m_bias')['causal_m_bias']\n",
    "# Convert the R data frame to a Pandas DataFrame\n",
    "causal_m_bias_df = pandas2ri.rpy2py(causal_m_bias)\n",
    "print(causal_m_bias_df.head())"
   ]
  },
  {
   "cell_type": "code",
   "execution_count": 59,
   "metadata": {},
   "outputs": [
    {
     "data": {
      "image/svg+xml": [
       "<?xml version=\"1.0\" encoding=\"UTF-8\" standalone=\"no\"?>\n",
       "<!DOCTYPE svg PUBLIC \"-//W3C//DTD SVG 1.1//EN\"\n",
       " \"http://www.w3.org/Graphics/SVG/1.1/DTD/svg11.dtd\">\n",
       "<!-- Generated by graphviz version 9.0.0 (0)\n",
       " -->\n",
       "<!-- Pages: 1 -->\n",
       "<svg width=\"222pt\" height=\"188pt\"\n",
       " viewBox=\"0.00 0.00 222.19 188.00\" xmlns=\"http://www.w3.org/2000/svg\" xmlns:xlink=\"http://www.w3.org/1999/xlink\">\n",
       "<g id=\"graph0\" class=\"graph\" transform=\"scale(1 1) rotate(0) translate(4 184)\">\n",
       "<polygon fill=\"white\" stroke=\"none\" points=\"-4,4 -4,-184 218.19,-184 218.19,4 -4,4\"/>\n",
       "<!-- U1 -->\n",
       "<g id=\"node1\" class=\"node\">\n",
       "<title>U1</title>\n",
       "<ellipse fill=\"none\" stroke=\"black\" cx=\"98.19\" cy=\"-162\" rx=\"27\" ry=\"18\"/>\n",
       "<text text-anchor=\"middle\" x=\"98.19\" y=\"-156.95\" font-family=\"Times,serif\" font-size=\"14.00\">U1</text>\n",
       "</g>\n",
       "<!-- covariate -->\n",
       "<g id=\"node2\" class=\"node\">\n",
       "<title>covariate</title>\n",
       "<ellipse fill=\"none\" stroke=\"black\" cx=\"151.19\" cy=\"-90\" rx=\"44.7\" ry=\"18\"/>\n",
       "<text text-anchor=\"middle\" x=\"151.19\" y=\"-84.95\" font-family=\"Times,serif\" font-size=\"14.00\">covariate</text>\n",
       "</g>\n",
       "<!-- U1&#45;&gt;covariate -->\n",
       "<g id=\"edge1\" class=\"edge\">\n",
       "<title>U1&#45;&gt;covariate</title>\n",
       "<path fill=\"none\" stroke=\"black\" d=\"M109.95,-145.46C116.42,-136.92 124.61,-126.1 131.98,-116.36\"/>\n",
       "<polygon fill=\"black\" stroke=\"black\" points=\"134.56,-118.76 137.8,-108.67 128.98,-114.53 134.56,-118.76\"/>\n",
       "</g>\n",
       "<!-- exposure -->\n",
       "<g id=\"node3\" class=\"node\">\n",
       "<title>exposure</title>\n",
       "<ellipse fill=\"none\" stroke=\"black\" cx=\"44.19\" cy=\"-90\" rx=\"44.19\" ry=\"18\"/>\n",
       "<text text-anchor=\"middle\" x=\"44.19\" y=\"-84.95\" font-family=\"Times,serif\" font-size=\"14.00\">exposure</text>\n",
       "</g>\n",
       "<!-- U1&#45;&gt;exposure -->\n",
       "<g id=\"edge2\" class=\"edge\">\n",
       "<title>U1&#45;&gt;exposure</title>\n",
       "<path fill=\"none\" stroke=\"black\" d=\"M86.2,-145.46C79.61,-136.92 71.26,-126.1 63.75,-116.36\"/>\n",
       "<polygon fill=\"black\" stroke=\"black\" points=\"66.69,-114.45 57.81,-108.67 61.15,-118.72 66.69,-114.45\"/>\n",
       "</g>\n",
       "<!-- outcome -->\n",
       "<g id=\"node5\" class=\"node\">\n",
       "<title>outcome</title>\n",
       "<ellipse fill=\"none\" stroke=\"black\" cx=\"134.19\" cy=\"-18\" rx=\"43.16\" ry=\"18\"/>\n",
       "<text text-anchor=\"middle\" x=\"134.19\" y=\"-12.95\" font-family=\"Times,serif\" font-size=\"14.00\">outcome</text>\n",
       "</g>\n",
       "<!-- exposure&#45;&gt;outcome -->\n",
       "<g id=\"edge5\" class=\"edge\">\n",
       "<title>exposure&#45;&gt;outcome</title>\n",
       "<path fill=\"none\" stroke=\"black\" d=\"M64.16,-73.46C76.36,-63.97 92.16,-51.68 105.67,-41.18\"/>\n",
       "<polygon fill=\"black\" stroke=\"black\" points=\"107.64,-44.08 113.38,-35.18 103.34,-38.56 107.64,-44.08\"/>\n",
       "</g>\n",
       "<!-- U2 -->\n",
       "<g id=\"node4\" class=\"node\">\n",
       "<title>U2</title>\n",
       "<ellipse fill=\"none\" stroke=\"black\" cx=\"187.19\" cy=\"-162\" rx=\"27\" ry=\"18\"/>\n",
       "<text text-anchor=\"middle\" x=\"187.19\" y=\"-156.95\" font-family=\"Times,serif\" font-size=\"14.00\">U2</text>\n",
       "</g>\n",
       "<!-- U2&#45;&gt;covariate -->\n",
       "<g id=\"edge3\" class=\"edge\">\n",
       "<title>U2&#45;&gt;covariate</title>\n",
       "<path fill=\"none\" stroke=\"black\" d=\"M178.84,-144.76C174.78,-136.87 169.78,-127.16 165.17,-118.18\"/>\n",
       "<polygon fill=\"black\" stroke=\"black\" points=\"168.37,-116.76 160.68,-109.47 162.15,-119.96 168.37,-116.76\"/>\n",
       "</g>\n",
       "<!-- U2&#45;&gt;outcome -->\n",
       "<g id=\"edge4\" class=\"edge\">\n",
       "<title>U2&#45;&gt;outcome</title>\n",
       "<path fill=\"none\" stroke=\"black\" d=\"M196.48,-144.74C205.73,-126.24 216.99,-95.53 205.19,-72 198.04,-57.76 185.06,-46.36 172.12,-37.84\"/>\n",
       "<polygon fill=\"black\" stroke=\"black\" points=\"174,-34.88 163.63,-32.68 170.36,-40.86 174,-34.88\"/>\n",
       "</g>\n",
       "</g>\n",
       "</svg>\n"
      ],
      "text/plain": [
       "<graphviz.graphs.Digraph at 0x167bc6990>"
      ]
     },
     "execution_count": 59,
     "metadata": {},
     "output_type": "execute_result"
    }
   ],
   "source": [
    "f = graphviz.Digraph()\n",
    "f.edge(\"U1\", \"covariate\")\n",
    "f.edge(\"U1\", \"exposure\")\n",
    "f.edge(\"U2\", \"covariate\")\n",
    "f.edge(\"U2\", \"outcome\")\n",
    "f.edge(\"exposure\", \"outcome\")\n",
    "\n",
    "f"
   ]
  },
  {
   "cell_type": "code",
   "execution_count": 60,
   "metadata": {},
   "outputs": [
    {
     "data": {
      "image/png": "[encoded data removed]",
      "text/plain": [
       "<Figure size 720x480 with 1 Axes>"
      ]
     },
     "metadata": {
      "image/png": {
       "height": 491,
       "width": 731
      }
     },
     "output_type": "display_data"
    }
   ],
   "source": [
    "_ = sns.scatterplot(causal_m_bias_df, x=\"exposure\", y=\"outcome\")"
   ]
  },
  {
   "cell_type": "code",
   "execution_count": 61,
   "metadata": {},
   "outputs": [
    {
     "name": "stdout",
     "output_type": "stream",
     "text": [
      "Correlation between 'exposure' and 'outcome': 0.7241883907049459\n"
     ]
    }
   ],
   "source": [
    "# Calculate the Pearson correlation between 'exposure' and 'outcome'\n",
    "correlation = causal_m_bias_df['exposure'].corr(causal_m_bias_df['outcome'])\n",
    "print(\"Correlation between 'exposure' and 'outcome':\", correlation)"
   ]
  },
  {
   "cell_type": "markdown",
   "metadata": {},
   "source": [
    "La struttura causale nota come struttura di M-bias (o a volte chiamata struttura a collider aperto) è caratterizzata da due variabili non osservate ($U1$ e $U2$) che influenzano sia la covariata che l'esposizione o l'esito, rispettivamente, oltre al percorso diretto da esposizione a esito. In questo scenario, la covariata è collegata sia all'esposizione che all'esito attraverso le variabili non osservate, formando una struttura a \"M\".\n",
    "\n",
    "### Modello di regressione `Y ~ X`\n",
    "\n",
    "Quando stimiamo l'effetto causale dell'esposizione sull'esito con il modello $outcome \\sim exposure$, non includiamo la covariata nel modello. In questo caso, stiamo effettivamente ignorando la struttura a \"M\" e stimando direttamente l'effetto dell'esposizione sull'esito. Poiché il criterio del backdoor ci dice di bloccare i percorsi backdoor per ottenere una stima non distorta dell'effetto causale e non ci sono percorsi backdoor aperti tra esposizione ed esito che passano attraverso le variabili osservate, questo modello fornisce una stima corretta dell'effetto causale di esposizione su esito, assumendo che non ci siano altre variabili confondenti non controllate.\n",
    "\n",
    "### Modello di regressione `Y ~ X + Z`\n",
    "\n",
    "Tuttavia, quando aggiungiamo la covariata al modello ($outcome \\sim exposure + covariate$), introduciamo potenzialmente un bias nella nostra stima dell'effetto causale. Questo accade perché condizionando sulla covariata, che è al centro della struttura a \"M\", apriamo un percorso non causale tra esposizione ed esito attraverso le variabili non osservate ($U1$ e $U2$). In altre parole, includere la covariata nel modello crea una correlazione spuria tra esposizione ed esito attraverso le variabili latenti che influenzano sia la covariata che l'esposizione o l'esito. \n",
    "\n",
    "In un contesto di M-bias, condizionare sulla covariata \"apre\" il collider (la covariata stessa), che non era un problema quando la covariata non era inclusa nel modello. Questo rende il modello $outcome \\sim exposure + covariate$ inadatto per la stima corretta dell'effetto causale di esposizione su esito in questa specifica struttura causale."
   ]
  },
  {
   "cell_type": "markdown",
   "metadata": {},
   "source": [
    "Nel caso di questa struttura casusale, il vero effetto causale di `exposure` su `outcome` è $\\beta$ = 1. Se ignoriamo `covariate` nel modello di regressione otteniamo una stima non distorta del vero effetto causale."
   ]
  },
  {
   "cell_type": "code",
   "execution_count": 62,
   "metadata": {
    "tags": [
     "hide-output"
    ]
   },
   "outputs": [
    {
     "data": {
      "application/vnd.jupyter.widget-view+json": {
       "model_id": "6f7e3710d89042479e45944f3b0b7285",
       "version_major": 2,
       "version_minor": 0
      },
      "text/plain": [
       "  0%|          | 0/2000 [00:00<?, ?it/s]"
      ]
     },
     "metadata": {},
     "output_type": "display_data"
    },
    {
     "data": {
      "application/vnd.jupyter.widget-view+json": {
       "model_id": "cd2b54c336534d56918b04b076e09d7f",
       "version_major": 2,
       "version_minor": 0
      },
      "text/plain": [
       "  0%|          | 0/2000 [00:00<?, ?it/s]"
      ]
     },
     "metadata": {},
     "output_type": "display_data"
    },
    {
     "data": {
      "application/vnd.jupyter.widget-view+json": {
       "model_id": "2ef55dc0d5954698bc865f85aea60161",
       "version_major": 2,
       "version_minor": 0
      },
      "text/plain": [
       "  0%|          | 0/2000 [00:00<?, ?it/s]"
      ]
     },
     "metadata": {},
     "output_type": "display_data"
    },
    {
     "data": {
      "application/vnd.jupyter.widget-view+json": {
       "model_id": "16d5e241e8eb4621a4f38c642e81d61a",
       "version_major": 2,
       "version_minor": 0
      },
      "text/plain": [
       "  0%|          | 0/2000 [00:00<?, ?it/s]"
      ]
     },
     "metadata": {},
     "output_type": "display_data"
    }
   ],
   "source": [
    "mod11 = bmb.Model(\"outcome ~ exposure\", causal_m_bias_df)\n",
    "results11 = mod11.fit(nuts_sampler=\"numpyro\", idata_kwargs={\"log_likelihood\": True})"
   ]
  },
  {
   "cell_type": "code",
   "execution_count": 63,
   "metadata": {},
   "outputs": [
    {
     "data": {
      "text/html": [
       "<div>\n",
       "<style scoped>\n",
       "    .dataframe tbody tr th:only-of-type {\n",
       "        vertical-align: middle;\n",
       "    }\n",
       "\n",
       "    .dataframe tbody tr th {\n",
       "        vertical-align: top;\n",
       "    }\n",
       "\n",
       "    .dataframe thead th {\n",
       "        text-align: right;\n",
       "    }\n",
       "</style>\n",
       "<table border=\"1\" class=\"dataframe\">\n",
       "  <thead>\n",
       "    <tr style=\"text-align: right;\">\n",
       "      <th></th>\n",
       "      <th>mean</th>\n",
       "      <th>sd</th>\n",
       "      <th>hdi_3%</th>\n",
       "      <th>hdi_97%</th>\n",
       "      <th>mcse_mean</th>\n",
       "      <th>mcse_sd</th>\n",
       "      <th>ess_bulk</th>\n",
       "      <th>ess_tail</th>\n",
       "      <th>r_hat</th>\n",
       "    </tr>\n",
       "  </thead>\n",
       "  <tbody>\n",
       "    <tr>\n",
       "      <th>Intercept</th>\n",
       "      <td>-0.22</td>\n",
       "      <td>0.15</td>\n",
       "      <td>-0.48</td>\n",
       "      <td>0.07</td>\n",
       "      <td>0.0</td>\n",
       "      <td>0.0</td>\n",
       "      <td>4097.99</td>\n",
       "      <td>2579.64</td>\n",
       "      <td>1.0</td>\n",
       "    </tr>\n",
       "    <tr>\n",
       "      <th>exposure</th>\n",
       "      <td>1.00</td>\n",
       "      <td>0.10</td>\n",
       "      <td>0.82</td>\n",
       "      <td>1.19</td>\n",
       "      <td>0.0</td>\n",
       "      <td>0.0</td>\n",
       "      <td>4169.96</td>\n",
       "      <td>3087.78</td>\n",
       "      <td>1.0</td>\n",
       "    </tr>\n",
       "    <tr>\n",
       "      <th>outcome_sigma</th>\n",
       "      <td>1.44</td>\n",
       "      <td>0.10</td>\n",
       "      <td>1.25</td>\n",
       "      <td>1.63</td>\n",
       "      <td>0.0</td>\n",
       "      <td>0.0</td>\n",
       "      <td>4213.60</td>\n",
       "      <td>3197.64</td>\n",
       "      <td>1.0</td>\n",
       "    </tr>\n",
       "  </tbody>\n",
       "</table>\n",
       "</div>"
      ],
      "text/plain": [
       "               mean    sd  hdi_3%  hdi_97%  mcse_mean  mcse_sd  ess_bulk  \\\n",
       "Intercept     -0.22  0.15   -0.48     0.07        0.0      0.0   4097.99   \n",
       "exposure       1.00  0.10    0.82     1.19        0.0      0.0   4169.96   \n",
       "outcome_sigma  1.44  0.10    1.25     1.63        0.0      0.0   4213.60   \n",
       "\n",
       "               ess_tail  r_hat  \n",
       "Intercept       2579.64    1.0  \n",
       "exposure        3087.78    1.0  \n",
       "outcome_sigma   3197.64    1.0  "
      ]
     },
     "execution_count": 63,
     "metadata": {},
     "output_type": "execute_result"
    }
   ],
   "source": [
    "az.summary(results11, round_to=2)"
   ]
  },
  {
   "cell_type": "markdown",
   "metadata": {},
   "source": [
    "Se invece usiamo `covariate` come predittore nel modello di regressione otteniamo una stima distorta dell'effetto causale di `exposure` su `outcome`."
   ]
  },
  {
   "cell_type": "code",
   "execution_count": 64,
   "metadata": {
    "tags": [
     "hide-output"
    ]
   },
   "outputs": [
    {
     "data": {
      "application/vnd.jupyter.widget-view+json": {
       "model_id": "beadf0a066694485be47868df2206f15",
       "version_major": 2,
       "version_minor": 0
      },
      "text/plain": [
       "  0%|          | 0/2000 [00:00<?, ?it/s]"
      ]
     },
     "metadata": {},
     "output_type": "display_data"
    },
    {
     "data": {
      "application/vnd.jupyter.widget-view+json": {
       "model_id": "100a221d49704320b62bf189775b125e",
       "version_major": 2,
       "version_minor": 0
      },
      "text/plain": [
       "  0%|          | 0/2000 [00:00<?, ?it/s]"
      ]
     },
     "metadata": {},
     "output_type": "display_data"
    },
    {
     "data": {
      "application/vnd.jupyter.widget-view+json": {
       "model_id": "b930dd10aaab473a9c85868842a98435",
       "version_major": 2,
       "version_minor": 0
      },
      "text/plain": [
       "  0%|          | 0/2000 [00:00<?, ?it/s]"
      ]
     },
     "metadata": {},
     "output_type": "display_data"
    },
    {
     "data": {
      "application/vnd.jupyter.widget-view+json": {
       "model_id": "967ff7b053b04aa9830a6f0850be3095",
       "version_major": 2,
       "version_minor": 0
      },
      "text/plain": [
       "  0%|          | 0/2000 [00:00<?, ?it/s]"
      ]
     },
     "metadata": {},
     "output_type": "display_data"
    }
   ],
   "source": [
    "mod11_bis = bmb.Model(\"outcome ~ exposure + covariate\", causal_m_bias_df)\n",
    "results11_bis = mod11_bis.fit(nuts_sampler=\"numpyro\", idata_kwargs={\"log_likelihood\": True})"
   ]
  },
  {
   "cell_type": "code",
   "execution_count": 65,
   "metadata": {},
   "outputs": [
    {
     "data": {
      "text/html": [
       "<div>\n",
       "<style scoped>\n",
       "    .dataframe tbody tr th:only-of-type {\n",
       "        vertical-align: middle;\n",
       "    }\n",
       "\n",
       "    .dataframe tbody tr th {\n",
       "        vertical-align: top;\n",
       "    }\n",
       "\n",
       "    .dataframe thead th {\n",
       "        text-align: right;\n",
       "    }\n",
       "</style>\n",
       "<table border=\"1\" class=\"dataframe\">\n",
       "  <thead>\n",
       "    <tr style=\"text-align: right;\">\n",
       "      <th></th>\n",
       "      <th>mean</th>\n",
       "      <th>sd</th>\n",
       "      <th>hdi_3%</th>\n",
       "      <th>hdi_97%</th>\n",
       "      <th>mcse_mean</th>\n",
       "      <th>mcse_sd</th>\n",
       "      <th>ess_bulk</th>\n",
       "      <th>ess_tail</th>\n",
       "      <th>r_hat</th>\n",
       "    </tr>\n",
       "  </thead>\n",
       "  <tbody>\n",
       "    <tr>\n",
       "      <th>Intercept</th>\n",
       "      <td>-0.22</td>\n",
       "      <td>0.15</td>\n",
       "      <td>-0.48</td>\n",
       "      <td>0.06</td>\n",
       "      <td>0.0</td>\n",
       "      <td>0.0</td>\n",
       "      <td>3911.91</td>\n",
       "      <td>2567.89</td>\n",
       "      <td>1.0</td>\n",
       "    </tr>\n",
       "    <tr>\n",
       "      <th>covariate</th>\n",
       "      <td>0.04</td>\n",
       "      <td>0.03</td>\n",
       "      <td>-0.01</td>\n",
       "      <td>0.09</td>\n",
       "      <td>0.0</td>\n",
       "      <td>0.0</td>\n",
       "      <td>2463.49</td>\n",
       "      <td>2677.93</td>\n",
       "      <td>1.0</td>\n",
       "    </tr>\n",
       "    <tr>\n",
       "      <th>exposure</th>\n",
       "      <td>0.88</td>\n",
       "      <td>0.13</td>\n",
       "      <td>0.64</td>\n",
       "      <td>1.13</td>\n",
       "      <td>0.0</td>\n",
       "      <td>0.0</td>\n",
       "      <td>2751.16</td>\n",
       "      <td>2691.96</td>\n",
       "      <td>1.0</td>\n",
       "    </tr>\n",
       "    <tr>\n",
       "      <th>outcome_sigma</th>\n",
       "      <td>1.44</td>\n",
       "      <td>0.11</td>\n",
       "      <td>1.25</td>\n",
       "      <td>1.64</td>\n",
       "      <td>0.0</td>\n",
       "      <td>0.0</td>\n",
       "      <td>3315.05</td>\n",
       "      <td>2579.48</td>\n",
       "      <td>1.0</td>\n",
       "    </tr>\n",
       "  </tbody>\n",
       "</table>\n",
       "</div>"
      ],
      "text/plain": [
       "               mean    sd  hdi_3%  hdi_97%  mcse_mean  mcse_sd  ess_bulk  \\\n",
       "Intercept     -0.22  0.15   -0.48     0.06        0.0      0.0   3911.91   \n",
       "covariate      0.04  0.03   -0.01     0.09        0.0      0.0   2463.49   \n",
       "exposure       0.88  0.13    0.64     1.13        0.0      0.0   2751.16   \n",
       "outcome_sigma  1.44  0.11    1.25     1.64        0.0      0.0   3315.05   \n",
       "\n",
       "               ess_tail  r_hat  \n",
       "Intercept       2567.89    1.0  \n",
       "covariate       2677.93    1.0  \n",
       "exposure        2691.96    1.0  \n",
       "outcome_sigma   2579.48    1.0  "
      ]
     },
     "execution_count": 65,
     "metadata": {},
     "output_type": "execute_result"
    }
   ],
   "source": [
    "az.summary(results11_bis, round_to=2)"
   ]
  },
  {
   "cell_type": "markdown",
   "metadata": {},
   "source": [
    "In sintesi, in una struttura causale di M-bias, il modello di regressione $outcome \\sim exposure$ senza includere la covariata è preferibile per stimare l'effetto causale dell'esposizione sull'esito, perché evita di introdurre il collider bias che si verificherebbe includendo la covariata nel modello. Questo esempio dimostra l'importanza di considerare attentamente la struttura causale sottostante e il criterio del backdoor quando si sceglie quali variabili includere nei modelli di regressione per la stima degli effetti causali."
   ]
  },
  {
   "cell_type": "markdown",
   "metadata": {},
   "source": [
    "## Riflessioni conclusive\n",
    "\n",
    "In conclusione, esaminando quattro distinti set di dati, riscontriamo che, se non consideriamo le `covariate`, otteniamo consistentemente una stima dell'\"effetto medio del trattamento\" (ATE) pari a 1. Tuttavia, questo valore di 1 rappresenta una stima corretta dell'effetto causale solo nelle strutture causali del collider e dell'M-bias. In questi casi, non includendo le `covariate`, si ottiene effettvamente una stima non distorta dell'effetto causale dell'`esposizione` sull'`esito`.\n",
    "\n",
    "Al contrario, se includiamo le `covariate` nell'analisi, osserviamo che le stime dell'ATE risultano distorte: 0.55 nel caso della struttura causale del collider e 0.88 nel caso dell'M-bias.\n",
    "\n",
    "Quando i dati sono generati da una struttura causale che include un confounder, l'effetto causale corretto è 0.5. Ignorare le `covariate` in questo scenario porta a una stima distorta di 1. Includendole, invece, otteniamo una stima accurata dell'effetto causale reale.\n",
    "\n",
    "Nel contesto della struttura causale della mediazione, l'effetto totale dell'`esposizione` sull'`esito` è 1, ma l'effetto diretto è 0. Non considerando le `covariate`, la stima dell'effetto totale risulta accurata. Tuttavia, includendo le `covariate`, si ottiene una stima distorta dell'effetto totale, pari a 0.\n",
    "\n",
    "Queste osservazioni dimostrano che l'inferenza causale non può essere affrontata semplicemente applicando meccanicamente il modello statistico della regressione lineare. Senza ulteriori conoscenze, che non possono essere derivate esclusivamente dai dati osservati, non è possibile ottenere stime non distorte degli effetti causali. Come suggerito dal titolo dell'articolo, l'inferenza causale va oltre le tecniche statistiche: essa richiede informazioni supplementari sulle caratteristiche del fenomeno studiato.\n",
    "\n",
    "Per trarre conclusioni corrette sui meccanismi causali, è essenziale disporre di informazioni dettagliate sul processo generativo dei dati. Benché spesso queste informazioni non siano direttamente disponibili, i ricercatori possono adottare strategie per minimizzare il rischio di errori interpretativi. Un passo fondamentale consiste nell'identificare ipotetici meccanismi causali prima di procedere con le stime degli effetti, utilizzando diagrammi causali come i grafici aciclici diretti per mappare le relazioni tra le variabili. Questo processo aiuta a determinare quali fattori includere nell'analisi, seguendo il \"backdoor criterion\" proposto da Judea Pearl, per chiudere i percorsi indiretti tra esposizione ed esito che potrebbero introdurre confondimenti.\n",
    "\n",
    "In assenza di una comprensione del fenomeno in esame, è cruciale che i ricercatori prestino attenzione all'ordine temporale dei fattori. Questo approccio, fondamentale per l'inferenza causale, implica che l'esposizione avvenga prima dell'esito per stabilire una relazione causale plausibile. Inoltre, è importante che tutte le covariate considerate nell'analisi precedano temporalmente l'esposizione per evitare potenziali bias di specificazione, specialmente nei contesti di collider e mediazione. Seguendo questi principi, i ricercatori possono ridurre il rischio di stime errate degli effetti causali."
   ]
  },
  {
   "cell_type": "markdown",
   "metadata": {},
   "source": [
    "## Esercizio\n",
    "\n",
    "Utilizzare i concetti presentati in questo capitolo per analizzare l'articolo selezionato nel contesto del progetto di gruppo."
   ]
  },
  {
   "cell_type": "markdown",
   "metadata": {},
   "source": [
    "## Informazioni sull'Ambiente di Sviluppo"
   ]
  },
  {
   "cell_type": "code",
   "execution_count": 66,
   "metadata": {},
   "outputs": [
    {
     "name": "stdout",
     "output_type": "stream",
     "text": [
      "Last updated: Sun May 12 2024\n",
      "\n",
      "Python implementation: CPython\n",
      "Python version       : 3.12.3\n",
      "IPython version      : 8.22.2\n",
      "\n",
      "Compiler    : Clang 16.0.6 \n",
      "OS          : Darwin\n",
      "Release     : 23.4.0\n",
      "Machine     : arm64\n",
      "Processor   : arm\n",
      "CPU cores   : 8\n",
      "Architecture: 64bit\n",
      "\n",
      "bambi      : 0.13.0\n",
      "rpy2       : 3.5.16\n",
      "graphviz   : 0.20.3\n",
      "arviz      : 0.18.0\n",
      "statsmodels: 0.14.1\n",
      "seaborn    : 0.13.2\n",
      "pymc       : 5.14.0\n",
      "pandas     : 2.2.2\n",
      "networkx   : 3.3\n",
      "matplotlib : 3.8.4\n",
      "numpy      : 1.26.4\n",
      "scipy      : 1.13.0\n",
      "\n",
      "Watermark: 2.4.3\n",
      "\n"
     ]
    }
   ],
   "source": [
    "%load_ext watermark\n",
    "%watermark -n -u -v -iv -w -m"
   ]
  }
 ],
 "metadata": {
  "kernelspec": {
   "display_name": "pymc",
   "language": "python",
   "name": "python3"
  },
  "language_info": {
   "codemirror_mode": {
    "name": "ipython",
    "version": 3
   },
   "file_extension": ".py",
   "mimetype": "text/x-python",
   "name": "python",
   "nbconvert_exporter": "python",
   "pygments_lexer": "ipython3",
   "version": "3.12.3"
  },
  "vscode": {
   "interpreter": {
    "hash": "030ae53b1150d0ca6a72bb4a7a0454cbd9dab0eb2818ba119bbca0111e46e432"
   }
  }
 },
 "nbformat": 4,
 "nbformat_minor": 2
}
