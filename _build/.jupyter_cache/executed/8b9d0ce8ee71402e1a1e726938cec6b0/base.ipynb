{
 "cells": [
  {
   "cell_type": "code",
   "execution_count": 1,
   "id": "55181c8b-b24b-4eed-82e8-1fdb0a15ffa3",
   "metadata": {},
   "outputs": [],
   "source": [
    "import numpy as np\n",
    "import pandas as pd\n",
    "import matplotlib as mpl\n",
    "import matplotlib.pyplot as plt\n",
    "import arviz as az\n",
    "import seaborn as sns"
   ]
  },
  {
   "cell_type": "code",
   "execution_count": 2,
   "id": "56a119a2-25a6-4856-9520-2fef953fb881",
   "metadata": {},
   "outputs": [],
   "source": [
    "# set seed to make the results fully reproducible\n",
    "seed: int = sum(map(ord, \"bayes_theorem\"))\n",
    "rng: np.random.Generator = np.random.default_rng(seed=seed)\n",
    "\n",
    "az.style.use(\"arviz-darkgrid\")\n",
    "plt.rcParams[\"figure.dpi\"] = 100\n",
    "plt.rcParams[\"figure.facecolor\"] = \"white\"\n",
    "\n",
    "%config InlineBackend.figure_format = \"retina\""
   ]
  },
  {
   "cell_type": "code",
   "execution_count": 3,
   "id": "c7c8dbed-04e0-46ca-85fc-924be5f24bde",
   "metadata": {},
   "outputs": [],
   "source": [
    "def positive_predictive_value_of_diagnostic_test(sens, spec, prev):\n",
    "    return (sens * prev) / (sens * prev + (1 - spec) * (1 - prev))"
   ]
  },
  {
   "cell_type": "code",
   "execution_count": 4,
   "id": "0a14c214-3564-4d65-9833-d4b4db55581f",
   "metadata": {},
   "outputs": [],
   "source": [
    "def negative_predictive_value_of_diagnostic_test(sens, spec, prev):\n",
    "    return (spec * (1 - prev)) / (spec * (1 - prev) + (1 - sens) * prev)"
   ]
  },
  {
   "cell_type": "code",
   "execution_count": 5,
   "id": "633a535b-6c92-48ab-a55a-255eb47e6b13",
   "metadata": {},
   "outputs": [],
   "source": [
    "sens = 0.9  # sensibilità\n",
    "spec = 0.9  # specificità\n",
    "prev = 0.01  # prevalenza"
   ]
  },
  {
   "cell_type": "code",
   "execution_count": 6,
   "id": "69571aa8-46ef-4258-8908-3cd7644a39da",
   "metadata": {},
   "outputs": [
    {
     "name": "stdout",
     "output_type": "stream",
     "text": [
      "P(M+ | T+) = 0.083\n"
     ]
    }
   ],
   "source": [
    "res_pos = positive_predictive_value_of_diagnostic_test(sens, spec, prev)\n",
    "print(f\"P(M+ | T+) = {round(res_pos, 3)}\")"
   ]
  },
  {
   "cell_type": "code",
   "execution_count": 7,
   "id": "1f3f7241-4859-4043-9ad5-13972f9ac345",
   "metadata": {},
   "outputs": [
    {
     "name": "stdout",
     "output_type": "stream",
     "text": [
      "P(M- | T-) = 0.999\n"
     ]
    }
   ],
   "source": [
    "res_neg = negative_predictive_value_of_diagnostic_test(sens, spec, prev)\n",
    "print(f\"P(M- | T-) = {round(res_neg, 3)}\")"
   ]
  },
  {
   "cell_type": "code",
   "execution_count": 8,
   "id": "496b4410-4562-4d9a-8b3f-13e502cf4316",
   "metadata": {},
   "outputs": [
    {
     "data": {
      "text/plain": [
       "0.002349135593220339"
      ]
     },
     "execution_count": 8,
     "metadata": {},
     "output_type": "execute_result"
    }
   ],
   "source": [
    " prev = 138599 / 59000000\n",
    " prev"
   ]
  },
  {
   "cell_type": "code",
   "execution_count": 9,
   "id": "d02716f1-63ef-45c9-ae84-5a40a9d1a742",
   "metadata": {},
   "outputs": [
    {
     "name": "stdout",
     "output_type": "stream",
     "text": [
      "P(M+ | T+) = 0.044\n"
     ]
    }
   ],
   "source": [
    "sens = (0.7 + 0.86) / 2  # sensibilità\n",
    "spec = (0.95 + 0.97) / 2 # specificità\n",
    "\n",
    "res_pos = positive_predictive_value_of_diagnostic_test(sens, spec, prev)\n",
    "print(f\"P(M+ | T+) = {round(res_pos, 3)}\")"
   ]
  },
  {
   "cell_type": "code",
   "execution_count": 10,
   "id": "191caf07-8f89-4f20-a3a1-19b43f6e7fe0",
   "metadata": {},
   "outputs": [
    {
     "name": "stdout",
     "output_type": "stream",
     "text": [
      "P(M+ | T+) = 0.857\n"
     ]
    }
   ],
   "source": [
    "prev = 138599 / 59000000 * 100\n",
    "\n",
    "res_pos = positive_predictive_value_of_diagnostic_test(sens, spec, prev)\n",
    "print(f\"P(M+ | T+) = {round(res_pos, 3)}\")"
   ]
  },
  {
   "cell_type": "code",
   "execution_count": 11,
   "id": "fe9b7fc8-aa79-4a1c-a50f-fb9edd0d81b7",
   "metadata": {},
   "outputs": [
    {
     "name": "stdout",
     "output_type": "stream",
     "text": [
      "P(M- | T-) = 0.999\n"
     ]
    }
   ],
   "source": [
    "sens = (0.7 + 0.86) / 2  # sensibilità\n",
    "spec = (0.95 + 0.97) / 2  # specificità\n",
    "prev = 138599 / 59000000  # prevalenza\n",
    "\n",
    "res_neg = negative_predictive_value_of_diagnostic_test(sens, spec, prev)\n",
    "print(f\"P(M- | T-) = {round(res_neg, 3)}\")"
   ]
  },
  {
   "cell_type": "code",
   "execution_count": 12,
   "id": "ca5cf3a4-13bb-44fc-ae47-bc0a5cbb8da3",
   "metadata": {},
   "outputs": [
    {
     "name": "stdout",
     "output_type": "stream",
     "text": [
      "Last updated: Sun Jun 16 2024\n",
      "\n",
      "Python implementation: CPython\n",
      "Python version       : 3.12.3\n",
      "IPython version      : 8.25.0\n",
      "\n",
      "Compiler    : Clang 16.0.6 \n",
      "OS          : Darwin\n",
      "Release     : 23.4.0\n",
      "Machine     : arm64\n",
      "Processor   : arm\n",
      "CPU cores   : 8\n",
      "Architecture: 64bit\n",
      "\n",
      "numpy     : 1.26.4\n",
      "seaborn   : 0.13.2\n",
      "arviz     : 0.18.0\n",
      "matplotlib: 3.8.4\n",
      "pandas    : 2.2.2\n",
      "\n",
      "Watermark: 2.4.3\n",
      "\n"
     ]
    }
   ],
   "source": [
    "%load_ext watermark\n",
    "%watermark -n -u -v -iv -w -m"
   ]
  }
 ],
 "metadata": {
  "kernelspec": {
   "display_name": "pymc",
   "language": "python",
   "name": "python3"
  },
  "language_info": {
   "codemirror_mode": {
    "name": "ipython",
    "version": 3
   },
   "file_extension": ".py",
   "mimetype": "text/x-python",
   "name": "python",
   "nbconvert_exporter": "python",
   "pygments_lexer": "ipython3",
   "version": "3.12.3"
  },
  "vscode": {
   "interpreter": {
    "hash": "cbb367cc0128e23b7454d788d5a4229ca1f9848fd2e857f4797fbd26ab3b0776"
   }
  }
 },
 "nbformat": 4,
 "nbformat_minor": 2
}