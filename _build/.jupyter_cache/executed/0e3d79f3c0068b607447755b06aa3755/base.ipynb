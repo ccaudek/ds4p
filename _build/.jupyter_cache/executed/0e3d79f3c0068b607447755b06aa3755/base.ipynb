{
 "cells": [
  {
   "cell_type": "code",
   "execution_count": 1,
   "id": "7f1a5b19-133b-4509-b699-cf156ff04ffd",
   "metadata": {},
   "outputs": [
    {
     "name": "stdout",
     "output_type": "stream",
     "text": [
      "{1, 2}\n",
      "<class 'set'>\n"
     ]
    }
   ],
   "source": [
    "Set1 = {1, 2}\n",
    "print(Set1)\n",
    "print(type(Set1))\n"
   ]
  },
  {
   "cell_type": "code",
   "execution_count": 2,
   "id": "52bc7ea9-2215-4975-bdd9-22dc5227b30a",
   "metadata": {},
   "outputs": [
    {
     "name": "stdout",
     "output_type": "stream",
     "text": [
      "{1, 2, 3, 4}\n"
     ]
    }
   ],
   "source": [
    "my_list = [1, 2, 3, 4]\n",
    "my_set_from_list = set(my_list)\n",
    "print(my_set_from_list)\n"
   ]
  },
  {
   "cell_type": "code",
   "execution_count": 3,
   "id": "c0b4e22e-223a-4a1b-b033-be8018ff995e",
   "metadata": {},
   "outputs": [
    {
     "name": "stdout",
     "output_type": "stream",
     "text": [
      "Ecco il mio insieme: {1, 3, 5}\n",
      "1 appartiene all'insieme: True\n",
      "2 non appartiene all'insieme: False\n",
      "4 NON appartiene all'insieme: True\n"
     ]
    }
   ],
   "source": [
    "my_set = set([1, 3, 5])\n",
    "print(\"Ecco il mio insieme:\", my_set)\n",
    "print(\"1 appartiene all'insieme:\", 1 in my_set)\n",
    "print(\"2 non appartiene all'insieme:\", 2 in my_set)\n",
    "print(\"4 NON appartiene all'insieme:\", 4 not in my_set)\n"
   ]
  },
  {
   "cell_type": "code",
   "execution_count": 4,
   "id": "7872ac9f-2538-41d3-96c3-9261810f10d1",
   "metadata": {},
   "outputs": [],
   "source": [
    "Univ = set([x for x in range(11)])\n",
    "Super = set([x for x in range(11) if x % 2 == 0])\n",
    "Disj = set([x for x in range(11) if x % 2 == 1])\n",
    "Sub = set([4, 6])\n",
    "Null = set([x for x in range(11) if x > 10])\n"
   ]
  },
  {
   "cell_type": "code",
   "execution_count": 5,
   "id": "19f7d218-0bc4-47b2-8b9a-73db486ca13e",
   "metadata": {},
   "outputs": [
    {
     "name": "stdout",
     "output_type": "stream",
     "text": [
      "Insieme Universo (tutti gli interi positivi fino a 10): {0, 1, 2, 3, 4, 5, 6, 7, 8, 9, 10}\n",
      "Tutti gli interi positivi pari fino a 10: {0, 2, 4, 6, 8, 10}\n",
      "Tutti gli interi positivi dispari fino a 10: {1, 3, 5, 7, 9}\n",
      "Insieme di due elementi, 4 e 6: {4, 6}\n",
      "Un isieme vuoto: set()\n"
     ]
    }
   ],
   "source": [
    "print(\"Insieme Universo (tutti gli interi positivi fino a 10):\", Univ)\n",
    "print(\"Tutti gli interi positivi pari fino a 10:\", Super)\n",
    "print(\"Tutti gli interi positivi dispari fino a 10:\", Disj)\n",
    "print(\"Insieme di due elementi, 4 e 6:\", Sub)\n",
    "print(\"Un isieme vuoto:\", Null)\n"
   ]
  },
  {
   "cell_type": "code",
   "execution_count": 6,
   "id": "88b90021-2a53-424f-9097-c102e1eb2776",
   "metadata": {},
   "outputs": [
    {
     "name": "stdout",
     "output_type": "stream",
     "text": [
      "È \"Super\" un sovrainsieme di \"Sub\"? True\n",
      "È \"Super\" un sottoinsieme di \"Univ\"? True\n",
      "È \"Sub\" un sovrainsieme di \"Super\"? False\n",
      "Sono \"Super\" e \"Disj\" insiemi disgiunti? True\n"
     ]
    }
   ],
   "source": [
    "print('È \"Super\" un sovrainsieme di \"Sub\"?', Super.issuperset(Sub))\n",
    "print('È \"Super\" un sottoinsieme di \"Univ\"?', Super.issubset(Univ))\n",
    "print('È \"Sub\" un sovrainsieme di \"Super\"?', Sub.issuperset(Super))\n",
    "print('Sono \"Super\" e \"Disj\" insiemi disgiunti?', Sub.isdisjoint(Disj))\n"
   ]
  },
  {
   "cell_type": "code",
   "execution_count": 7,
   "id": "f0eb8563-3568-4682-a08f-c46b616d9766",
   "metadata": {},
   "outputs": [
    {
     "name": "stdout",
     "output_type": "stream",
     "text": [
      "S1 e S2 sono uguali perché l'ordine o la ripetizione di elementi non importano per gli insiemi\n",
      "S1==S2: True\n"
     ]
    }
   ],
   "source": [
    "S1 = {1, 2}\n",
    "S2 = {2, 2, 1, 1, 2}\n",
    "print(\n",
    "    \"S1 e S2 sono uguali perché l'ordine o la ripetizione di elementi non importano per gli insiemi\\nS1==S2:\",\n",
    "    S1 == S2,\n",
    ")\n"
   ]
  },
  {
   "cell_type": "code",
   "execution_count": 8,
   "id": "80e49cf1-b596-4f96-a6cc-7da3a9a972b9",
   "metadata": {},
   "outputs": [
    {
     "name": "stdout",
     "output_type": "stream",
     "text": [
      "S1 e S2 NON sono uguali perché si differenziano per almeno uno dei loro elementi\n",
      "S1==S2: False\n"
     ]
    }
   ],
   "source": [
    "S1 = {1, 2, 3, 4, 5, 6}\n",
    "S2 = {1, 2, 3, 4, 0, 6}\n",
    "print(\n",
    "    \"S1 e S2 NON sono uguali perché si differenziano per almeno uno dei loro elementi\\nS1==S2:\",\n",
    "    S1 == S2,\n",
    ")\n"
   ]
  },
  {
   "cell_type": "code",
   "execution_count": 9,
   "id": "21c2c2ab-f2db-4027-b69c-bcde96ef0c40",
   "metadata": {},
   "outputs": [
    {
     "name": "stdout",
     "output_type": "stream",
     "text": [
      "S1: {9, 3, 6}\n"
     ]
    }
   ],
   "source": [
    "S1 = set([x for x in range(1, 11) if x % 3 == 0])\n",
    "print(\"S1:\", S1)\n"
   ]
  },
  {
   "cell_type": "code",
   "execution_count": 10,
   "id": "c2e9c880-62b5-4b1c-8577-66760cb6250a",
   "metadata": {},
   "outputs": [
    {
     "name": "stdout",
     "output_type": "stream",
     "text": [
      "S2: {1, 2, 3, 4, 5, 6}\n"
     ]
    }
   ],
   "source": [
    "S2 = set([x for x in range(1, 7)])\n",
    "print(\"S2:\", S2)\n"
   ]
  },
  {
   "cell_type": "code",
   "execution_count": 11,
   "id": "7ef8ab31-9e3b-4033-a556-ccebb6dbfff2",
   "metadata": {},
   "outputs": [
    {
     "name": "stdout",
     "output_type": "stream",
     "text": [
      "Intersezione di S1 e S2: {3, 6}\n",
      "Intersezione di S1 e S2: {3, 6}\n"
     ]
    }
   ],
   "source": [
    "S_intersection = S1.intersection(S2)\n",
    "print(\"Intersezione di S1 e S2:\", S_intersection)\n",
    "\n",
    "S_intersection = S1 & S2\n",
    "print(\"Intersezione di S1 e S2:\", S_intersection)\n"
   ]
  },
  {
   "cell_type": "code",
   "execution_count": 12,
   "id": "1f3cd634-0057-4f75-93ce-9668ea9ddef7",
   "metadata": {},
   "outputs": [
    {
     "name": "stdout",
     "output_type": "stream",
     "text": [
      "S3: {8, 9, 6, 7}\n",
      "Intersection of S1, S2, and S3: {6}\n"
     ]
    }
   ],
   "source": [
    "S3 = set([x for x in range(6, 10)])\n",
    "print(\"S3:\", S3)\n",
    "S1_S2_S3 = S1.intersection(S2).intersection(S3)\n",
    "print(\"Intersection of S1, S2, and S3:\", S1_S2_S3)\n"
   ]
  },
  {
   "cell_type": "code",
   "execution_count": 13,
   "id": "4ead6ca4-9519-48de-b4b4-8ed38e149d97",
   "metadata": {},
   "outputs": [
    {
     "name": "stdout",
     "output_type": "stream",
     "text": [
      "S1: {9, 3, 6}\n",
      "S2: {1, 2, 3, 4}\n",
      "Unione di S1 e S2: {1, 2, 3, 4, 6, 9}\n",
      "Unione di S1 e S2: {1, 2, 3, 4, 6, 9}\n"
     ]
    }
   ],
   "source": [
    "S1 = set([x for x in range(1, 11) if x % 3 == 0])\n",
    "print(\"S1:\", S1)\n",
    "S2 = set([x for x in range(1, 5)])\n",
    "print(\"S2:\", S2)\n",
    "\n",
    "S_union = S1.union(S2)\n",
    "print(\"Unione di S1 e S2:\", S_union)\n",
    "S_union = S1 | S2\n",
    "print(\"Unione di S1 e S2:\", S_union)\n"
   ]
  },
  {
   "cell_type": "code",
   "execution_count": 14,
   "id": "ad7b4ea5-dd12-4fb5-99c7-cf32c5c8d4b7",
   "metadata": {},
   "outputs": [
    {
     "name": "stdout",
     "output_type": "stream",
     "text": [
      "S è l'insieme dei numeri interi pari tra 0 e 20: {0, 2, 4, 6, 8, 10, 12, 14, 16, 18, 20}\n"
     ]
    }
   ],
   "source": [
    "S = set([x for x in range(21) if x % 2 == 0])\n",
    "print(\"S è l'insieme dei numeri interi pari tra 0 e 20:\", S)\n"
   ]
  },
  {
   "cell_type": "code",
   "execution_count": 15,
   "id": "e6d98e8c-3455-4ee0-b40a-71d0cd678fc5",
   "metadata": {},
   "outputs": [
    {
     "name": "stdout",
     "output_type": "stream",
     "text": [
      "S_complement è l'insieme dei numeri interi dispari tra 0 e 20: {1, 3, 5, 7, 9, 11, 13, 15, 17, 19}\n"
     ]
    }
   ],
   "source": [
    "S_complement = set([x for x in range(21) if x % 2 != 0])\n",
    "print(\"S_complement è l'insieme dei numeri interi dispari tra 0 e 20:\", S_complement)\n"
   ]
  },
  {
   "cell_type": "code",
   "execution_count": 16,
   "id": "b998b471-3cd8-4e06-803f-3f4fa5b3cd94",
   "metadata": {},
   "outputs": [
    {
     "name": "stdout",
     "output_type": "stream",
     "text": [
      "È l'unione di S e S_complement uguale a tutti i numeri interi tra 0 e 20? True\n"
     ]
    }
   ],
   "source": [
    "print(\n",
    "    \"È l'unione di S e S_complement uguale a tutti i numeri interi tra 0 e 20?\",\n",
    "    S.union(S_complement) == set([x for x in range(21)]),\n",
    ")\n"
   ]
  },
  {
   "cell_type": "code",
   "execution_count": 17,
   "id": "b8b9a832-039c-48bb-af01-311110f5f42b",
   "metadata": {},
   "outputs": [
    {
     "name": "stdout",
     "output_type": "stream",
     "text": [
      "Set S1: {0, 3, 6, 9, 12, 15, 18, 21, 24, 27, 30}\n"
     ]
    }
   ],
   "source": [
    "S1 = set([x for x in range(31) if x % 3 == 0])\n",
    "print(\"Set S1:\", S1)\n"
   ]
  },
  {
   "cell_type": "code",
   "execution_count": 18,
   "id": "97c27b9b-3a1f-44d4-b5eb-cb61ba2cfbb5",
   "metadata": {},
   "outputs": [
    {
     "name": "stdout",
     "output_type": "stream",
     "text": [
      "Set S2: {0, 5, 10, 15, 20, 25, 30}\n"
     ]
    }
   ],
   "source": [
    "S2 = set([x for x in range(31) if x % 5 == 0])\n",
    "print(\"Set S2:\", S2)\n"
   ]
  },
  {
   "cell_type": "code",
   "execution_count": 19,
   "id": "adade83d-5253-4a4f-8038-d801201cae94",
   "metadata": {},
   "outputs": [
    {
     "name": "stdout",
     "output_type": "stream",
     "text": [
      "Differenza tra S2 e S1, i.e. S2\\S1: {25, 10, 20, 5}\n",
      "Differenza tra S1 e S2, i.e. S1\\S2: {3, 6, 9, 12, 18, 21, 24, 27}\n"
     ]
    },
    {
     "name": "stderr",
     "output_type": "stream",
     "text": [
      "<>:2: SyntaxWarning: invalid escape sequence '\\S'\n",
      "<>:5: SyntaxWarning: invalid escape sequence '\\S'\n",
      "<>:2: SyntaxWarning: invalid escape sequence '\\S'\n",
      "<>:5: SyntaxWarning: invalid escape sequence '\\S'\n",
      "/var/folders/s7/z86r4t9j6yx376cm120nln6w0000gn/T/ipykernel_34186/1757023172.py:2: SyntaxWarning: invalid escape sequence '\\S'\n",
      "  print(\"Differenza tra S2 e S1, i.e. S2\\S1:\", S_difference)\n",
      "/var/folders/s7/z86r4t9j6yx376cm120nln6w0000gn/T/ipykernel_34186/1757023172.py:5: SyntaxWarning: invalid escape sequence '\\S'\n",
      "  print(\"Differenza tra S1 e S2, i.e. S1\\S2:\", S_difference)\n"
     ]
    }
   ],
   "source": [
    "S_difference = S2 - S1\n",
    "print(\"Differenza tra S2 e S1, i.e. S2\\S1:\", S_difference)\n",
    "\n",
    "S_difference = S1.difference(S2)\n",
    "print(\"Differenza tra S1 e S2, i.e. S1\\S2:\", S_difference)\n"
   ]
  },
  {
   "cell_type": "code",
   "execution_count": 20,
   "id": "0eff5478-d411-4224-94db-4cfdf3033541",
   "metadata": {},
   "outputs": [
    {
     "name": "stdout",
     "output_type": "stream",
     "text": [
      "S1 {0, 3, 6, 9, 12, 15, 18, 21, 24, 27, 30}\n",
      "S2 {0, 5, 10, 15, 20, 25, 30}\n",
      "Differenza simmetrica {3, 5, 6, 9, 10, 12, 18, 20, 21, 24, 25, 27}\n",
      "Differenza simmetrica {3, 5, 6, 9, 10, 12, 18, 20, 21, 24, 25, 27}\n"
     ]
    }
   ],
   "source": [
    "print(\"S1\", S1)\n",
    "print(\"S2\", S2)\n",
    "print(\"Differenza simmetrica\", S1 ^ S2)\n",
    "print(\"Differenza simmetrica\", S2.symmetric_difference(S1))\n"
   ]
  },
  {
   "cell_type": "code",
   "execution_count": 21,
   "id": "560e79f1-1415-4f6d-b760-14791a12c85a",
   "metadata": {},
   "outputs": [],
   "source": [
    "A = set([\"a\", \"b\", \"c\"])\n",
    "S = {1, 2, 3}\n"
   ]
  },
  {
   "cell_type": "code",
   "execution_count": 22,
   "id": "98773541-0557-4d3a-9bd9-202acc29f7cc",
   "metadata": {},
   "outputs": [],
   "source": [
    "def cartesian_product(S1, S2):\n",
    "    result = set()\n",
    "    for i in S1:\n",
    "        for j in S2:\n",
    "            result.add(tuple([i, j]))\n",
    "    return result\n"
   ]
  },
  {
   "cell_type": "code",
   "execution_count": 23,
   "id": "c5919425-fafe-40c9-9b09-39b1fcd8ae93",
   "metadata": {},
   "outputs": [
    {
     "name": "stdout",
     "output_type": "stream",
     "text": [
      "Prodotto cartesiano di A e S\n",
      "{'a', 'c', 'b'} x {1, 2, 3} = {('a', 2), ('b', 1), ('c', 2), ('a', 1), ('c', 1), ('b', 3), ('b', 2), ('c', 3), ('a', 3)}\n"
     ]
    }
   ],
   "source": [
    "C = cartesian_product(A, S)\n",
    "print(f\"Prodotto cartesiano di A e S\\n{A} x {S} = {C}\")"
   ]
  },
  {
   "cell_type": "code",
   "execution_count": 24,
   "id": "c986901d-4d68-4697-a7fb-97fb83c96286",
   "metadata": {},
   "outputs": [
    {
     "name": "stdout",
     "output_type": "stream",
     "text": [
      "La cardinalità dell'insieme prodotto cartesiano è: 9\n"
     ]
    }
   ],
   "source": [
    "print(\"La cardinalità dell'insieme prodotto cartesiano è:\", len(C))\n"
   ]
  },
  {
   "cell_type": "code",
   "execution_count": 25,
   "id": "85cf44c2-3737-46b5-ae31-4c2e901f3d71",
   "metadata": {},
   "outputs": [],
   "source": [
    "from itertools import product as prod"
   ]
  },
  {
   "cell_type": "code",
   "execution_count": 26,
   "id": "b25e322f-e415-4c97-a85e-29bbeeda88bf",
   "metadata": {},
   "outputs": [
    {
     "name": "stdout",
     "output_type": "stream",
     "text": [
      "A è l'insieme di tutti i possibili lanci di un dado: {1, 2, 3, 4, 5, 6}\n",
      "B è l'insieme di tutti i possibili lanci di un dado: {1, 2, 3, 4, 5, 6}\n",
      "\n",
      "Il prodotto di A e B è l'insieme dei risultati che si possono ottenere lanciando due dadi:\n",
      " [(1, 1), (1, 2), (1, 3), (1, 4), (1, 5), (1, 6), (2, 1), (2, 2), (2, 3), (2, 4), (2, 5), (2, 6), (3, 1), (3, 2), (3, 3), (3, 4), (3, 5), (3, 6), (4, 1), (4, 2), (4, 3), (4, 4), (4, 5), (4, 6), (5, 1), (5, 2), (5, 3), (5, 4), (5, 5), (5, 6), (6, 1), (6, 2), (6, 3), (6, 4), (6, 5), (6, 6)]\n"
     ]
    }
   ],
   "source": [
    "A = set([x for x in range(1, 7)])\n",
    "B = set([x for x in range(1, 7)])\n",
    "p = list(prod(A, B))\n",
    "\n",
    "print(\"A è l'insieme di tutti i possibili lanci di un dado:\", A)\n",
    "print(\"B è l'insieme di tutti i possibili lanci di un dado:\", B)\n",
    "print(\n",
    "    \"\\nIl prodotto di A e B è l'insieme dei risultati che si possono ottenere lanciando due dadi:\\n\",\n",
    "    p,\n",
    ")\n"
   ]
  },
  {
   "cell_type": "code",
   "execution_count": 27,
   "id": "b941b7b5-c734-440e-8f8b-ac6e41aef1d8",
   "metadata": {},
   "outputs": [
    {
     "name": "stdout",
     "output_type": "stream",
     "text": [
      "Il quadrato dell'insieme A è un insieme che contiene 4 elementi: [('Tail', 'Tail'), ('Tail', 'Head'), ('Head', 'Tail'), ('Head', 'Head')]\n"
     ]
    }
   ],
   "source": [
    "A = {\"Head\", \"Tail\"} \n",
    "p2 = list(prod(A, repeat=2))  \n",
    "print(f\"Il quadrato dell'insieme A è un insieme che contiene {len(p2)} elementi: {p2}\")"
   ]
  },
  {
   "cell_type": "code",
   "execution_count": 28,
   "id": "a7b6ff79-e427-4ee4-af5a-73df1abbbce1",
   "metadata": {},
   "outputs": [
    {
     "name": "stdout",
     "output_type": "stream",
     "text": [
      "L'insieme A elevato alla terza potenza è costituito da 8 elementi: [('Tail', 'Tail', 'Tail'), ('Tail', 'Tail', 'Head'), ('Tail', 'Head', 'Tail'), ('Tail', 'Head', 'Head'), ('Head', 'Tail', 'Tail'), ('Head', 'Tail', 'Head'), ('Head', 'Head', 'Tail'), ('Head', 'Head', 'Head')]\n"
     ]
    }
   ],
   "source": [
    "p3 = list(prod(A, repeat=3))  \n",
    "print(f\"L'insieme A elevato alla terza potenza è costituito da {len(p3)} elementi: {p3}\")"
   ]
  },
  {
   "cell_type": "code",
   "execution_count": 29,
   "id": "373b4e75-2dfa-4724-a0d3-91b24c143526",
   "metadata": {},
   "outputs": [
    {
     "name": "stdout",
     "output_type": "stream",
     "text": [
      "Last updated: Sun Jun 16 2024\n",
      "\n",
      "Python implementation: CPython\n",
      "Python version       : 3.12.3\n",
      "IPython version      : 8.25.0\n",
      "\n",
      "Watermark: 2.4.3\n",
      "\n"
     ]
    }
   ],
   "source": [
    "%load_ext watermark\n",
    "%watermark -n -u -v -iv -w"
   ]
  }
 ],
 "metadata": {
  "kernelspec": {
   "display_name": "pymc",
   "language": "python",
   "name": "python3"
  },
  "language_info": {
   "codemirror_mode": {
    "name": "ipython",
    "version": 3
   },
   "file_extension": ".py",
   "mimetype": "text/x-python",
   "name": "python",
   "nbconvert_exporter": "python",
   "pygments_lexer": "ipython3",
   "version": "3.12.3"
  }
 },
 "nbformat": 4,
 "nbformat_minor": 2
}