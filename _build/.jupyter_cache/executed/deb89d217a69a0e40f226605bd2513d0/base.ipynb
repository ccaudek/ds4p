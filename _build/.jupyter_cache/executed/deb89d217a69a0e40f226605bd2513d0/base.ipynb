{
 "cells": [
  {
   "cell_type": "code",
   "execution_count": 1,
   "id": "25c7614e-d758-40c3-9dac-a9bca3ee95fb",
   "metadata": {},
   "outputs": [],
   "source": [
    "import numpy as np\n",
    "import scipy.stats as stats\n",
    "from scipy.stats import binom, geom\n",
    "from scipy.special import comb\n",
    "\n",
    "import pymc as pm\n",
    "import arviz as az\n",
    "import xarray as xr\n",
    "import scipy.stats as stats\n",
    "import warnings\n",
    "\n",
    "warnings.filterwarnings(\"ignore\")"
   ]
  },
  {
   "cell_type": "code",
   "execution_count": 2,
   "id": "62b49b3e-e13e-40aa-b4cf-bfc66bf0b0a8",
   "metadata": {},
   "outputs": [
    {
     "name": "stdout",
     "output_type": "stream",
     "text": [
      "0.0348\n"
     ]
    }
   ],
   "source": [
    "# To make the simulation reproducible\n",
    "np.random.seed(123)\n",
    "\n",
    "mu_0 = 100\n",
    "sigma = 15\n",
    "n = 30\n",
    "n_sim = 10000  # Number of simulations\n",
    "\n",
    "# Generate n_sim sample means from a N(mu_0, sigma/sqrt(n))\n",
    "sample_means = np.random.normal(loc=mu_0, scale=sigma / np.sqrt(n), size=n_sim)\n",
    "\n",
    "# Calculate the p-value as the proportion of sample means > 105\n",
    "p_value = np.sum(sample_means > 105) / n_sim\n",
    "\n",
    "# Print the p-value\n",
    "print(p_value)"
   ]
  },
  {
   "cell_type": "code",
   "execution_count": 3,
   "id": "5e4177f3-26f0-40cb-acbd-90aedd8fa48d",
   "metadata": {},
   "outputs": [
    {
     "name": "stdout",
     "output_type": "stream",
     "text": [
      "1.8257418583505538\n"
     ]
    }
   ],
   "source": [
    "Z = (105 - 100) / (15 / np.sqrt(30))\n",
    "print(Z)"
   ]
  },
  {
   "cell_type": "code",
   "execution_count": 4,
   "id": "88eee5cc-2e32-4bf8-ac04-dc813353ab7a",
   "metadata": {},
   "outputs": [
    {
     "name": "stdout",
     "output_type": "stream",
     "text": [
      "0.033944577430914495\n"
     ]
    }
   ],
   "source": [
    "# Calculate the upper tail probability\n",
    "upper_tail_prob = stats.norm.sf(Z)\n",
    "\n",
    "print(upper_tail_prob)"
   ]
  },
  {
   "cell_type": "code",
   "execution_count": 5,
   "id": "67150686-b75f-4225-afc2-21df3a74258c",
   "metadata": {},
   "outputs": [
    {
     "name": "stdout",
     "output_type": "stream",
     "text": [
      "0.0339445774309145\n"
     ]
    }
   ],
   "source": [
    "upper_tail_prob = 1 - stats.norm.cdf(105, loc=100, scale=15 / np.sqrt(30))\n",
    "print(upper_tail_prob)"
   ]
  },
  {
   "cell_type": "code",
   "execution_count": 6,
   "id": "671112a2-db17-436c-b523-b4f157c44674",
   "metadata": {},
   "outputs": [
    {
     "name": "stdout",
     "output_type": "stream",
     "text": [
      "1.8961522623996823\n"
     ]
    }
   ],
   "source": [
    "T = (0.56 - 0.50) / (0.179 / np.sqrt(32))\n",
    "print(T)"
   ]
  },
  {
   "cell_type": "code",
   "execution_count": 7,
   "id": "7bc7c201-77a7-4076-bf9d-a46249144967",
   "metadata": {},
   "outputs": [
    {
     "name": "stdout",
     "output_type": "stream",
     "text": [
      "0.033647093369739034\n"
     ]
    }
   ],
   "source": [
    "p = 1 - stats.t.cdf(T, 31)\n",
    "print(p)"
   ]
  },
  {
   "cell_type": "code",
   "execution_count": 8,
   "id": "c3d077ed-6d89-4615-a457-31acc3e8919e",
   "metadata": {},
   "outputs": [
    {
     "data": {
      "text/plain": [
       "(0.109375, 0.03125)"
      ]
     },
     "execution_count": 8,
     "metadata": {},
     "output_type": "execute_result"
    }
   ],
   "source": [
    "# Parametri\n",
    "n_binomial = 6  # Numero fisso di tentativi per la distribuzione binomiale\n",
    "n_success = 5  # Numero di successi desiderato\n",
    "p = 0.5  # Probabilità di successo (indovinare la tazza di tè)\n",
    "\n",
    "# Calcolo del p-value per la distribuzione binomiale\n",
    "p_value_binomial = 1 - binom.cdf(n_success - 1, n_binomial, p)\n",
    "\n",
    "# Calcolo del p-value per la distribuzione geometrica negativa\n",
    "p_value_geom_corrected = 0\n",
    "for k in range(n_binomial - n_success):  # Numero di fallimenti prima del 5° successo\n",
    "    p_value_geom_corrected += (\n",
    "        comb(k + n_success - 1, k) * ((1 - p) ** k) * (p**n_success)\n",
    "    )\n",
    "\n",
    "p_value_binomial, p_value_geom_corrected"
   ]
  },
  {
   "cell_type": "code",
   "execution_count": 9,
   "id": "8ab7dfff-28b0-4506-9333-252fd0707ad1",
   "metadata": {},
   "outputs": [
    {
     "name": "stdout",
     "output_type": "stream",
     "text": [
      "Last updated: Sun Jun 16 2024\n",
      "\n",
      "Python implementation: CPython\n",
      "Python version       : 3.12.3\n",
      "IPython version      : 8.25.0\n",
      "\n",
      "Compiler    : Clang 16.0.6 \n",
      "OS          : Darwin\n",
      "Release     : 23.4.0\n",
      "Machine     : arm64\n",
      "Processor   : arm\n",
      "CPU cores   : 8\n",
      "Architecture: 64bit\n",
      "\n",
      "scipy : 1.13.1\n",
      "xarray: 2024.5.0\n",
      "numpy : 1.26.4\n",
      "pymc  : 5.15.1\n",
      "arviz : 0.18.0\n",
      "\n",
      "Watermark: 2.4.3\n",
      "\n"
     ]
    }
   ],
   "source": [
    "%load_ext watermark\n",
    "%watermark -n -u -v -iv -w -m"
   ]
  }
 ],
 "metadata": {
  "kernelspec": {
   "display_name": "pymc_env",
   "language": "python",
   "name": "python3"
  },
  "language_info": {
   "codemirror_mode": {
    "name": "ipython",
    "version": 3
   },
   "file_extension": ".py",
   "mimetype": "text/x-python",
   "name": "python",
   "nbconvert_exporter": "python",
   "pygments_lexer": "ipython3",
   "version": "3.12.3"
  }
 },
 "nbformat": 4,
 "nbformat_minor": 2
}