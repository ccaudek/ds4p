{
 "cells": [
  {
   "cell_type": "code",
   "execution_count": 1,
   "id": "f235a5e2-edeb-45a4-85e9-647ff03dfe46",
   "metadata": {},
   "outputs": [],
   "source": [
    "import numpy as np\n",
    "import pandas as pd\n",
    "import random "
   ]
  },
  {
   "cell_type": "code",
   "execution_count": 2,
   "id": "6ac07b04-dd7e-4f38-8ceb-70777a0fd7f3",
   "metadata": {},
   "outputs": [
    {
     "data": {
      "text/plain": [
       "[(1, 1),\n",
       " (1, 2),\n",
       " (1, 3),\n",
       " (1, 4),\n",
       " (1, 5),\n",
       " (1, 6),\n",
       " (2, 1),\n",
       " (2, 2),\n",
       " (2, 3),\n",
       " (2, 4),\n",
       " (2, 5),\n",
       " (2, 6),\n",
       " (3, 1),\n",
       " (3, 2),\n",
       " (3, 3),\n",
       " (3, 4),\n",
       " (3, 5),\n",
       " (3, 6),\n",
       " (4, 1),\n",
       " (4, 2),\n",
       " (4, 3),\n",
       " (4, 4),\n",
       " (4, 5),\n",
       " (4, 6),\n",
       " (5, 1),\n",
       " (5, 2),\n",
       " (5, 3),\n",
       " (5, 4),\n",
       " (5, 5),\n",
       " (5, 6),\n",
       " (6, 1),\n",
       " (6, 2),\n",
       " (6, 3),\n",
       " (6, 4),\n",
       " (6, 5),\n",
       " (6, 6)]"
      ]
     },
     "execution_count": 2,
     "metadata": {},
     "output_type": "execute_result"
    }
   ],
   "source": [
    "r = range(1, 7)\n",
    "sample = [(i, j) for i in r for j in r]\n",
    "sample"
   ]
  },
  {
   "cell_type": "code",
   "execution_count": 3,
   "id": "86bdd0d5-85f7-4a1a-9a70-0495da29b95b",
   "metadata": {},
   "outputs": [
    {
     "name": "stdout",
     "output_type": "stream",
     "text": [
      "21 / 36\n"
     ]
    }
   ],
   "source": [
    "event = [roll for roll in sample if sum(roll) < 8]\n",
    "print(f\"{len(event)} / {len(sample)}\")"
   ]
  },
  {
   "cell_type": "code",
   "execution_count": 4,
   "id": "65ebc031-cce0-40db-b0dc-c9ed3ee6c5ff",
   "metadata": {},
   "outputs": [
    {
     "data": {
      "text/plain": [
       "[(1, 2),\n",
       " (1, 4),\n",
       " (1, 6),\n",
       " (2, 1),\n",
       " (2, 3),\n",
       " (2, 5),\n",
       " (3, 2),\n",
       " (3, 4),\n",
       " (3, 6),\n",
       " (4, 1),\n",
       " (4, 3),\n",
       " (4, 5),\n",
       " (5, 2),\n",
       " (5, 4),\n",
       " (5, 6),\n",
       " (6, 1),\n",
       " (6, 3),\n",
       " (6, 5)]"
      ]
     },
     "execution_count": 4,
     "metadata": {},
     "output_type": "execute_result"
    }
   ],
   "source": [
    "sample_odd = [roll for roll in sample if (sum(roll) % 2) != 0]\n",
    "sample_odd"
   ]
  },
  {
   "cell_type": "code",
   "execution_count": 5,
   "id": "f7ac8288-35af-4543-8701-9389a7fc4d25",
   "metadata": {},
   "outputs": [
    {
     "name": "stdout",
     "output_type": "stream",
     "text": [
      "12 / 18\n"
     ]
    }
   ],
   "source": [
    "event = [roll for roll in sample_odd if sum(roll) < 8]\n",
    "print(f\"{len(event)} / {len(sample_odd)}\")"
   ]
  },
  {
   "cell_type": "code",
   "execution_count": 6,
   "id": "262076d9-961b-4401-a7e6-be090999990f",
   "metadata": {},
   "outputs": [
    {
     "name": "stdout",
     "output_type": "stream",
     "text": [
      "0.3302\n",
      "0.6698\n"
     ]
    }
   ],
   "source": [
    "porte = [\n",
    "    \"capra1\",\n",
    "    \"capra2\",\n",
    "    \"macchina\",\n",
    "]  # definisco il gioco, scelgo una porta a caso per n volte\n",
    "counter = 0\n",
    "contatore_cambio = 0\n",
    "n = 10000\n",
    "porta_vincente = \"macchina\"\n",
    "for i in range(n):\n",
    "    scelta_casuale = random.choice(porte)\n",
    "    porte_rimaste = [x for x in porte if x != scelta_casuale]\n",
    "    porta_rivelata = random.choice([x for x in porte_rimaste if x != porta_vincente])\n",
    "    porta_alternativa = [\n",
    "        x for x in porte if x != scelta_casuale and x != porta_rivelata\n",
    "    ]\n",
    "    if \"macchina\" in porta_alternativa:\n",
    "        contatore_cambio += 1\n",
    "    if scelta_casuale == \"macchina\":\n",
    "        counter += 1\n",
    "\n",
    "print(counter / n)  # quante volte vinco non cambiando porta\n",
    "print(contatore_cambio / n)  # quante volte vinco cambiando porta"
   ]
  },
  {
   "cell_type": "code",
   "execution_count": 7,
   "id": "963672e3-7cdd-4bf8-8583-df57424d1362",
   "metadata": {},
   "outputs": [
    {
     "name": "stdout",
     "output_type": "stream",
     "text": [
      "[(1, 1), (1, 2), (1, 3), (1, 4), (1, 5), (1, 6), (2, 1), (2, 2), (2, 3), (2, 4), (2, 5), (2, 6)]\n",
      "12 / 36\n"
     ]
    }
   ],
   "source": [
    "r = range(1, 7)\n",
    "sample = [(i, j) for i in r for j in r]\n",
    "A = [roll for roll in sample if roll[0] == 1 or roll[0] == 2]\n",
    "print(A)\n",
    "print(f\"{len(A)} / {len(sample)}\")"
   ]
  },
  {
   "cell_type": "code",
   "execution_count": 8,
   "id": "1ea3a1d5-6b44-407d-bc7e-35602782ef17",
   "metadata": {},
   "outputs": [
    {
     "name": "stdout",
     "output_type": "stream",
     "text": [
      "[(2, 6), (3, 5), (4, 4), (5, 3), (6, 2)]\n",
      "5 / 36\n"
     ]
    }
   ],
   "source": [
    "B = [roll for roll in sample if roll[0] + roll[1] == 8]\n",
    "print(B)\n",
    "print(f\"{len(B)} / {len(sample)}\")"
   ]
  },
  {
   "cell_type": "code",
   "execution_count": 9,
   "id": "3dbc25be-84b0-49d1-9c92-959a6f0ea4b4",
   "metadata": {},
   "outputs": [
    {
     "name": "stdout",
     "output_type": "stream",
     "text": [
      "[(2, 6)]\n",
      "1 / 36\n"
     ]
    }
   ],
   "source": [
    "I = [\n",
    "    roll\n",
    "    for roll in sample\n",
    "    if (roll[0] == 1 or roll[0] == 2) and (roll[0] + roll[1] == 8)\n",
    "]\n",
    "print(I)\n",
    "print(f\"{len(I)} / {len(sample)}\")"
   ]
  },
  {
   "cell_type": "code",
   "execution_count": 10,
   "id": "ba0f5375-3073-4503-97f9-8715293933b0",
   "metadata": {},
   "outputs": [
    {
     "data": {
      "text/plain": [
       "False"
      ]
     },
     "execution_count": 10,
     "metadata": {},
     "output_type": "execute_result"
    }
   ],
   "source": [
    "12/36 * 5/36 == 1/36"
   ]
  },
  {
   "cell_type": "code",
   "execution_count": 11,
   "id": "a1daed63-4e8f-4775-bec6-1d17db139078",
   "metadata": {},
   "outputs": [
    {
     "name": "stdout",
     "output_type": "stream",
     "text": [
      "Last updated: Sun Jun 16 2024\n",
      "\n",
      "Python implementation: CPython\n",
      "Python version       : 3.12.3\n",
      "IPython version      : 8.25.0\n",
      "\n",
      "Compiler    : Clang 16.0.6 \n",
      "OS          : Darwin\n",
      "Release     : 23.4.0\n",
      "Machine     : arm64\n",
      "Processor   : arm\n",
      "CPU cores   : 8\n",
      "Architecture: 64bit\n",
      "\n",
      "pandas: 2.2.2\n",
      "numpy : 1.26.4\n",
      "\n",
      "Watermark: 2.4.3\n",
      "\n"
     ]
    }
   ],
   "source": [
    "%load_ext watermark\n",
    "%watermark -n -u -v -iv -w -m "
   ]
  }
 ],
 "metadata": {
  "kernelspec": {
   "display_name": "pymc",
   "language": "python",
   "name": "python3"
  },
  "language_info": {
   "codemirror_mode": {
    "name": "ipython",
    "version": 3
   },
   "file_extension": ".py",
   "mimetype": "text/x-python",
   "name": "python",
   "nbconvert_exporter": "python",
   "pygments_lexer": "ipython3",
   "version": "3.12.3"
  },
  "vscode": {
   "interpreter": {
    "hash": "cbb367cc0128e23b7454d788d5a4229ca1f9848fd2e857f4797fbd26ab3b0776"
   }
  }
 },
 "nbformat": 4,
 "nbformat_minor": 2
}