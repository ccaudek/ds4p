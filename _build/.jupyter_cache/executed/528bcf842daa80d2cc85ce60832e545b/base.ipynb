{
 "cells": [
  {
   "cell_type": "code",
   "execution_count": 1,
   "id": "20cd8977-7f6e-4403-8bc9-b084aa6d0d07",
   "metadata": {},
   "outputs": [
    {
     "data": {
      "text/plain": [
       "81"
      ]
     },
     "execution_count": 1,
     "metadata": {},
     "output_type": "execute_result"
    }
   ],
   "source": [
    "3 ** 4"
   ]
  },
  {
   "cell_type": "code",
   "execution_count": 2,
   "id": "ef2cced1-6bcb-48ed-a60c-d122e5ad8521",
   "metadata": {},
   "outputs": [
    {
     "data": {
      "text/plain": [
       "5"
      ]
     },
     "execution_count": 2,
     "metadata": {},
     "output_type": "execute_result"
    }
   ],
   "source": [
    "11 // 2"
   ]
  },
  {
   "cell_type": "code",
   "execution_count": 3,
   "id": "b490bfe1-958a-4857-9c84-32e4044094eb",
   "metadata": {},
   "outputs": [
    {
     "data": {
      "text/plain": [
       "1"
      ]
     },
     "execution_count": 3,
     "metadata": {},
     "output_type": "execute_result"
    }
   ],
   "source": [
    "11 % 2"
   ]
  },
  {
   "cell_type": "code",
   "execution_count": 4,
   "id": "09e89459-c532-41fd-b989-de0656a0956a",
   "metadata": {},
   "outputs": [
    {
     "name": "stdout",
     "output_type": "stream",
     "text": [
      "a + b is 6\n",
      "a - b is 2\n",
      "a * b is 8\n",
      "a / b is 2.0\n",
      "a ** b is 16\n",
      "9 % 4 is 1\n",
      "9 // 4 is 2\n"
     ]
    }
   ],
   "source": [
    "a = 4\n",
    "b = 2\n",
    "\n",
    "print(\"a + b is\", a + b)\n",
    "print(\"a - b is\", a - b)\n",
    "print(\"a * b is\", a * b)\n",
    "print(\"a / b is\", a / b)\n",
    "print(\"a ** b is\", a**b)\n",
    "print(\"9 % 4 is\", 9 % 4)\n",
    "print(\"9 // 4 is\", 9 // 4)\n"
   ]
  },
  {
   "cell_type": "code",
   "execution_count": 5,
   "id": "08816906-1eb2-4e84-981f-72f09f9ee0b7",
   "metadata": {},
   "outputs": [
    {
     "data": {
      "text/plain": [
       "17.555555555555557"
      ]
     },
     "execution_count": 5,
     "metadata": {},
     "output_type": "execute_result"
    }
   ],
   "source": [
    "1 + 2 * 3 * 4 * 5 / 6 ** 3 + 7 + 8 - 9 + 10"
   ]
  },
  {
   "cell_type": "code",
   "execution_count": 6,
   "id": "38aefb02-e0fa-4531-9a8a-4dba208e86c3",
   "metadata": {},
   "outputs": [
    {
     "data": {
      "text/plain": [
       "2017.0"
      ]
     },
     "execution_count": 6,
     "metadata": {},
     "output_type": "execute_result"
    }
   ],
   "source": [
    "1 + 2 * (3 * 4 * 5 / 6) ** 3 + 7 + 8 - 9 + 10"
   ]
  },
  {
   "cell_type": "code",
   "execution_count": 7,
   "id": "d70b117a-e9a4-46cb-af8a-3bd6b005ebc6",
   "metadata": {},
   "outputs": [
    {
     "data": {
      "text/plain": [
       "30"
      ]
     },
     "execution_count": 7,
     "metadata": {},
     "output_type": "execute_result"
    }
   ],
   "source": [
    "a = 10\n",
    "b = 20\n",
    "a + b"
   ]
  },
  {
   "cell_type": "code",
   "execution_count": 8,
   "id": "028cd32b-2084-48cf-a50a-426ae076a7d0",
   "metadata": {},
   "outputs": [
    {
     "data": {
      "text/plain": [
       "0.5"
      ]
     },
     "execution_count": 8,
     "metadata": {},
     "output_type": "execute_result"
    }
   ],
   "source": [
    "a = 1/4\n",
    "b = 2 * a\n",
    "b"
   ]
  },
  {
   "cell_type": "code",
   "execution_count": 9,
   "id": "cf42e29f-9076-4981-bcc6-47c843d940cd",
   "metadata": {},
   "outputs": [
    {
     "data": {
      "text/plain": [
       "300"
      ]
     },
     "execution_count": 9,
     "metadata": {},
     "output_type": "execute_result"
    }
   ],
   "source": [
    "my_var = 100\n",
    "const = 3\n",
    "\n",
    "my_var * const"
   ]
  },
  {
   "cell_type": "code",
   "execution_count": 10,
   "id": "914bc20b-2222-4723-867d-077456577292",
   "metadata": {},
   "outputs": [
    {
     "name": "stdout",
     "output_type": "stream",
     "text": [
      "False\n",
      "None\n",
      "True\n",
      "and\n",
      "as\n",
      "assert\n",
      "async\n",
      "await\n",
      "break\n",
      "class\n",
      "continue\n",
      "def\n",
      "del\n",
      "elif\n",
      "else\n",
      "except\n",
      "finally\n",
      "for\n",
      "from\n",
      "global\n",
      "if\n",
      "import\n",
      "in\n",
      "is\n",
      "lambda\n",
      "nonlocal\n",
      "not\n",
      "or\n",
      "pass\n",
      "raise\n",
      "return\n",
      "try\n",
      "while\n",
      "with\n",
      "yield\n"
     ]
    }
   ],
   "source": [
    "import keyword\n",
    "print(*keyword.kwlist, sep=\"\\n\")"
   ]
  },
  {
   "cell_type": "code",
   "execution_count": 11,
   "id": "64244d22-fed4-4be6-8cf5-283a95d93540",
   "metadata": {},
   "outputs": [
    {
     "name": "stdout",
     "output_type": "stream",
     "text": [
      "<class 'str'>\n"
     ]
    }
   ],
   "source": [
    "x = \"hello\"\n",
    "print(type(x))"
   ]
  },
  {
   "cell_type": "code",
   "execution_count": 12,
   "id": "f63d0a4c-2fe3-4432-9cb2-06ed4b0eb06b",
   "metadata": {},
   "outputs": [
    {
     "name": "stdout",
     "output_type": "stream",
     "text": [
      "<class 'int'>\n"
     ]
    }
   ],
   "source": [
    "age = 20\n",
    "print(type(age))"
   ]
  },
  {
   "cell_type": "code",
   "execution_count": 13,
   "id": "f433f0b4-766f-4be8-a3c5-977e44a2efc0",
   "metadata": {},
   "outputs": [
    {
     "name": "stdout",
     "output_type": "stream",
     "text": [
      "<class 'float'>\n"
     ]
    }
   ],
   "source": [
    "temperature = 36.4\n",
    "print(type(temperature))"
   ]
  },
  {
   "cell_type": "code",
   "execution_count": 14,
   "id": "73a85809-c8e0-40f0-b270-924b440f0371",
   "metadata": {},
   "outputs": [
    {
     "data": {
      "text/plain": [
       "'datascience'"
      ]
     },
     "execution_count": 14,
     "metadata": {},
     "output_type": "execute_result"
    }
   ],
   "source": [
    "\"data\" + \"science\""
   ]
  },
  {
   "cell_type": "code",
   "execution_count": 15,
   "id": "bc362f63-bf67-4702-8e43-a2b717138118",
   "metadata": {},
   "outputs": [
    {
     "data": {
      "text/plain": [
       "'data science'"
      ]
     },
     "execution_count": 15,
     "metadata": {},
     "output_type": "execute_result"
    }
   ],
   "source": [
    "\"data\" + \" \" + \"science\""
   ]
  },
  {
   "cell_type": "code",
   "execution_count": 16,
   "id": "66623830-5974-4ba8-a7ff-a1c63e03bf5e",
   "metadata": {},
   "outputs": [
    {
     "data": {
      "text/plain": [
       "\"Che cos'è una parola?\""
      ]
     },
     "execution_count": 16,
     "metadata": {},
     "output_type": "execute_result"
    }
   ],
   "source": [
    "\"Che cos'è una parola?\""
   ]
  },
  {
   "cell_type": "code",
   "execution_count": 17,
   "id": "a344384a-e945-4d63-9857-4b647c08d5d6",
   "metadata": {},
   "outputs": [
    {
     "name": "stdout",
     "output_type": "stream",
     "text": [
      "Tendono alla chiarità le cose oscure\n"
     ]
    }
   ],
   "source": [
    "my_string = \"Tendono alla chiarità le cose oscure\"\n",
    "print(my_string)"
   ]
  },
  {
   "cell_type": "code",
   "execution_count": 18,
   "id": "f41defe3-33fd-47a9-a5d1-21c7cd6e0fbc",
   "metadata": {},
   "outputs": [
    {
     "data": {
      "text/plain": [
       "'T'"
      ]
     },
     "execution_count": 18,
     "metadata": {},
     "output_type": "execute_result"
    }
   ],
   "source": [
    "my_string[0]"
   ]
  },
  {
   "cell_type": "code",
   "execution_count": 19,
   "id": "4c131975-904d-4876-a5cd-b0b4c2f8f043",
   "metadata": {},
   "outputs": [
    {
     "data": {
      "text/plain": [
       "'d'"
      ]
     },
     "execution_count": 19,
     "metadata": {},
     "output_type": "execute_result"
    }
   ],
   "source": [
    "my_string[3]"
   ]
  },
  {
   "cell_type": "code",
   "execution_count": 20,
   "id": "24ca1aa1-6fc3-4ac5-83ce-bacccc677f52",
   "metadata": {},
   "outputs": [
    {
     "data": {
      "text/plain": [
       "36"
      ]
     },
     "execution_count": 20,
     "metadata": {},
     "output_type": "execute_result"
    }
   ],
   "source": [
    "len(my_string)"
   ]
  },
  {
   "cell_type": "code",
   "execution_count": 21,
   "id": "571d4416-3bc1-4aee-8de5-37f7822fffcc",
   "metadata": {},
   "outputs": [
    {
     "data": {
      "text/plain": [
       "'e'"
      ]
     },
     "execution_count": 21,
     "metadata": {},
     "output_type": "execute_result"
    }
   ],
   "source": [
    "my_string[len(my_string)-1]"
   ]
  },
  {
   "cell_type": "code",
   "execution_count": 22,
   "id": "59540344-abcb-400e-8f82-3060653c6536",
   "metadata": {},
   "outputs": [
    {
     "data": {
      "text/plain": [
       "'nd'"
      ]
     },
     "execution_count": 22,
     "metadata": {},
     "output_type": "execute_result"
    }
   ],
   "source": [
    "my_string[2:4]"
   ]
  },
  {
   "cell_type": "code",
   "execution_count": 23,
   "id": "311d2c62-b870-4868-9014-432b537737ad",
   "metadata": {},
   "outputs": [
    {
     "data": {
      "text/plain": [
       "'Tend'"
      ]
     },
     "execution_count": 23,
     "metadata": {},
     "output_type": "execute_result"
    }
   ],
   "source": [
    "my_string[:4]"
   ]
  },
  {
   "cell_type": "code",
   "execution_count": 24,
   "id": "8973e180-de39-4044-9ad5-6d1373d2897c",
   "metadata": {},
   "outputs": [
    {
     "data": {
      "text/plain": [
       "'ono alla chiarità le cose oscure'"
      ]
     },
     "execution_count": 24,
     "metadata": {},
     "output_type": "execute_result"
    }
   ],
   "source": [
    "my_string[4:]"
   ]
  },
  {
   "cell_type": "code",
   "execution_count": 25,
   "id": "283f58cd-ece1-4648-a663-95d6775eb677",
   "metadata": {},
   "outputs": [
    {
     "data": {
      "text/plain": [
       "'TENDONO ALLA CHIARITÀ LE COSE OSCURE'"
      ]
     },
     "execution_count": 25,
     "metadata": {},
     "output_type": "execute_result"
    }
   ],
   "source": [
    "my_string.upper()"
   ]
  },
  {
   "cell_type": "code",
   "execution_count": 26,
   "id": "48eb4f85-47cc-4d10-b900-8f349c17ffa2",
   "metadata": {},
   "outputs": [
    {
     "data": {
      "text/plain": [
       "'Tendono Alla Chiarità Le Cose Oscure'"
      ]
     },
     "execution_count": 26,
     "metadata": {},
     "output_type": "execute_result"
    }
   ],
   "source": [
    "my_string.title()"
   ]
  },
  {
   "cell_type": "code",
   "execution_count": 27,
   "id": "76bb4341-619d-4e2d-9da1-604c0a6d9148",
   "metadata": {},
   "outputs": [
    {
     "data": {
      "text/plain": [
       "2"
      ]
     },
     "execution_count": 27,
     "metadata": {},
     "output_type": "execute_result"
    }
   ],
   "source": [
    "True + True + False"
   ]
  },
  {
   "cell_type": "code",
   "execution_count": 28,
   "id": "c9138dd6-e6f3-4000-924c-f6b6147599fb",
   "metadata": {},
   "outputs": [
    {
     "data": {
      "text/plain": [
       "True"
      ]
     },
     "execution_count": 28,
     "metadata": {},
     "output_type": "execute_result"
    }
   ],
   "source": [
    "3 > 1 + 1"
   ]
  },
  {
   "cell_type": "code",
   "execution_count": 29,
   "id": "89a79737-7237-459a-8e35-955611e8f9b3",
   "metadata": {},
   "outputs": [
    {
     "name": "stdout",
     "output_type": "stream",
     "text": [
      "a > b is True\n",
      "a < b is False\n",
      "a == b is False\n",
      "a >= b is True\n",
      "a <= b is False\n"
     ]
    }
   ],
   "source": [
    "a = 4\n",
    "b = 2\n",
    "\n",
    "print(\"a > b\", \"is\", a > b)\n",
    "print(\"a < b\", \"is\", a < b)\n",
    "print(\"a == b\", \"is\", a == b)\n",
    "print(\"a >= b\", \"is\", a >= b)\n",
    "print(\"a <= b\", \"is\", a <= b)"
   ]
  },
  {
   "cell_type": "code",
   "execution_count": 30,
   "id": "f06c9b59-beac-425a-ab53-34a7cde187de",
   "metadata": {},
   "outputs": [
    {
     "name": "stdout",
     "output_type": "stream",
     "text": [
      "False\n"
     ]
    }
   ],
   "source": [
    "boolean_condition = 10 == 20\n",
    "print(boolean_condition)"
   ]
  },
  {
   "cell_type": "code",
   "execution_count": 31,
   "id": "86f81f4d-f8d1-4360-a9c5-3ff918644862",
   "metadata": {},
   "outputs": [
    {
     "data": {
      "text/plain": [
       "True"
      ]
     },
     "execution_count": 31,
     "metadata": {},
     "output_type": "execute_result"
    }
   ],
   "source": [
    "1 < 1 + 1 < 3"
   ]
  },
  {
   "cell_type": "code",
   "execution_count": 32,
   "id": "b3d81eed-0cce-4f65-9e68-33ad3740bf47",
   "metadata": {},
   "outputs": [
    {
     "data": {
      "text/plain": [
       "True"
      ]
     },
     "execution_count": 32,
     "metadata": {},
     "output_type": "execute_result"
    }
   ],
   "source": [
    "a = 2\n",
    "b = 3\n",
    "\n",
    "(a + b > a) and (a + b > b)"
   ]
  },
  {
   "cell_type": "code",
   "execution_count": 33,
   "id": "ac3ba926-ded3-4156-98a4-91f87664152b",
   "metadata": {},
   "outputs": [
    {
     "data": {
      "text/plain": [
       "False"
      ]
     },
     "execution_count": 33,
     "metadata": {},
     "output_type": "execute_result"
    }
   ],
   "source": [
    "True and False"
   ]
  },
  {
   "cell_type": "code",
   "execution_count": 34,
   "id": "23cd32de-6518-4aa5-8761-90b384938f72",
   "metadata": {},
   "outputs": [
    {
     "data": {
      "text/plain": [
       "True"
      ]
     },
     "execution_count": 34,
     "metadata": {},
     "output_type": "execute_result"
    }
   ],
   "source": [
    "True or False"
   ]
  },
  {
   "cell_type": "code",
   "execution_count": 35,
   "id": "e1b0aa7b-9936-46a4-99dd-42daa53457af",
   "metadata": {},
   "outputs": [
    {
     "data": {
      "text/plain": [
       "False"
      ]
     },
     "execution_count": 35,
     "metadata": {},
     "output_type": "execute_result"
    }
   ],
   "source": [
    "not True"
   ]
  },
  {
   "cell_type": "code",
   "execution_count": 36,
   "id": "b91328a7-370a-4f32-84fa-c226b3b22f4d",
   "metadata": {},
   "outputs": [
    {
     "name": "stdout",
     "output_type": "stream",
     "text": [
      "True\n",
      "True\n",
      "False\n",
      "True\n",
      "True\n",
      "False\n",
      "True\n",
      "False\n",
      "True\n",
      "True\n",
      "False\n",
      "True\n",
      "True\n",
      "False\n"
     ]
    }
   ],
   "source": [
    "print(3 > 2)  # True, because 3 is greater than 2\n",
    "print(3 >= 2)  # True, because 3 is greater than 2\n",
    "print(3 < 2)  # False,  because 3 is greater than 2\n",
    "print(2 < 3)  # True, because 2 is less than 3\n",
    "print(2 <= 3)  # True, because 2 is less than 3\n",
    "print(3 == 2)  # False, because 3 is not equal to 2\n",
    "print(3 != 2)  # True, because 3 is not equal to 2\n",
    "print(len(\"mango\") == len(\"avocado\"))  # False\n",
    "print(len(\"mango\") != len(\"avocado\"))  # True\n",
    "print(len(\"mango\") < len(\"avocado\"))  # True\n",
    "print(len(\"milk\") != len(\"meat\"))  # False\n",
    "print(len(\"milk\") == len(\"meat\"))  # True\n",
    "print(len(\"tomato\") == len(\"potato\"))  # True\n",
    "print(len(\"python\") > len(\"dragon\"))  # False"
   ]
  },
  {
   "cell_type": "code",
   "execution_count": 37,
   "id": "e9ce3ea8-e1f6-4e3b-b3e4-783254067444",
   "metadata": {},
   "outputs": [
    {
     "name": "stdout",
     "output_type": "stream",
     "text": [
      "True\n",
      "False\n",
      "False\n",
      "True and True:  True\n",
      "True\n",
      "True\n",
      "False\n",
      "True or False: True\n",
      "False\n",
      "False\n",
      "True\n",
      "True\n",
      "False\n"
     ]
    }
   ],
   "source": [
    "print(3 > 2 and 4 > 3)  # True - because both statements are true\n",
    "print(3 > 2 and 4 < 3)  # False - because the second statement is false\n",
    "print(3 < 2 and 4 < 3)  # False - because both statements are false\n",
    "print(\"True and True: \", True and True)\n",
    "print(3 > 2 or 4 > 3)  # True - because both statements are true\n",
    "print(3 > 2 or 4 < 3)  # True - because one of the statements is true\n",
    "print(3 < 2 or 4 < 3)  # False - because both statements are false\n",
    "print(\"True or False:\", True or False)\n",
    "print(not 3 > 2)  # False - because 3 > 2 is true, then not True gives False\n",
    "print(not True)  # False - Negation, the not operator turns true to false\n",
    "print(not False)  # True\n",
    "print(not not True)  # True\n",
    "print(not not False)  # False"
   ]
  },
  {
   "cell_type": "code",
   "execution_count": 38,
   "id": "bf92ac0f-4972-45d8-b739-6a72556e96cf",
   "metadata": {},
   "outputs": [
    {
     "data": {
      "text/plain": [
       "True"
      ]
     },
     "execution_count": 38,
     "metadata": {},
     "output_type": "execute_result"
    }
   ],
   "source": [
    "True == 1"
   ]
  },
  {
   "cell_type": "code",
   "execution_count": 39,
   "id": "4772b9c9-a7c3-4658-85f5-e9b1b17f1a60",
   "metadata": {},
   "outputs": [
    {
     "data": {
      "text/plain": [
       "True"
      ]
     },
     "execution_count": 39,
     "metadata": {},
     "output_type": "execute_result"
    }
   ],
   "source": [
    "False == 0"
   ]
  },
  {
   "cell_type": "code",
   "execution_count": 40,
   "id": "88789dac-e8eb-4177-a27b-6e64d11febf3",
   "metadata": {},
   "outputs": [
    {
     "data": {
      "text/plain": [
       "1"
      ]
     },
     "execution_count": 40,
     "metadata": {},
     "output_type": "execute_result"
    }
   ],
   "source": [
    "True + False"
   ]
  },
  {
   "cell_type": "code",
   "execution_count": 41,
   "id": "35d9b3e4-9b66-4548-9d37-4f1aff7b21a8",
   "metadata": {},
   "outputs": [
    {
     "data": {
      "text/plain": [
       "int"
      ]
     },
     "execution_count": 41,
     "metadata": {},
     "output_type": "execute_result"
    }
   ],
   "source": [
    "type(True + False)"
   ]
  },
  {
   "cell_type": "code",
   "execution_count": 42,
   "id": "d6f719d0-26a4-421a-84a3-efc67269beaf",
   "metadata": {},
   "outputs": [
    {
     "data": {
      "text/plain": [
       "('Rosso', 'Nero', 'Bianco')"
      ]
     },
     "execution_count": 42,
     "metadata": {},
     "output_type": "execute_result"
    }
   ],
   "source": [
    "colors = (\"Rosso\", \"Nero\", \"Bianco\")\n",
    "colors"
   ]
  },
  {
   "cell_type": "code",
   "execution_count": 43,
   "id": "cec7d61d-7ac7-4f29-8a78-1b88c4e274d7",
   "metadata": {},
   "outputs": [
    {
     "data": {
      "text/plain": [
       "tuple"
      ]
     },
     "execution_count": 43,
     "metadata": {},
     "output_type": "execute_result"
    }
   ],
   "source": [
    "type(colors)"
   ]
  },
  {
   "cell_type": "code",
   "execution_count": 44,
   "id": "db02b241-95a7-4327-b363-eff252fec0d2",
   "metadata": {},
   "outputs": [
    {
     "data": {
      "text/plain": [
       "['Pippo', 3, -2.953, [1, 2, 3]]"
      ]
     },
     "execution_count": 44,
     "metadata": {},
     "output_type": "execute_result"
    }
   ],
   "source": [
    "my_list = [\"Pippo\", 3, -2.953, [1, 2, 3]]\n",
    "my_list"
   ]
  },
  {
   "cell_type": "code",
   "execution_count": 45,
   "id": "5a08a36c-bc35-4216-9baf-533a7a6d3007",
   "metadata": {},
   "outputs": [
    {
     "data": {
      "text/plain": [
       "list"
      ]
     },
     "execution_count": 45,
     "metadata": {},
     "output_type": "execute_result"
    }
   ],
   "source": [
    "type(my_list)"
   ]
  },
  {
   "cell_type": "code",
   "execution_count": 46,
   "id": "c46e5bbe-2ef7-4373-817d-12778f2ac9a6",
   "metadata": {},
   "outputs": [
    {
     "data": {
      "text/plain": [
       "3"
      ]
     },
     "execution_count": 46,
     "metadata": {},
     "output_type": "execute_result"
    }
   ],
   "source": [
    "my_list[1]"
   ]
  },
  {
   "cell_type": "code",
   "execution_count": 47,
   "id": "83a405e0-1b89-4cd2-86c3-5a4d9cbb4bb5",
   "metadata": {},
   "outputs": [
    {
     "data": {
      "text/plain": [
       "'Pippo'"
      ]
     },
     "execution_count": 47,
     "metadata": {},
     "output_type": "execute_result"
    }
   ],
   "source": [
    "my_list[0]"
   ]
  },
  {
   "cell_type": "code",
   "execution_count": 48,
   "id": "c4906df5-68f9-4b94-9450-2cc7fa1ee32c",
   "metadata": {},
   "outputs": [
    {
     "data": {
      "text/plain": [
       "4"
      ]
     },
     "execution_count": 48,
     "metadata": {},
     "output_type": "execute_result"
    }
   ],
   "source": [
    "len(my_list)"
   ]
  },
  {
   "cell_type": "code",
   "execution_count": 49,
   "id": "6a55796b-bc39-4478-8ee2-ce4144ac2053",
   "metadata": {},
   "outputs": [
    {
     "data": {
      "text/plain": [
       "0"
      ]
     },
     "execution_count": 49,
     "metadata": {},
     "output_type": "execute_result"
    }
   ],
   "source": [
    "empty_list = []\n",
    "len(empty_list)"
   ]
  },
  {
   "cell_type": "code",
   "execution_count": 50,
   "id": "7ed4cf0e-5558-4551-aea9-460ea27785b3",
   "metadata": {},
   "outputs": [
    {
     "name": "stdout",
     "output_type": "stream",
     "text": [
      "Fruits: ['banana', 'orange', 'mango', 'lemon']\n",
      "Number of fruits: 4\n",
      "Vegetables: ['Tomato', 'Potato', 'Cabbage', 'Onion', 'Carrot']\n",
      "Number of vegetables: 5\n"
     ]
    }
   ],
   "source": [
    "fruits = [\"banana\", \"orange\", \"mango\", \"lemon\"]  # list of fruits\n",
    "vegetables = [\"Tomato\", \"Potato\", \"Cabbage\", \"Onion\", \"Carrot\"]  # list of vegetables\n",
    "\n",
    "print(\"Fruits:\", fruits)\n",
    "print(\"Number of fruits:\", len(fruits))\n",
    "print(\"Vegetables:\", vegetables)\n",
    "print(\"Number of vegetables:\", len(vegetables))"
   ]
  },
  {
   "cell_type": "code",
   "execution_count": 51,
   "id": "ae2b0975-5d49-4efa-a9e1-eae69f2ba7c1",
   "metadata": {},
   "outputs": [],
   "source": [
    "names = [\"Carlo\", \"Giovanni\", \"Giacomo\"]\n",
    "names.sort()"
   ]
  },
  {
   "cell_type": "code",
   "execution_count": 52,
   "id": "ec4cbe06-64e2-46cd-8995-95a7aead7c88",
   "metadata": {},
   "outputs": [
    {
     "data": {
      "text/plain": [
       "['Carlo', 'Giacomo', 'Giovanni']"
      ]
     },
     "execution_count": 52,
     "metadata": {},
     "output_type": "execute_result"
    }
   ],
   "source": [
    "names"
   ]
  },
  {
   "cell_type": "code",
   "execution_count": 53,
   "id": "bdfab2ef-a224-4746-8b23-ae63db18dede",
   "metadata": {},
   "outputs": [
    {
     "data": {
      "text/plain": [
       "['Giovanni', 'Giacomo', 'Carlo']"
      ]
     },
     "execution_count": 53,
     "metadata": {},
     "output_type": "execute_result"
    }
   ],
   "source": [
    "names.sort(reverse=True)\n",
    "names"
   ]
  },
  {
   "cell_type": "code",
   "execution_count": 54,
   "id": "3abc4e0e-4b51-4f9f-af8e-5adb4152fe65",
   "metadata": {},
   "outputs": [
    {
     "name": "stdout",
     "output_type": "stream",
     "text": [
      "['banana', 'orange', 'mango', 'lemon']\n",
      "['orange', 'mango', 'lemon']\n"
     ]
    }
   ],
   "source": [
    "print(fruits)\n",
    "fruits.remove(\"banana\")\n",
    "print(fruits)"
   ]
  },
  {
   "cell_type": "code",
   "execution_count": 55,
   "id": "cc66aba6-f38f-49ce-abcb-d27337d496b5",
   "metadata": {},
   "outputs": [
    {
     "name": "stdout",
     "output_type": "stream",
     "text": [
      "['orange', 'mango', 'lemon']\n",
      "['orange', 'mango', 'watermelon', 'lemon']\n"
     ]
    }
   ],
   "source": [
    "print(fruits)\n",
    "fruits.insert(2, \"watermelon\")\n",
    "print(fruits)"
   ]
  },
  {
   "cell_type": "code",
   "execution_count": 56,
   "id": "23080dc6-d803-4e7a-ab50-c5024198674f",
   "metadata": {},
   "outputs": [
    {
     "name": "stdout",
     "output_type": "stream",
     "text": [
      "['orange', 'mango', 'watermelon', 'lemon']\n"
     ]
    }
   ],
   "source": [
    "print(fruits)\n",
    "new_fruits = fruits.copy()"
   ]
  },
  {
   "cell_type": "code",
   "execution_count": 57,
   "id": "bf555827-2ee4-4555-b125-55e058706dd3",
   "metadata": {},
   "outputs": [
    {
     "name": "stdout",
     "output_type": "stream",
     "text": [
      "['orange', 'mango', 'watermelon', 'lemon']\n"
     ]
    }
   ],
   "source": [
    "print(new_fruits)"
   ]
  },
  {
   "cell_type": "code",
   "execution_count": 58,
   "id": "93b9083f-d57c-4993-8b73-e49a87c9d5cd",
   "metadata": {},
   "outputs": [
    {
     "name": "stdout",
     "output_type": "stream",
     "text": [
      "[1, 2, 3, 4, 5, 6]\n"
     ]
    }
   ],
   "source": [
    "a = [1, 2, 3]\n",
    "b = [4, 5, 6]\n",
    "c = a + b\n",
    "print(c)"
   ]
  },
  {
   "cell_type": "code",
   "execution_count": 59,
   "id": "081641fd-b6c6-4436-9b7a-5f8f5a9c577b",
   "metadata": {},
   "outputs": [
    {
     "data": {
      "text/plain": [
       "[0, 0, 0, 0]"
      ]
     },
     "execution_count": 59,
     "metadata": {},
     "output_type": "execute_result"
    }
   ],
   "source": [
    "[0] * 4"
   ]
  },
  {
   "cell_type": "code",
   "execution_count": 60,
   "id": "3ec96e2c-f5cc-4ac9-9fbf-51ef360561ef",
   "metadata": {},
   "outputs": [
    {
     "data": {
      "text/plain": [
       "[1, 2, 3, 1, 2, 3, 1, 2, 3]"
      ]
     },
     "execution_count": 60,
     "metadata": {},
     "output_type": "execute_result"
    }
   ],
   "source": [
    "[1, 2, 3] * 3"
   ]
  },
  {
   "cell_type": "code",
   "execution_count": 61,
   "id": "7f0dd883-c0e9-49ea-bb8c-189131afe0ca",
   "metadata": {},
   "outputs": [
    {
     "data": {
      "text/plain": [
       "[1, 2, 3]"
      ]
     },
     "execution_count": 61,
     "metadata": {},
     "output_type": "execute_result"
    }
   ],
   "source": [
    "x = [1, 2, 3]\n",
    "x"
   ]
  },
  {
   "cell_type": "code",
   "execution_count": 62,
   "id": "f62c44b0-b67b-45c5-a208-932b64ff39e1",
   "metadata": {},
   "outputs": [
    {
     "name": "stdout",
     "output_type": "stream",
     "text": [
      "2.0\n"
     ]
    }
   ],
   "source": [
    "total = 0\n",
    "counter = 0\n",
    "\n",
    "for num in x:\n",
    "    counter += 1\n",
    "    total += num\n",
    "\n",
    "avg = total / counter\n",
    "\n",
    "print(avg)"
   ]
  },
  {
   "cell_type": "code",
   "execution_count": 63,
   "id": "0dc2ee1a-f66e-4eea-9123-831649e057be",
   "metadata": {},
   "outputs": [
    {
     "data": {
      "text/plain": [
       "2.0"
      ]
     },
     "execution_count": 63,
     "metadata": {},
     "output_type": "execute_result"
    }
   ],
   "source": [
    "import numpy as np\n",
    "\n",
    "x = np.array([1, 2, 3])\n",
    "np.mean(x)"
   ]
  },
  {
   "cell_type": "code",
   "execution_count": 64,
   "id": "48955833-e753-4f1b-8a12-0fb2f1dbeebf",
   "metadata": {},
   "outputs": [
    {
     "name": "stdout",
     "output_type": "stream",
     "text": [
      "3\n"
     ]
    }
   ],
   "source": [
    "ages = [22, 19, 24, 25, 26, 24, 25, 24]\n",
    "print(ages.count(24))         "
   ]
  },
  {
   "cell_type": "code",
   "execution_count": 65,
   "id": "50a05ac1-e75d-4e50-a6c6-bce620684def",
   "metadata": {},
   "outputs": [
    {
     "data": {
      "text/plain": [
       "2"
      ]
     },
     "execution_count": 65,
     "metadata": {},
     "output_type": "execute_result"
    }
   ],
   "source": [
    "ages.index(24)  # index of the first occurrence"
   ]
  },
  {
   "cell_type": "code",
   "execution_count": 66,
   "id": "96e90ee8-cebc-4842-9285-7f034009fa5d",
   "metadata": {},
   "outputs": [],
   "source": [
    "lista = [1, 2, 3, 4, 5, 6, 7, 8, 9, 10]\n",
    "\n",
    "# Estrarre una porzione della lista\n",
    "porzione = lista[2:6]  # [3, 4, 5, 6]\n",
    "\n",
    "# Estrarre una porzione con un passo specifico\n",
    "porzione_passo = lista[1:9:2]  # [2, 4, 6, 8]\n",
    "\n",
    "# Estrarre una porzione dalla fine della lista\n",
    "porzione_fine = lista[6:]  # [7, 8, 9, 10]\n",
    "\n",
    "# Estrarre una porzione dall'inizio della lista\n",
    "porzione_inizio = lista[:5]  # [1, 2, 3, 4, 5]"
   ]
  },
  {
   "cell_type": "code",
   "execution_count": 67,
   "id": "07ab3ddf-4f2a-4836-8286-736552ee79d1",
   "metadata": {},
   "outputs": [
    {
     "data": {
      "text/plain": [
       "{'A', 'B', 'C', 'D', 'E', 'F'}"
      ]
     },
     "execution_count": 67,
     "metadata": {},
     "output_type": "execute_result"
    }
   ],
   "source": [
    "my_set = {\"A\", \"B\", \"C\", \"D\", \"E\", \"F\"}\n",
    "my_set"
   ]
  },
  {
   "cell_type": "code",
   "execution_count": 68,
   "id": "e108fde5-7827-481b-8204-eea6858a3c31",
   "metadata": {},
   "outputs": [
    {
     "data": {
      "text/plain": [
       "set"
      ]
     },
     "execution_count": 68,
     "metadata": {},
     "output_type": "execute_result"
    }
   ],
   "source": [
    "type(my_set)"
   ]
  },
  {
   "cell_type": "code",
   "execution_count": 69,
   "id": "c7def61e-bd86-4eb5-82f8-134259992064",
   "metadata": {},
   "outputs": [
    {
     "name": "stdout",
     "output_type": "stream",
     "text": [
      "Does set my_set contain D?  True\n"
     ]
    }
   ],
   "source": [
    "print(\"Does set my_set contain D? \", \"D\" in my_set)"
   ]
  },
  {
   "cell_type": "code",
   "execution_count": 70,
   "id": "46988b8f-3f28-423a-bb1b-931420b7b61d",
   "metadata": {},
   "outputs": [
    {
     "name": "stdout",
     "output_type": "stream",
     "text": [
      "{'potato', 'orange', 'onion', 'lemon', 'banana', 'mango', 'carrot', 'cabbage', 'tomato'}\n"
     ]
    }
   ],
   "source": [
    "fruits = {\"banana\", \"orange\", \"mango\", \"lemon\"}\n",
    "vegetables = {\"tomato\", \"potato\", \"cabbage\", \"onion\", \"carrot\"}\n",
    "print(fruits.union(vegetables))"
   ]
  },
  {
   "cell_type": "code",
   "execution_count": 71,
   "id": "0c6d5987-32a7-4f7f-8339-2be2dbe5b4ed",
   "metadata": {},
   "outputs": [
    {
     "data": {
      "text/plain": [
       "{'n', 'o'}"
      ]
     },
     "execution_count": 71,
     "metadata": {},
     "output_type": "execute_result"
    }
   ],
   "source": [
    "python = {\"p\", \"y\", \"t\", \"h\", \"o\", \"n\"}\n",
    "dragon = {\"d\", \"r\", \"a\", \"g\", \"o\", \"n\"}\n",
    "python.intersection(dragon)"
   ]
  },
  {
   "cell_type": "code",
   "execution_count": 72,
   "id": "02bd6275-ddeb-4812-b324-601b04d71c56",
   "metadata": {},
   "outputs": [
    {
     "data": {
      "text/plain": [
       "True"
      ]
     },
     "execution_count": 72,
     "metadata": {},
     "output_type": "execute_result"
    }
   ],
   "source": [
    "st1 = {\"item1\", \"item2\", \"item3\", \"item4\"}\n",
    "st2 = {\"item2\", \"item3\"}\n",
    "st2.issubset(st1)"
   ]
  },
  {
   "cell_type": "code",
   "execution_count": 73,
   "id": "6c7009a5-d0bd-4033-a6ad-2db6fb949aca",
   "metadata": {},
   "outputs": [
    {
     "data": {
      "text/plain": [
       "True"
      ]
     },
     "execution_count": 73,
     "metadata": {},
     "output_type": "execute_result"
    }
   ],
   "source": [
    "st1.issuperset(st2) "
   ]
  },
  {
   "cell_type": "code",
   "execution_count": 74,
   "id": "2be19947-e172-4be2-823c-3d05d1f1274f",
   "metadata": {},
   "outputs": [
    {
     "data": {
      "text/plain": [
       "{1, 3, 5, 7, 9}"
      ]
     },
     "execution_count": 74,
     "metadata": {},
     "output_type": "execute_result"
    }
   ],
   "source": [
    "whole_numbers = {0, 1, 2, 3, 4, 5, 6, 7, 8, 9, 10}\n",
    "even_numbers = {0, 2, 4, 6, 8, 10}\n",
    "whole_numbers.difference(even_numbers)"
   ]
  },
  {
   "cell_type": "code",
   "execution_count": 75,
   "id": "d974c2d1-8966-4c66-a5df-e7d6d0cfb7e1",
   "metadata": {},
   "outputs": [
    {
     "data": {
      "text/plain": [
       "False"
      ]
     },
     "execution_count": 75,
     "metadata": {},
     "output_type": "execute_result"
    }
   ],
   "source": [
    "st1 = {\"item1\", \"item2\", \"item3\", \"item4\"}\n",
    "st2 = {\"item2\", \"item3\"}\n",
    "st2.isdisjoint(st1)"
   ]
  },
  {
   "cell_type": "code",
   "execution_count": 76,
   "id": "eb82500f-8b51-4063-87b0-2d33f583adce",
   "metadata": {},
   "outputs": [],
   "source": [
    "music = {\n",
    "    \"blues\": \"Betty Smith\",\n",
    "    \"classical\": \"Gustav Mahler\",\n",
    "    \"pop\": \"David Bowie\",\n",
    "    \"jazz\": \"John Coltrane\",\n",
    "}"
   ]
  },
  {
   "cell_type": "code",
   "execution_count": 77,
   "id": "ffe2d61e-6776-45ce-865e-c994ec1c76e2",
   "metadata": {},
   "outputs": [
    {
     "data": {
      "text/plain": [
       "'David Bowie'"
      ]
     },
     "execution_count": 77,
     "metadata": {},
     "output_type": "execute_result"
    }
   ],
   "source": [
    "music[\"pop\"]"
   ]
  },
  {
   "cell_type": "code",
   "execution_count": 78,
   "id": "4bae4fdf-0848-4a56-ac61-70ec65bd1563",
   "metadata": {},
   "outputs": [
    {
     "name": "stdout",
     "output_type": "stream",
     "text": [
      "4\n"
     ]
    }
   ],
   "source": [
    "print(len(music))"
   ]
  },
  {
   "cell_type": "code",
   "execution_count": 79,
   "id": "acd1d3db-ca5d-4fc5-b3f1-e2fda9c89161",
   "metadata": {},
   "outputs": [
    {
     "name": "stdout",
     "output_type": "stream",
     "text": [
      "{'blues': 'Betty Smith', 'classical': 'Gustav Mahler', 'pop': 'David Bowie', 'jazz': 'John Coltrane', 'new music': 'Missy Mazzoli'}\n"
     ]
    }
   ],
   "source": [
    "music[\"new music\"] = \"Missy Mazzoli\"\n",
    "print(music)"
   ]
  },
  {
   "cell_type": "code",
   "execution_count": 80,
   "id": "9b419b82-9c58-4fc6-adc0-b79ce36af72c",
   "metadata": {},
   "outputs": [
    {
     "name": "stdout",
     "output_type": "stream",
     "text": [
      "Last updated: Sun Jun 16 2024\n",
      "\n",
      "Python implementation: CPython\n",
      "Python version       : 3.12.3\n",
      "IPython version      : 8.25.0\n",
      "\n",
      "Compiler    : Clang 16.0.6 \n",
      "OS          : Darwin\n",
      "Release     : 23.4.0\n",
      "Machine     : arm64\n",
      "Processor   : arm\n",
      "CPU cores   : 8\n",
      "Architecture: 64bit\n",
      "\n",
      "numpy: 1.26.4\n",
      "\n",
      "Watermark: 2.4.3\n",
      "\n"
     ]
    }
   ],
   "source": [
    "%load_ext watermark\n",
    "%watermark -n -u -v -iv -w -m "
   ]
  }
 ],
 "metadata": {
  "kernelspec": {
   "display_name": "pymc51_env",
   "language": "python",
   "name": "python3"
  },
  "language_info": {
   "codemirror_mode": {
    "name": "ipython",
    "version": 3
   },
   "file_extension": ".py",
   "mimetype": "text/x-python",
   "name": "python",
   "nbconvert_exporter": "python",
   "pygments_lexer": "ipython3",
   "version": "3.12.3"
  },
  "latex_envs": {
   "LaTeX_envs_menu_present": false,
   "autoclose": true,
   "autocomplete": true,
   "bibliofile": "biblio.bib",
   "cite_by": "apalike",
   "current_citInitial": 1,
   "eqLabelWithNumbers": true,
   "eqNumInitial": 1,
   "hotkeys": {
    "equation": "Ctrl-E",
    "itemize": "Ctrl-I"
   },
   "labels_anchors": false,
   "latex_user_defs": false,
   "report_style_numbering": true,
   "user_envs_cfg": true
  },
  "toc": {
   "base_numbering": 1,
   "nav_menu": {},
   "number_sections": true,
   "sideBar": false,
   "skip_h1_title": false,
   "title_cell": "Table of Contents",
   "title_sidebar": "Contents",
   "toc_cell": true,
   "toc_position": {},
   "toc_section_display": true,
   "toc_window_display": false
  },
  "vscode": {
   "interpreter": {
    "hash": "c0ccd72f608cbdcdf4551eecf03608f0bf0bb7f40eb4e906e3e1e38ea0443aad"
   }
  }
 },
 "nbformat": 4,
 "nbformat_minor": 2
}