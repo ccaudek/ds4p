{
 "cells": [
  {
   "cell_type": "code",
   "execution_count": 1,
   "id": "1b5d604c-ac6f-4bd7-b68f-395e34ac61ad",
   "metadata": {},
   "outputs": [],
   "source": [
    "import pandas as pd\n",
    "import numpy as np\n",
    "from scipy import stats\n",
    "import arviz as az\n",
    "import pingouin as pg"
   ]
  },
  {
   "cell_type": "code",
   "execution_count": 2,
   "id": "888cd6aa-ede6-4092-83c9-bcc98337ca07",
   "metadata": {},
   "outputs": [],
   "source": [
    "%config InlineBackend.figure_format = 'retina'\n",
    "RANDOM_SEED = 8927\n",
    "rng = np.random.default_rng(RANDOM_SEED)\n",
    "az.style.use(\"arviz-darkgrid\")"
   ]
  },
  {
   "cell_type": "code",
   "execution_count": 3,
   "id": "9b3c65d9-5952-4651-9d51-62c8fd796153",
   "metadata": {},
   "outputs": [],
   "source": [
    "# Load the data\n",
    "df = pd.read_csv(\"../data/penguins.csv\")\n",
    "\n",
    "# Drop rows with missing values\n",
    "df.dropna(inplace=True)\n",
    "\n",
    "# Reset the index\n",
    "df.reset_index(drop=True, inplace=True)"
   ]
  },
  {
   "cell_type": "code",
   "execution_count": 4,
   "id": "74780b36-0b10-4ac5-b7f1-f9860ae1d8ff",
   "metadata": {},
   "outputs": [
    {
     "data": {
      "text/html": [
       "<div>\n",
       "<style scoped>\n",
       "    .dataframe tbody tr th:only-of-type {\n",
       "        vertical-align: middle;\n",
       "    }\n",
       "\n",
       "    .dataframe tbody tr th {\n",
       "        vertical-align: top;\n",
       "    }\n",
       "\n",
       "    .dataframe thead th {\n",
       "        text-align: right;\n",
       "    }\n",
       "</style>\n",
       "<table border=\"1\" class=\"dataframe\">\n",
       "  <thead>\n",
       "    <tr style=\"text-align: right;\">\n",
       "      <th></th>\n",
       "      <th>species</th>\n",
       "      <th>island</th>\n",
       "      <th>bill_length_mm</th>\n",
       "      <th>bill_depth_mm</th>\n",
       "      <th>flipper_length_mm</th>\n",
       "      <th>body_mass_g</th>\n",
       "      <th>sex</th>\n",
       "      <th>year</th>\n",
       "    </tr>\n",
       "  </thead>\n",
       "  <tbody>\n",
       "    <tr>\n",
       "      <th>0</th>\n",
       "      <td>Adelie</td>\n",
       "      <td>Torgersen</td>\n",
       "      <td>39.1</td>\n",
       "      <td>18.7</td>\n",
       "      <td>181.0</td>\n",
       "      <td>3750.0</td>\n",
       "      <td>male</td>\n",
       "      <td>2007</td>\n",
       "    </tr>\n",
       "    <tr>\n",
       "      <th>1</th>\n",
       "      <td>Adelie</td>\n",
       "      <td>Torgersen</td>\n",
       "      <td>39.5</td>\n",
       "      <td>17.4</td>\n",
       "      <td>186.0</td>\n",
       "      <td>3800.0</td>\n",
       "      <td>female</td>\n",
       "      <td>2007</td>\n",
       "    </tr>\n",
       "    <tr>\n",
       "      <th>2</th>\n",
       "      <td>Adelie</td>\n",
       "      <td>Torgersen</td>\n",
       "      <td>40.3</td>\n",
       "      <td>18.0</td>\n",
       "      <td>195.0</td>\n",
       "      <td>3250.0</td>\n",
       "      <td>female</td>\n",
       "      <td>2007</td>\n",
       "    </tr>\n",
       "    <tr>\n",
       "      <th>3</th>\n",
       "      <td>Adelie</td>\n",
       "      <td>Torgersen</td>\n",
       "      <td>36.7</td>\n",
       "      <td>19.3</td>\n",
       "      <td>193.0</td>\n",
       "      <td>3450.0</td>\n",
       "      <td>female</td>\n",
       "      <td>2007</td>\n",
       "    </tr>\n",
       "    <tr>\n",
       "      <th>4</th>\n",
       "      <td>Adelie</td>\n",
       "      <td>Torgersen</td>\n",
       "      <td>39.3</td>\n",
       "      <td>20.6</td>\n",
       "      <td>190.0</td>\n",
       "      <td>3650.0</td>\n",
       "      <td>male</td>\n",
       "      <td>2007</td>\n",
       "    </tr>\n",
       "  </tbody>\n",
       "</table>\n",
       "</div>"
      ],
      "text/plain": [
       "  species     island  bill_length_mm  bill_depth_mm  flipper_length_mm  \\\n",
       "0  Adelie  Torgersen            39.1           18.7              181.0   \n",
       "1  Adelie  Torgersen            39.5           17.4              186.0   \n",
       "2  Adelie  Torgersen            40.3           18.0              195.0   \n",
       "3  Adelie  Torgersen            36.7           19.3              193.0   \n",
       "4  Adelie  Torgersen            39.3           20.6              190.0   \n",
       "\n",
       "   body_mass_g     sex  year  \n",
       "0       3750.0    male  2007  \n",
       "1       3800.0  female  2007  \n",
       "2       3250.0  female  2007  \n",
       "3       3450.0  female  2007  \n",
       "4       3650.0    male  2007  "
      ]
     },
     "execution_count": 4,
     "metadata": {},
     "output_type": "execute_result"
    }
   ],
   "source": [
    "df.head()"
   ]
  },
  {
   "cell_type": "code",
   "execution_count": 5,
   "id": "69668cb2-2059-4e02-acd5-e990e5664c0c",
   "metadata": {},
   "outputs": [
    {
     "data": {
      "text/html": [
       "<div>\n",
       "<style scoped>\n",
       "    .dataframe tbody tr th:only-of-type {\n",
       "        vertical-align: middle;\n",
       "    }\n",
       "\n",
       "    .dataframe tbody tr th {\n",
       "        vertical-align: top;\n",
       "    }\n",
       "\n",
       "    .dataframe thead th {\n",
       "        text-align: right;\n",
       "    }\n",
       "</style>\n",
       "<table border=\"1\" class=\"dataframe\">\n",
       "  <thead>\n",
       "    <tr style=\"text-align: right;\">\n",
       "      <th></th>\n",
       "      <th>species</th>\n",
       "      <th>island</th>\n",
       "      <th>bill_length_mm</th>\n",
       "      <th>bill_depth_mm</th>\n",
       "      <th>flipper_length_mm</th>\n",
       "      <th>body_mass_g</th>\n",
       "      <th>sex</th>\n",
       "      <th>year</th>\n",
       "    </tr>\n",
       "  </thead>\n",
       "  <tbody>\n",
       "    <tr>\n",
       "      <th>count</th>\n",
       "      <td>333</td>\n",
       "      <td>333</td>\n",
       "      <td>333.000000</td>\n",
       "      <td>333.000000</td>\n",
       "      <td>333.000000</td>\n",
       "      <td>333.000000</td>\n",
       "      <td>333</td>\n",
       "      <td>333.000000</td>\n",
       "    </tr>\n",
       "    <tr>\n",
       "      <th>unique</th>\n",
       "      <td>3</td>\n",
       "      <td>3</td>\n",
       "      <td>NaN</td>\n",
       "      <td>NaN</td>\n",
       "      <td>NaN</td>\n",
       "      <td>NaN</td>\n",
       "      <td>2</td>\n",
       "      <td>NaN</td>\n",
       "    </tr>\n",
       "    <tr>\n",
       "      <th>top</th>\n",
       "      <td>Adelie</td>\n",
       "      <td>Biscoe</td>\n",
       "      <td>NaN</td>\n",
       "      <td>NaN</td>\n",
       "      <td>NaN</td>\n",
       "      <td>NaN</td>\n",
       "      <td>male</td>\n",
       "      <td>NaN</td>\n",
       "    </tr>\n",
       "    <tr>\n",
       "      <th>freq</th>\n",
       "      <td>146</td>\n",
       "      <td>163</td>\n",
       "      <td>NaN</td>\n",
       "      <td>NaN</td>\n",
       "      <td>NaN</td>\n",
       "      <td>NaN</td>\n",
       "      <td>168</td>\n",
       "      <td>NaN</td>\n",
       "    </tr>\n",
       "    <tr>\n",
       "      <th>mean</th>\n",
       "      <td>NaN</td>\n",
       "      <td>NaN</td>\n",
       "      <td>43.992793</td>\n",
       "      <td>17.164865</td>\n",
       "      <td>200.966967</td>\n",
       "      <td>4207.057057</td>\n",
       "      <td>NaN</td>\n",
       "      <td>2008.042042</td>\n",
       "    </tr>\n",
       "    <tr>\n",
       "      <th>std</th>\n",
       "      <td>NaN</td>\n",
       "      <td>NaN</td>\n",
       "      <td>5.468668</td>\n",
       "      <td>1.969235</td>\n",
       "      <td>14.015765</td>\n",
       "      <td>805.215802</td>\n",
       "      <td>NaN</td>\n",
       "      <td>0.812944</td>\n",
       "    </tr>\n",
       "    <tr>\n",
       "      <th>min</th>\n",
       "      <td>NaN</td>\n",
       "      <td>NaN</td>\n",
       "      <td>32.100000</td>\n",
       "      <td>13.100000</td>\n",
       "      <td>172.000000</td>\n",
       "      <td>2700.000000</td>\n",
       "      <td>NaN</td>\n",
       "      <td>2007.000000</td>\n",
       "    </tr>\n",
       "    <tr>\n",
       "      <th>25%</th>\n",
       "      <td>NaN</td>\n",
       "      <td>NaN</td>\n",
       "      <td>39.500000</td>\n",
       "      <td>15.600000</td>\n",
       "      <td>190.000000</td>\n",
       "      <td>3550.000000</td>\n",
       "      <td>NaN</td>\n",
       "      <td>2007.000000</td>\n",
       "    </tr>\n",
       "    <tr>\n",
       "      <th>50%</th>\n",
       "      <td>NaN</td>\n",
       "      <td>NaN</td>\n",
       "      <td>44.500000</td>\n",
       "      <td>17.300000</td>\n",
       "      <td>197.000000</td>\n",
       "      <td>4050.000000</td>\n",
       "      <td>NaN</td>\n",
       "      <td>2008.000000</td>\n",
       "    </tr>\n",
       "    <tr>\n",
       "      <th>75%</th>\n",
       "      <td>NaN</td>\n",
       "      <td>NaN</td>\n",
       "      <td>48.600000</td>\n",
       "      <td>18.700000</td>\n",
       "      <td>213.000000</td>\n",
       "      <td>4775.000000</td>\n",
       "      <td>NaN</td>\n",
       "      <td>2009.000000</td>\n",
       "    </tr>\n",
       "    <tr>\n",
       "      <th>max</th>\n",
       "      <td>NaN</td>\n",
       "      <td>NaN</td>\n",
       "      <td>59.600000</td>\n",
       "      <td>21.500000</td>\n",
       "      <td>231.000000</td>\n",
       "      <td>6300.000000</td>\n",
       "      <td>NaN</td>\n",
       "      <td>2009.000000</td>\n",
       "    </tr>\n",
       "  </tbody>\n",
       "</table>\n",
       "</div>"
      ],
      "text/plain": [
       "       species  island  bill_length_mm  bill_depth_mm  flipper_length_mm  \\\n",
       "count      333     333      333.000000     333.000000         333.000000   \n",
       "unique       3       3             NaN            NaN                NaN   \n",
       "top     Adelie  Biscoe             NaN            NaN                NaN   \n",
       "freq       146     163             NaN            NaN                NaN   \n",
       "mean       NaN     NaN       43.992793      17.164865         200.966967   \n",
       "std        NaN     NaN        5.468668       1.969235          14.015765   \n",
       "min        NaN     NaN       32.100000      13.100000         172.000000   \n",
       "25%        NaN     NaN       39.500000      15.600000         190.000000   \n",
       "50%        NaN     NaN       44.500000      17.300000         197.000000   \n",
       "75%        NaN     NaN       48.600000      18.700000         213.000000   \n",
       "max        NaN     NaN       59.600000      21.500000         231.000000   \n",
       "\n",
       "        body_mass_g   sex         year  \n",
       "count    333.000000   333   333.000000  \n",
       "unique          NaN     2          NaN  \n",
       "top             NaN  male          NaN  \n",
       "freq            NaN   168          NaN  \n",
       "mean    4207.057057   NaN  2008.042042  \n",
       "std      805.215802   NaN     0.812944  \n",
       "min     2700.000000   NaN  2007.000000  \n",
       "25%     3550.000000   NaN  2007.000000  \n",
       "50%     4050.000000   NaN  2008.000000  \n",
       "75%     4775.000000   NaN  2009.000000  \n",
       "max     6300.000000   NaN  2009.000000  "
      ]
     },
     "execution_count": 5,
     "metadata": {},
     "output_type": "execute_result"
    }
   ],
   "source": [
    "df.describe(include=\"all\")"
   ]
  },
  {
   "cell_type": "code",
   "execution_count": 6,
   "id": "48990613-1ad2-4080-bdea-48d74ffa9f92",
   "metadata": {},
   "outputs": [
    {
     "data": {
      "text/plain": [
       "array(['Torgersen', 'Biscoe', 'Dream'], dtype=object)"
      ]
     },
     "execution_count": 6,
     "metadata": {},
     "output_type": "execute_result"
    }
   ],
   "source": [
    "df[\"island\"].unique()"
   ]
  },
  {
   "cell_type": "code",
   "execution_count": 7,
   "id": "29003145-d5f1-40ce-8ec8-a728bf8ddf35",
   "metadata": {},
   "outputs": [
    {
     "data": {
      "text/plain": [
       "array(['Adelie', 'Gentoo', 'Chinstrap'], dtype=object)"
      ]
     },
     "execution_count": 7,
     "metadata": {},
     "output_type": "execute_result"
    }
   ],
   "source": [
    "df[\"species\"].unique()"
   ]
  },
  {
   "cell_type": "code",
   "execution_count": 8,
   "id": "9bdc31e7-f9bb-4cb4-959e-b23af23580d2",
   "metadata": {},
   "outputs": [
    {
     "data": {
      "text/plain": [
       "array(['male', 'female'], dtype=object)"
      ]
     },
     "execution_count": 8,
     "metadata": {},
     "output_type": "execute_result"
    }
   ],
   "source": [
    "df[\"sex\"].unique()"
   ]
  },
  {
   "cell_type": "code",
   "execution_count": 9,
   "id": "ba642c54-75f1-478f-bb5d-50e5a7d1c62f",
   "metadata": {},
   "outputs": [],
   "source": [
    "female_biscoe = df[(df[\"island\"] == \"Biscoe\") & (df[\"sex\"] == \"female\")][\n",
    "    \"body_mass_g\"\n",
    "]\n",
    "male_biscoe = df[(df[\"island\"] == \"Biscoe\") & (df[\"sex\"] == \"male\")][\"body_mass_g\"]"
   ]
  },
  {
   "cell_type": "code",
   "execution_count": 10,
   "id": "832bfa96-8d5a-40a4-a513-3d0b7bd147be",
   "metadata": {},
   "outputs": [
    {
     "name": "stdout",
     "output_type": "stream",
     "text": [
      "4319.375\n"
     ]
    }
   ],
   "source": [
    "mean_female_biscoe = np.mean(female_biscoe)\n",
    "print(mean_female_biscoe)"
   ]
  },
  {
   "cell_type": "code",
   "execution_count": 11,
   "id": "b8f51226-0d29-414c-96c7-57e03fc3cb1f",
   "metadata": {},
   "outputs": [
    {
     "name": "stdout",
     "output_type": "stream",
     "text": [
      "73.76216779048659\n"
     ]
    }
   ],
   "source": [
    "se_female_biscoe = np.std(female_biscoe, ddof=1) / np.sqrt(len(female_biscoe))\n",
    "print(se_female_biscoe)"
   ]
  },
  {
   "cell_type": "code",
   "execution_count": 12,
   "id": "f765e9b8-eb95-47e5-9c35-931fa86269fa",
   "metadata": {},
   "outputs": [
    {
     "name": "stdout",
     "output_type": "stream",
     "text": [
      "79\n"
     ]
    }
   ],
   "source": [
    "degrees_freedom = len(female_biscoe) - 1\n",
    "print(degrees_freedom)"
   ]
  },
  {
   "cell_type": "code",
   "execution_count": 13,
   "id": "05bcae2e-a545-4a41-a697-7a9c45b0795b",
   "metadata": {},
   "outputs": [
    {
     "name": "stdout",
     "output_type": "stream",
     "text": [
      "-1.9904502102301287 1.9904502102301282\n"
     ]
    }
   ],
   "source": [
    "alpha = 0.05\n",
    "t_critical_lower = stats.t.ppf(alpha / 2, degrees_freedom)\n",
    "t_critical_upper = stats.t.ppf(1 - alpha / 2, degrees_freedom)\n",
    "print(t_critical_lower, t_critical_upper)"
   ]
  },
  {
   "cell_type": "code",
   "execution_count": 14,
   "id": "b1071294-a06d-4862-ae5a-2928639eb2f4",
   "metadata": {},
   "outputs": [
    {
     "data": {
      "text/plain": [
       "array([4172.55507761, 4466.19492239])"
      ]
     },
     "execution_count": 14,
     "metadata": {},
     "output_type": "execute_result"
    }
   ],
   "source": [
    "mean_female_biscoe + np.array([-1, 1]) * t_critical_upper * se_female_biscoe"
   ]
  },
  {
   "cell_type": "code",
   "execution_count": 15,
   "id": "90a14085-193a-4395-b3d0-ecf38ee5d7ea",
   "metadata": {},
   "outputs": [],
   "source": [
    "def calculate_confidence_interval(data, alpha=0.05):\n",
    "    \"\"\"\n",
    "    Calcola l'intervallo di confidenza per la media di un array di dati.\n",
    "\n",
    "    Parametri:\n",
    "    data (array-like): Array di dati numerici.\n",
    "    alpha (float): Livello di significatività per l'intervallo di confidenza (default 0.05).\n",
    "\n",
    "    Ritorna:\n",
    "    tuple: intervallo di confidenza (limite inferiore, limite superiore).\n",
    "    \"\"\"\n",
    "    mean = np.mean(data)  # Calcola la media dei dati\n",
    "    se = np.std(data, ddof=1) / np.sqrt(\n",
    "        len(data)\n",
    "    )  # Calcola l'errore standard della media\n",
    "    df = len(data) - 1  # Calcola i gradi di libertà\n",
    "\n",
    "    # Trova i valori critici t per alpha/2 e 1-alpha/2\n",
    "    t_critical_lower = stats.t.ppf(alpha / 2, df)\n",
    "    t_critical_upper = stats.t.ppf(1 - alpha / 2, df)\n",
    "\n",
    "    # Calcola l'intervallo di confidenza\n",
    "    confidence_interval_lower = mean + t_critical_lower * se\n",
    "    confidence_interval_upper = mean + t_critical_upper * se\n",
    "\n",
    "    return (confidence_interval_lower, confidence_interval_upper)"
   ]
  },
  {
   "cell_type": "code",
   "execution_count": 16,
   "id": "402a2745-bdf0-473f-b999-c28d1623a835",
   "metadata": {},
   "outputs": [
    {
     "data": {
      "text/plain": [
       "(4172.5550776143955, 4466.194922385604)"
      ]
     },
     "execution_count": 16,
     "metadata": {},
     "output_type": "execute_result"
    }
   ],
   "source": [
    "calculate_confidence_interval(female_biscoe, alpha = 0.05)"
   ]
  },
  {
   "cell_type": "code",
   "execution_count": 17,
   "id": "56292a36-1d27-48b9-b6cd-79cb7a0edb97",
   "metadata": {},
   "outputs": [
    {
     "data": {
      "text/html": [
       "<div>\n",
       "<style scoped>\n",
       "    .dataframe tbody tr th:only-of-type {\n",
       "        vertical-align: middle;\n",
       "    }\n",
       "\n",
       "    .dataframe tbody tr th {\n",
       "        vertical-align: top;\n",
       "    }\n",
       "\n",
       "    .dataframe thead th {\n",
       "        text-align: right;\n",
       "    }\n",
       "</style>\n",
       "<table border=\"1\" class=\"dataframe\">\n",
       "  <thead>\n",
       "    <tr style=\"text-align: right;\">\n",
       "      <th></th>\n",
       "      <th>T</th>\n",
       "      <th>dof</th>\n",
       "      <th>alternative</th>\n",
       "      <th>p-val</th>\n",
       "      <th>CI95%</th>\n",
       "      <th>cohen-d</th>\n",
       "      <th>BF10</th>\n",
       "      <th>power</th>\n",
       "    </tr>\n",
       "  </thead>\n",
       "  <tbody>\n",
       "    <tr>\n",
       "      <th>T-test</th>\n",
       "      <td>57.487126</td>\n",
       "      <td>79</td>\n",
       "      <td>two-sided</td>\n",
       "      <td>3.174629e-66</td>\n",
       "      <td>[4172.56, 4466.19]</td>\n",
       "      <td>6.427256</td>\n",
       "      <td>2.852e+62</td>\n",
       "      <td>1.0</td>\n",
       "    </tr>\n",
       "  </tbody>\n",
       "</table>\n",
       "</div>"
      ],
      "text/plain": [
       "                T  dof alternative         p-val               CI95%  \\\n",
       "T-test  57.487126   79   two-sided  3.174629e-66  [4172.56, 4466.19]   \n",
       "\n",
       "         cohen-d       BF10  power  \n",
       "T-test  6.427256  2.852e+62    1.0  "
      ]
     },
     "execution_count": 17,
     "metadata": {},
     "output_type": "execute_result"
    }
   ],
   "source": [
    "pg.ttest(female_biscoe, len(female_biscoe)-1)"
   ]
  },
  {
   "cell_type": "code",
   "execution_count": 18,
   "id": "3628894c-6f51-4865-b263-17d91b1a2e99",
   "metadata": {},
   "outputs": [
    {
     "data": {
      "text/plain": [
       "(4948.568652154555, 5260.467492423758)"
      ]
     },
     "execution_count": 18,
     "metadata": {},
     "output_type": "execute_result"
    }
   ],
   "source": [
    "calculate_confidence_interval(male_biscoe, alpha=0.05)"
   ]
  },
  {
   "cell_type": "code",
   "execution_count": 19,
   "id": "df39f41a-d4d5-42f8-a07d-69281b437acb",
   "metadata": {},
   "outputs": [
    {
     "data": {
      "text/html": [
       "<div>\n",
       "<style scoped>\n",
       "    .dataframe tbody tr th:only-of-type {\n",
       "        vertical-align: middle;\n",
       "    }\n",
       "\n",
       "    .dataframe tbody tr th {\n",
       "        vertical-align: top;\n",
       "    }\n",
       "\n",
       "    .dataframe thead th {\n",
       "        text-align: right;\n",
       "    }\n",
       "</style>\n",
       "<table border=\"1\" class=\"dataframe\">\n",
       "  <thead>\n",
       "    <tr style=\"text-align: right;\">\n",
       "      <th></th>\n",
       "      <th>T</th>\n",
       "      <th>dof</th>\n",
       "      <th>alternative</th>\n",
       "      <th>p-val</th>\n",
       "      <th>CI95%</th>\n",
       "      <th>cohen-d</th>\n",
       "      <th>BF10</th>\n",
       "      <th>power</th>\n",
       "    </tr>\n",
       "  </thead>\n",
       "  <tbody>\n",
       "    <tr>\n",
       "      <th>T-test</th>\n",
       "      <td>64.068134</td>\n",
       "      <td>82</td>\n",
       "      <td>two-sided</td>\n",
       "      <td>8.268249e-72</td>\n",
       "      <td>[4948.57, 5260.47]</td>\n",
       "      <td>7.032391</td>\n",
       "      <td>9.622e+67</td>\n",
       "      <td>1.0</td>\n",
       "    </tr>\n",
       "  </tbody>\n",
       "</table>\n",
       "</div>"
      ],
      "text/plain": [
       "                T  dof alternative         p-val               CI95%  \\\n",
       "T-test  64.068134   82   two-sided  8.268249e-72  [4948.57, 5260.47]   \n",
       "\n",
       "         cohen-d       BF10  power  \n",
       "T-test  7.032391  9.622e+67    1.0  "
      ]
     },
     "execution_count": 19,
     "metadata": {},
     "output_type": "execute_result"
    }
   ],
   "source": [
    "pg.ttest(male_biscoe, len(male_biscoe) - 1)"
   ]
  },
  {
   "cell_type": "code",
   "execution_count": 20,
   "id": "15f15cbb-934a-47af-b5a5-818f0811143b",
   "metadata": {},
   "outputs": [],
   "source": [
    "def confidence_interval_diff_means(sample1, sample2, confidence=0.95):\n",
    "    # Calcolo delle medie e deviazioni standard dei campioni\n",
    "    mean1, mean2 = np.mean(sample1), np.mean(sample2)\n",
    "    std1, std2 = np.std(sample1, ddof=1), np.std(sample2, ddof=1)\n",
    "    n1, n2 = len(sample1), len(sample2)\n",
    "\n",
    "    # Calcolo della differenza delle medie e della varianza combinata\n",
    "    mean_diff = mean1 - mean2\n",
    "\n",
    "    sigma_hat = np.sqrt(\n",
    "        ((n1 - 1) * std1**2 + (n2 - 1) * std2**2) / \n",
    "        (n1 + n2 - 2)\n",
    "        )\n",
    "\n",
    "    se_diff = sigma_hat * np.sqrt((1 / n1) + (1 / n2))\n",
    "\n",
    "    # Calcolo dei gradi di libertà senza la correzione di Welch\n",
    "    df = n1 + n2 - 2\n",
    "\n",
    "    # Determinazione del quantile della distribuzione t per il livello di confidenza desiderato\n",
    "    t_crit = stats.t.ppf((1 + confidence) / 2, df)\n",
    "\n",
    "    # Calcolo dell'intervallo di confidenza\n",
    "    margin_error = t_crit * se_diff\n",
    "    ci_lower = mean_diff - margin_error\n",
    "    ci_upper = mean_diff + margin_error\n",
    "\n",
    "    return ci_lower, ci_upper"
   ]
  },
  {
   "cell_type": "code",
   "execution_count": 21,
   "id": "2c819a85-5440-4e8e-a74c-89ae22f8ad05",
   "metadata": {},
   "outputs": [
    {
     "data": {
      "text/plain": [
       "(572.2628806689312, 998.0232639093816)"
      ]
     },
     "execution_count": 21,
     "metadata": {},
     "output_type": "execute_result"
    }
   ],
   "source": [
    "confidence_interval_diff_means(male_biscoe, female_biscoe, confidence=0.95)"
   ]
  },
  {
   "cell_type": "code",
   "execution_count": 22,
   "id": "eec3cc7f-1de6-42c9-ba61-645900c44990",
   "metadata": {},
   "outputs": [
    {
     "data": {
      "text/html": [
       "<div>\n",
       "<style scoped>\n",
       "    .dataframe tbody tr th:only-of-type {\n",
       "        vertical-align: middle;\n",
       "    }\n",
       "\n",
       "    .dataframe tbody tr th {\n",
       "        vertical-align: top;\n",
       "    }\n",
       "\n",
       "    .dataframe thead th {\n",
       "        text-align: right;\n",
       "    }\n",
       "</style>\n",
       "<table border=\"1\" class=\"dataframe\">\n",
       "  <thead>\n",
       "    <tr style=\"text-align: right;\">\n",
       "      <th></th>\n",
       "      <th>T</th>\n",
       "      <th>dof</th>\n",
       "      <th>alternative</th>\n",
       "      <th>p-val</th>\n",
       "      <th>CI95%</th>\n",
       "      <th>cohen-d</th>\n",
       "      <th>BF10</th>\n",
       "      <th>power</th>\n",
       "    </tr>\n",
       "  </thead>\n",
       "  <tbody>\n",
       "    <tr>\n",
       "      <th>T-test</th>\n",
       "      <td>7.283472</td>\n",
       "      <td>161</td>\n",
       "      <td>two-sided</td>\n",
       "      <td>1.368366e-11</td>\n",
       "      <td>[572.26, 998.02]</td>\n",
       "      <td>1.141164</td>\n",
       "      <td>5.264e+08</td>\n",
       "      <td>1.0</td>\n",
       "    </tr>\n",
       "  </tbody>\n",
       "</table>\n",
       "</div>"
      ],
      "text/plain": [
       "               T  dof alternative         p-val             CI95%   cohen-d  \\\n",
       "T-test  7.283472  161   two-sided  1.368366e-11  [572.26, 998.02]  1.141164   \n",
       "\n",
       "             BF10  power  \n",
       "T-test  5.264e+08    1.0  "
      ]
     },
     "execution_count": 22,
     "metadata": {},
     "output_type": "execute_result"
    }
   ],
   "source": [
    "pg.ttest(male_biscoe, female_biscoe, correction = False)"
   ]
  },
  {
   "cell_type": "code",
   "execution_count": 23,
   "id": "b8e5b715-c38c-41de-9c8b-68138144fe29",
   "metadata": {},
   "outputs": [
    {
     "name": "stdout",
     "output_type": "stream",
     "text": [
      "4719.171779141105\n"
     ]
    }
   ],
   "source": [
    "mean_weight_island = np.mean(df[(df[\"island\"] == \"Biscoe\")][\"body_mass_g\"])\n",
    "print(mean_weight_island)"
   ]
  },
  {
   "cell_type": "code",
   "execution_count": 24,
   "id": "11fc6625-90d8-4163-83dd-1d4edf204f3b",
   "metadata": {},
   "outputs": [
    {
     "name": "stdout",
     "output_type": "stream",
     "text": [
      "27\n"
     ]
    }
   ],
   "source": [
    "success_female = np.sum(female_biscoe > mean_weight_island)\n",
    "print(success_female)"
   ]
  },
  {
   "cell_type": "code",
   "execution_count": 25,
   "id": "666ff3fa-0e2f-4053-a22b-76667de7cf78",
   "metadata": {},
   "outputs": [
    {
     "name": "stdout",
     "output_type": "stream",
     "text": [
      "63\n"
     ]
    }
   ],
   "source": [
    "success_male = np.sum(male_biscoe > mean_weight_island)\n",
    "print(success_male)"
   ]
  },
  {
   "cell_type": "code",
   "execution_count": 26,
   "id": "9d9bbb3c-4db6-4df7-a3cc-7631eef234fc",
   "metadata": {},
   "outputs": [],
   "source": [
    "def confidence_interval_prop_diff(success1, size1, success2, size2, confidence=0.95):\n",
    "    # Calcolo delle proporzioni\n",
    "    p1 = success1 / size1\n",
    "    p2 = success2 / size2\n",
    "\n",
    "    # Differenza delle proporzioni\n",
    "    prop_diff = p1 - p2\n",
    "\n",
    "    # Errore standard della differenza\n",
    "    se_diff = np.sqrt(p1 * (1 - p1) / size1 + p2 * (1 - p2) / size2)\n",
    "\n",
    "    # Z-score per il livello di confidenza specificato\n",
    "    z_score = stats.norm.ppf((1 + confidence) / 2)\n",
    "\n",
    "    # Margine di errore\n",
    "    margin_error = z_score * se_diff\n",
    "\n",
    "    # Calcolo dell'intervallo di confidenza\n",
    "    ci_lower = prop_diff - margin_error\n",
    "    ci_upper = prop_diff + margin_error\n",
    "\n",
    "    return ci_lower, ci_upper"
   ]
  },
  {
   "cell_type": "code",
   "execution_count": 27,
   "id": "1fcbc09c-2c04-4b33-ab9c-8413471a15c9",
   "metadata": {},
   "outputs": [
    {
     "data": {
      "text/plain": [
       "(0.28296600258820487, 0.5601062865684217)"
      ]
     },
     "execution_count": 27,
     "metadata": {},
     "output_type": "execute_result"
    }
   ],
   "source": [
    "confidence_interval_prop_diff(\n",
    "    success_male, len(male_biscoe), success_female, len(female_biscoe)\n",
    ")"
   ]
  },
  {
   "cell_type": "code",
   "execution_count": 28,
   "id": "c363209a-3caa-4961-932c-4cdb9d9295d5",
   "metadata": {},
   "outputs": [
    {
     "name": "stdout",
     "output_type": "stream",
     "text": [
      "Last updated: Sun Jun 16 2024\n",
      "\n",
      "Python implementation: CPython\n",
      "Python version       : 3.12.3\n",
      "IPython version      : 8.25.0\n",
      "\n",
      "Compiler    : Clang 16.0.6 \n",
      "OS          : Darwin\n",
      "Release     : 23.4.0\n",
      "Machine     : arm64\n",
      "Processor   : arm\n",
      "CPU cores   : 8\n",
      "Architecture: 64bit\n",
      "\n",
      "scipy   : 1.13.1\n",
      "numpy   : 1.26.4\n",
      "pingouin: 0.5.4\n",
      "pandas  : 2.2.2\n",
      "arviz   : 0.18.0\n",
      "\n",
      "Watermark: 2.4.3\n",
      "\n"
     ]
    }
   ],
   "source": [
    "%load_ext watermark\n",
    "%watermark -n -u -v -iv -w -m"
   ]
  }
 ],
 "metadata": {
  "kernelspec": {
   "display_name": "pymc_env",
   "language": "python",
   "name": "python3"
  },
  "language_info": {
   "codemirror_mode": {
    "name": "ipython",
    "version": 3
   },
   "file_extension": ".py",
   "mimetype": "text/x-python",
   "name": "python",
   "nbconvert_exporter": "python",
   "pygments_lexer": "ipython3",
   "version": "3.12.3"
  }
 },
 "nbformat": 4,
 "nbformat_minor": 2
}