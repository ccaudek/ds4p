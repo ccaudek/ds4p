{
 "cells": [
  {
   "cell_type": "code",
   "execution_count": 1,
   "id": "a1075851-add7-49b5-9bea-5be86273061b",
   "metadata": {},
   "outputs": [],
   "source": [
    "import numpy as np\n",
    "import pandas as pd\n",
    "import itertools as it\n",
    "import math\n",
    "import matplotlib.pyplot as plt\n",
    "import seaborn as sns\n",
    "import arviz as az"
   ]
  },
  {
   "cell_type": "code",
   "execution_count": 2,
   "id": "6e303527-9ae8-44c3-b87e-a0b3a6f638f5",
   "metadata": {},
   "outputs": [],
   "source": [
    "%config InlineBackend.figure_format = 'retina'\n",
    "RANDOM_SEED = 42\n",
    "rng = np.random.default_rng(RANDOM_SEED)\n",
    "az.style.use(\"arviz-darkgrid\")\n",
    "sns.set_theme(palette=\"colorblind\")"
   ]
  },
  {
   "cell_type": "code",
   "execution_count": 3,
   "id": "d16903b5-8560-4778-b306-6f3d037c1453",
   "metadata": {},
   "outputs": [
    {
     "data": {
      "text/plain": [
       "5.689576695493855e-05"
      ]
     },
     "execution_count": 3,
     "metadata": {},
     "output_type": "execute_result"
    }
   ],
   "source": [
    "10**3 / (26**3 * 10**3)"
   ]
  },
  {
   "cell_type": "code",
   "execution_count": 4,
   "id": "2df10958-f7ba-4102-9998-0069a72836ec",
   "metadata": {},
   "outputs": [
    {
     "name": "stdout",
     "output_type": "stream",
     "text": [
      "{'C', 'B', 'A'}\n"
     ]
    }
   ],
   "source": [
    "A = {\"A\", \"B\", \"C\"}\n",
    "print(A)\n"
   ]
  },
  {
   "cell_type": "code",
   "execution_count": 5,
   "id": "8e74b18c-c03a-4304-beb6-9f2a1338a8fe",
   "metadata": {},
   "outputs": [],
   "source": [
    "permutations = it.permutations(A)"
   ]
  },
  {
   "cell_type": "code",
   "execution_count": 6,
   "id": "cf9b4b95-ca77-4c67-a164-634887684cf2",
   "metadata": {},
   "outputs": [
    {
     "data": {
      "text/plain": [
       "(('C', 'B', 'A'),\n",
       " ('C', 'A', 'B'),\n",
       " ('B', 'C', 'A'),\n",
       " ('B', 'A', 'C'),\n",
       " ('A', 'C', 'B'),\n",
       " ('A', 'B', 'C'))"
      ]
     },
     "execution_count": 6,
     "metadata": {},
     "output_type": "execute_result"
    }
   ],
   "source": [
    "tuple(permutations)"
   ]
  },
  {
   "cell_type": "code",
   "execution_count": 7,
   "id": "1215787e-ecd9-48d3-9b32-265fa30b6675",
   "metadata": {},
   "outputs": [
    {
     "data": {
      "text/plain": [
       "(('A', 'B', 'C'),\n",
       " ('A', 'C', 'B'),\n",
       " ('B', 'A', 'C'),\n",
       " ('B', 'C', 'A'),\n",
       " ('C', 'A', 'B'),\n",
       " ('C', 'B', 'A'))"
      ]
     },
     "execution_count": 7,
     "metadata": {},
     "output_type": "execute_result"
    }
   ],
   "source": [
    "permutations = it.permutations(\"ABC\")\n",
    "permutations = tuple(permutations)\n",
    "permutations"
   ]
  },
  {
   "cell_type": "code",
   "execution_count": 8,
   "id": "1030d7a7-74bb-4fe9-87ce-eb481ffbc81a",
   "metadata": {},
   "outputs": [
    {
     "data": {
      "text/plain": [
       "6"
      ]
     },
     "execution_count": 8,
     "metadata": {},
     "output_type": "execute_result"
    }
   ],
   "source": [
    "len(permutations)"
   ]
  },
  {
   "cell_type": "code",
   "execution_count": 9,
   "id": "040b2379-64ad-447b-b110-da65e570bfae",
   "metadata": {},
   "outputs": [
    {
     "data": {
      "text/plain": [
       "6"
      ]
     },
     "execution_count": 9,
     "metadata": {},
     "output_type": "execute_result"
    }
   ],
   "source": [
    "math.factorial(3)"
   ]
  },
  {
   "cell_type": "code",
   "execution_count": 10,
   "id": "10acd119-c3c6-4ce5-b749-77c15a97756f",
   "metadata": {},
   "outputs": [
    {
     "data": {
      "text/plain": [
       "(('N', 'U', 'M', 'E', 'O', 'R'),\n",
       " ('N', 'U', 'M', 'R', 'E', 'O'),\n",
       " ('N', 'U', 'M', 'R', 'O', 'E'),\n",
       " ('N', 'U', 'M', 'O', 'E', 'R'),\n",
       " ('N', 'U', 'M', 'O', 'R', 'E'),\n",
       " ('N', 'U', 'E', 'M', 'R', 'O'),\n",
       " ('N', 'U', 'E', 'M', 'O', 'R'),\n",
       " ('N', 'U', 'E', 'R', 'M', 'O'),\n",
       " ('N', 'U', 'E', 'R', 'O', 'M'))"
      ]
     },
     "execution_count": 10,
     "metadata": {},
     "output_type": "execute_result"
    }
   ],
   "source": [
    "permutations = it.permutations(\"NUMERO\")\n",
    "permutations = tuple(permutations)\n",
    "permutations[1:10]"
   ]
  },
  {
   "cell_type": "code",
   "execution_count": 11,
   "id": "bd379dac-b687-4de3-b38d-fb4cab15538d",
   "metadata": {},
   "outputs": [
    {
     "data": {
      "text/plain": [
       "720"
      ]
     },
     "execution_count": 11,
     "metadata": {},
     "output_type": "execute_result"
    }
   ],
   "source": [
    "len(permutations)"
   ]
  },
  {
   "cell_type": "code",
   "execution_count": 12,
   "id": "a205579e-36bb-4af6-8a07-932359ba32c5",
   "metadata": {},
   "outputs": [
    {
     "data": {
      "text/plain": [
       "720"
      ]
     },
     "execution_count": 12,
     "metadata": {},
     "output_type": "execute_result"
    }
   ],
   "source": [
    "math.factorial(6)"
   ]
  },
  {
   "cell_type": "code",
   "execution_count": 13,
   "id": "b292720d-8f7f-4f41-b7e8-50cd62f3a38a",
   "metadata": {},
   "outputs": [
    {
     "data": {
      "text/plain": [
       "80658175170943878571660636856403766975289505440883277824000000000000"
      ]
     },
     "execution_count": 13,
     "metadata": {},
     "output_type": "execute_result"
    }
   ],
   "source": [
    "math.factorial(52)"
   ]
  },
  {
   "cell_type": "code",
   "execution_count": 14,
   "id": "afcece6c-031a-45a7-b7d3-daa49ccc8bf7",
   "metadata": {},
   "outputs": [
    {
     "name": "stdout",
     "output_type": "stream",
     "text": [
      "8.07e+67\n"
     ]
    }
   ],
   "source": [
    "print(\"{:.2e}\".format(math.factorial(52)))"
   ]
  },
  {
   "cell_type": "code",
   "execution_count": 15,
   "id": "84b72980-4b33-4e05-876c-8a289adc378a",
   "metadata": {},
   "outputs": [
    {
     "data": {
      "text/plain": [
       "(1, 2, 3, 4, 5)"
      ]
     },
     "execution_count": 15,
     "metadata": {},
     "output_type": "execute_result"
    }
   ],
   "source": [
    "tuple(range(1, 6))"
   ]
  },
  {
   "cell_type": "code",
   "execution_count": 16,
   "id": "87b81af2-8caa-4fbf-af36-e0d20190f7dd",
   "metadata": {},
   "outputs": [
    {
     "data": {
      "text/plain": [
       "((1, 2, 3, 5, 4),\n",
       " (1, 2, 4, 3, 5),\n",
       " (1, 2, 4, 5, 3),\n",
       " (1, 2, 5, 3, 4),\n",
       " (1, 2, 5, 4, 3),\n",
       " (1, 3, 2, 4, 5),\n",
       " (1, 3, 2, 5, 4),\n",
       " (1, 3, 4, 2, 5),\n",
       " (1, 3, 4, 5, 2))"
      ]
     },
     "execution_count": 16,
     "metadata": {},
     "output_type": "execute_result"
    }
   ],
   "source": [
    "permutations = it.permutations(range(1, 6))\n",
    "permutations = tuple(permutations)\n",
    "permutations[1:10]"
   ]
  },
  {
   "cell_type": "code",
   "execution_count": 17,
   "id": "d38da0b9-092f-4d80-9823-305cd35d310f",
   "metadata": {},
   "outputs": [
    {
     "data": {
      "text/plain": [
       "120"
      ]
     },
     "execution_count": 17,
     "metadata": {},
     "output_type": "execute_result"
    }
   ],
   "source": [
    "len(permutations)"
   ]
  },
  {
   "cell_type": "code",
   "execution_count": 18,
   "id": "bc3085fd-b3c2-481e-956f-d17acb5af574",
   "metadata": {},
   "outputs": [
    {
     "data": {
      "text/plain": [
       "72"
      ]
     },
     "execution_count": 18,
     "metadata": {},
     "output_type": "execute_result"
    }
   ],
   "source": [
    "sum(permutation[4] % 2 for permutation in permutations)"
   ]
  },
  {
   "cell_type": "code",
   "execution_count": 19,
   "id": "75aebca4-839f-496a-8ac2-c5bfc6b84f42",
   "metadata": {},
   "outputs": [
    {
     "data": {
      "text/plain": [
       "72"
      ]
     },
     "execution_count": 19,
     "metadata": {},
     "output_type": "execute_result"
    }
   ],
   "source": [
    "math.factorial(4) * 3"
   ]
  },
  {
   "cell_type": "code",
   "execution_count": 20,
   "id": "0829b696-b397-4dac-8efd-c411a3863fd3",
   "metadata": {},
   "outputs": [
    {
     "data": {
      "text/plain": [
       "(('A', 'B'), ('A', 'C'), ('B', 'A'), ('B', 'C'), ('C', 'A'), ('C', 'B'))"
      ]
     },
     "execution_count": 20,
     "metadata": {},
     "output_type": "execute_result"
    }
   ],
   "source": [
    "tuple(it.permutations(\"ABC\", 2))"
   ]
  },
  {
   "cell_type": "code",
   "execution_count": 21,
   "id": "2d2a204c-cc04-4522-8bfa-fccd7fab1056",
   "metadata": {},
   "outputs": [
    {
     "data": {
      "text/plain": [
       "6"
      ]
     },
     "execution_count": 21,
     "metadata": {},
     "output_type": "execute_result"
    }
   ],
   "source": [
    "res = tuple(it.permutations(\"ABC\", 2))\n",
    "len(res)"
   ]
  },
  {
   "cell_type": "code",
   "execution_count": 22,
   "id": "c5e9fec8-07e2-4185-ae03-7cee45c57e72",
   "metadata": {},
   "outputs": [
    {
     "data": {
      "text/plain": [
       "6.0"
      ]
     },
     "execution_count": 22,
     "metadata": {},
     "output_type": "execute_result"
    }
   ],
   "source": [
    "def simple_disp(n, k):\n",
    "    return math.factorial(n) / math.factorial(n - k)\n",
    "\n",
    "\n",
    "simple_disp(3, 2)"
   ]
  },
  {
   "cell_type": "code",
   "execution_count": 23,
   "id": "70b4c35d-4f94-492c-b099-45d54ab38178",
   "metadata": {},
   "outputs": [
    {
     "data": {
      "text/plain": [
       "(('A', 'B'), ('A', 'C'), ('B', 'C'))"
      ]
     },
     "execution_count": 23,
     "metadata": {},
     "output_type": "execute_result"
    }
   ],
   "source": [
    "c_nk = tuple(it.combinations(\"ABC\", 2))\n",
    "c_nk"
   ]
  },
  {
   "cell_type": "code",
   "execution_count": 24,
   "id": "1b43c7a7-0fe6-4a50-a05e-0137bbdfb2b8",
   "metadata": {},
   "outputs": [
    {
     "data": {
      "text/plain": [
       "3"
      ]
     },
     "execution_count": 24,
     "metadata": {},
     "output_type": "execute_result"
    }
   ],
   "source": [
    "len(c_nk)"
   ]
  },
  {
   "cell_type": "code",
   "execution_count": 25,
   "id": "b5c3b342-3bbb-45ab-b002-523fa4c15b49",
   "metadata": {},
   "outputs": [
    {
     "data": {
      "text/plain": [
       "3"
      ]
     },
     "execution_count": 25,
     "metadata": {},
     "output_type": "execute_result"
    }
   ],
   "source": [
    "math.comb(3, 2)"
   ]
  },
  {
   "cell_type": "code",
   "execution_count": 26,
   "id": "90256fbd-a538-4e57-a260-20015b6d4833",
   "metadata": {},
   "outputs": [
    {
     "data": {
      "text/plain": [
       "3.0"
      ]
     },
     "execution_count": 26,
     "metadata": {},
     "output_type": "execute_result"
    }
   ],
   "source": [
    "import scipy.special as sp\n",
    "\n",
    "sp.comb(3, 2)"
   ]
  },
  {
   "cell_type": "code",
   "execution_count": 27,
   "id": "48452fa7-3142-44b8-8f5b-6056abfa6094",
   "metadata": {},
   "outputs": [
    {
     "data": {
      "text/plain": [
       "((0, 1),\n",
       " (0, 2),\n",
       " (0, 3),\n",
       " (0, 4),\n",
       " (1, 2),\n",
       " (1, 3),\n",
       " (1, 4),\n",
       " (2, 3),\n",
       " (2, 4),\n",
       " (3, 4))"
      ]
     },
     "execution_count": 27,
     "metadata": {},
     "output_type": "execute_result"
    }
   ],
   "source": [
    "c_nk = tuple(it.combinations(range(5), 2))\n",
    "c_nk"
   ]
  },
  {
   "cell_type": "code",
   "execution_count": 28,
   "id": "08b456a9-1ef1-4eac-b372-692bab44221c",
   "metadata": {},
   "outputs": [
    {
     "data": {
      "text/plain": [
       "10"
      ]
     },
     "execution_count": 28,
     "metadata": {},
     "output_type": "execute_result"
    }
   ],
   "source": [
    "len(c_nk)"
   ]
  },
  {
   "cell_type": "code",
   "execution_count": 29,
   "id": "73813352-d47d-4503-b351-e9552e46b87a",
   "metadata": {},
   "outputs": [
    {
     "data": {
      "text/plain": [
       "10"
      ]
     },
     "execution_count": 29,
     "metadata": {},
     "output_type": "execute_result"
    }
   ],
   "source": [
    "math.comb(5, 2)"
   ]
  },
  {
   "cell_type": "code",
   "execution_count": 30,
   "id": "aadfcba5-5bd4-4c12-a7d6-4fb9611dca83",
   "metadata": {},
   "outputs": [
    {
     "data": {
      "text/plain": [
       "2118760"
      ]
     },
     "execution_count": 30,
     "metadata": {},
     "output_type": "execute_result"
    }
   ],
   "source": [
    "math.comb(50, 5)"
   ]
  },
  {
   "cell_type": "code",
   "execution_count": 31,
   "id": "b4c5249c-714e-490a-ad1d-94040a6d79ec",
   "metadata": {},
   "outputs": [
    {
     "data": {
      "text/plain": [
       "455"
      ]
     },
     "execution_count": 31,
     "metadata": {},
     "output_type": "execute_result"
    }
   ],
   "source": [
    "math.comb(15, 3)"
   ]
  },
  {
   "cell_type": "code",
   "execution_count": 32,
   "id": "8f7df10c-82f4-4dcf-8aba-3e73ac5e7d43",
   "metadata": {},
   "outputs": [
    {
     "data": {
      "text/plain": [
       "252"
      ]
     },
     "execution_count": 32,
     "metadata": {},
     "output_type": "execute_result"
    }
   ],
   "source": [
    "math.comb(10, 5)"
   ]
  },
  {
   "cell_type": "code",
   "execution_count": 33,
   "id": "18b16809-9d1d-4f6a-ae7e-11953553e50d",
   "metadata": {},
   "outputs": [
    {
     "name": "stdout",
     "output_type": "stream",
     "text": [
      "Last updated: Sun Jun 16 2024\n",
      "\n",
      "Python implementation: CPython\n",
      "Python version       : 3.12.3\n",
      "IPython version      : 8.25.0\n",
      "\n",
      "Compiler    : Clang 16.0.6 \n",
      "OS          : Darwin\n",
      "Release     : 23.4.0\n",
      "Machine     : arm64\n",
      "Processor   : arm\n",
      "CPU cores   : 8\n",
      "Architecture: 64bit\n",
      "\n",
      "numpy     : 1.26.4\n",
      "scipy     : 1.13.1\n",
      "seaborn   : 0.13.2\n",
      "arviz     : 0.18.0\n",
      "matplotlib: 3.8.4\n",
      "pandas    : 2.2.2\n",
      "\n",
      "Watermark: 2.4.3\n",
      "\n"
     ]
    }
   ],
   "source": [
    "%load_ext watermark\n",
    "%watermark -n -u -v -iv -w -m"
   ]
  }
 ],
 "metadata": {
  "kernelspec": {
   "display_name": "pymc",
   "language": "python",
   "name": "python3"
  },
  "language_info": {
   "codemirror_mode": {
    "name": "ipython",
    "version": 3
   },
   "file_extension": ".py",
   "mimetype": "text/x-python",
   "name": "python",
   "nbconvert_exporter": "python",
   "pygments_lexer": "ipython3",
   "version": "3.12.3"
  },
  "vscode": {
   "interpreter": {
    "hash": "cbb367cc0128e23b7454d788d5a4229ca1f9848fd2e857f4797fbd26ab3b0776"
   }
  }
 },
 "nbformat": 4,
 "nbformat_minor": 2
}