{
 "cells": [
  {
   "cell_type": "code",
   "execution_count": 1,
   "id": "c794f86e",
   "metadata": {},
   "outputs": [],
   "source": [
    "import numpy as np\n",
    "import matplotlib.pyplot as plt\n",
    "import pandas as pd\n",
    "import arviz as az\n",
    "from fractions import Fraction"
   ]
  },
  {
   "cell_type": "code",
   "execution_count": 2,
   "id": "c2ff4ec2",
   "metadata": {},
   "outputs": [],
   "source": [
    "%config InlineBackend.figure_format = 'retina'\n",
    "RANDOM_SEED = 42\n",
    "rng = np.random.default_rng(RANDOM_SEED)\n",
    "az.style.use(\"arviz-darkgrid\")"
   ]
  },
  {
   "cell_type": "code",
   "execution_count": 3,
   "id": "650605e1",
   "metadata": {},
   "outputs": [
    {
     "name": "stdout",
     "output_type": "stream",
     "text": [
      "7.0\n"
     ]
    }
   ],
   "source": [
    "E_U = sum([i + j for i in range(1, 7) for j in range(1, 7)]) / 36\n",
    "print(E_U)"
   ]
  },
  {
   "cell_type": "code",
   "execution_count": 4,
   "id": "f6fd86d6",
   "metadata": {},
   "outputs": [
    {
     "name": "stdout",
     "output_type": "stream",
     "text": [
      "0.5\n"
     ]
    }
   ],
   "source": [
    "E_V = sum([1 for i in range(1, 4) for j in range(1, 7)]) / 36\n",
    "print(E_V)"
   ]
  },
  {
   "cell_type": "code",
   "execution_count": 5,
   "id": "74e9e9fc",
   "metadata": {},
   "outputs": [],
   "source": [
    "E_U_squared = sum([(i + j) ** 2 for i in range(1, 7) for j in range(1, 7)]) / 36"
   ]
  },
  {
   "cell_type": "code",
   "execution_count": 6,
   "id": "23e2a611",
   "metadata": {},
   "outputs": [],
   "source": [
    "Var_U = E_U_squared - E_U**2"
   ]
  },
  {
   "cell_type": "code",
   "execution_count": 7,
   "id": "fc6a10f2",
   "metadata": {},
   "outputs": [],
   "source": [
    "E_V_squared = E_V"
   ]
  },
  {
   "cell_type": "code",
   "execution_count": 8,
   "id": "f87d975b",
   "metadata": {},
   "outputs": [],
   "source": [
    "Var_V = E_V_squared - E_V**2"
   ]
  },
  {
   "cell_type": "code",
   "execution_count": 9,
   "id": "37b5daa2",
   "metadata": {},
   "outputs": [],
   "source": [
    "E_UV = sum([(i + j) * 1 for i in range(1, 4) for j in range(1, 7)]) / 36"
   ]
  },
  {
   "cell_type": "code",
   "execution_count": 10,
   "id": "d1fb46ef",
   "metadata": {},
   "outputs": [
    {
     "name": "stdout",
     "output_type": "stream",
     "text": [
      "-0.75\n"
     ]
    }
   ],
   "source": [
    "Cov_UV = E_UV - E_U * E_V\n",
    "print(Cov_UV)"
   ]
  },
  {
   "cell_type": "code",
   "execution_count": 11,
   "id": "631862bd",
   "metadata": {},
   "outputs": [],
   "source": [
    "std_U = Var_U**0.5\n",
    "std_V = Var_V**0.5"
   ]
  },
  {
   "cell_type": "code",
   "execution_count": 12,
   "id": "59f3b1ea",
   "metadata": {},
   "outputs": [],
   "source": [
    "Correlation_UV = Cov_UV / (std_U * std_V)"
   ]
  },
  {
   "cell_type": "code",
   "execution_count": 13,
   "id": "b0173e7e",
   "metadata": {},
   "outputs": [
    {
     "data": {
      "text/plain": [
       "(7.0, 0.5, 5.833333333333336, 0.25, -0.75, -0.6210590034081187)"
      ]
     },
     "execution_count": 13,
     "metadata": {},
     "output_type": "execute_result"
    }
   ],
   "source": [
    "E_U, E_V, Var_U, Var_V, Cov_UV, Correlation_UV"
   ]
  },
  {
   "cell_type": "code",
   "execution_count": 14,
   "id": "54f43814",
   "metadata": {},
   "outputs": [
    {
     "name": "stdout",
     "output_type": "stream",
     "text": [
      "Last updated: Sun Jun 16 2024\n",
      "\n",
      "Python implementation: CPython\n",
      "Python version       : 3.12.3\n",
      "IPython version      : 8.25.0\n",
      "\n",
      "Compiler    : Clang 16.0.6 \n",
      "OS          : Darwin\n",
      "Release     : 23.4.0\n",
      "Machine     : arm64\n",
      "Processor   : arm\n",
      "CPU cores   : 8\n",
      "Architecture: 64bit\n",
      "\n",
      "numpy     : 1.26.4\n",
      "arviz     : 0.18.0\n",
      "matplotlib: 3.8.4\n",
      "pandas    : 2.2.2\n",
      "\n",
      "Watermark: 2.4.3\n",
      "\n"
     ]
    }
   ],
   "source": [
    "%load_ext watermark\n",
    "%watermark -n -u -v -iv -w -m"
   ]
  }
 ],
 "metadata": {
  "kernelspec": {
   "display_name": "pymc_env",
   "language": "python",
   "name": "python3"
  },
  "language_info": {
   "codemirror_mode": {
    "name": "ipython",
    "version": 3
   },
   "file_extension": ".py",
   "mimetype": "text/x-python",
   "name": "python",
   "nbconvert_exporter": "python",
   "pygments_lexer": "ipython3",
   "version": "3.12.3"
  }
 },
 "nbformat": 4,
 "nbformat_minor": 5
}