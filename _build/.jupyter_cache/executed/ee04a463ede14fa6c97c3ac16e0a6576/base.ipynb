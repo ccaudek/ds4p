{
 "cells": [
  {
   "cell_type": "code",
   "execution_count": 1,
   "id": "504a1caa-33ad-4c7c-b4ec-11fcecef76e1",
   "metadata": {},
   "outputs": [],
   "source": [
    "import numpy as np"
   ]
  },
  {
   "cell_type": "code",
   "execution_count": 2,
   "id": "41fbfb4c-103e-46e2-9a47-6e2a64277f84",
   "metadata": {},
   "outputs": [
    {
     "name": "stdout",
     "output_type": "stream",
     "text": [
      "[0. 0. 0. 0. 1. 0. 0. 0. 0. 0.]\n"
     ]
    }
   ],
   "source": [
    "Z = np.zeros(10)\n",
    "Z[4] = 1\n",
    "print(Z)"
   ]
  },
  {
   "cell_type": "code",
   "execution_count": 3,
   "id": "9c255c6e-9200-4b51-91a5-acd8d8af425e",
   "metadata": {},
   "outputs": [
    {
     "name": "stdout",
     "output_type": "stream",
     "text": [
      "[10 11 12 13 14 15 16 17 18 19 20 21 22 23 24 25 26 27 28 29 30 31 32 33\n",
      " 34 35 36 37 38 39 40 41 42 43 44 45 46 47 48 49]\n"
     ]
    }
   ],
   "source": [
    "Z = np.arange(10,50)\n",
    "print(Z)"
   ]
  },
  {
   "cell_type": "code",
   "execution_count": 4,
   "id": "a47f7154-349d-42ff-9b06-f3240697219d",
   "metadata": {},
   "outputs": [
    {
     "name": "stdout",
     "output_type": "stream",
     "text": [
      "[49 48 47 46 45 44 43 42 41 40 39 38 37 36 35 34 33 32 31 30 29 28 27 26\n",
      " 25 24 23 22 21 20 19 18 17 16 15 14 13 12 11 10  9  8  7  6  5  4  3  2\n",
      "  1  0]\n"
     ]
    }
   ],
   "source": [
    "Z = np.arange(50)\n",
    "Z = Z[::-1]\n",
    "print(Z)"
   ]
  },
  {
   "cell_type": "code",
   "execution_count": 5,
   "id": "2521ca2b-b2c0-4c35-a956-bec83ddd9d7c",
   "metadata": {},
   "outputs": [
    {
     "name": "stdout",
     "output_type": "stream",
     "text": [
      "(array([0, 1, 4]),)\n"
     ]
    }
   ],
   "source": [
    "nz = np.nonzero([1, 2, 0, 0, 4, 0])\n",
    "print(nz)\n"
   ]
  },
  {
   "cell_type": "code",
   "execution_count": 6,
   "id": "9a1c81f3-0674-45f7-9e45-1436b1e25eb5",
   "metadata": {},
   "outputs": [
    {
     "data": {
      "text/plain": [
       "array([[0.52424342, 0.74353559, 0.75419585, 0.9830306 , 0.127273  ,\n",
       "        0.53242061, 0.01094647, 0.99929536, 0.42000572, 0.36728521],\n",
       "       [0.43254115, 0.42255648, 0.4205056 , 0.94852678, 0.92489078,\n",
       "        0.07447573, 0.47419685, 0.7645669 , 0.62308967, 0.26821719],\n",
       "       [0.44161824, 0.31564694, 0.56592866, 0.12633733, 0.49055132,\n",
       "        0.30802898, 0.69725083, 0.50296239, 0.97864412, 0.22255457],\n",
       "       [0.05760945, 0.51994889, 0.74574188, 0.56822555, 0.81790983,\n",
       "        0.4520208 , 0.38148396, 0.78834824, 0.62576001, 0.37965603],\n",
       "       [0.89438911, 0.48984206, 0.03688774, 0.63694522, 0.66940936,\n",
       "        0.8199061 , 0.16624008, 0.6139922 , 0.32044358, 0.25021302],\n",
       "       [0.16764662, 0.67708192, 0.59822945, 0.71734665, 0.75127621,\n",
       "        0.02935947, 0.55306582, 0.6019979 , 0.50505386, 0.92774491],\n",
       "       [0.53716795, 0.74869046, 0.04902159, 0.72936959, 0.54359216,\n",
       "        0.93729708, 0.36347598, 0.05066142, 0.81358877, 0.61009454],\n",
       "       [0.75813141, 0.17153557, 0.45461293, 0.26686002, 0.27793601,\n",
       "        0.047142  , 0.44613438, 0.35061649, 0.81350821, 0.32401282],\n",
       "       [0.30848497, 0.61352968, 0.63699528, 0.92166596, 0.35265693,\n",
       "        0.69801254, 0.63468892, 0.33505875, 0.20523376, 0.56668255],\n",
       "       [0.57543744, 0.17914453, 0.6757281 , 0.19525599, 0.4001689 ,\n",
       "        0.52812522, 0.83592137, 0.14170512, 0.18047772, 0.00966232]])"
      ]
     },
     "execution_count": 6,
     "metadata": {},
     "output_type": "execute_result"
    }
   ],
   "source": [
    "Z = np.random.random((10,10))\n",
    "Z"
   ]
  },
  {
   "cell_type": "code",
   "execution_count": 7,
   "id": "a4ea7753-e2e0-4a53-b67e-de102d345d99",
   "metadata": {},
   "outputs": [
    {
     "name": "stdout",
     "output_type": "stream",
     "text": [
      "0.009662323990775046 0.9992953606752542\n"
     ]
    }
   ],
   "source": [
    "Zmin, Zmax = Z.min(), Z.max()\n",
    "print(Zmin, Zmax)"
   ]
  },
  {
   "cell_type": "code",
   "execution_count": 8,
   "id": "910db173-92b0-4127-ab90-27c258aa5ff7",
   "metadata": {},
   "outputs": [
    {
     "data": {
      "text/plain": [
       "array([0.82949977, 0.69993512, 0.61478815, 0.66027219, 0.60207705,\n",
       "       0.38230888, 0.41140665, 0.82673378, 0.52811733, 0.21903071,\n",
       "       0.16504487, 0.96586549, 0.29018818, 0.65976277, 0.17965431,\n",
       "       0.88036505, 0.57582906, 0.35015733, 0.63341364, 0.95395948,\n",
       "       0.36809354, 0.55104945, 0.70342544, 0.88897994, 0.90640909,\n",
       "       0.10262751, 0.3458725 , 0.11883452, 0.04358312, 0.57070688])"
      ]
     },
     "execution_count": 8,
     "metadata": {},
     "output_type": "execute_result"
    }
   ],
   "source": [
    "Z = np.random.random(30)\n",
    "Z"
   ]
  },
  {
   "cell_type": "code",
   "execution_count": 9,
   "id": "a31b23de-45c0-4ce4-b395-a507c783f03b",
   "metadata": {},
   "outputs": [
    {
     "name": "stdout",
     "output_type": "stream",
     "text": [
      "0.5342663938303274\n"
     ]
    }
   ],
   "source": [
    "m = Z.mean()\n",
    "print(m)"
   ]
  },
  {
   "cell_type": "code",
   "execution_count": 10,
   "id": "a96081b5-f2bc-41df-b274-fa7a55a456dd",
   "metadata": {},
   "outputs": [
    {
     "name": "stdout",
     "output_type": "stream",
     "text": [
      "[ 0  1  2  3 -4 -5 -6 -7  8  9 10]\n"
     ]
    }
   ],
   "source": [
    "Z = np.arange(11)\n",
    "Z[(3 < Z) & (Z < 8)] *= -1\n",
    "print(Z)"
   ]
  },
  {
   "cell_type": "code",
   "execution_count": 11,
   "id": "33411af0-0035-4395-98e2-9fc668bcb497",
   "metadata": {},
   "outputs": [
    {
     "name": "stdout",
     "output_type": "stream",
     "text": [
      "9\n"
     ]
    }
   ],
   "source": [
    "print(sum(range(5),-1))"
   ]
  },
  {
   "cell_type": "code",
   "execution_count": 12,
   "id": "a8085785-d02d-4175-ab4d-9e868ca09bb9",
   "metadata": {},
   "outputs": [
    {
     "name": "stdout",
     "output_type": "stream",
     "text": [
      "[0.46484895 0.48949361 0.         0.66229814 0.01921751 0.05736971\n",
      " 0.10335721 0.15365263 0.05764812 0.0775173 ]\n"
     ]
    }
   ],
   "source": [
    "Z = np.random.random(10)\n",
    "Z[Z.argmax()] = 0\n",
    "print(Z)\n"
   ]
  },
  {
   "cell_type": "code",
   "execution_count": 13,
   "id": "c48d7da8-b851-401d-9829-dcd5627f6fa4",
   "metadata": {},
   "outputs": [
    {
     "data": {
      "text/plain": [
       "array([ 0,  1,  2,  3,  4,  5,  6,  7,  8,  9, 10, 11, 12, 13, 14, 15, 16,\n",
       "       17, 18, 19, 20, 21, 22, 23, 24, 25, 26, 27, 28, 29, 30, 31, 32, 33,\n",
       "       34, 35, 36, 37, 38, 39, 40, 41, 42, 43, 44, 45, 46, 47, 48, 49, 50,\n",
       "       51, 52, 53, 54, 55, 56, 57, 58, 59, 60, 61, 62, 63, 64, 65, 66, 67,\n",
       "       68, 69, 70, 71, 72, 73, 74, 75, 76, 77, 78, 79, 80, 81, 82, 83, 84,\n",
       "       85, 86, 87, 88, 89, 90, 91, 92, 93, 94, 95, 96, 97, 98, 99])"
      ]
     },
     "execution_count": 13,
     "metadata": {},
     "output_type": "execute_result"
    }
   ],
   "source": [
    "Z = np.arange(100)\n",
    "Z"
   ]
  },
  {
   "cell_type": "code",
   "execution_count": 14,
   "id": "4217f142-8596-431e-a45b-464d2ef77524",
   "metadata": {},
   "outputs": [
    {
     "data": {
      "text/plain": [
       "97.68546133148459"
      ]
     },
     "execution_count": 14,
     "metadata": {},
     "output_type": "execute_result"
    }
   ],
   "source": [
    "v = np.random.uniform(0, 100)\n",
    "v"
   ]
  },
  {
   "cell_type": "code",
   "execution_count": 15,
   "id": "56f0c3b8-6969-4175-b3ea-5ca8b06c9799",
   "metadata": {},
   "outputs": [
    {
     "name": "stdout",
     "output_type": "stream",
     "text": [
      "98\n"
     ]
    }
   ],
   "source": [
    "index = (np.abs(Z - v)).argmin()\n",
    "print(Z[index])\n"
   ]
  },
  {
   "cell_type": "code",
   "execution_count": 16,
   "id": "ce6c29b9-b231-43d5-bda6-c254a8963327",
   "metadata": {},
   "outputs": [
    {
     "name": "stdout",
     "output_type": "stream",
     "text": [
      "[[2 3 1]\n",
      " [4 2 1]]\n"
     ]
    }
   ],
   "source": [
    "a = np.array([[2.5, 3.8, 1.5], [4.7, 2.9, 1.56]])\n",
    "\n",
    "o = a.astype(\"int\")\n",
    "\n",
    "print(o)\n"
   ]
  },
  {
   "cell_type": "code",
   "execution_count": 17,
   "id": "bc8b6378-e0d5-4336-89bd-0a85ed3c6d16",
   "metadata": {},
   "outputs": [
    {
     "name": "stdout",
     "output_type": "stream",
     "text": [
      "[[ True False False]\n",
      " [ True  True  True]\n",
      " [False False False]]\n"
     ]
    }
   ],
   "source": [
    "a = np.array([[1, 0, 0], [1, 1, 1], [0, 0, 0]])\n",
    "\n",
    "o = a.astype(\"bool\")\n",
    "\n",
    "print(o)\n"
   ]
  },
  {
   "cell_type": "code",
   "execution_count": 18,
   "id": "3796033c-1253-4716-b506-eff8f6d5786b",
   "metadata": {},
   "outputs": [
    {
     "name": "stdout",
     "output_type": "stream",
     "text": [
      "[[ 1  2  3  7  8  9]\n",
      " [ 4  5  6 10 11 12]]\n"
     ]
    }
   ],
   "source": [
    "a1 = np.array([[1, 2, 3], [4, 5, 6]])\n",
    "\n",
    "a2 = np.array([[7, 8, 9], [10, 11, 12]])\n",
    "\n",
    "o = np.hstack((a1, a2))\n",
    "\n",
    "print(o)\n"
   ]
  },
  {
   "cell_type": "code",
   "execution_count": 19,
   "id": "475c4e40-5108-4a23-8b08-f429ee48901e",
   "metadata": {},
   "outputs": [
    {
     "name": "stdout",
     "output_type": "stream",
     "text": [
      "(array([0, 3, 4]),)\n"
     ]
    }
   ],
   "source": [
    "a = np.array([1, 2, 3, 4, 5])\n",
    "\n",
    "b = np.array([1, 3, 2, 4, 5])\n",
    "\n",
    "print(np.where(a == b))\n"
   ]
  },
  {
   "cell_type": "code",
   "execution_count": 20,
   "id": "7e1d6c2a-c422-4935-83a7-b04ccacd4e6d",
   "metadata": {},
   "outputs": [
    {
     "name": "stdout",
     "output_type": "stream",
     "text": [
      "[[1 2 3 1 2 3 1 2 3 1 2 3 1 2 3 1 2 3 1 2 3 1 2 3 1 2 3 1 2 3]\n",
      " [4 5 6 4 5 6 4 5 6 4 5 6 4 5 6 4 5 6 4 5 6 4 5 6 4 5 6 4 5 6]]\n"
     ]
    }
   ],
   "source": [
    "a = np.array([[1, 2, 3], [4, 5, 6]])\n",
    "\n",
    "o = np.tile(a, 10)\n",
    "\n",
    "print(o)\n"
   ]
  },
  {
   "cell_type": "code",
   "execution_count": 21,
   "id": "b2506932-fe5c-4b95-8dbb-eb680ae278ec",
   "metadata": {},
   "outputs": [
    {
     "name": "stdout",
     "output_type": "stream",
     "text": [
      "[[2 2 6 1 3]\n",
      " [9 6 1 0 1]\n",
      " [9 0 0 9 3]\n",
      " [4 0 0 4 1]\n",
      " [7 3 2 4 7]]\n"
     ]
    }
   ],
   "source": [
    "np.random.seed(123)  # setting the seed\n",
    "\n",
    "o = np.random.randint(0, 10, size=(5, 5))\n",
    "\n",
    "print(o)\n"
   ]
  },
  {
   "cell_type": "code",
   "execution_count": 22,
   "id": "278bab11-c655-49bd-9fb1-1b06ee7331b1",
   "metadata": {},
   "outputs": [
    {
     "name": "stdout",
     "output_type": "stream",
     "text": [
      "True\n",
      "False\n"
     ]
    }
   ],
   "source": [
    "x = np.array([1, 0, 0, 0])\n",
    "print(np.any(x))\n",
    "x = np.array([0, 0, 0, 0])\n",
    "print(np.any(x))\n"
   ]
  },
  {
   "cell_type": "code",
   "execution_count": 23,
   "id": "702dabc3-1a2a-4f42-a900-e6cfff54353c",
   "metadata": {},
   "outputs": [
    {
     "name": "stdout",
     "output_type": "stream",
     "text": [
      "[ True  True  True  True  True  True  True  True  True False]\n",
      "True\n"
     ]
    }
   ],
   "source": [
    "x = np.array([72, 79, 85, 90, 150, -135, 120, -10, 60, 100])\n",
    "y = np.array([72, 79, 85, 90, 150, -135, 120, -10, 60, 100.000001])\n",
    "print(np.equal(x, y))\n",
    "print(np.allclose(x, y))\n"
   ]
  },
  {
   "cell_type": "code",
   "execution_count": 24,
   "id": "3ce358b8-39a4-4155-9507-fa05d804157d",
   "metadata": {},
   "outputs": [
    {
     "data": {
      "text/plain": [
       "array([[ 3.,  2., nan,  1.],\n",
       "       [10., 12., 10.,  9.],\n",
       "       [ 5., nan,  1., nan]])"
      ]
     },
     "execution_count": 24,
     "metadata": {},
     "output_type": "execute_result"
    }
   ],
   "source": [
    "nums = np.array([[3, 2, np.nan, 1], [10, 12, 10, 9], [5, np.nan, 1, np.nan]])\n",
    "nums\n",
    "\n"
   ]
  },
  {
   "cell_type": "code",
   "execution_count": 25,
   "id": "b3077453-8fcd-4616-bc8b-572288f02efc",
   "metadata": {},
   "outputs": [
    {
     "name": "stdout",
     "output_type": "stream",
     "text": [
      "[[False False  True False]\n",
      " [False False False False]\n",
      " [False  True False  True]]\n"
     ]
    }
   ],
   "source": [
    "print(np.isnan(nums))"
   ]
  },
  {
   "cell_type": "code",
   "execution_count": 26,
   "id": "b9cef3b7-78d5-4210-b5a7-f57ca76c1ca1",
   "metadata": {},
   "outputs": [
    {
     "name": "stdout",
     "output_type": "stream",
     "text": [
      "[5.54 3.38 3.54 4.38 1.54 2.39]\n"
     ]
    }
   ],
   "source": [
    "nums = np.array([[5.54, 3.38, 7.99], [3.54, 4.38, 6.99], [1.54, 2.39, 9.29]])\n",
    "n = 6\n",
    "print(nums[nums < n])\n"
   ]
  },
  {
   "cell_type": "code",
   "execution_count": 27,
   "id": "d160e0e0-bb96-43d4-99a3-3050120f1d81",
   "metadata": {},
   "outputs": [
    {
     "name": "stdout",
     "output_type": "stream",
     "text": [
      "[[ 5.54  3.38  7.99]\n",
      " [ 3.54 18.32  6.99]\n",
      " [ 1.54  2.39  9.29]]\n"
     ]
    }
   ],
   "source": [
    "nums = np.array([[5.54, 3.38, 7.99], [3.54, 8.32, 6.99], [1.54, 2.39, 9.29]])\n",
    "n = 8.32\n",
    "r = 18.32\n",
    "print(np.where(nums == n, r, nums))"
   ]
  },
  {
   "cell_type": "code",
   "execution_count": 28,
   "id": "70d4c722-5e62-4c6d-8a20-c26b9e16dee7",
   "metadata": {},
   "outputs": [
    {
     "name": "stdout",
     "output_type": "stream",
     "text": [
      "\n",
      "Replace elements with of the said array which are less than 8.32 with 18.32\n",
      "[[18.32 18.32 18.32]\n",
      " [18.32  8.32 18.32]\n",
      " [18.32 18.32  9.29]]\n"
     ]
    }
   ],
   "source": [
    "print(\"\\nReplace elements with of the said array which are less than\", n, \"with\", r)\n",
    "print(np.where(nums < n, r, nums))"
   ]
  },
  {
   "cell_type": "code",
   "execution_count": 29,
   "id": "c8a779a1-4bcd-48ae-9b68-69351a0a631e",
   "metadata": {},
   "outputs": [
    {
     "name": "stdout",
     "output_type": "stream",
     "text": [
      "\n",
      "Replace elements with of the said array which are greater than 8.32 with 18.32\n",
      "[[ 5.54  3.38  7.99]\n",
      " [ 3.54  8.32  6.99]\n",
      " [ 1.54  2.39 18.32]]\n"
     ]
    }
   ],
   "source": [
    "print(\"\\nReplace elements with of the said array which are greater than\", n, \"with\", r)\n",
    "print(np.where(nums > n, r, nums))"
   ]
  },
  {
   "cell_type": "code",
   "execution_count": 30,
   "id": "69fcb45d-12fa-4c89-b7ba-e0e10c98fbbe",
   "metadata": {},
   "outputs": [],
   "source": [
    "nums1 = np.array([[2, 5, 2], [1, 5, 5]])\n",
    "nums2 = np.array([[5, 3, 4], [3, 2, 5]])\n"
   ]
  },
  {
   "cell_type": "code",
   "execution_count": 31,
   "id": "bb153756-1e5d-48aa-83a5-5083354debaa",
   "metadata": {},
   "outputs": [
    {
     "name": "stdout",
     "output_type": "stream",
     "text": [
      "[[2 5 2]\n",
      " [1 5 5]]\n"
     ]
    }
   ],
   "source": [
    "print(nums1)"
   ]
  },
  {
   "cell_type": "code",
   "execution_count": 32,
   "id": "d437d7b8-9141-4845-b3dd-d85f1bdcf937",
   "metadata": {},
   "outputs": [
    {
     "name": "stdout",
     "output_type": "stream",
     "text": [
      "[[5 3 4]\n",
      " [3 2 5]]\n"
     ]
    }
   ],
   "source": [
    "print(nums2)"
   ]
  },
  {
   "cell_type": "code",
   "execution_count": 33,
   "id": "d662009b-7c1e-446b-9597-2f45951608fb",
   "metadata": {},
   "outputs": [
    {
     "name": "stdout",
     "output_type": "stream",
     "text": [
      "[[10 15  8]\n",
      " [ 3 10 25]]\n"
     ]
    }
   ],
   "source": [
    "print(np.multiply(nums1, nums2))"
   ]
  }
 ],
 "metadata": {
  "kernelspec": {
   "display_name": "pymc",
   "language": "python",
   "name": "python3"
  },
  "language_info": {
   "codemirror_mode": {
    "name": "ipython",
    "version": 3
   },
   "file_extension": ".py",
   "mimetype": "text/x-python",
   "name": "python",
   "nbconvert_exporter": "python",
   "pygments_lexer": "ipython3",
   "version": "3.12.3"
  },
  "vscode": {
   "interpreter": {
    "hash": "cbb367cc0128e23b7454d788d5a4229ca1f9848fd2e857f4797fbd26ab3b0776"
   }
  }
 },
 "nbformat": 4,
 "nbformat_minor": 2
}