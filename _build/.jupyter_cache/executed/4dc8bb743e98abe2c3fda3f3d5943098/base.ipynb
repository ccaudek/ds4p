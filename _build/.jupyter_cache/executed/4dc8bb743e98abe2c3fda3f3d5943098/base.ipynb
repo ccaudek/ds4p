{
 "cells": [
  {
   "cell_type": "code",
   "execution_count": 1,
   "id": "c794f86e",
   "metadata": {},
   "outputs": [],
   "source": [
    "import numpy as np\n",
    "import matplotlib.pyplot as plt\n",
    "import pandas as pd\n",
    "import arviz as az\n",
    "from fractions import Fraction"
   ]
  },
  {
   "cell_type": "code",
   "execution_count": 2,
   "id": "c2ff4ec2",
   "metadata": {},
   "outputs": [],
   "source": [
    "%config InlineBackend.figure_format = 'retina'\n",
    "RANDOM_SEED = 42\n",
    "rng = np.random.default_rng(RANDOM_SEED)\n",
    "az.style.use(\"arviz-darkgrid\")"
   ]
  },
  {
   "cell_type": "code",
   "execution_count": 3,
   "id": "dd2435ac",
   "metadata": {},
   "outputs": [
    {
     "name": "stdout",
     "output_type": "stream",
     "text": [
      "['TT', 'TC', 'CT', 'CC']\n"
     ]
    }
   ],
   "source": [
    "# Definizione dello spazio campionario\n",
    "spazio_campionario = [\"TT\", \"TC\", \"CT\", \"CC\"]\n",
    "print(spazio_campionario)"
   ]
  },
  {
   "cell_type": "code",
   "execution_count": 4,
   "id": "61d8ef3d",
   "metadata": {},
   "outputs": [
    {
     "name": "stdout",
     "output_type": "stream",
     "text": [
      "['TT', 'TC']\n"
     ]
    }
   ],
   "source": [
    "# Identificazione degli eventi favorevoli\n",
    "eventi_favorevoli = [evento for evento in spazio_campionario if evento[0] == \"T\"]\n",
    "print(eventi_favorevoli)"
   ]
  },
  {
   "cell_type": "code",
   "execution_count": 5,
   "id": "80b6ac66",
   "metadata": {},
   "outputs": [
    {
     "name": "stdout",
     "output_type": "stream",
     "text": [
      "La probabilità di ottenere 'Testa' nel primo lancio è: 0.5\n"
     ]
    }
   ],
   "source": [
    "# Calcolo della probabilità\n",
    "probabilità = len(eventi_favorevoli) / len(spazio_campionario)\n",
    "print(\"La probabilità di ottenere 'Testa' nel primo lancio è:\", probabilità)"
   ]
  },
  {
   "cell_type": "code",
   "execution_count": 6,
   "id": "4625eebb",
   "metadata": {},
   "outputs": [],
   "source": [
    "# Definizione dello spazio campionario\n",
    "spazio_campionario = [\"TT\", \"TC\", \"CT\", \"CC\"]"
   ]
  },
  {
   "cell_type": "code",
   "execution_count": 7,
   "id": "44516c5d",
   "metadata": {},
   "outputs": [],
   "source": [
    "# Definizione dell'evento A: \"croce nel primo lancio\"\n",
    "evento_A = [\"CT\", \"CC\"]"
   ]
  },
  {
   "cell_type": "code",
   "execution_count": 8,
   "id": "8822f30c",
   "metadata": {},
   "outputs": [],
   "source": [
    "# Definizione dell'evento B: \"due volte testa\"\n",
    "evento_B = [\"TT\"]"
   ]
  },
  {
   "cell_type": "code",
   "execution_count": 9,
   "id": "be09010f",
   "metadata": {},
   "outputs": [],
   "source": [
    "# Unione degli eventi A e B\n",
    "unione_A_B = set(evento_A).union(set(evento_B))"
   ]
  },
  {
   "cell_type": "code",
   "execution_count": 10,
   "id": "62b1a321",
   "metadata": {},
   "outputs": [
    {
     "name": "stdout",
     "output_type": "stream",
     "text": [
      "La probabilità di P(A U B) è: 0.75\n"
     ]
    }
   ],
   "source": [
    "# Calcolo della probabilità P(A U B)\n",
    "probabilità_A_union_B = len(unione_A_B) / len(spazio_campionario)\n",
    "\n",
    "print(\"La probabilità di P(A U B) è:\", probabilità_A_union_B)"
   ]
  },
  {
   "cell_type": "code",
   "execution_count": 11,
   "id": "e40978d9",
   "metadata": {},
   "outputs": [
    {
     "data": {
      "text/plain": [
       "(0.057692307692307696, 0.23076923076923078)"
      ]
     },
     "execution_count": 11,
     "metadata": {},
     "output_type": "execute_result"
    }
   ],
   "source": [
    "# Parte 1: Probabilità di estrarre una figura di cuori\n",
    "P_figura_cuori = 3 / 52\n",
    "\n",
    "# Parte 2: Probabilità che il valore numerico sia 7, 8, o 9 dato che la carta è di cuori\n",
    "P_789_dato_cuori = 3 / 13\n",
    "\n",
    "P_figura_cuori, P_789_dato_cuori"
   ]
  },
  {
   "cell_type": "code",
   "execution_count": 12,
   "id": "ea8ab553",
   "metadata": {},
   "outputs": [
    {
     "data": {
      "text/plain": [
       "(0.32450331125827814, 0.49)"
      ]
     },
     "execution_count": 12,
     "metadata": {},
     "output_type": "execute_result"
    }
   ],
   "source": [
    "# Probabilità di maschio e femmina\n",
    "P_maschio = 0.51\n",
    "P_femmina = 0.49\n",
    "\n",
    "# Calcolo delle probabilità assolute\n",
    "P_A = P_femmina * P_femmina  # Entrambi femmine\n",
    "P_entrambi_maschi = P_maschio * P_maschio\n",
    "P_B = 1 - P_entrambi_maschi  # Almeno uno femmina\n",
    "P_C = P_femmina  # Primogenito femmina\n",
    "\n",
    "# Calcolo delle probabilità condizionate\n",
    "P_A_dato_B = P_A / P_B  # Entrambi femmine dato almeno uno femmina\n",
    "P_A_dato_C = P_A / P_C  # Entrambi femmine dato primogenito femmina\n",
    "\n",
    "P_A_dato_B, P_A_dato_C"
   ]
  },
  {
   "cell_type": "code",
   "execution_count": 13,
   "id": "f0f4195a",
   "metadata": {},
   "outputs": [
    {
     "data": {
      "text/plain": [
       "(0.3333333333333333, 0.1388888888888889, 0.027777777777777776, False)"
      ]
     },
     "execution_count": 13,
     "metadata": {},
     "output_type": "execute_result"
    }
   ],
   "source": [
    "# Calcolo delle probabilità\n",
    "P_A = 2 / 6\n",
    "P_B = 5 / 36\n",
    "P_A_cap_B = 1 / 36\n",
    "\n",
    "# Verifica dell'indipendenza\n",
    "indipendenza = P_A_cap_B == P_A * P_B\n",
    "\n",
    "P_A, P_B, P_A_cap_B, indipendenza"
   ]
  },
  {
   "cell_type": "code",
   "execution_count": 14,
   "id": "ac8989d8",
   "metadata": {},
   "outputs": [
    {
     "name": "stdout",
     "output_type": "stream",
     "text": [
      "0.14\n"
     ]
    }
   ],
   "source": [
    "# Probabilità per ogni faccia del dado truccato\n",
    "prob_faccia = [0.3, 0.3, 0.1, 0.1, 0.1, 0.1]\n",
    "\n",
    "# 1. Probabilità che la somma dei punti sia uguale a 7\n",
    "prob_somma_7 = sum(prob_faccia[i - 1] * prob_faccia[6 - i - 1] for i in range(1, 7))\n",
    "print(prob_somma_7)"
   ]
  },
  {
   "cell_type": "code",
   "execution_count": 15,
   "id": "07d1956e",
   "metadata": {},
   "outputs": [
    {
     "name": "stdout",
     "output_type": "stream",
     "text": [
      "0.8\n"
     ]
    }
   ],
   "source": [
    "# 2. Probabilità che il primo dado sia < 3 o il secondo dado sia un numero dispari\n",
    "# Calcoliamo separatamente, poi uniamo le probabilità tenendo conto dell'intersezione\n",
    "prob_primo_meno_di_3 = prob_faccia[0] + prob_faccia[1]\n",
    "prob_secondo_dispari = prob_faccia[0] + prob_faccia[2] + prob_faccia[4]\n",
    "# L'intersezione (primo dado < 3 e secondo dado dispari) è già considerata nei calcoli di prob_secondo_dispari\n",
    "prob_unione = (\n",
    "    prob_primo_meno_di_3\n",
    "    + prob_secondo_dispari\n",
    "    - (prob_primo_meno_di_3 * prob_secondo_dispari)\n",
    ")\n",
    "\n",
    "print(prob_unione)"
   ]
  },
  {
   "cell_type": "code",
   "execution_count": 16,
   "id": "83e51859",
   "metadata": {},
   "outputs": [
    {
     "name": "stdout",
     "output_type": "stream",
     "text": [
      "0.3\n"
     ]
    }
   ],
   "source": [
    "# 3. Probabilità che il primo dado sia < 3 e il secondo dado sia un numero dispari\n",
    "prob_intersezione = prob_primo_meno_di_3 * prob_secondo_dispari\n",
    "\n",
    "print(prob_intersezione)"
   ]
  },
  {
   "cell_type": "code",
   "execution_count": 17,
   "id": "a7f030c3",
   "metadata": {},
   "outputs": [
    {
     "name": "stdout",
     "output_type": "stream",
     "text": [
      "0.1\n"
     ]
    }
   ],
   "source": [
    "# 4. Probabilità di ottenere 3 con il primo dado\n",
    "prob_primo_3 = prob_faccia[2]\n",
    "\n",
    "print(prob_primo_3)"
   ]
  },
  {
   "cell_type": "code",
   "execution_count": 18,
   "id": "3679e7b2",
   "metadata": {},
   "outputs": [
    {
     "name": "stdout",
     "output_type": "stream",
     "text": [
      "0.1\n"
     ]
    }
   ],
   "source": [
    "# 5. Probabilità di ottenere 3 con il secondo dado, dato che il primo dado ha prodotto 4\n",
    "# Dato che gli eventi sono indipendenti, la probabilità di ottenere 3 con il secondo dado non cambia\n",
    "prob_secondo_3_dato_primo_4 = prob_faccia[2]\n",
    "\n",
    "print(prob_secondo_3_dato_primo_4)"
   ]
  },
  {
   "cell_type": "code",
   "execution_count": 19,
   "id": "54f43814",
   "metadata": {},
   "outputs": [
    {
     "name": "stdout",
     "output_type": "stream",
     "text": [
      "Last updated: Sun Jun 16 2024\n",
      "\n",
      "Python implementation: CPython\n",
      "Python version       : 3.12.3\n",
      "IPython version      : 8.25.0\n",
      "\n",
      "Compiler    : Clang 16.0.6 \n",
      "OS          : Darwin\n",
      "Release     : 23.4.0\n",
      "Machine     : arm64\n",
      "Processor   : arm\n",
      "CPU cores   : 8\n",
      "Architecture: 64bit\n",
      "\n",
      "pandas    : 2.2.2\n",
      "arviz     : 0.18.0\n",
      "matplotlib: 3.8.4\n",
      "numpy     : 1.26.4\n",
      "\n",
      "Watermark: 2.4.3\n",
      "\n"
     ]
    }
   ],
   "source": [
    "%load_ext watermark\n",
    "%watermark -n -u -v -iv -w -m"
   ]
  }
 ],
 "metadata": {
  "kernelspec": {
   "display_name": "pymc_env",
   "language": "python",
   "name": "python3"
  },
  "language_info": {
   "codemirror_mode": {
    "name": "ipython",
    "version": 3
   },
   "file_extension": ".py",
   "mimetype": "text/x-python",
   "name": "python",
   "nbconvert_exporter": "python",
   "pygments_lexer": "ipython3",
   "version": "3.12.3"
  }
 },
 "nbformat": 4,
 "nbformat_minor": 5
}