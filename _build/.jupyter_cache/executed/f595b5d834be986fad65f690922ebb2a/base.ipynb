{
 "cells": [
  {
   "cell_type": "code",
   "execution_count": 1,
   "id": "17ff08c5-0f75-41da-8587-9329f7620eb6",
   "metadata": {},
   "outputs": [],
   "source": [
    "from scipy.stats import norm"
   ]
  },
  {
   "cell_type": "code",
   "execution_count": 2,
   "id": "8f6bf288-cff5-4018-9d7f-f9c78ae81842",
   "metadata": {},
   "outputs": [
    {
     "name": "stdout",
     "output_type": "stream",
     "text": [
      "474.4635\n"
     ]
    }
   ],
   "source": [
    "# Given parameters\n",
    "b0 = 474\n",
    "b1 = 0.309\n",
    "sigma = 117\n",
    "x_i = 1.5\n",
    "\n",
    "# Calculating the mean of the distribution\n",
    "mean = b0 + b1 * x_i\n",
    "print(mean)"
   ]
  },
  {
   "cell_type": "code",
   "execution_count": 3,
   "id": "fd87b8d2-514f-4a03-a2c6-f64c91d04658",
   "metadata": {},
   "outputs": [
    {
     "name": "stdout",
     "output_type": "stream",
     "text": [
      "The quantile of order 0.2 for the distribution is: 375.99381567196906\n"
     ]
    }
   ],
   "source": [
    "# Finding the quantile of order 0.2 for the distribution\n",
    "quantile_0_2 = norm.ppf(0.2, loc=mean, scale=sigma)\n",
    "print(\"The quantile of order 0.2 for the distribution is:\", quantile_0_2)"
   ]
  }
 ],
 "metadata": {
  "kernelspec": {
   "display_name": "pymc5_env",
   "language": "python",
   "name": "python3"
  },
  "language_info": {
   "codemirror_mode": {
    "name": "ipython",
    "version": 3
   },
   "file_extension": ".py",
   "mimetype": "text/x-python",
   "name": "python",
   "nbconvert_exporter": "python",
   "pygments_lexer": "ipython3",
   "version": "3.12.3"
  }
 },
 "nbformat": 4,
 "nbformat_minor": 2
}