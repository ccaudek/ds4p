{
 "cells": [
  {
   "cell_type": "code",
   "execution_count": 1,
   "id": "84ba0c4a-ca2d-47de-a50f-1b0c27391288",
   "metadata": {},
   "outputs": [],
   "source": [
    "import numpy as np\n",
    "import pandas as pd\n",
    "import random "
   ]
  },
  {
   "cell_type": "code",
   "execution_count": 2,
   "id": "29553e66-fde9-4b27-ae71-9aa73e67a3c9",
   "metadata": {},
   "outputs": [
    {
     "name": "stdout",
     "output_type": "stream",
     "text": [
      "<class 'pandas.core.frame.DataFrame'>\n",
      "Index: 333 entries, 0 to 343\n",
      "Data columns (total 8 columns):\n",
      " #   Column             Non-Null Count  Dtype  \n",
      "---  ------             --------------  -----  \n",
      " 0   species            333 non-null    object \n",
      " 1   island             333 non-null    object \n",
      " 2   bill_length_mm     333 non-null    float64\n",
      " 3   bill_depth_mm      333 non-null    float64\n",
      " 4   flipper_length_mm  333 non-null    float64\n",
      " 5   body_mass_g        333 non-null    float64\n",
      " 6   sex                333 non-null    object \n",
      " 7   year               333 non-null    int64  \n",
      "dtypes: float64(4), int64(1), object(3)\n",
      "memory usage: 23.4+ KB\n"
     ]
    }
   ],
   "source": [
    "df = pd.read_csv(\"../data/penguins.csv\")\n",
    "\n",
    "df.dropna(inplace=True)\n",
    "df.info()"
   ]
  },
  {
   "cell_type": "code",
   "execution_count": 3,
   "id": "111f1663-9b48-489c-9527-5c345778b9ba",
   "metadata": {},
   "outputs": [
    {
     "data": {
      "text/plain": [
       "0    False\n",
       "1    False\n",
       "2    False\n",
       "4    False\n",
       "5    False\n",
       "Name: island, dtype: bool"
      ]
     },
     "execution_count": 3,
     "metadata": {},
     "output_type": "execute_result"
    }
   ],
   "source": [
    "on_dream = df[\"island\"] == \"Dream\"\n",
    "on_dream.head()"
   ]
  },
  {
   "cell_type": "code",
   "execution_count": 4,
   "id": "3c8d0c53-4644-4851-bf24-af7fa213aceb",
   "metadata": {},
   "outputs": [
    {
     "data": {
      "text/plain": [
       "123"
      ]
     },
     "execution_count": 4,
     "metadata": {},
     "output_type": "execute_result"
    }
   ],
   "source": [
    "on_dream.sum()"
   ]
  },
  {
   "cell_type": "code",
   "execution_count": 5,
   "id": "fbfe966d-66ad-4cb9-8eb2-42eba85c3a92",
   "metadata": {},
   "outputs": [
    {
     "data": {
      "text/plain": [
       "0.36936936936936937"
      ]
     },
     "execution_count": 5,
     "metadata": {},
     "output_type": "execute_result"
    }
   ],
   "source": [
    "on_dream.mean()"
   ]
  },
  {
   "cell_type": "code",
   "execution_count": 6,
   "id": "90f318af-3075-4ea8-812c-ad5a881abbf6",
   "metadata": {},
   "outputs": [],
   "source": [
    "def prob(A):\n",
    "    \"\"\"Computes the probability of a proposition, A.\"\"\"\n",
    "    return A.mean()"
   ]
  },
  {
   "cell_type": "code",
   "execution_count": 7,
   "id": "cac36e42-34db-43c6-b50c-17de3ce1ee14",
   "metadata": {},
   "outputs": [
    {
     "data": {
      "text/plain": [
       "0.36936936936936937"
      ]
     },
     "execution_count": 7,
     "metadata": {},
     "output_type": "execute_result"
    }
   ],
   "source": [
    "prob(on_dream)"
   ]
  },
  {
   "cell_type": "code",
   "execution_count": 8,
   "id": "c710aeab-42bb-4eb8-85c7-d43d3f4cb0ed",
   "metadata": {},
   "outputs": [
    {
     "data": {
      "text/plain": [
       "0.4954954954954955"
      ]
     },
     "execution_count": 8,
     "metadata": {},
     "output_type": "execute_result"
    }
   ],
   "source": [
    "female = df[\"sex\"] == \"female\"\n",
    "prob(female)"
   ]
  },
  {
   "cell_type": "code",
   "execution_count": 9,
   "id": "ac9fd7d3-12d8-4b55-9fa1-8ec48f781aab",
   "metadata": {},
   "outputs": [
    {
     "data": {
      "text/plain": [
       "0.30930930930930933"
      ]
     },
     "execution_count": 9,
     "metadata": {},
     "output_type": "execute_result"
    }
   ],
   "source": [
    "small = df[\"body_mass_g\"] < df[\"body_mass_g\"].quantile(1 / 3)\n",
    "prob(small)"
   ]
  },
  {
   "cell_type": "code",
   "execution_count": 10,
   "id": "03077f0d-cb6c-4e5d-a59b-d8dd0158d399",
   "metadata": {},
   "outputs": [
    {
     "data": {
      "text/plain": [
       "0.2552552552552553"
      ]
     },
     "execution_count": 10,
     "metadata": {},
     "output_type": "execute_result"
    }
   ],
   "source": [
    "prob(female & small)"
   ]
  },
  {
   "cell_type": "code",
   "execution_count": 11,
   "id": "bcf6e3b3-f431-419c-b5fd-09b8c9908075",
   "metadata": {},
   "outputs": [
    {
     "data": {
      "text/plain": [
       "0.8252427184466019"
      ]
     },
     "execution_count": 11,
     "metadata": {},
     "output_type": "execute_result"
    }
   ],
   "source": [
    "selected = female[small]\n",
    "prob(selected)"
   ]
  },
  {
   "cell_type": "code",
   "execution_count": 12,
   "id": "c61f8969-581f-4153-a94f-40a0842fcba9",
   "metadata": {},
   "outputs": [],
   "source": [
    "def conditional(proposition, given):\n",
    "    return prob(proposition[given])"
   ]
  },
  {
   "cell_type": "code",
   "execution_count": 13,
   "id": "8fed38f2-fec7-42ba-8118-709aad33f820",
   "metadata": {},
   "outputs": [
    {
     "data": {
      "text/plain": [
       "0.8252427184466019"
      ]
     },
     "execution_count": 13,
     "metadata": {},
     "output_type": "execute_result"
    }
   ],
   "source": [
    "conditional(female, given=small)"
   ]
  },
  {
   "cell_type": "code",
   "execution_count": 14,
   "id": "469f0b23-afbc-4fd0-ae75-0c708d1ca9f6",
   "metadata": {},
   "outputs": [
    {
     "data": {
      "text/plain": [
       "0.4959349593495935"
      ]
     },
     "execution_count": 14,
     "metadata": {},
     "output_type": "execute_result"
    }
   ],
   "source": [
    "conditional(female, given=on_dream)"
   ]
  },
  {
   "cell_type": "code",
   "execution_count": 15,
   "id": "6ead63ad-f3c9-4e1e-b3cf-4e355f10d0b6",
   "metadata": {},
   "outputs": [
    {
     "data": {
      "text/plain": [
       "0.49593495934959353"
      ]
     },
     "execution_count": 15,
     "metadata": {},
     "output_type": "execute_result"
    }
   ],
   "source": [
    "prob(female & on_dream) / prob(on_dream)"
   ]
  },
  {
   "cell_type": "code",
   "execution_count": 16,
   "id": "300d7c01-2c82-4bc4-b7b7-3e6ac34fbddb",
   "metadata": {},
   "outputs": [
    {
     "data": {
      "text/plain": [
       "0.1831831831831832"
      ]
     },
     "execution_count": 16,
     "metadata": {},
     "output_type": "execute_result"
    }
   ],
   "source": [
    "prob(female & on_dream) "
   ]
  },
  {
   "cell_type": "code",
   "execution_count": 17,
   "id": "e3e745c1-3079-427d-b4a5-2481f1f1cf62",
   "metadata": {},
   "outputs": [
    {
     "data": {
      "text/plain": [
       "0.18318318318318316"
      ]
     },
     "execution_count": 17,
     "metadata": {},
     "output_type": "execute_result"
    }
   ],
   "source": [
    "conditional(female, given=on_dream) * prob(on_dream)"
   ]
  }
 ],
 "metadata": {
  "kernelspec": {
   "display_name": "pymc",
   "language": "python",
   "name": "python3"
  },
  "language_info": {
   "codemirror_mode": {
    "name": "ipython",
    "version": 3
   },
   "file_extension": ".py",
   "mimetype": "text/x-python",
   "name": "python",
   "nbconvert_exporter": "python",
   "pygments_lexer": "ipython3",
   "version": "3.12.3"
  },
  "vscode": {
   "interpreter": {
    "hash": "cbb367cc0128e23b7454d788d5a4229ca1f9848fd2e857f4797fbd26ab3b0776"
   }
  }
 },
 "nbformat": 4,
 "nbformat_minor": 2
}