{
 "cells": [
  {
   "attachments": {},
   "cell_type": "markdown",
   "id": "83e6c000-5b5a-4f9a-9195-120895a7353d",
   "metadata": {},
   "source": [
    "# Materiali didattici\n",
    "\n",
    "Per un'efficace preparazione all'esame, si raccomanda di consultare e studiare in dettaglio i seguenti materiali didattici:\n",
    "\n",
    "1. [Introduction to Probability](https://www.routledge.com/Introduction-to-Probability-Second-Edition/Blitzstein-Hwang/p/book/9781138369917)\n",
    "   - Le sezioni specifiche da esaminare sono elencate nel calendario didattico del corso. \n",
    "   - È disponibile una versione online gratuita della seconda edizione del libro sul sito [probabilitybook.net](http://probabilitybook.net).\n",
    "\n",
    "2. [Bayes Rules! An Introduction to Applied Bayesian Modeling](https://www.bayesrulesbook.com/index.html) \n",
    "   - Questo testo offre un'introduzione completa alla modellazione Bayesiana applicata.\n",
    "   - Le sezioni specifiche da esaminare sono elencate nel calendario didattico del corso.\n",
    "\n",
    "3. Dispensa del corso.\n",
    "   - La dispensa contenuta in questo sito web fornisce una copertura completa dei temi trattati. Inoltre, include una varietà di esercizi pratici, con istruzioni dettagliate in Python per eseguire le analisi dati rilevanti per l'esame.\n",
    "\n",
    "4. [Statistical Rethinking](https://xcelab.net/rm/statistical-rethinking/), i primi due capitoli.\n",
    "   - I capitoli 1 e 2 sono disponibili gratuitamente seguendo il link fornito.\n",
    "\n",
    "5. [A Beginners Guide to Python 3 Programming](https://link.springer.com/book/10.1007/978-3-031-35122-8).\n",
    "   - Il testo di John Hunt fornisce una guida completa per imparare il linguaggio di programmazione Python. Per questo corso, è sufficiente avere una conoscenza di base del linguaggio.\n",
    "   - È possibile scaricare gratuitamente il testo dal sito Springer utilizzando le credenziali UniFi per l'accesso.\n",
    "\n",
    "6. Articoli scientifici selezionati.\n",
    "   - Si richiede un'analisi accurata degli articoli specificati, disponibili nella sezione Moodle del corso.\n",
    "      - Loken, E., & Gelman, A. (2017). Measurement error and the replication crisis. *Science*, *355*(6325), 584-585.\n",
    "      - Amrhein, V., Greenland, S., & McShane, B. (2019). Comment: Retire statistical significance. *Nature*, *567*, 305-307.\n",
    "      - Wasserstein, R. L., Schirm, A. L., & Lazar, N. A. (2019). Moving to a world beyond “p< 0.05”. *The American Statistician*, *73*(sup1), 1-19.\n",
    "\n",
    "Questi materiali sono essenziali per una comprensione approfondita degli argomenti del corso e per il successo nell'esame finale.\n",
    "\n",
    "## Materiali supplementari\n",
    "\n",
    "I seguenti materiali supplementari sono forniti come risorse aggiuntive per coloro che desiderano approfondire gli argomenti trattati nella dispensa o consultare testi che presentano gli stessi contenuti da prospettive diverse.\n",
    "\n",
    "1. Il libro [An Introduction to Bayesian Data Analysis for Cognitive Science](https://vasishth.github.io/bayescogsci/book/) di Bruno Nicenboim, Daniel Schad, e Shravan Vasishth fornisce un'introduzione alla conduzione dell'analisi dei dati bayesiani e alla modellazione cognitiva utilizzando il linguaggio di programmazione probabilistico Stan. \n",
    "\n",
    "2. Il libro [Think Bayes 2](https://allendowney.github.io/ThinkBayes2/) di Allen B. Downey fornisce un'introduzione alla statistica bayesiana usando metodi computazionali (in Python).\n",
    "\n",
    "3. Il libro [Probability and Bayesian Modeling](https://bayesball.github.io/BOOK/probability-a-measurement-of-uncertainty.html) di Jim Albert e Jingchen Hu fornisce un'ottima introduzione alla statistica bayesiana ed è disponibile online.\n",
    "\n",
    "4. Il libro [Bayesian Modeling and Computation in Python](https://bayesiancomputationbook.com/welcome.html) presenta discussioni introduttive e avanzate sulla statistica bayesiana usando PyMC. Alcune parti del testo sono disponibili online.\n",
    "\n",
    "5. Il libro [Bayesian Analysis with Python (3rd ed.)](https://www.packtpub.com/product/bayesian-analysis-with-python-third-edition/9781805127161) di Osvaldo Martin è anch'esso un'ottima introduzione all'inferenza bayesiana con PyMC.\n",
    "\n",
    "6. Il libro [Data Analysis for Social Science: A Friendly and Practical Introduction](https://press.princeton.edu/books/paperback/9780691199436/data-analysis-for-social-science) scritto da Elena Llaudet e Kosuke Imai (2022) offre un'introduzione accessibile all'analisi dei dati utilizzando il software statistico R. Pur non trattando la statistica bayesiana, il libro rappresenta un'eccellente introduzione agli argomenti trattati nel contesto del presente corso. Si sottolinea che, nonostante gli esempi forniti siano basati su R e non su Python, questa differenza non costituisce una limitazione significativa, poiché con l'assistenza di ChatGPT è possibile agevolmente convertire la sintassi R in Python.\n"
   ]
  }
 ],
 "metadata": {
  "kernelspec": {
   "display_name": "bambi_env",
   "language": "python",
   "name": "python3"
  },
  "language_info": {
   "name": "python",
   "version": "3.8.15 (default, Nov 24 2022, 09:04:07) \n[Clang 14.0.6 ]"
  },
  "vscode": {
   "interpreter": {
    "hash": "e957f8d2d9272acec629608affb587206e5d92bb0d8d335f71da72c549770d8b"
   }
  }
 },
 "nbformat": 4,
 "nbformat_minor": 2
}