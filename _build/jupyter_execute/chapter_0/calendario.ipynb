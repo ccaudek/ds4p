{
 "cells": [
  {
   "cell_type": "markdown",
   "id": "dbb6de88-dd5c-482d-a0f5-d6a2de4a9b69",
   "metadata": {},
   "source": [
    "# Calendario \n",
    "\n",
    "Viene qui fornito un calendario preliminare delle attività didattiche, che comprende le scadenze per i report intermedi e le prove in itinere destinate agli studenti frequentanti. È importante notare che, seguendo l'approccio della \"flipped classroom\", è necessario studiare i materiali didattici relativi agli argomenti trattati e completare gli esercizi corrispondenti presenti nella dispensa **prima** di ogni lezione.\n",
    "\n",
    "```{warning}\n",
    "La sequenza degli argomenti fornita nel presente calendario è soggetta a modifiche, e qualsiasi variazione sarà comunicata attraverso l'aggiornamento di questa pagina web. Vi invito quindi a consultare periodicamente questa fonte per eventuali aggiornamenti.\n",
    "```"
   ]
  },
  {
   "cell_type": "markdown",
   "id": "96bf0195-adb4-4498-affa-785906238fa9",
   "metadata": {},
   "source": [
    "## Lezioni"
   ]
  },
  {
   "cell_type": "markdown",
   "id": "c4ee2050-ff42-4cd1-baa3-e85429d60afa",
   "metadata": {},
   "source": [
    "| # | Argomenti | Testi |\n",
    "| - | --------- | --- |\n",
    "| **1** | Presentazione, ambiente di lavoro | BG2P3P 1, 2 |\n",
    "| **2** | Introduzione a Python | BG2P3P 4, 5, 6, 7, 8|\n",
    "| **3** | Introduzione a Numpy, Pandas, Matplotlib, Seaborn; la Shell | BG2P3P 27 |\n",
    "| **4** | Statistica descrittiva, misurazione, distribuzione di frequenze, misure di tendenza centrale e di dispersione | DA4SS 1, 2, 3 |\n",
    "| **5** | Correlazione e causalità | DA4SS 1, 2, 3 |\n",
    "|   | *Esercizi:* Importare dati esterni in un DataFrame Pandas, con possibilità di utilizzare Google Colab per accedere ai file su Drive. Estrarre colonne specifiche per l'analisi. Condurre analisi statistiche descrittive sui dati. Utilizzare varie tecniche di visualizzazione: istogrammi, KDE plots, diagrammi a dispersione, violin plots e box-plots, anche per gruppi di dati distinti. | |\n",
    "| **6** | Introduzione alla teoria della probabilità, probabilità condizionale | I2P 1, 2; PBM 1, 2|\n",
    "| **7** | Teorema di Bayes | I2P 2; PBM 3 |\n",
    "|   | *Esercizi:* probabilità condizionata e teorema di Bayes | |\n",
    "| **8** |  Variabili casuali discrete, distribuzione campionaria, probabilità congiunta | I2P 3, 4, 7; PBM 4 |\n",
    "|   | *Esercizi:* valore atteso, varianza, deviazione standard, covarianza, correlazione di v.c., proprietà della distribuzione campionaria della media | |\n",
    "| **9** | Distribuzioni di massa di probabilità | I2P 3; PBM 4|\n",
    "|   | *Esercizi:* calcolo dei quantili e delle probabilità di una v.c. discreta usando la pmf | |\n",
    "| **10** | Funzione di densità, distribuzioni di densità di probabilità | I2P 5; PBM 5 |\n",
    "|   | *Esercizi:* calcolo dei quantili e delle probabilità di una v.c. continua usando la pdf  | |\n",
    "| **11** | Verosimiglianza | PBM 7 |\n",
    "|   | *Esercizi:* calcolo della funzione di verosimiglianza per i modelli binomiale, gaussiano e esponenziale  | |\n",
    "| **12** | Introduzione all'inferenza bayesiana, pensare ad una proporzione in termini soggettivi | BR 1, 2; PBM 7; BMCP 1; SR 1 |\n",
    "|   | *Esercizi:* distribuzione a posteriori con il metodo basato su griglia  | |\n",
    "| **13** | Famiglie coniugate, influenza della distribuzione a priori | BR 3, 4, 5; PBM 7|\n",
    "|   | *Esercizi:* calcolo della distribuzione a posteriori nel caso beta-binomiale e gaussiano  | |\n",
    "| **14** | Algoritmo di Metropolis | BR 6, 7; PBM 9 |\n",
    "|   | *Esercizi:* simulazioni con l'algoritmo di Metropolis  | |\n",
    "| **15** | Caso beta-binomiale con PyMC e Stan; caso gamma-poisson | BR 7 |\n",
    "|  | *Esercizi:* implementazione del caso beta-binomiale e gamma-poission utilizzando PyMC e Stan | |\n",
    "| **16** | Sommario della distribuzione a posteriori, predizione bayesiana, diagnostica MCMC  | BR 2, 8 |\n",
    "|   | *Esercizi:* sintassi PyMC e Stan; sommari della distribuzione a posteriori; calcolo e interpretazione della verifica predittiva a posteriori e della verifica predittiva a priori | |\n",
    "| **17** | Odds-ratio, modello di Poisson | BMCP 3 |\n",
    "| **18** | Esercizi di ripasso | |\n",
    "| **19** | **Prova in itinere (1)** | |\n",
    "| **20** | Modello normale-normale, inferenza su due medie indipendenti | BMCP 3|\n",
    "| **21** | Regressione lineare (1) | BR 9, 10; PBM 11 |\n",
    "| **22** | Regressione lineare (2), confronto tra medie di gruppi | BR 9, 10; PBM 12 |\n",
    "| **23** | Modello gerarchico, regressione robusta, regressione logistica | BR 15, 16, 17; PBM 12 |\n",
    "| **24** | Modello di regressione e inferenza causale | BR 15, 16, 17; PBM 12 |\n",
    "| **25** | Entropia, divergenza di Kullback-Leibler, confronto tra modelli | BMCP 2 |\n",
    "| **26** | Introduzione all'inferenza frequentista, intervalli di fiducia | DA4SS |\n",
    "| **27** | Test di ipotesi statistiche, test su una media, test su due medie indipendenti | DA4SS |\n",
    "| **28** | La crisi della replicabilità dei risultati della ricerca psicologica, limiti dell'inferenza frequentista, errori di tipo M e di tipo S | SR 1; A |\n",
    "| **29** | Esercizi di ripasso |  |\n",
    "| **30** | **Prova in itinere (2)** | |\n",
    "| **31** | **Presentazione dei progetti di gruppo** | |\n",
    "| **32** | **Presentazione dei progetti di gruppo** | |"
   ]
  },
  {
   "cell_type": "markdown",
   "id": "33b86b0d-8b39-43bc-bbc3-821dd41c3726",
   "metadata": {},
   "source": [
    "Legenda:\n",
    "\n",
    "- **BG2P3P**: John Hunt (2023). [A Beginners Guide to Python 3 Programming](https://link.springer.com/book/10.1007/978-3-031-35122-8#toc). Springer.\n",
    "- **I2P**: Joseph K. Blitzstein & Jessica Hwang (2014). [Introduction to Probability](https://www.routledge.com/Introduction-to-Probability-Second-Edition/Blitzstein-Hwang/p/book/9781138369917). CRC Press.\n",
    "- **DA4SS**: Elena Llaudet & Kosuke Imai (2023). [Data Analysis for Social Science](https://press.princeton.edu/books/hardcover/9780691199429/data-analysis-for-social-science). Princeton University Press.\n",
    "- **BR**: Alicia A. Johnson, Miles Q. Ott, & Mine Dogucu (2021). [Bayes Rules! An Introduction to Applied Bayesian Modeling](https://www.bayesrulesbook.com). CRC Press. -- Una conversione del codice R in PyMC è fornita nella seguente [educational resource](https://github.com/pymc-devs/pymc-resources) di `pymc-devs`.\n",
    "- **SR**: Richard McElreath (2020). [Statistical Rethinking: A Bayesian Course with Examples in R and Stan](https://xcelab.net/rm/statistical-rethinking/). CRC Press.\n",
    "- **PBM**: Jim Albert & Jingchen Hu (2020). [Probability and Bayesian Modeling](https://bayesball.github.io/BOOK/probability-a-measurement-of-uncertainty.html). CRC Press.\n",
    "- **BMCP**: Martin Osvaldo A, Kumar Ravin, & Lao Junpeng (2021). [Bayesian Modeling and Computation in Python](https://www.routledge.com/Bayesian-Modeling-and-Computation-in-Python/Martin-Kumar-Lao/p/book/9780367894368). CPC Press.\n",
    "- **A**: Articoli specificati nella dispensa.\n"
   ]
  }
 ],
 "metadata": {
  "kernelspec": {
   "display_name": "pymc",
   "language": "python",
   "name": "python3"
  },
  "language_info": {
   "codemirror_mode": {
    "name": "ipython",
    "version": 3
   },
   "file_extension": ".py",
   "mimetype": "text/x-python",
   "name": "python",
   "nbconvert_exporter": "python",
   "pygments_lexer": "ipython3",
   "version": "3.11.4"
  },
  "vscode": {
   "interpreter": {
    "hash": "030ae53b1150d0ca6a72bb4a7a0454cbd9dab0eb2818ba119bbca0111e46e432"
   }
  }
 },
 "nbformat": 4,
 "nbformat_minor": 2
}