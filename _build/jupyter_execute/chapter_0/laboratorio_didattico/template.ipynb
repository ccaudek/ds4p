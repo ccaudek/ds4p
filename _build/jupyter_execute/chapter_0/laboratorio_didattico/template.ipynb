{
 "cells": [
  {
   "cell_type": "code",
   "execution_count": 2,
   "id": "9ee8c1c8-1b74-4a75-8ab7-ca679d4f020e",
   "metadata": {},
   "outputs": [],
   "source": [
    "import numpy as np\n",
    "import pandas as pd\n",
    "import warnings\n",
    "\n",
    "warnings.filterwarnings(\"ignore\")"
   ]
  },
  {
   "cell_type": "markdown",
   "id": "aa5530ff-4f6c-429a-ba21-a26d0b2d84a0",
   "metadata": {},
   "source": [
    "## Simulazione df con condizioni diverse"
   ]
  },
  {
   "cell_type": "code",
   "execution_count": 39,
   "id": "56df9caa-3737-48e7-adf7-b9ccf667dcf1",
   "metadata": {},
   "outputs": [
    {
     "name": "stdout",
     "output_type": "stream",
     "text": [
      "Colonne nel DataFrame: Index(['Valore', 'Condizione'], dtype='object')\n"
     ]
    }
   ],
   "source": [
    "# Definizione delle condizioni\n",
    "condizioni = [\n",
    "    {\"n\": 100, \"media\": 0, \"dev_std\": 1, \"condizione\": \"Condizione_1\"},\n",
    "    {\"n\": 150, \"media\": 5, \"dev_std\": 2, \"condizione\": \"Condizione_2\"},\n",
    "    {\"n\": 200, \"media\": 10, \"dev_std\": 3, \"condizione\": \"Condizione_3\"},\n",
    "]\n",
    "\n",
    "# Creazione di una lista per raccogliere tutti i dati\n",
    "dati_totali = []\n",
    "\n",
    "# Generazione dei dati\n",
    "for cond in condizioni:\n",
    "    campione = np.random.normal(\n",
    "        loc=cond[\"media\"], scale=cond[\"dev_std\"], size=cond[\"n\"]\n",
    "    )\n",
    "    # Creiamo un DataFrame temporaneo per ogni campione\n",
    "    df_temp = pd.DataFrame({\"Valore\": campione, \"Condizione\": cond[\"condizione\"]})\n",
    "    # Appendiamo il DataFrame temporaneo alla lista dei dati totali\n",
    "    dati_totali.append(df_temp)\n",
    "\n",
    "# Concateniamo tutti i DataFrame temporanei in un unico DataFrame in formato long\n",
    "df_dati_simulati = pd.concat(dati_totali, ignore_index=True)\n",
    "\n",
    "# Verifica dei nomi delle colonne\n",
    "print(\"Colonne nel DataFrame:\", df_dati_simulati.columns)"
   ]
  },
  {
   "cell_type": "code",
   "execution_count": 40,
   "id": "cf378852-f25a-499f-bc0b-ec0ddb63d05b",
   "metadata": {},
   "outputs": [
    {
     "name": "stdout",
     "output_type": "stream",
     "text": [
      "                Valore                              \n",
      "                 Media Deviazione Standard Conteggio\n",
      "Condizione                                          \n",
      "Condizione_1 -0.193009            0.975332       100\n",
      "Condizione_2  5.379427            2.078524       150\n",
      "Condizione_3  9.924446            3.148046       200\n"
     ]
    }
   ],
   "source": [
    "# Calcolo della media, della deviazione standard e del conteggio per ogni condizione\n",
    "statistiche = (\n",
    "    df_dati_simulati.groupby(\"Condizione\")\n",
    "    .agg({\"Valore\": [\"mean\", \"std\", \"count\"]})\n",
    "    .rename(\n",
    "        columns={\"mean\": \"Media\", \"std\": \"Deviazione Standard\", \"count\": \"Conteggio\"}\n",
    "    )\n",
    ")\n",
    "\n",
    "# Stampa delle statistiche\n",
    "print(statistiche)"
   ]
  },
  {
   "cell_type": "markdown",
   "id": "fd344501-b550-49e3-b6bf-f9bb869308e1",
   "metadata": {},
   "source": [
    "## Prove bernoulliane"
   ]
  },
  {
   "cell_type": "code",
   "execution_count": 13,
   "id": "785e826b-a661-4d62-bc25-f0d0f5b65a37",
   "metadata": {},
   "outputs": [
    {
     "name": "stdout",
     "output_type": "stream",
     "text": [
      "Media calcolata: 0.37\n",
      "Deviazione standard calcolata: 0.4828043081829324\n"
     ]
    }
   ],
   "source": [
    "# Numero di prove\n",
    "n = 100\n",
    "# Probabilità di successo per ogni prova\n",
    "p = 0.4\n",
    "\n",
    "# Simulazione di n prove Bernoulliane\n",
    "y1 = np.random.binomial(1, p, n)\n",
    "\n",
    "# Calcolo della media e della deviazione standard\n",
    "media_calcolata = np.mean(y1)\n",
    "dev_std_calcolata = np.std(y1)\n",
    "\n",
    "print(\"Media calcolata:\", media_calcolata)\n",
    "print(\"Deviazione standard calcolata:\", dev_std_calcolata)"
   ]
  },
  {
   "cell_type": "code",
   "execution_count": 14,
   "id": "74cd2242-8681-456b-8da0-1e956caf434d",
   "metadata": {},
   "outputs": [
    {
     "data": {
      "text/plain": [
       "array([0, 1, 0, 0, 0, 0, 1, 0, 0, 0, 1, 0, 0, 0, 0, 1, 1, 0, 0, 1, 1, 0,\n",
       "       1, 1, 0, 0, 0, 1, 0, 0, 1, 0, 0, 1, 1, 1, 1, 0, 0, 1, 0, 0, 0, 0,\n",
       "       0, 1, 0, 0, 0, 1, 0, 0, 1, 0, 0, 0, 0, 1, 1, 0, 0, 0, 0, 1, 0, 1,\n",
       "       0, 0, 1, 1, 0, 1, 0, 0, 1, 1, 1, 0, 0, 0, 0, 0, 0, 1, 0, 0, 1, 1,\n",
       "       0, 0, 0, 1, 0, 0, 1, 1, 1, 1, 0, 0])"
      ]
     },
     "execution_count": 14,
     "metadata": {},
     "output_type": "execute_result"
    }
   ],
   "source": [
    "y1"
   ]
  }
 ],
 "metadata": {
  "kernelspec": {
   "display_name": "stan_env",
   "language": "python",
   "name": "python3"
  },
  "language_info": {
   "codemirror_mode": {
    "name": "ipython",
    "version": 3
   },
   "file_extension": ".py",
   "mimetype": "text/x-python",
   "name": "python",
   "nbconvert_exporter": "python",
   "pygments_lexer": "ipython3",
   "version": "3.12.2"
  }
 },
 "nbformat": 4,
 "nbformat_minor": 2
}