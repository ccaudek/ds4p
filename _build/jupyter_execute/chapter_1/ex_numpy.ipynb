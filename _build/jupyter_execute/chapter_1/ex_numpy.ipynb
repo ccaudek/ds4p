{
 "cells": [
  {
   "attachments": {},
   "cell_type": "markdown",
   "id": "ca7f12b0-4463-46ed-9eb0-3c9662d908f1",
   "metadata": {},
   "source": [
    "# ✏️ Esercizi\n",
    "\n",
    "Molti di questi esercizi contengono concetti e funzioni che non sono stati spiegati in precedenza. Pertanto, è più sensato cercare di comprendere la soluzione fornita dopo aver letto attentamente il testo dell'esercizio, anziché cercare di risolverlo senza consultare preventivamente la soluzione."
   ]
  },
  {
   "cell_type": "code",
   "execution_count": null,
   "id": "504a1caa-33ad-4c7c-b4ec-11fcecef76e1",
   "metadata": {},
   "outputs": [],
   "source": [
    "import numpy as np"
   ]
  },
  {
   "attachments": {},
   "cell_type": "markdown",
   "id": "d102bb51-7b28-4a2e-9fee-5f16f253c4a0",
   "metadata": {},
   "source": [
    "**Esercizio 1.** Creare un vettore di dimensione 10 i cui elementi sono tutti 0 tranne il quinto  che è 1."
   ]
  },
  {
   "cell_type": "code",
   "execution_count": 2,
   "id": "41fbfb4c-103e-46e2-9a47-6e2a64277f84",
   "metadata": {},
   "outputs": [
    {
     "name": "stdout",
     "output_type": "stream",
     "text": [
      "[0. 0. 0. 0. 1. 0. 0. 0. 0. 0.]\n"
     ]
    }
   ],
   "source": [
    "Z = np.zeros(10)\n",
    "Z[4] = 1\n",
    "print(Z)"
   ]
  },
  {
   "attachments": {},
   "cell_type": "markdown",
   "id": "4be95124-a65a-4726-a4d0-eb42ab915206",
   "metadata": {},
   "source": [
    "**Esercizio 2.** Creare un vettore con valori compresi tra 10 e 49."
   ]
  },
  {
   "cell_type": "code",
   "execution_count": 3,
   "id": "9c255c6e-9200-4b51-91a5-acd8d8af425e",
   "metadata": {},
   "outputs": [
    {
     "name": "stdout",
     "output_type": "stream",
     "text": [
      "[10 11 12 13 14 15 16 17 18 19 20 21 22 23 24 25 26 27 28 29 30 31 32 33\n",
      " 34 35 36 37 38 39 40 41 42 43 44 45 46 47 48 49]\n"
     ]
    }
   ],
   "source": [
    "Z = np.arange(10,50)\n",
    "print(Z)"
   ]
  },
  {
   "attachments": {},
   "cell_type": "markdown",
   "id": "bcccea30-f27d-4923-ba90-288b102476e5",
   "metadata": {},
   "source": [
    "**Esercizio 3.** Invertire un vettore (il primo elemento diventa l'ultimo)."
   ]
  },
  {
   "cell_type": "code",
   "execution_count": 4,
   "id": "a47f7154-349d-42ff-9b06-f3240697219d",
   "metadata": {},
   "outputs": [
    {
     "name": "stdout",
     "output_type": "stream",
     "text": [
      "[49 48 47 46 45 44 43 42 41 40 39 38 37 36 35 34 33 32 31 30 29 28 27 26\n",
      " 25 24 23 22 21 20 19 18 17 16 15 14 13 12 11 10  9  8  7  6  5  4  3  2\n",
      "  1  0]\n"
     ]
    }
   ],
   "source": [
    "Z = np.arange(50)\n",
    "Z = Z[::-1]\n",
    "print(Z)"
   ]
  },
  {
   "attachments": {},
   "cell_type": "markdown",
   "id": "e6e921a9-3c48-4271-98c8-e01530b07881",
   "metadata": {},
   "source": [
    "**Esercizio 4.** Trovare gli indici degli elementi non zero di [1, 2, 0, 0, 4, s0]."
   ]
  },
  {
   "cell_type": "code",
   "execution_count": 5,
   "id": "2521ca2b-b2c0-4c35-a956-bec83ddd9d7c",
   "metadata": {},
   "outputs": [
    {
     "name": "stdout",
     "output_type": "stream",
     "text": [
      "(array([0, 1, 4]),)\n"
     ]
    }
   ],
   "source": [
    "nz = np.nonzero([1, 2, 0, 0, 4, 0])\n",
    "print(nz)\n"
   ]
  },
  {
   "attachments": {},
   "cell_type": "markdown",
   "id": "6716e590-36d8-419b-bcaa-7ba183006476",
   "metadata": {},
   "source": [
    "**Esercizio 5.** Crearere un array 10x10 con valori casuali e trovare i valori minimo e massimo."
   ]
  },
  {
   "cell_type": "code",
   "execution_count": 7,
   "id": "9a1c81f3-0674-45f7-9e45-1436b1e25eb5",
   "metadata": {},
   "outputs": [
    {
     "data": {
      "text/plain": [
       "array([[0.5685575 , 0.69636659, 0.64022512, 0.18048263, 0.13003005,\n",
       "        0.26901371, 0.4772437 , 0.4769572 , 0.04804521, 0.23366172],\n",
       "       [0.94429468, 0.30112589, 0.23197319, 0.07213835, 0.6956314 ,\n",
       "        0.60531729, 0.85947968, 0.47405032, 0.86539985, 0.73246051],\n",
       "       [0.45533952, 0.45685126, 0.04109035, 0.91367378, 0.5628784 ,\n",
       "        0.6369554 , 0.12771523, 0.18070776, 0.10579391, 0.14564602],\n",
       "       [0.49926189, 0.94587924, 0.33946577, 0.86154299, 0.58716885,\n",
       "        0.5443769 , 0.29076241, 0.85826184, 0.64535182, 0.13931905],\n",
       "       [0.78909508, 0.80907071, 0.0663825 , 0.94142796, 0.51658768,\n",
       "        0.90763672, 0.71235046, 0.87174129, 0.57212519, 0.04660884],\n",
       "       [0.56297718, 0.36683633, 0.12188508, 0.49030984, 0.79648651,\n",
       "        0.80447808, 0.1576028 , 0.49134277, 0.42336382, 0.65374928],\n",
       "       [0.28757164, 0.09383478, 0.18631261, 0.44401181, 0.71575746,\n",
       "        0.51517201, 0.42200856, 0.32598885, 0.5825556 , 0.14620881],\n",
       "       [0.79809551, 0.37781001, 0.60593876, 0.6056221 , 0.48678724,\n",
       "        0.01412622, 0.4663643 , 0.84134671, 0.63356079, 0.83892802],\n",
       "       [0.57954734, 0.53041795, 0.40508076, 0.39035305, 0.18280698,\n",
       "        0.05349078, 0.85592861, 0.0730432 , 0.12503114, 0.10909618],\n",
       "       [0.36009449, 0.59910492, 0.78258157, 0.76945127, 0.27823791,\n",
       "        0.34033089, 0.54545971, 0.66820139, 0.70841744, 0.50924313]])"
      ]
     },
     "execution_count": 7,
     "metadata": {},
     "output_type": "execute_result"
    }
   ],
   "source": [
    "Z = np.random.random((10,10))\n",
    "Z"
   ]
  },
  {
   "cell_type": "code",
   "execution_count": 8,
   "id": "a4ea7753-e2e0-4a53-b67e-de102d345d99",
   "metadata": {},
   "outputs": [
    {
     "name": "stdout",
     "output_type": "stream",
     "text": [
      "0.014126219711838917 0.9458792375201415\n"
     ]
    }
   ],
   "source": [
    "Zmin, Zmax = Z.min(), Z.max()\n",
    "print(Zmin, Zmax)"
   ]
  },
  {
   "attachments": {},
   "cell_type": "markdown",
   "id": "d97251ed-4eb9-4b6a-84b6-8f9f2310609a",
   "metadata": {},
   "source": [
    "**Esercizio 6.** Creare un vettore casuale di dimensione 30 e trovare il valore medio."
   ]
  },
  {
   "cell_type": "code",
   "execution_count": 10,
   "id": "910db173-92b0-4127-ab90-27c258aa5ff7",
   "metadata": {},
   "outputs": [
    {
     "data": {
      "text/plain": [
       "array([0.21512521, 0.51578555, 0.31608444, 0.68072781, 0.24529922,\n",
       "       0.98913366, 0.34217569, 0.06336222, 0.92569309, 0.58279927,\n",
       "       0.49893157, 0.25473186, 0.2597414 , 0.57216762, 0.28774702,\n",
       "       0.56549581, 0.42810302, 0.12181564, 0.84560182, 0.73731621,\n",
       "       0.40034753, 0.33765781, 0.40942202, 0.19661314, 0.33597455,\n",
       "       0.08904976, 0.15738579, 0.8653456 , 0.58520359, 0.43406823])"
      ]
     },
     "execution_count": 10,
     "metadata": {},
     "output_type": "execute_result"
    }
   ],
   "source": [
    "Z = np.random.random(30)\n",
    "Z"
   ]
  },
  {
   "cell_type": "code",
   "execution_count": 11,
   "id": "a31b23de-45c0-4ce4-b395-a507c783f03b",
   "metadata": {},
   "outputs": [
    {
     "name": "stdout",
     "output_type": "stream",
     "text": [
      "0.4419635384983452\n"
     ]
    }
   ],
   "source": [
    "m = Z.mean()\n",
    "print(m)"
   ]
  },
  {
   "attachments": {},
   "cell_type": "markdown",
   "id": "1fc07fe4-c261-4462-913d-76ec94b42982",
   "metadata": {},
   "source": [
    "**Esercizio 7.** Dato un array 1D, negare tutti gli elementi compresi tra 3 e 8, inplace."
   ]
  },
  {
   "cell_type": "code",
   "execution_count": 12,
   "id": "a96081b5-f2bc-41df-b274-fa7a55a456dd",
   "metadata": {},
   "outputs": [
    {
     "name": "stdout",
     "output_type": "stream",
     "text": [
      "[ 0  1  2  3 -4 -5 -6 -7  8  9 10]\n"
     ]
    }
   ],
   "source": [
    "Z = np.arange(11)\n",
    "Z[(3 < Z) & (Z < 8)] *= -1\n",
    "print(Z)"
   ]
  },
  {
   "attachments": {},
   "cell_type": "markdown",
   "id": "1df58737-c169-4c45-a885-5f7ca21d82d2",
   "metadata": {},
   "source": [
    "**Esercizio 8.** Qual è l'output di `print(sum(range(5),-1))`? "
   ]
  },
  {
   "cell_type": "code",
   "execution_count": 13,
   "id": "33411af0-0035-4395-98e2-9fc668bcb497",
   "metadata": {},
   "outputs": [
    {
     "name": "stdout",
     "output_type": "stream",
     "text": [
      "9\n"
     ]
    }
   ],
   "source": [
    "print(sum(range(5),-1))"
   ]
  },
  {
   "attachments": {},
   "cell_type": "markdown",
   "id": "bd1b1112-722f-40e4-9185-d73d24256386",
   "metadata": {},
   "source": [
    "**Esercizio 9.** Creare un vettore casuale di dimensione 10 e sostituire il valore massimo con 0."
   ]
  },
  {
   "cell_type": "code",
   "execution_count": 16,
   "id": "a8085785-d02d-4175-ab4d-9e868ca09bb9",
   "metadata": {},
   "outputs": [
    {
     "name": "stdout",
     "output_type": "stream",
     "text": [
      "[0.55369039 0.         0.73596212 0.82615362 0.07627594 0.72269315\n",
      " 0.79729252 0.87911747 0.88345883 0.24151695]\n"
     ]
    }
   ],
   "source": [
    "Z = np.random.random(10)\n",
    "Z[Z.argmax()] = 0\n",
    "print(Z)\n"
   ]
  },
  {
   "attachments": {},
   "cell_type": "markdown",
   "id": "a1729d42-dab0-4e18-9300-0d2c859cdff6",
   "metadata": {},
   "source": [
    "**Esercizio 10.** Trovare il valore più vicino (a uno scalare dato) in un vettore."
   ]
  },
  {
   "cell_type": "code",
   "execution_count": 21,
   "id": "c48d7da8-b851-401d-9829-dcd5627f6fa4",
   "metadata": {},
   "outputs": [
    {
     "data": {
      "text/plain": [
       "array([ 0,  1,  2,  3,  4,  5,  6,  7,  8,  9, 10, 11, 12, 13, 14, 15, 16,\n",
       "       17, 18, 19, 20, 21, 22, 23, 24, 25, 26, 27, 28, 29, 30, 31, 32, 33,\n",
       "       34, 35, 36, 37, 38, 39, 40, 41, 42, 43, 44, 45, 46, 47, 48, 49, 50,\n",
       "       51, 52, 53, 54, 55, 56, 57, 58, 59, 60, 61, 62, 63, 64, 65, 66, 67,\n",
       "       68, 69, 70, 71, 72, 73, 74, 75, 76, 77, 78, 79, 80, 81, 82, 83, 84,\n",
       "       85, 86, 87, 88, 89, 90, 91, 92, 93, 94, 95, 96, 97, 98, 99])"
      ]
     },
     "execution_count": 21,
     "metadata": {},
     "output_type": "execute_result"
    }
   ],
   "source": [
    "Z = np.arange(100)\n",
    "Z"
   ]
  },
  {
   "cell_type": "code",
   "execution_count": 23,
   "id": "4217f142-8596-431e-a45b-464d2ef77524",
   "metadata": {},
   "outputs": [
    {
     "data": {
      "text/plain": [
       "56.79171600223777"
      ]
     },
     "execution_count": 23,
     "metadata": {},
     "output_type": "execute_result"
    }
   ],
   "source": [
    "v = np.random.uniform(0, 100)\n",
    "v"
   ]
  },
  {
   "cell_type": "code",
   "execution_count": 24,
   "id": "56f0c3b8-6969-4175-b3ea-5ca8b06c9799",
   "metadata": {},
   "outputs": [
    {
     "name": "stdout",
     "output_type": "stream",
     "text": [
      "57\n"
     ]
    }
   ],
   "source": [
    "index = (np.abs(Z - v)).argmin()\n",
    "print(Z[index])\n"
   ]
  },
  {
   "attachments": {},
   "cell_type": "markdown",
   "id": "b8ece975-ee4f-4d57-ab1e-86ed759dc9d8",
   "metadata": {},
   "source": [
    "**Esercizio 11.** Convertire tutti gli elementi di un array numpy da float a integer."
   ]
  },
  {
   "cell_type": "code",
   "execution_count": 31,
   "id": "ce6c29b9-b231-43d5-bda6-c254a8963327",
   "metadata": {},
   "outputs": [
    {
     "name": "stdout",
     "output_type": "stream",
     "text": [
      "[[2 3 1]\n",
      " [4 2 1]]\n"
     ]
    }
   ],
   "source": [
    "a = np.array([[2.5, 3.8, 1.5], [4.7, 2.9, 1.56]])\n",
    "\n",
    "o = a.astype(\"int\")\n",
    "\n",
    "print(o)\n"
   ]
  },
  {
   "attachments": {},
   "cell_type": "markdown",
   "id": "4bd03328-4bd4-4bac-8b31-aeae4efc9bcb",
   "metadata": {},
   "source": [
    "**Esercizio 12.** Convertire un array numpy binario (contenente solo 0 e 1) in un array numpy booleano."
   ]
  },
  {
   "cell_type": "code",
   "execution_count": 32,
   "id": "bc8b6378-e0d5-4336-89bd-0a85ed3c6d16",
   "metadata": {},
   "outputs": [
    {
     "name": "stdout",
     "output_type": "stream",
     "text": [
      "[[ True False False]\n",
      " [ True  True  True]\n",
      " [False False False]]\n"
     ]
    }
   ],
   "source": [
    "a = np.array([[1, 0, 0], [1, 1, 1], [0, 0, 0]])\n",
    "\n",
    "o = a.astype(\"bool\")\n",
    "\n",
    "print(o)\n"
   ]
  },
  {
   "attachments": {},
   "cell_type": "markdown",
   "id": "6a5ae18d-a362-4a7b-a3e8-4dae0b1875f4",
   "metadata": {},
   "source": [
    "**Esercizio 13.** Unire orizzontalmente due array numpy aventi la stessa prima dimensione (cioè lo stesso numero di righe negli array 2D)."
   ]
  },
  {
   "cell_type": "code",
   "execution_count": 33,
   "id": "3796033c-1253-4716-b506-eff8f6d5786b",
   "metadata": {},
   "outputs": [
    {
     "name": "stdout",
     "output_type": "stream",
     "text": [
      "[[ 1  2  3  7  8  9]\n",
      " [ 4  5  6 10 11 12]]\n"
     ]
    }
   ],
   "source": [
    "a1 = np.array([[1, 2, 3], [4, 5, 6]])\n",
    "\n",
    "a2 = np.array([[7, 8, 9], [10, 11, 12]])\n",
    "\n",
    "o = np.hstack((a1, a2))\n",
    "\n",
    "print(o)\n"
   ]
  },
  {
   "attachments": {},
   "cell_type": "markdown",
   "id": "fbc0807d-8bf3-422c-92fc-6ea2ad117ba6",
   "metadata": {},
   "source": [
    "**Esercizio 14.** Dati due array numpy, estrarre gli indici in cui gli elementi nei due array corrispondono."
   ]
  },
  {
   "cell_type": "code",
   "execution_count": 34,
   "id": "475c4e40-5108-4a23-8b08-f429ee48901e",
   "metadata": {},
   "outputs": [
    {
     "name": "stdout",
     "output_type": "stream",
     "text": [
      "(array([0, 3, 4]),)\n"
     ]
    }
   ],
   "source": [
    "a = np.array([1, 2, 3, 4, 5])\n",
    "\n",
    "b = np.array([1, 3, 2, 4, 5])\n",
    "\n",
    "print(np.where(a == b))\n"
   ]
  },
  {
   "attachments": {},
   "cell_type": "markdown",
   "id": "b4ff0c95-8ed4-48af-ad9c-67645553b174",
   "metadata": {},
   "source": [
    "**Esercizio 15.** Generare un array ripetendo un array più piccolo di 2 dimensioni 10 volte."
   ]
  },
  {
   "cell_type": "code",
   "execution_count": 35,
   "id": "7e1d6c2a-c422-4935-83a7-b04ccacd4e6d",
   "metadata": {},
   "outputs": [
    {
     "name": "stdout",
     "output_type": "stream",
     "text": [
      "[[1 2 3 1 2 3 1 2 3 1 2 3 1 2 3 1 2 3 1 2 3 1 2 3 1 2 3 1 2 3]\n",
      " [4 5 6 4 5 6 4 5 6 4 5 6 4 5 6 4 5 6 4 5 6 4 5 6 4 5 6 4 5 6]]\n"
     ]
    }
   ],
   "source": [
    "a = np.array([[1, 2, 3], [4, 5, 6]])\n",
    "\n",
    "o = np.tile(a, 10)\n",
    "\n",
    "print(o)\n"
   ]
  },
  {
   "attachments": {},
   "cell_type": "markdown",
   "id": "ad362acf-bdc9-4388-a8a6-486038449cc0",
   "metadata": {},
   "source": [
    "**Esercizio 16.** Generare un array 5x5 di interi casuali compresi tra 0 (incluso) e 10 (escluso)."
   ]
  },
  {
   "cell_type": "code",
   "execution_count": 36,
   "id": "b2506932-fe5c-4b95-8dbb-eb680ae278ec",
   "metadata": {},
   "outputs": [
    {
     "name": "stdout",
     "output_type": "stream",
     "text": [
      "[[2 2 6 1 3]\n",
      " [9 6 1 0 1]\n",
      " [9 0 0 9 3]\n",
      " [4 0 0 4 1]\n",
      " [7 3 2 4 7]]\n"
     ]
    }
   ],
   "source": [
    "np.random.seed(123)  # setting the seed\n",
    "\n",
    "o = np.random.randint(0, 10, size=(5, 5))\n",
    "\n",
    "print(o)\n"
   ]
  },
  {
   "attachments": {},
   "cell_type": "markdown",
   "id": "1f9340dc-d57b-4de7-9508-be2e4437b888",
   "metadata": {},
   "source": [
    "**Esercizio 17.** Verificare se uno qualsiasi degli elementi di un array dato è diverso da zero."
   ]
  },
  {
   "cell_type": "code",
   "execution_count": 38,
   "id": "278bab11-c655-49bd-9fb1-1b06ee7331b1",
   "metadata": {},
   "outputs": [
    {
     "name": "stdout",
     "output_type": "stream",
     "text": [
      "True\n",
      "False\n"
     ]
    }
   ],
   "source": [
    "x = np.array([1, 0, 0, 0])\n",
    "print(np.any(x))\n",
    "x = np.array([0, 0, 0, 0])\n",
    "print(np.any(x))\n"
   ]
  },
  {
   "attachments": {},
   "cell_type": "markdown",
   "id": "9a56d8fd-a3b0-41e5-886a-30bbd30f50ea",
   "metadata": {},
   "source": [
    "**Esercizio 18.** Creare un confronto elemento per elemento (uguale, uguale entro una tolleranza) di due array dati."
   ]
  },
  {
   "cell_type": "code",
   "execution_count": 40,
   "id": "702dabc3-1a2a-4f42-a900-e6cfff54353c",
   "metadata": {},
   "outputs": [
    {
     "name": "stdout",
     "output_type": "stream",
     "text": [
      "[ True  True  True  True  True  True  True  True  True False]\n",
      "True\n"
     ]
    }
   ],
   "source": [
    "x = np.array([72, 79, 85, 90, 150, -135, 120, -10, 60, 100])\n",
    "y = np.array([72, 79, 85, 90, 150, -135, 120, -10, 60, 100.000001])\n",
    "print(np.equal(x, y))\n",
    "print(np.allclose(x, y))\n"
   ]
  },
  {
   "attachments": {},
   "cell_type": "markdown",
   "id": "dab1a868-f14c-49fa-b571-779346373348",
   "metadata": {},
   "source": [
    "**Esercizio 19.** Trovare i dati mancanti in un array dato."
   ]
  },
  {
   "cell_type": "code",
   "execution_count": 42,
   "id": "3ce358b8-39a4-4155-9507-fa05d804157d",
   "metadata": {},
   "outputs": [
    {
     "data": {
      "text/plain": [
       "array([[ 3.,  2., nan,  1.],\n",
       "       [10., 12., 10.,  9.],\n",
       "       [ 5., nan,  1., nan]])"
      ]
     },
     "execution_count": 42,
     "metadata": {},
     "output_type": "execute_result"
    }
   ],
   "source": [
    "nums = np.array([[3, 2, np.nan, 1], [10, 12, 10, 9], [5, np.nan, 1, np.nan]])\n",
    "nums\n",
    "\n"
   ]
  },
  {
   "cell_type": "code",
   "execution_count": 43,
   "id": "b3077453-8fcd-4616-bc8b-572288f02efc",
   "metadata": {},
   "outputs": [
    {
     "name": "stdout",
     "output_type": "stream",
     "text": [
      "[[False False  True False]\n",
      " [False False False False]\n",
      " [False  True False  True]]\n"
     ]
    }
   ],
   "source": [
    "print(np.isnan(nums))"
   ]
  },
  {
   "attachments": {},
   "cell_type": "markdown",
   "id": "5970078a-f71a-4c54-b705-2754941c4a07",
   "metadata": {},
   "source": [
    "**Esercizio 20.** Scrivi un programma NumPy per estrarre tutti i numeri da un array dato che sono inferiori e superiori ad un numero specificato."
   ]
  },
  {
   "cell_type": "code",
   "execution_count": 44,
   "id": "b9cef3b7-78d5-4210-b5a7-f57ca76c1ca1",
   "metadata": {},
   "outputs": [
    {
     "name": "stdout",
     "output_type": "stream",
     "text": [
      "[5.54 3.38 3.54 4.38 1.54 2.39]\n"
     ]
    }
   ],
   "source": [
    "nums = np.array([[5.54, 3.38, 7.99], [3.54, 4.38, 6.99], [1.54, 2.39, 9.29]])\n",
    "n = 6\n",
    "print(nums[nums < n])\n"
   ]
  },
  {
   "attachments": {},
   "cell_type": "markdown",
   "id": "307e149a-f42a-4c4c-84fc-517ba76c30f6",
   "metadata": {},
   "source": [
    "**Esercizio 21.** Sostituire tutti i numeri in un array dato che sono uguali, minori e maggiori di un dato numero."
   ]
  },
  {
   "cell_type": "code",
   "execution_count": 12,
   "id": "d160e0e0-bb96-43d4-99a3-3050120f1d81",
   "metadata": {},
   "outputs": [
    {
     "name": "stdout",
     "output_type": "stream",
     "text": [
      "[[ 5.54  3.38  7.99]\n",
      " [ 3.54 18.32  6.99]\n",
      " [ 1.54  2.39  9.29]]\n"
     ]
    }
   ],
   "source": [
    "nums = np.array([[5.54, 3.38, 7.99], [3.54, 8.32, 6.99], [1.54, 2.39, 9.29]])\n",
    "n = 8.32\n",
    "r = 18.32\n",
    "print(np.where(nums == n, r, nums))"
   ]
  },
  {
   "cell_type": "code",
   "execution_count": 13,
   "id": "70d4c722-5e62-4c6d-8a20-c26b9e16dee7",
   "metadata": {},
   "outputs": [
    {
     "name": "stdout",
     "output_type": "stream",
     "text": [
      "\n",
      "Replace elements with of the said array which are less than 8.32 with 18.32\n",
      "[[18.32 18.32 18.32]\n",
      " [18.32  8.32 18.32]\n",
      " [18.32 18.32  9.29]]\n"
     ]
    }
   ],
   "source": [
    "print(\"\\nReplace elements with of the said array which are less than\", n, \"with\", r)\n",
    "print(np.where(nums < n, r, nums))"
   ]
  },
  {
   "cell_type": "code",
   "execution_count": 14,
   "id": "c8a779a1-4bcd-48ae-9b68-69351a0a631e",
   "metadata": {},
   "outputs": [
    {
     "name": "stdout",
     "output_type": "stream",
     "text": [
      "\n",
      "Replace elements with of the said array which are greater than 8.32 with 18.32\n",
      "[[ 5.54  3.38  7.99]\n",
      " [ 3.54  8.32  6.99]\n",
      " [ 1.54  2.39 18.32]]\n"
     ]
    }
   ],
   "source": [
    "print(\"\\nReplace elements with of the said array which are greater than\", n, \"with\", r)\n",
    "print(np.where(nums > n, r, nums))"
   ]
  },
  {
   "attachments": {},
   "cell_type": "markdown",
   "id": "24338ab3-ad9a-4bb5-9885-a698ef4c9603",
   "metadata": {},
   "source": [
    "**Esercizio 22.** Moltiplicare due array dati della stessa dimensione elemento per elemento."
   ]
  },
  {
   "cell_type": "code",
   "execution_count": 46,
   "id": "69fcb45d-12fa-4c89-b7ba-e0e10c98fbbe",
   "metadata": {},
   "outputs": [
    {
     "name": "stdout",
     "output_type": "stream",
     "text": [
      "[[10 15  8]\n",
      " [ 3 10 25]]\n"
     ]
    }
   ],
   "source": [
    "nums1 = np.array([[2, 5, 2], [1, 5, 5]])\n",
    "nums2 = np.array([[5, 3, 4], [3, 2, 5]])\n"
   ]
  },
  {
   "cell_type": "code",
   "execution_count": 47,
   "id": "bb153756-1e5d-48aa-83a5-5083354debaa",
   "metadata": {},
   "outputs": [
    {
     "name": "stdout",
     "output_type": "stream",
     "text": [
      "[[2 5 2]\n",
      " [1 5 5]]\n"
     ]
    }
   ],
   "source": [
    "print(nums1)"
   ]
  },
  {
   "cell_type": "code",
   "execution_count": null,
   "id": "d437d7b8-9141-4845-b3dd-d85f1bdcf937",
   "metadata": {},
   "outputs": [],
   "source": [
    "print(nums2)"
   ]
  },
  {
   "cell_type": "code",
   "execution_count": null,
   "id": "d662009b-7c1e-446b-9597-2f45951608fb",
   "metadata": {},
   "outputs": [],
   "source": [
    "print(np.multiply(nums1, nums2))"
   ]
  }
 ],
 "metadata": {
  "kernelspec": {
   "display_name": "pymc",
   "language": "python",
   "name": "python3"
  },
  "language_info": {
   "codemirror_mode": {
    "name": "ipython",
    "version": 3
   },
   "file_extension": ".py",
   "mimetype": "text/x-python",
   "name": "python",
   "nbconvert_exporter": "python",
   "pygments_lexer": "ipython3",
   "version": "3.11.4"
  },
  "vscode": {
   "interpreter": {
    "hash": "cbb367cc0128e23b7454d788d5a4229ca1f9848fd2e857f4797fbd26ab3b0776"
   }
  }
 },
 "nbformat": 4,
 "nbformat_minor": 2
}