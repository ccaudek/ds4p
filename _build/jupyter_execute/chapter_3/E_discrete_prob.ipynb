{
 "cells": [
  {
   "cell_type": "markdown",
   "id": "4f845611",
   "metadata": {},
   "source": [
    "# ✏️ Esercizi"
   ]
  },
  {
   "cell_type": "code",
   "execution_count": 28,
   "id": "c794f86e",
   "metadata": {},
   "outputs": [],
   "source": [
    "import numpy as np\n",
    "import matplotlib.pyplot as plt\n",
    "import pandas as pd\n",
    "import arviz as az\n",
    "from fractions import Fraction"
   ]
  },
  {
   "cell_type": "code",
   "execution_count": 2,
   "id": "c2ff4ec2",
   "metadata": {},
   "outputs": [],
   "source": [
    "%config InlineBackend.figure_format = 'retina'\n",
    "RANDOM_SEED = 42\n",
    "rng = np.random.default_rng(RANDOM_SEED)\n",
    "az.style.use(\"arviz-darkgrid\")"
   ]
  },
  {
   "cell_type": "markdown",
   "id": "7049de5b",
   "metadata": {},
   "source": [
    "## Esercizio 1\n",
    "\n",
    "L'esperimento casuale consiste nel lanciare due monete, e siamo interessati a calcolare la probabilità dell'evento \"testa nel primo lancio\".\n",
    "\n",
    "### Spazio Campionario\n",
    "\n",
    "Lo spazio campionario $ S $ è definito come $ S = \\{TT, TC, CT, CC\\} $, dove $ T $ rappresenta \"Testa\" e $ C $ rappresenta \"Croce\". Gli eventi sono considerati equiprobabili, il che significa che ogni evento ha la stessa probabilità di verificarsi.\n",
    "\n",
    "### Definizione di Probabilità\n",
    "\n",
    "La probabilità di un evento $ E $ è definita come il rapporto tra il numero di risultati favorevoli all'evento $ E $ e il numero totale di risultati possibili nello spazio campionario $ S $, cioè:\n",
    "\n",
    "$$ \n",
    "P(E) = \\frac{\\text{Numero di risultati favorevoli a } E}{\\text{Numero totale di risultati in } S}.\n",
    "$$\n",
    "\n",
    "### Calcolare la Probabilità di \"Testa nel Primo Lancio\"\n",
    "\n",
    "Per calcolare la probabilità di ottenere \"Testa\" nel primo lancio, dobbiamo identificare quali eventi nello spazio campionario soddisfano questa condizione. Gli eventi favorevoli sono:\n",
    "\n",
    "- $ TT $: Testa nel primo lancio e Testa nel secondo lancio.\n",
    "- $ TC $: Testa nel primo lancio e Croce nel secondo lancio.\n",
    "\n",
    "Quindi, ci sono 2 eventi favorevoli su un totale di 4 eventi possibili.\n",
    "\n",
    "Il seguente codice Python calcola la probabilità dell'evento \"testa nel primo lancio\"."
   ]
  },
  {
   "cell_type": "code",
   "execution_count": 1,
   "id": "dd2435ac",
   "metadata": {},
   "outputs": [
    {
     "name": "stdout",
     "output_type": "stream",
     "text": [
      "['TT', 'TC', 'CT', 'CC']\n"
     ]
    }
   ],
   "source": [
    "# Definizione dello spazio campionario\n",
    "spazio_campionario = [\"TT\", \"TC\", \"CT\", \"CC\"]\n",
    "print(spazio_campionario)"
   ]
  },
  {
   "cell_type": "code",
   "execution_count": 2,
   "id": "61d8ef3d",
   "metadata": {},
   "outputs": [
    {
     "name": "stdout",
     "output_type": "stream",
     "text": [
      "['TT', 'TC']\n"
     ]
    }
   ],
   "source": [
    "# Identificazione degli eventi favorevoli\n",
    "eventi_favorevoli = [evento for evento in spazio_campionario if evento[0] == \"T\"]\n",
    "print(eventi_favorevoli)"
   ]
  },
  {
   "cell_type": "code",
   "execution_count": 4,
   "id": "80b6ac66",
   "metadata": {},
   "outputs": [
    {
     "name": "stdout",
     "output_type": "stream",
     "text": [
      "La probabilità di ottenere 'Testa' nel primo lancio è: 0.5\n"
     ]
    }
   ],
   "source": [
    "# Calcolo della probabilità\n",
    "probabilità = len(eventi_favorevoli) / len(spazio_campionario)\n",
    "print(\"La probabilità di ottenere 'Testa' nel primo lancio è:\", probabilità)"
   ]
  },
  {
   "cell_type": "markdown",
   "id": "3a0adc8d",
   "metadata": {},
   "source": [
    "In questo codice:\n",
    "\n",
    "- Creiamo una lista `spazio_campionario` che rappresenta tutti i possibili esiti di due lanci di moneta.\n",
    "- Filtriamo questa lista per trovare gli `eventi_favorevoli`, cioè quelli che iniziano con 'T', indicando che la prima moneta mostra \"Testa\".\n",
    "- Calcoliamo la `probabilità` dividendo il numero di eventi favorevoli per il numero totale di eventi nello spazio campionario."
   ]
  },
  {
   "cell_type": "markdown",
   "id": "978fbcb3",
   "metadata": {},
   "source": [
    "## Esercizio 2\n",
    "\n",
    "Vengono lanciate due monete equilibrate. Siano A l’evento “croce nel primo lancio” e B l’evento “due volte testa”. Si trovi la probabilità P(A∪B)."
   ]
  },
  {
   "cell_type": "markdown",
   "id": "fe8fdbd9",
   "metadata": {},
   "source": [
    "**Soluzione.**\n",
    "\n",
    "Per risolvere il problema, consideriamo i concetti di evento, unione di eventi e probabilità. Il problema chiede di trovare la probabilità dell'evento $ P(A \\cup B) $, ovvero la probabilità che si verifichi \"croce nel primo lancio\" (evento $ A $) o \"due volte testa\" (evento $ B $), o entrambi.\n",
    "\n",
    "1. **Definire lo Spazio Campionario**: Quando lanciamo due monete, abbiamo quattro possibili esiti che possono essere rappresentati come $ S = \\{TT, TC, CT, CC\\} $, dove $ T $ sta per Testa e $ C $ per Croce.\n",
    "\n",
    "2. **Definire gli Eventi**:\n",
    "   - **Evento $ A $**: \"croce nel primo lancio\" $ = \\{CT, CC\\} $.\n",
    "   - **Evento $ B $**: \"due volte testa\" $ = \\{TT\\} $.\n",
    "\n",
    "3. **Unione degli Eventi $ A \\cup B $**: L'unione degli eventi $ A $ e $ B $ comprende tutti gli esiti in cui si verifica almeno uno degli eventi $ A $ o $ B $. Questo significa considerare tutti gli esiti unici tra $ A $ e $ B $. Poiché $ TT $ non è incluso in $ A $ ma rappresenta $ B $, l'unione $ A \\cup B $ include tutti gli esiti di $ A $ più $ TT $.\n",
    "\n",
    "4. **Calcolare la Probabilità $ P(A \\cup B) $**: La probabilità di $ A \\cup B $ è data dal numero di esiti favorevoli diviso il numero totale di esiti possibili nello spazio campionario.\n",
    "\n",
    "### Calcolo della Probabilità\n",
    "\n",
    "Ora, calcoliamo la probabilità $ P(A \\cup B) $ usando Python, seguendo i passaggi descritti:"
   ]
  },
  {
   "cell_type": "code",
   "execution_count": null,
   "id": "4625eebb",
   "metadata": {},
   "outputs": [],
   "source": [
    "# Definizione dello spazio campionario\n",
    "spazio_campionario = [\"TT\", \"TC\", \"CT\", \"CC\"]"
   ]
  },
  {
   "cell_type": "code",
   "execution_count": null,
   "id": "44516c5d",
   "metadata": {},
   "outputs": [],
   "source": [
    "# Definizione dell'evento A: \"croce nel primo lancio\"\n",
    "evento_A = [\"CT\", \"CC\"]"
   ]
  },
  {
   "cell_type": "code",
   "execution_count": null,
   "id": "8822f30c",
   "metadata": {},
   "outputs": [],
   "source": [
    "# Definizione dell'evento B: \"due volte testa\"\n",
    "evento_B = [\"TT\"]"
   ]
  },
  {
   "cell_type": "code",
   "execution_count": null,
   "id": "be09010f",
   "metadata": {},
   "outputs": [],
   "source": [
    "# Unione degli eventi A e B\n",
    "unione_A_B = set(evento_A).union(set(evento_B))"
   ]
  },
  {
   "cell_type": "code",
   "execution_count": null,
   "id": "62b1a321",
   "metadata": {},
   "outputs": [],
   "source": [
    "# Calcolo della probabilità P(A U B)\n",
    "probabilità_A_union_B = len(unione_A_B) / len(spazio_campionario)\n",
    "\n",
    "print(\"La probabilità di P(A U B) è:\", probabilità_A_union_B)"
   ]
  },
  {
   "cell_type": "markdown",
   "id": "92f5d61e",
   "metadata": {},
   "source": [
    "Questo codice identifica prima gli esiti che corrispondono agli eventi $ A $ e $ B $, poi calcola l'unione di questi eventi per determinare il numero totale di esiti favorevoli. Infine, divide questo numero per il numero totale di esiti possibili per ottenere la probabilità dell'evento $ A \\cup B $. Eseguiamo questo codice per ottenere il risultato.\n",
    "\n",
    "La probabilità dell'evento $ P(A \\cup B) $, ovvero la probabilità che si verifichi \"croce nel primo lancio\" oppure \"due volte testa\" (o entrambi), è $ 0.75 $. Questo significa che, in tre lanci su quattro di due monete equilibrate, ci aspettiamo che si verifichi almeno uno dei due eventi specificati."
   ]
  },
  {
   "cell_type": "markdown",
   "id": "84c9aadc",
   "metadata": {},
   "source": [
    "## Esercizio 3\n",
    "\n",
    "Estraendo una carta da un mazzo di 52, qual è la probabilità che esca una figura di cuori? Sapendo che il seme della carta estratta è cuori, qual è la probabilità che il valore numerico della carta sia 7, 8, o 9?"
   ]
  },
  {
   "cell_type": "markdown",
   "id": "79d74765",
   "metadata": {},
   "source": [
    "Per risolvere questo problema, suddivideremo l'analisi in due parti. Prima calcoleremo la probabilità di estrarre una figura di cuori da un mazzo di carte da poker standard di 52 carte. Successivamente, calcoleremo la probabilità che il valore numerico della carta sia 7, 8, o 9 dato che sappiamo che il seme della carta estratta è cuori.\n",
    "\n",
    "### Parte 1: Probabilità di Estrarre una Figura di Cuori\n",
    "\n",
    "Un mazzo standard di carte da poker contiene 52 carte, divise equamente in 4 semi: cuori, quadri, fiori e picche. Ogni seme contiene 13 carte: numeri da 2 a 10, Jack (Fante), Queen (Regina), King (Re) e Ace (Asso). Le figure in un mazzo di carte sono Jack, Queen e King.\n",
    "\n",
    "1. **Definire lo Spazio Campionario**: Lo spazio campionario è l'insieme di tutte le 52 carte nel mazzo.\n",
    "2. **Identificare gli Eventi Favorevoli**: Gli eventi favorevoli sono le figure di cuori, che sono il Jack, la Queen e il King di cuori. Quindi, ci sono 3 eventi favorevoli.\n",
    "3. **Calcolare la Probabilità**: La probabilità è il numero di eventi favorevoli diviso il numero totale di eventi nello spazio campionario.\n",
    "\n",
    "### Parte 2: Probabilità che il Valore Numerico sia 7, 8, o 9 dato che la Carta è di Cuori\n",
    "\n",
    "Se sappiamo che la carta estratta è di cuori, lo spazio campionario si riduce alle 13 carte di cuori.\n",
    "\n",
    "1. **Definire il Nuovo Spazio Campionario**: Con la condizione che la carta è di cuori, abbiamo 13 possibili carte.\n",
    "2. **Identificare gli Eventi Favorevoli**: Gli eventi favorevoli ora sono le carte di cuori con valore 7, 8 o 9. Quindi, ci sono 3 eventi favorevoli.\n",
    "3. **Calcolare la Probabilità**: Ancora una volta, la probabilità è il numero di eventi favorevoli diviso il numero totale di eventi nello spazio campionario ridotto.\n",
    "\n",
    "Calcoliamo ora queste probabilità.\n",
    "\n",
    "### Calcoli\n",
    "\n",
    "#### Parte 1: Probabilità di Estrarre una Figura di Cuori\n",
    "\n",
    "$$ \n",
    "P(\\text{Figura di Cuori}) = \\frac{\\text{Numero di Figure di Cuori}}{\\text{Numero totale di carte}} = \\frac{3}{52} \n",
    "$$\n",
    "\n",
    "#### Parte 2: Probabilità di 7, 8, o 9 dato Cuori\n",
    "\n",
    "$$ \n",
    "P(\\text{7, 8, o 9 | Cuori}) = \\frac{\\text{Numero di carte 7, 8, o 9 di Cuori}}{\\text{Numero totale di carte di Cuori}} = \\frac{3}{13} \n",
    "$$\n",
    "\n",
    "Possiamo calcolare esattamente queste probabilità.\n",
    "\n",
    "I risultati dei calcoli sono i seguenti:\n",
    "\n",
    "- La probabilità di estrarre una figura di cuori da un mazzo di 52 carte è circa $0.058$ o $5.8\\%$.\n",
    "- Dato che sappiamo che il seme della carta estratta è cuori, la probabilità che il valore numerico della carta sia 7, 8, o 9 è $0.231$ o $23.1\\%$.\n",
    "\n",
    "Questi calcoli mostrano come la conoscenza di un'informazione aggiuntiva (in questo caso, il seme della carta estratta) possa cambiare lo spazio campionario e influenzare la probabilità di eventi specifici."
   ]
  },
  {
   "cell_type": "code",
   "execution_count": 5,
   "id": "e40978d9",
   "metadata": {},
   "outputs": [
    {
     "data": {
      "text/plain": [
       "(0.057692307692307696, 0.23076923076923078)"
      ]
     },
     "execution_count": 5,
     "metadata": {},
     "output_type": "execute_result"
    }
   ],
   "source": [
    "# Parte 1: Probabilità di estrarre una figura di cuori\n",
    "P_figura_cuori = 3 / 52\n",
    "\n",
    "# Parte 2: Probabilità che il valore numerico sia 7, 8, o 9 dato che la carta è di cuori\n",
    "P_789_dato_cuori = 3 / 13\n",
    "\n",
    "P_figura_cuori, P_789_dato_cuori"
   ]
  },
  {
   "cell_type": "markdown",
   "id": "8ce8611f",
   "metadata": {},
   "source": [
    "## Esercizio 4 (Paradosso dei due bambini)\n",
    "\n",
    "Una coppia ha due bambini. Almeno uno dei due è una femmina. Qual è la probabilità che siano entrambe femmine? Qual è la probabilità che siano entrambe femmine, sapendo che il primogenito è una femmina? (Si noti che, nella maggior parte dei paesi, la probabilità che un neonato sia maschio è pari a 0.51)"
   ]
  },
  {
   "cell_type": "markdown",
   "id": "6796355a",
   "metadata": {},
   "source": [
    "**Soluzione.**\n",
    "\n",
    "Per risolvere il problema considerando che la probabilità che un neonato sia maschio è $0.51$ (e quindi la probabilità che sia femmina è $0.49$), dobbiamo ricalcolare le probabilità indicate nel problema originale, tenendo conto di questa nuova informazione.\n",
    "\n",
    "### Eventi Considerati\n",
    "\n",
    "1. **Evento A**: Entrambi i bambini sono femmine.\n",
    "2. **Evento B**: Almeno uno dei due bambini è femmina.\n",
    "3. **Evento C**: Il primogenito è femmina.\n",
    "\n",
    "Con le probabilità reali di nascita di maschi e femmine, lo spazio campionario cambia leggermente rispetto alla situazione ideale dove maschi e femmine hanno la stessa probabilità di nascita.\n",
    "\n",
    "### Probabilità Calcolate\n",
    "\n",
    "- **$P(A|B)$**: La probabilità che entrambi i bambini siano femmine, dato che almeno uno dei due è una femmina.\n",
    "- **$P(A|C)$**: La probabilità che entrambi i bambini siano femmine, dato che il primogenito è una femmina.\n",
    "\n",
    "### Calcoli\n",
    "\n",
    "- **Probabilità Assolute**:\n",
    "  - $P(\\text{femmina}) = 0.49$\n",
    "  - $P(\\text{maschio}) = 0.51$\n",
    "  \n",
    "- **$P(A)$**: La probabilità che entrambi i bambini siano femmine è $P(\\text{femmina}) \\times P(\\text{femmina})$.\n",
    "- **$P(B)$**: La probabilità che almeno uno dei bambini sia femmina si calcola come $1 - P(\\text{entrambi maschi})$, dove $P(\\text{entrambi maschi}) = P(\\text{maschio}) \\times P(\\text{maschio})$.\n",
    "- **$P(C)$**: La probabilità che il primogenito sia femmina è semplicemente $P(\\text{femmina})$, dato che non dipende dal sesso del secondo bambino.\n",
    "\n",
    "Usando queste probabilità, possiamo calcolare $P(A|B)$ e $P(A|C)$ usando le formule della probabilità condizionata.\n",
    "\n",
    "Procediamo ora con i calcoli in Python."
   ]
  },
  {
   "cell_type": "code",
   "execution_count": 6,
   "id": "ea8ab553",
   "metadata": {},
   "outputs": [
    {
     "data": {
      "text/plain": [
       "(0.32450331125827814, 0.49)"
      ]
     },
     "execution_count": 6,
     "metadata": {},
     "output_type": "execute_result"
    }
   ],
   "source": [
    "# Probabilità di maschio e femmina\n",
    "P_maschio = 0.51\n",
    "P_femmina = 0.49\n",
    "\n",
    "# Calcolo delle probabilità assolute\n",
    "P_A = P_femmina * P_femmina  # Entrambi femmine\n",
    "P_entrambi_maschi = P_maschio * P_maschio\n",
    "P_B = 1 - P_entrambi_maschi  # Almeno uno femmina\n",
    "P_C = P_femmina  # Primogenito femmina\n",
    "\n",
    "# Calcolo delle probabilità condizionate\n",
    "P_A_dato_B = P_A / P_B  # Entrambi femmine dato almeno uno femmina\n",
    "P_A_dato_C = P_A / P_C  # Entrambi femmine dato primogenito femmina\n",
    "\n",
    "P_A_dato_B, P_A_dato_C"
   ]
  },
  {
   "cell_type": "markdown",
   "id": "f3a346c7",
   "metadata": {},
   "source": [
    "Con la probabilità aggiornata che un neonato sia maschio ($0.51$) e femmina ($0.49$), otteniamo i seguenti risultati per le probabilità condizionate:\n",
    "\n",
    "- La probabilità che entrambi i bambini siano femmine, dato che almeno uno dei due è una femmina, è circa $0.325$.\n",
    "- La probabilità che entrambi i bambini siano femmine, sapendo che il primogenito è una femmina, è $0.49$."
   ]
  },
  {
   "cell_type": "markdown",
   "id": "b285c18d",
   "metadata": {},
   "source": [
    "## Esercizio 5\n",
    "\n",
    "Si consideri l’esperimento casuale che consiste nel lancio di due dadi bilanciati. Definiamo i seguenti eventi: A={esce un 1 o un 2 nel primo lancio} e B={il punteggio totale è 8}. Ci chiediamo: gli eventi A e B sono statisticamente indipendenti?"
   ]
  },
  {
   "cell_type": "markdown",
   "id": "94db8bb9",
   "metadata": {},
   "source": [
    "**Soluzione.** \n",
    "\n",
    "Per determinare se gli eventi $A$ e $B$ sono statisticamente indipendenti, dobbiamo verificare la definizione di indipendenza statistica. Due eventi, $A$ e $B$, sono indipendenti se e solo se:\n",
    "\n",
    "$$ P(A \\cap B) = P(A) \\times P(B), $$\n",
    "\n",
    "dove:\n",
    "- $P(A)$ è la probabilità che si verifichi l'evento $A$,\n",
    "- $P(B)$ è la probabilità che si verifichi l'evento $B$,\n",
    "- $P(A \\cap B)$ è la probabilità che si verifichino sia $A$ sia $B$ contemporaneamente.\n",
    "\n",
    "### Definizione degli Eventi\n",
    "\n",
    "- **Evento $A$**: Esce un 1 o un 2 nel primo lancio. Dato che ci sono 6 possibili esiti per ogni lancio di un dado e 2 di questi soddisfano la condizione di $A$, la probabilità di $A$ è $P(A) = \\frac{2}{6}$.\n",
    "- **Evento $B$**: Il punteggio totale è 8. Per determinare $P(B)$, dobbiamo contare i modi in cui la somma dei due dadi può essere 8: (2,6), (3,5), (4,4), (5,3), (6,2), per un totale di 5 possibilità su 36 esiti totali possibili ($6 \\times 6$), quindi $P(B) = \\frac{5}{36}$.\n",
    "- **Evento $A \\cap B$**: Esce un 1 o un 2 nel primo lancio E il punteggio totale è 8. Questo può succedere solo se il primo dado mostra 2 e il secondo 6, quindi c'è 1 solo esito favorevole, e $P(A \\cap B) = \\frac{1}{36}$.\n",
    "\n",
    "### Calcolo delle Probabilità\n",
    "\n",
    "Calcoliamo ora $P(A)$, $P(B)$, e $P(A \\cap B)$ per verificare l'indipendenza.\n",
    "\n",
    "### Verifica dell'Indipendenza\n",
    "\n",
    "Se $P(A \\cap B) = P(A) \\times P(B)$, allora gli eventi $A$ e $B$ sono indipendenti. Procediamo con i calcoli in Python.\n",
    "\n",
    "I risultati dei calcoli sono i seguenti:\n",
    "\n",
    "- $P(A) = \\frac{1}{3}$ o circa $0.333$, che rappresenta la probabilità che esca un 1 o un 2 nel primo lancio.\n",
    "- $P(B) = \\frac{5}{36}$ o circa $0.139$, che rappresenta la probabilità che il punteggio totale sia 8.\n",
    "- $P(A \\cap B) = \\frac{1}{36}$ o circa $0.028$, che rappresenta la probabilità che si verifichino contemporaneamente $A$ e $B$."
   ]
  },
  {
   "cell_type": "code",
   "execution_count": 7,
   "id": "f0f4195a",
   "metadata": {},
   "outputs": [
    {
     "data": {
      "text/plain": [
       "(0.3333333333333333, 0.1388888888888889, 0.027777777777777776, False)"
      ]
     },
     "execution_count": 7,
     "metadata": {},
     "output_type": "execute_result"
    }
   ],
   "source": [
    "# Calcolo delle probabilità\n",
    "P_A = 2 / 6\n",
    "P_B = 5 / 36\n",
    "P_A_cap_B = 1 / 36\n",
    "\n",
    "# Verifica dell'indipendenza\n",
    "indipendenza = P_A_cap_B == P_A * P_B\n",
    "\n",
    "P_A, P_B, P_A_cap_B, indipendenza"
   ]
  },
  {
   "cell_type": "markdown",
   "id": "d68b4a35",
   "metadata": {},
   "source": [
    "Dato che $P(A \\cap B) \\neq P(A) \\times P(B)$, possiamo concludere che gli eventi $A$ e $B$ **non sono statisticamente indipendenti**. Questo significa che il verificarsi dell'evento $A$ (un 1 o un 2 nel primo lancio) ha un effetto sulla probabilità che si verifichi l'evento $B$ (il punteggio totale è 8), e viceversa."
   ]
  },
  {
   "cell_type": "markdown",
   "id": "0dcbf84d",
   "metadata": {},
   "source": [
    "## Esercizio 6\n",
    "\n",
    "Consideriamo il fenomeno causale consistente nell’osservazione dei punti ottenuti dal lancio di una coppia di dadi a sei facce. Supponiamo che i dadi siano truccati  i dadi truccati con la distribuzione di probabilità per ogni faccia data come {0.3,0.3,0.1,0.1,0.1,0.1}, dove i primi due valori (0.3) corrispondono alle probabilità di ottenere 1 o 2, e i restanti valori (0.1) per le facce 3, 4, 5, e 6.\n",
    "\n",
    "Si trovi una risposta ai seguenti punti.\n",
    "\n",
    "### 1. Probabilità che la Somma dei Punti sia Uguale a 7\n",
    "\n",
    "Per calcolare questa probabilità, dobbiamo considerare tutte le combinazioni di lanci dei due dadi che danno una somma di 7 e sommare le loro probabilità.\n",
    "\n",
    "### 2. Probabilità di \"Primo Dado < 3 o Secondo Dado Numero Dispari\"\n",
    "\n",
    "Questo evento include combinazioni dove il primo dado mostra 1 o 2, oppure il secondo dado mostra un numero dispari (1, 3, o 5). Dobbiamo calcolare la probabilità di queste combinazioni.\n",
    "\n",
    "### 3. Probabilità di \"Primo Dado < 3 e Secondo Dado Numero Dispari\"\n",
    "\n",
    "Questo richiede di trovare la probabilità che il primo dado mostri 1 o 2 e contemporaneamente il secondo dado mostri 1, 3, o 5.\n",
    "\n",
    "### 4. Probabilità di Ottenere 3 con il Primo Dado\n",
    "\n",
    "Dato il dado truccato, la probabilità di ottenere 3 con il primo dado è data direttamente dalla distribuzione di probabilità.\n",
    "\n",
    "### 5. Probabilità di Ottenere 3 con il Secondo Dado, Dato che il Primo Dado ha Prodotto l’Esito 4\n",
    "\n",
    "Questa probabilità si basa sulla condizione che il primo dado abbia già mostrato 4; cerchiamo la probabilità di ottenere 3 con il secondo dado in queste circostanze.\n",
    "\n",
    "Cominciamo calcolando queste probabilità una alla volta. Per le prime tre, dobbiamo sommare le probabilità di eventi specifici, tenendo conto della distribuzione di probabilità per ogni dado. Per le ultime due, useremo direttamente la distribuzione di probabilità fornita. Procediamo con i calcoli in Python.\n",
    "\n",
    "Ecco le probabilità calcolate per ciascuno degli eventi richiesti:\n",
    "\n",
    "1. La probabilità che la somma dei punti ottenuti nel lancio dei due dadi sia uguale a 7 è $0.14$ o $14\\%$.\n",
    "2. La probabilità che il lancio del primo dado produca un numero minore di 3 oppure il lancio del secondo dado produca un numero dispari è $0.8$ o $80\\%$.\n",
    "3. La probabilità che il lancio del primo dado produca un numero minore di 3 e il lancio del secondo dado produca un numero dispari è $0.3$ o $30\\%$.\n",
    "4. La probabilità di ottenere 3 con il lancio del primo dado è $0.1$ o $10\\%$.\n",
    "5. La probabilità di ottenere 3 con il secondo dado, dato che il primo dado ha prodotto l’esito 4, è anch'essa $0.1$ o $10\\%$."
   ]
  },
  {
   "cell_type": "code",
   "execution_count": null,
   "id": "ac8989d8",
   "metadata": {},
   "outputs": [],
   "source": [
    "# Probabilità per ogni faccia del dado truccato\n",
    "prob_faccia = [0.3, 0.3, 0.1, 0.1, 0.1, 0.1]\n",
    "\n",
    "# 1. Probabilità che la somma dei punti sia uguale a 7\n",
    "prob_somma_7 = sum(prob_faccia[i - 1] * prob_faccia[6 - i - 1] for i in range(1, 7))\n",
    "print(prob_somma_7)"
   ]
  },
  {
   "cell_type": "code",
   "execution_count": null,
   "id": "07d1956e",
   "metadata": {},
   "outputs": [],
   "source": [
    "# 2. Probabilità che il primo dado sia < 3 o il secondo dado sia un numero dispari\n",
    "# Calcoliamo separatamente, poi uniamo le probabilità tenendo conto dell'intersezione\n",
    "prob_primo_meno_di_3 = prob_faccia[0] + prob_faccia[1]\n",
    "prob_secondo_dispari = prob_faccia[0] + prob_faccia[2] + prob_faccia[4]\n",
    "# L'intersezione (primo dado < 3 e secondo dado dispari) è già considerata nei calcoli di prob_secondo_dispari\n",
    "prob_unione = (\n",
    "    prob_primo_meno_di_3\n",
    "    + prob_secondo_dispari\n",
    "    - (prob_primo_meno_di_3 * prob_secondo_dispari)\n",
    ")\n",
    "\n",
    "print(prob_unione)"
   ]
  },
  {
   "cell_type": "code",
   "execution_count": null,
   "id": "83e51859",
   "metadata": {},
   "outputs": [],
   "source": [
    "# 3. Probabilità che il primo dado sia < 3 e il secondo dado sia un numero dispari\n",
    "prob_intersezione = prob_primo_meno_di_3 * prob_secondo_dispari\n",
    "\n",
    "print(prob_intersezione)"
   ]
  },
  {
   "cell_type": "code",
   "execution_count": null,
   "id": "a7f030c3",
   "metadata": {},
   "outputs": [],
   "source": [
    "# 4. Probabilità di ottenere 3 con il primo dado\n",
    "prob_primo_3 = prob_faccia[2]\n",
    "\n",
    "print(prob_primo_3)"
   ]
  },
  {
   "cell_type": "code",
   "execution_count": null,
   "id": "3679e7b2",
   "metadata": {},
   "outputs": [],
   "source": [
    "# 5. Probabilità di ottenere 3 con il secondo dado, dato che il primo dado ha prodotto 4\n",
    "# Dato che gli eventi sono indipendenti, la probabilità di ottenere 3 con il secondo dado non cambia\n",
    "prob_secondo_3_dato_primo_4 = prob_faccia[2]\n",
    "\n",
    "print(prob_secondo_3_dato_primo_4)"
   ]
  },
  {
   "cell_type": "markdown",
   "id": "befc801e",
   "metadata": {},
   "source": [
    "Questi risultati tengono conto della distribuzione di probabilità specifica dei dadi truccati e mostrano come le probabilità di eventi complessi possono essere calcolate combinando le probabilità degli esiti singoli."
   ]
  },
  {
   "cell_type": "markdown",
   "id": "3f47084a",
   "metadata": {},
   "source": [
    "## Watermark"
   ]
  },
  {
   "cell_type": "code",
   "execution_count": null,
   "id": "54f43814",
   "metadata": {},
   "outputs": [],
   "source": [
    "%load_ext watermark\n",
    "%watermark -n -u -v -iv -w -m"
   ]
  }
 ],
 "metadata": {
  "kernelspec": {
   "display_name": "pymc_env",
   "language": "python",
   "name": "python3"
  },
  "language_info": {
   "codemirror_mode": {
    "name": "ipython",
    "version": 3
   },
   "file_extension": ".py",
   "mimetype": "text/x-python",
   "name": "python",
   "nbconvert_exporter": "python",
   "pygments_lexer": "ipython3",
   "version": "3.12.3"
  }
 },
 "nbformat": 4,
 "nbformat_minor": 5
}