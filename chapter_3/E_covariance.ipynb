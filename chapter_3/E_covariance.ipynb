{
 "cells": [
  {
   "cell_type": "markdown",
   "id": "4f845611",
   "metadata": {},
   "source": [
    "# ✏️ Esercizi"
   ]
  },
  {
   "cell_type": "code",
   "execution_count": 28,
   "id": "c794f86e",
   "metadata": {},
   "outputs": [],
   "source": [
    "import numpy as np\n",
    "import matplotlib.pyplot as plt\n",
    "import pandas as pd\n",
    "import arviz as az\n",
    "from fractions import Fraction"
   ]
  },
  {
   "cell_type": "code",
   "execution_count": 2,
   "id": "c2ff4ec2",
   "metadata": {},
   "outputs": [],
   "source": [
    "%config InlineBackend.figure_format = 'retina'\n",
    "RANDOM_SEED = 42\n",
    "rng = np.random.default_rng(RANDOM_SEED)\n",
    "az.style.use(\"arviz-darkgrid\")"
   ]
  },
  {
   "cell_type": "markdown",
   "id": "7049de5b",
   "metadata": {},
   "source": [
    "## Esercizio 1\n",
    "\n",
    "Poniamoci il problema di calcolare la covarianza e la correlazione di due variabili aleatorie discrete utilizzando l’informazione fornita dalla distribuzione di probabilità congiunta.\n",
    "\n",
    "Consideriamo l’esperimento casuale che corrisponde al lancio di due dadi bilanciati. Creiamo lo spazio campionario di questo esperimento casuale e definiamo su di esso le seguenti variabili aleatorie:\n",
    "\n",
    "U: somma dei punti dei due dadi,\n",
    "V: 1 se i punti del lancio del primo dado sono minori di 4, 0 altrimenti."
   ]
  },
  {
   "cell_type": "markdown",
   "id": "02336353",
   "metadata": {},
   "source": [
    "**Soluzione.**\n",
    "\n",
    "Per affrontare questo problema, cominciamo definendo lo spazio campionario e le variabili aleatorie $U$ e $V$, e poi procediamo al calcolo della covarianza e della correlazione tra $U$ e $V$.\n",
    "\n",
    "### Spazio Campionario\n",
    "\n",
    "Lo spazio campionario $S$ di lanciare due dadi bilanciati è l'insieme di tutte le coppie ordinate possibili che rappresentano i risultati dei due dadi, dove il primo elemento della coppia corrisponde al risultato del primo dado e il secondo elemento al risultato del secondo dado. Ogni dado ha 6 facce, quindi:\n",
    "\n",
    "$$ S = \\{(i, j) : i, j \\in \\{1, 2, 3, 4, 5, 6\\}\\} $$\n",
    "\n",
    "Ci sono $6 \\times 6 = 36$ elementi nello spazio campionario.\n",
    "\n",
    "### Variabili Aleatorie\n",
    "\n",
    "- $U$ è la somma dei punti dei due dadi. $U$ può assumere valori da $2$ a $12$.\n",
    "- $V$ è una variabile indicatrice definita come $V = 1$ se i punti del lancio del primo dado sono minori di 4, e $V = 0$ altrimenti.\n",
    "\n",
    "### Calcolo della Covarianza e Correlazione\n",
    "\n",
    "La covarianza tra due variabili aleatorie $X$ e $Y$ si calcola come:\n",
    "\n",
    "$$ \\text{Cov}(X, Y) = E[(X - E[X])(Y - E[Y])] $$\n",
    "\n",
    "dove $E[X]$ e $E[Y]$ sono i valori attesi di $X$ e $Y$, rispettivamente.\n",
    "\n",
    "La correlazione, invece, è data da:\n",
    "\n",
    "$$ \\rho_{X,Y} = \\frac{\\text{Cov}(X, Y)}{\\sigma_X \\sigma_Y} $$\n",
    "\n",
    "dove $\\sigma_X$ e $\\sigma_Y$ sono le deviazioni standard di $X$ e $Y$, rispettivamente.\n",
    "\n",
    "Per calcolare questi valori, dobbiamo prima determinare $E[U]$, $E[V]$, $\\text{Var}(U)$, $\\text{Var}(V)$, e $E[UV]$. Possiamo quindi utilizzare queste informazioni per calcolare la covarianza e la correlazione.\n",
    "\n",
    "Inizieremo calcolando $E[U]$, $E[V]$, e $E[UV]$, e poi procederemo con la covarianza e la correlazione. "
   ]
  },
  {
   "cell_type": "markdown",
   "id": "18ef5189",
   "metadata": {},
   "source": [
    "Calcolo di E[U]."
   ]
  },
  {
   "cell_type": "code",
   "execution_count": 33,
   "id": "650605e1",
   "metadata": {},
   "outputs": [
    {
     "name": "stdout",
     "output_type": "stream",
     "text": [
      "7.0\n"
     ]
    }
   ],
   "source": [
    "E_U = sum([i + j for i in range(1, 7) for j in range(1, 7)]) / 36\n",
    "print(E_U)"
   ]
  },
  {
   "cell_type": "markdown",
   "id": "c1d4be9f",
   "metadata": {},
   "source": [
    "Calcolo di E[V]\n",
    "V = 1 per i valori del primo dado 1, 2, 3; altrimenti V = 0"
   ]
  },
  {
   "cell_type": "code",
   "execution_count": 34,
   "id": "f6fd86d6",
   "metadata": {},
   "outputs": [
    {
     "name": "stdout",
     "output_type": "stream",
     "text": [
      "0.5\n"
     ]
    }
   ],
   "source": [
    "E_V = sum([1 for i in range(1, 4) for j in range(1, 7)]) / 36\n",
    "print(E_V)"
   ]
  },
  {
   "cell_type": "markdown",
   "id": "f214b60c",
   "metadata": {},
   "source": [
    "Calcolo di E[U^2] per la varianza di U."
   ]
  },
  {
   "cell_type": "code",
   "execution_count": 35,
   "id": "74e9e9fc",
   "metadata": {},
   "outputs": [],
   "source": [
    "E_U_squared = sum([(i + j) ** 2 for i in range(1, 7) for j in range(1, 7)]) / 36"
   ]
  },
  {
   "cell_type": "markdown",
   "id": "67136fec",
   "metadata": {},
   "source": [
    "Varianza di U."
   ]
  },
  {
   "cell_type": "code",
   "execution_count": 36,
   "id": "23e2a611",
   "metadata": {},
   "outputs": [],
   "source": [
    "Var_U = E_U_squared - E_U**2"
   ]
  },
  {
   "cell_type": "markdown",
   "id": "4bb7cd6a",
   "metadata": {},
   "source": [
    "Calcolo di E[V^2] (necessario per Var[V] dato che V è 0 o 1, E[V^2] = E[V])."
   ]
  },
  {
   "cell_type": "code",
   "execution_count": 37,
   "id": "fc6a10f2",
   "metadata": {},
   "outputs": [],
   "source": [
    "E_V_squared = E_V"
   ]
  },
  {
   "cell_type": "markdown",
   "id": "af4f9b99",
   "metadata": {},
   "source": [
    "Varianza di V."
   ]
  },
  {
   "cell_type": "code",
   "execution_count": 38,
   "id": "f87d975b",
   "metadata": {},
   "outputs": [],
   "source": [
    "Var_V = E_V_squared - E_V**2"
   ]
  },
  {
   "cell_type": "markdown",
   "id": "624ccb82",
   "metadata": {},
   "source": [
    "Calcolo di E[UV].\n",
    "U = somma dei dadi, V = 1 se il primo dado è < 4, altrimenti 0."
   ]
  },
  {
   "cell_type": "code",
   "execution_count": 39,
   "id": "37b5daa2",
   "metadata": {},
   "outputs": [],
   "source": [
    "E_UV = sum([(i + j) * 1 for i in range(1, 4) for j in range(1, 7)]) / 36"
   ]
  },
  {
   "cell_type": "markdown",
   "id": "8fe2627f",
   "metadata": {},
   "source": [
    "Covarianza."
   ]
  },
  {
   "cell_type": "code",
   "execution_count": 40,
   "id": "d1fb46ef",
   "metadata": {},
   "outputs": [
    {
     "name": "stdout",
     "output_type": "stream",
     "text": [
      "-0.75\n"
     ]
    }
   ],
   "source": [
    "Cov_UV = E_UV - E_U * E_V\n",
    "print(Cov_UV)"
   ]
  },
  {
   "cell_type": "markdown",
   "id": "ca572031",
   "metadata": {},
   "source": [
    "Calcolo delle deviazioni standard."
   ]
  },
  {
   "cell_type": "code",
   "execution_count": 41,
   "id": "631862bd",
   "metadata": {},
   "outputs": [],
   "source": [
    "std_U = Var_U**0.5\n",
    "std_V = Var_V**0.5"
   ]
  },
  {
   "cell_type": "markdown",
   "id": "bd52efa6",
   "metadata": {},
   "source": [
    "Calcolo della correlazione."
   ]
  },
  {
   "cell_type": "code",
   "execution_count": 43,
   "id": "59f3b1ea",
   "metadata": {},
   "outputs": [],
   "source": [
    "Correlation_UV = Cov_UV / (std_U * std_V)"
   ]
  },
  {
   "cell_type": "code",
   "execution_count": 44,
   "id": "b0173e7e",
   "metadata": {},
   "outputs": [
    {
     "data": {
      "text/plain": [
       "(7.0, 0.5, 5.833333333333336, 0.25, -0.75, -0.6210590034081187)"
      ]
     },
     "execution_count": 44,
     "metadata": {},
     "output_type": "execute_result"
    }
   ],
   "source": [
    "E_U, E_V, Var_U, Var_V, Cov_UV, Correlation_UV"
   ]
  },
  {
   "cell_type": "markdown",
   "id": "f7f44256",
   "metadata": {},
   "source": [
    "Dopo aver effettuato i calcoli, otteniamo i seguenti risultati:\n",
    "\n",
    "- $E[U] = 7$: il valore atteso della somma dei punti dei due dadi è 7.\n",
    "- $E[V] = 0.5$: la probabilità che il primo dado mostri un numero inferiore a 4 è $\\frac{1}{2}$, quindi il valore atteso di $V$ è 0.5.\n",
    "- $\\text{Var}(U) = 5.833$: la varianza della somma dei punti dei due dadi.\n",
    "- $\\text{Var}(V) = 0.25$: la varianza di $V$, dato che $V$ è una variabile indicatrice che assume valore 1 con probabilità 0.5 e valore 0 con la stessa probabilità.\n",
    "- $\\text{Cov}(U, V) = -0.75$: la covarianza tra $U$ e $V$ indica una relazione inversa; quando il valore di $V$ è 1 (cioè, quando il primo dado è minore di 4), tendenzialmente $U$ tende ad assumere valori inferiori rispetto al suo valore atteso, dato che una parte dei possibili risultati per il primo dado è esclusa.\n",
    "- $\\rho_{U,V} = -0.621$: la correlazione tra $U$ e $V$ è negativa, indicando che esiste una relazione inversa tra queste due variabili. Una correlazione di circa -0.62 suggerisce che, pur essendoci una relazione significativa, essa non è perfettamente inversa.\n",
    "\n",
    "Questi risultati mostrano come la somma dei punti dei due dadi e il fatto che il primo dado mostri un numero inferiore a 4 siano inversamente correlati, il che ha senso considerando la natura delle definizioni di $U$ e $V$."
   ]
  },
  {
   "cell_type": "markdown",
   "id": "3f47084a",
   "metadata": {},
   "source": [
    "## Watermark"
   ]
  },
  {
   "cell_type": "code",
   "execution_count": null,
   "id": "54f43814",
   "metadata": {},
   "outputs": [],
   "source": [
    "%load_ext watermark\n",
    "%watermark -n -u -v -iv -w -m"
   ]
  }
 ],
 "metadata": {
  "kernelspec": {
   "display_name": "pymc_env",
   "language": "python",
   "name": "python3"
  },
  "language_info": {
   "codemirror_mode": {
    "name": "ipython",
    "version": 3
   },
   "file_extension": ".py",
   "mimetype": "text/x-python",
   "name": "python",
   "nbconvert_exporter": "python",
   "pygments_lexer": "ipython3",
   "version": "3.12.3"
  }
 },
 "nbformat": 4,
 "nbformat_minor": 5
}
