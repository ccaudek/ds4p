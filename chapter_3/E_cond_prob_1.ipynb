{
 "cells": [
  {
   "attachments": {},
   "cell_type": "markdown",
   "id": "ff901e8e-25f8-4f0f-852d-a5d08d5739aa",
   "metadata": {},
   "source": [
    "# ✏️ Esercizi"
   ]
  },
  {
   "cell_type": "markdown",
   "id": "fa42873a-e37f-4c56-b192-83d0fa1c37da",
   "metadata": {},
   "source": [
    "## Probabilità condizionata\n",
    "\n",
    "Seguendo il metodo descritto nel libro \"Think Bayes\" di {cite:t}`downey2021think`, per affrontare gli esercizi sulla probabilità condizionata, utilizzeremo una definizione di probabilità semplice e intuitiva, basata sul conteggio degli elementi di un insieme. In particolare, considereremo la probabilità come la frazione di elementi che soddisfano un certo criterio rispetto al totale degli elementi dell'insieme.\n",
    "\n",
    "Immaginiamo di avere un insieme finito di elementi e di volere calcolare la probabilità di un evento all'interno di questo insieme. Per farlo, contiamo quanti elementi soddisfano il criterio dell'evento e dividiamo questo numero per il totale degli elementi dell'insieme. Questo approccio semplifica notevolmente il calcolo delle probabilità e rende più chiaro come funzionano i concetti di base.\n",
    "\n",
    "Questa definizione intuitiva di probabilità ci aiuterà ad affrontare gli esercizi e applicare i concetti finora descritti a situazioni concrete e reali."
   ]
  },
  {
   "cell_type": "markdown",
   "id": "7df69175-a972-4885-b013-ed7c00f63343",
   "metadata": {},
   "source": [
    "## Preparazione del Notebook"
   ]
  },
  {
   "cell_type": "code",
   "execution_count": 1,
   "id": "84ba0c4a-ca2d-47de-a50f-1b0c27391288",
   "metadata": {},
   "outputs": [],
   "source": [
    "import numpy as np\n",
    "import pandas as pd\n",
    "import random "
   ]
  },
  {
   "attachments": {},
   "cell_type": "markdown",
   "id": "1e6d40d7-c2b2-4801-bb2a-cb35f7e3fb7b",
   "metadata": {},
   "source": [
    "## Esercizi di ricapitolazione con Python\n",
    "\n",
    "Considereremo qui il dataset `penguins` inteso come un insieme finito sul quale definire vari eventi. Iniziamo ad importare i dati ed escludiamo i dati mancanti."
   ]
  },
  {
   "cell_type": "code",
   "execution_count": 1,
   "id": "29553e66-fde9-4b27-ae71-9aa73e67a3c9",
   "metadata": {},
   "outputs": [
    {
     "name": "stdout",
     "output_type": "stream",
     "text": [
      "<class 'pandas.core.frame.DataFrame'>\n",
      "Int64Index: 333 entries, 0 to 343\n",
      "Data columns (total 8 columns):\n",
      " #   Column             Non-Null Count  Dtype  \n",
      "---  ------             --------------  -----  \n",
      " 0   species            333 non-null    object \n",
      " 1   island             333 non-null    object \n",
      " 2   bill_length_mm     333 non-null    float64\n",
      " 3   bill_depth_mm      333 non-null    float64\n",
      " 4   flipper_length_mm  333 non-null    float64\n",
      " 5   body_mass_g        333 non-null    float64\n",
      " 6   sex                333 non-null    object \n",
      " 7   year               333 non-null    int64  \n",
      "dtypes: float64(4), int64(1), object(3)\n",
      "memory usage: 23.4+ KB\n"
     ]
    }
   ],
   "source": [
    "df = pd.read_csv(\"../data/penguins.csv\")\n",
    "\n",
    "df.dropna(inplace=True)\n",
    "df.info()"
   ]
  },
  {
   "attachments": {},
   "cell_type": "markdown",
   "id": "b93e53d8-5180-490a-a688-3c1477e4d310",
   "metadata": {},
   "source": [
    "Ora, poniamoci la domanda se ciascun pinguino viva o meno sull'isola Dream. Per fare ciò, useremo una funzione che ci restituirà un oggetto Pandas `Series` contenente valori booleani. In particolare, ogni valore sarà `True` se il pinguino associato vive sull'isola Dream, altrimenti sarà `False`. In questo modo, avremo un elenco di valori che ci indicheranno per ciascun pinguino se vive o meno sull'isola Dream, utilizzando la potenza di Pandas per effettuare rapidamente questo tipo di calcoli."
   ]
  },
  {
   "cell_type": "code",
   "execution_count": null,
   "id": "111f1663-9b48-489c-9527-5c345778b9ba",
   "metadata": {},
   "outputs": [],
   "source": [
    "on_dream = df[\"island\"] == \"Dream\"\n",
    "on_dream.head()"
   ]
  },
  {
   "attachments": {},
   "cell_type": "markdown",
   "id": "32c4304c-4b27-48aa-9406-5ebe91f873ac",
   "metadata": {},
   "source": [
    "Essendo che il valore `True` corrisponde a 1 e il valore `False` corrisponde a 0, possiamo utilizzare la funzione `.sum()` per contare il numero di pinguini che vivono sull'isola Dream. In altre parole, sommando tutti i valori True nell'oggetto Pandas `Series` ottenuto prima, otterremo il numero totale di pinguini che vivono sull'isola Dream nel nostro campione di dati. Con questa operazione scopriamo che ci sono 123 pinguini che sono stati osservati sull'isola Dream."
   ]
  },
  {
   "cell_type": "code",
   "execution_count": 3,
   "id": "3c8d0c53-4644-4851-bf24-af7fa213aceb",
   "metadata": {},
   "outputs": [
    {
     "data": {
      "text/plain": [
       "123"
      ]
     },
     "execution_count": 3,
     "metadata": {},
     "output_type": "execute_result"
    }
   ],
   "source": [
    "on_dream.sum()"
   ]
  },
  {
   "attachments": {},
   "cell_type": "markdown",
   "id": "2cfa17e0-048e-4332-897c-f989c39360f2",
   "metadata": {},
   "source": [
    "Per ottenere la proporzione di pinguini che vivono sull'isola Dream, dobbiamo calcolare la frequenza assoluta dei pinguini sull'isola Dream e dividere questo valore per il numero totale di pinguini del nostro campione di dati. Possiamo calcolare questo valore utilizzando il metodo `.mean()` applicato all'oggetto Pandas `Series` contenente i valori booleani `True` e `False`, ottenuto in precedenza. Questo metodo calcola la media aritmetica di tutti i valori nella serie, dove il valore `True` viene considerato come 1 e il valore `False` come 0. In questo modo, il risultato finale ci darà la proporzione di pinguini che vivono sull'isola Dream rispetto al totale dei pinguini del nostro campione di dati.\n"
   ]
  },
  {
   "cell_type": "code",
   "execution_count": 4,
   "id": "fbfe966d-66ad-4cb9-8eb2-42eba85c3a92",
   "metadata": {},
   "outputs": [
    {
     "data": {
      "text/plain": [
       "0.36936936936936937"
      ]
     },
     "execution_count": 4,
     "metadata": {},
     "output_type": "execute_result"
    }
   ],
   "source": [
    "on_dream.mean()"
   ]
  },
  {
   "attachments": {},
   "cell_type": "markdown",
   "id": "2d0982a4-4e5b-4fa1-b956-bfe1b341bf24",
   "metadata": {},
   "source": [
    "Circa il 36.9% di tutti i pinguini del nostro campione di dati vivono sull'isola Dream. Questo significa che, se scegliamo un pinguino a caso da questo insieme, la probabilità che viva sull'isola Dream è del 36.9%, ovvero 0.369.\n",
    "\n",
    "Per automatizzare il calcolo della probabilità, possiamo inserire il codice precedente in una funzione. Questa funzione prenderà in input un oggetto Pandas `Series` contenente valori booleani, rappresentanti la presenza o meno di un certo attributo, e calcolerà la probabilità come la media aritmetica di tutti i valori nella serie, dove il valore `True` viene considerato come 1 e il valore `False` come 0. In questo modo, la funzione calcolerà la proporzione di `True` rispetto al totale dei valori nella serie e restituirà il valore corrispondente alla probabilità cercata."
   ]
  },
  {
   "cell_type": "code",
   "execution_count": 5,
   "id": "90f318af-3075-4ea8-812c-ad5a881abbf6",
   "metadata": {},
   "outputs": [],
   "source": [
    "def prob(A):\n",
    "    \"\"\"Computes the probability of a proposition, A.\"\"\"\n",
    "    return A.mean()"
   ]
  },
  {
   "attachments": {},
   "cell_type": "markdown",
   "id": "f6f1e42e-8793-4438-8315-028f9ac9ad2d",
   "metadata": {},
   "source": [
    "Verifichiamo."
   ]
  },
  {
   "cell_type": "code",
   "execution_count": 6,
   "id": "cac36e42-34db-43c6-b50c-17de3ce1ee14",
   "metadata": {},
   "outputs": [
    {
     "data": {
      "text/plain": [
       "0.36936936936936937"
      ]
     },
     "execution_count": 6,
     "metadata": {},
     "output_type": "execute_result"
    }
   ],
   "source": [
    "prob(on_dream)"
   ]
  },
  {
   "attachments": {},
   "cell_type": "markdown",
   "id": "c651c35c-6415-4846-852e-644288cb6712",
   "metadata": {},
   "source": [
    "Troviamo ora la probabilità che un pinguino sia di genere femminile."
   ]
  },
  {
   "cell_type": "code",
   "execution_count": 7,
   "id": "c710aeab-42bb-4eb8-85c7-d43d3f4cb0ed",
   "metadata": {},
   "outputs": [
    {
     "data": {
      "text/plain": [
       "0.4954954954954955"
      ]
     },
     "execution_count": 7,
     "metadata": {},
     "output_type": "execute_result"
    }
   ],
   "source": [
    "female = df[\"sex\"] == \"female\"\n",
    "prob(female)"
   ]
  },
  {
   "attachments": {},
   "cell_type": "markdown",
   "id": "fd39133e-cc39-42ce-9164-ce16460c32e7",
   "metadata": {},
   "source": [
    "### Intersezione di eventi (congiunzione)\n",
    "\n",
    "L'intersezione tra due insiemi corrisponde all'operazione logica della congiunzione. In altre parole, date due proposizioni $p$ e $q$, la loro congiunzione è vera solo se entrambe sono vere. Se abbiamo due oggetti Pandas `Series` contenenti valori booleani, possiamo utilizzare l'operatore `&` per trovare la loro congiunzione. Questo operatore restituisce un nuovo oggetto `Series` in cui i valori sono `True` solo se entrambi i corrispondenti valori nelle due serie sono `True`.\n",
    "\n",
    "Definiamo ora un nuovo evento, chiamato \"small\", che identifica i pinguini la cui massa corporea è inferiore al quantile di ordine 1/3. In altre parole, consideriamo la distribuzione dei pesi dei pinguini nel nostro campione di dati e identifichiamo i pinguini il cui peso è inferiore al valore corrispondente al quantile di ordine 1/3 della distribuzione. Questo evento è rappresentato da un oggetto Pandas `Series` booleano, in cui i valori sono `True` se il peso del pinguino è inferiore al quantile di ordine 1/3 e `False` altrimenti."
   ]
  },
  {
   "cell_type": "code",
   "execution_count": null,
   "id": "ac9fd7d3-12d8-4b55-9fa1-8ec48f781aab",
   "metadata": {},
   "outputs": [],
   "source": [
    "small = df[\"body_mass_g\"] < df[\"body_mass_g\"].quantile(1 / 3)\n",
    "prob(small)"
   ]
  },
  {
   "attachments": {},
   "cell_type": "markdown",
   "id": "2a114ee4-92fe-4882-8c4a-ea85a32cc49c",
   "metadata": {},
   "source": [
    "Calcoliamo ora la probabilità che un pinguino sia di sesso femminile e, allo stesso tempo, appartenga alla categoria \"small\". In altre parole, vogliamo calcolare la probabilità che si verifichino contemporaneamente due eventi: che un pinguino sia di sesso femminile e che appartenga alla categoria \"small\"."
   ]
  },
  {
   "cell_type": "code",
   "execution_count": 9,
   "id": "03077f0d-cb6c-4e5d-a59b-d8dd0158d399",
   "metadata": {},
   "outputs": [
    {
     "data": {
      "text/plain": [
       "0.2552552552552553"
      ]
     },
     "execution_count": 9,
     "metadata": {},
     "output_type": "execute_result"
    }
   ],
   "source": [
    "prob(female & small)"
   ]
  },
  {
   "attachments": {},
   "cell_type": "markdown",
   "id": "f1552d79-5559-4a42-a283-f3d916ee632c",
   "metadata": {},
   "source": [
    "Come ci possiamo aspettare la probabilità dell'intersezione è minore della probabilità di \"small\" dato che non tutti i pinguini più piccoli sono di genere femminile.\n",
    "\n",
    "### Probabilità condizionata\n",
    "\n",
    "Come abbiamo visto in precedenza, la probabilità condizionata è la probabilità calcolata su un sottoinsieme di eventi. Per selezionare un sottoinsieme di dati in un oggetto Pandas, utilizziamo la notazione delle parentesi quadre. Nell'istruzione seguente, selezioniamo solo i pinguini di sesso femminile tra quelli che appartengono alla categoria \"small\", ovvero quelli il cui peso corporeo è inferiore al quantile di ordine 1/3."
   ]
  },
  {
   "cell_type": "code",
   "execution_count": 13,
   "id": "bcf6e3b3-f431-419c-b5fd-09b8c9908075",
   "metadata": {},
   "outputs": [
    {
     "data": {
      "text/plain": [
       "0.5803108808290155"
      ]
     },
     "execution_count": 13,
     "metadata": {},
     "output_type": "execute_result"
    }
   ],
   "source": [
    "selected = female[small]\n",
    "prob(selected)"
   ]
  },
  {
   "attachments": {},
   "cell_type": "markdown",
   "id": "2beaaad4-8b10-46c3-8ec1-6b90036b0ba8",
   "metadata": {},
   "source": [
    "È importante notare la sintassi utilizzata in questo passaggio: quando inseriamo un oggetto Series booleano (in questo caso chiamato `small`) tra le parentesi quadre che seguono un oggetto Series (in questo caso chiamato `female`), stiamo selezionando solo le righe di `female` per le quali `small` ha il valore `True`.\n",
    "\n",
    "Definiamo ora una funzione che prende in input due oggetti `Series` booleani, `proposition` e `given`, e restituisce la probabilità condizionata di `proposition` rispetto a `given`. In altre parole, la funzione calcola la probabilità che `proposition` si verifichi, sapendo che `given` si è verificato."
   ]
  },
  {
   "cell_type": "code",
   "execution_count": 11,
   "id": "c61f8969-581f-4153-a94f-40a0842fcba9",
   "metadata": {},
   "outputs": [],
   "source": [
    "def conditional(proposition, given):\n",
    "    return prob(proposition[given])"
   ]
  },
  {
   "attachments": {},
   "cell_type": "markdown",
   "id": "7260868a-c68d-41d2-be6b-0684a1f6499b",
   "metadata": {},
   "source": [
    "Calcoliamo ora la probabilità condizionata che un pinguino sia di sesso femminile, dato che appartiene alla categoria \"small\", ovvero il sottoinsieme di pinguini il cui peso corporeo è inferiore al quantile di ordine 1/3."
   ]
  },
  {
   "cell_type": "code",
   "execution_count": 12,
   "id": "8fed38f2-fec7-42ba-8118-709aad33f820",
   "metadata": {},
   "outputs": [
    {
     "data": {
      "text/plain": [
       "0.8252427184466019"
      ]
     },
     "execution_count": 12,
     "metadata": {},
     "output_type": "execute_result"
    }
   ],
   "source": [
    "conditional(female, given=small)"
   ]
  },
  {
   "attachments": {},
   "cell_type": "markdown",
   "id": "1ec024fe-b56a-46a4-97ba-71a02fc45e2a",
   "metadata": {},
   "source": [
    "Troviamo ora la probabilità di essere di genere femminile, se consideriamo solo i pinguini sull'isola Dream, $P(\\text{female} \\mid \\text{Dream})$."
   ]
  },
  {
   "cell_type": "code",
   "execution_count": 13,
   "id": "469f0b23-afbc-4fd0-ae75-0c708d1ca9f6",
   "metadata": {},
   "outputs": [
    {
     "data": {
      "text/plain": [
       "0.4959349593495935"
      ]
     },
     "execution_count": 13,
     "metadata": {},
     "output_type": "execute_result"
    }
   ],
   "source": [
    "conditional(female, given=on_dream)"
   ]
  },
  {
   "attachments": {},
   "cell_type": "markdown",
   "id": "1694f614-d468-4713-80d2-9f0c1a3af9a8",
   "metadata": {},
   "source": [
    "Lo stesso risultato si ottiene applicando la definizione di probabilità condizionata."
   ]
  },
  {
   "cell_type": "code",
   "execution_count": 14,
   "id": "6ead63ad-f3c9-4e1e-b3cf-4e355f10d0b6",
   "metadata": {},
   "outputs": [
    {
     "data": {
      "text/plain": [
       "0.49593495934959353"
      ]
     },
     "execution_count": 14,
     "metadata": {},
     "output_type": "execute_result"
    }
   ],
   "source": [
    "prob(female & on_dream) / prob(on_dream)"
   ]
  },
  {
   "attachments": {},
   "cell_type": "markdown",
   "id": "7ef6f86f-8e7e-4ab8-8c1d-9e60598f1d52",
   "metadata": {},
   "source": [
    "Calcoliamo la probabilità di estrarre a caso un pinguino di sesso femminile che vive sull'isola Dream."
   ]
  },
  {
   "cell_type": "code",
   "execution_count": 15,
   "id": "300d7c01-2c82-4bc4-b7b7-3e6ac34fbddb",
   "metadata": {},
   "outputs": [
    {
     "data": {
      "text/plain": [
       "0.1831831831831832"
      ]
     },
     "execution_count": 15,
     "metadata": {},
     "output_type": "execute_result"
    }
   ],
   "source": [
    "prob(female & on_dream) "
   ]
  },
  {
   "attachments": {},
   "cell_type": "markdown",
   "id": "6f5de547-f195-4606-96d4-10d1b757d0f1",
   "metadata": {},
   "source": [
    "Possiamo ottenere lo stesso risultato del calcolo precedente, ovvero la probabilità di estrarre a caso un pinguino di sesso femminile che vive sull'isola Dream, usando la probabilità condizionata per calcolare l'intersezione tra i due eventi."
   ]
  },
  {
   "cell_type": "code",
   "execution_count": 17,
   "id": "e3e745c1-3079-427d-b4a5-2481f1f1cf62",
   "metadata": {},
   "outputs": [
    {
     "data": {
      "text/plain": [
       "0.18318318318318316"
      ]
     },
     "execution_count": 17,
     "metadata": {},
     "output_type": "execute_result"
    }
   ],
   "source": [
    "conditional(female, given=on_dream) * prob(on_dream)"
   ]
  }
 ],
 "metadata": {
  "kernelspec": {
   "display_name": "pymc",
   "language": "python",
   "name": "python3"
  },
  "language_info": {
   "codemirror_mode": {
    "name": "ipython",
    "version": 3
   },
   "file_extension": ".py",
   "mimetype": "text/x-python",
   "name": "python",
   "nbconvert_exporter": "python",
   "pygments_lexer": "ipython3",
   "version": "3.12.3"
  },
  "vscode": {
   "interpreter": {
    "hash": "cbb367cc0128e23b7454d788d5a4229ca1f9848fd2e857f4797fbd26ab3b0776"
   }
  }
 },
 "nbformat": 4,
 "nbformat_minor": 2
}
